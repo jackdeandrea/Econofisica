{
 "cells": [
  {
   "cell_type": "code",
   "execution_count": 1,
   "metadata": {},
   "outputs": [
    {
     "name": "stdout",
     "output_type": "stream",
     "text": [
      "Populating the interactive namespace from numpy and matplotlib\n"
     ]
    }
   ],
   "source": [
    "%pylab inline\n",
    "import pandas as pd\n",
    "from scipy.optimize import curve_fit\n",
    "from scipy import asarray as ar\n",
    "from scipy import math\n",
    "import pylandau\n",
    "import random"
   ]
  },
  {
   "cell_type": "markdown",
   "metadata": {},
   "source": [
    "# Importo il dataset"
   ]
  },
  {
   "cell_type": "code",
   "execution_count": 2,
   "metadata": {},
   "outputs": [
    {
     "data": {
      "text/html": [
       "<div>\n",
       "<style scoped>\n",
       "    .dataframe tbody tr th:only-of-type {\n",
       "        vertical-align: middle;\n",
       "    }\n",
       "\n",
       "    .dataframe tbody tr th {\n",
       "        vertical-align: top;\n",
       "    }\n",
       "\n",
       "    .dataframe thead th {\n",
       "        text-align: right;\n",
       "    }\n",
       "</style>\n",
       "<table border=\"1\" class=\"dataframe\">\n",
       "  <thead>\n",
       "    <tr style=\"text-align: right;\">\n",
       "      <th></th>\n",
       "      <th>x</th>\n",
       "      <th>y</th>\n",
       "      <th>color</th>\n",
       "      <th>pen down?</th>\n",
       "      <th>x.1</th>\n",
       "      <th>y.1</th>\n",
       "      <th>color.1</th>\n",
       "      <th>pen down?.1</th>\n",
       "      <th>x.2</th>\n",
       "      <th>y.2</th>\n",
       "      <th>color.2</th>\n",
       "      <th>pen down?.2</th>\n",
       "    </tr>\n",
       "  </thead>\n",
       "  <tbody>\n",
       "    <tr>\n",
       "      <th>0</th>\n",
       "      <td>0</td>\n",
       "      <td>1120</td>\n",
       "      <td>55</td>\n",
       "      <td>True</td>\n",
       "      <td>0</td>\n",
       "      <td>0</td>\n",
       "      <td>0</td>\n",
       "      <td>True</td>\n",
       "      <td>0</td>\n",
       "      <td>0</td>\n",
       "      <td>15</td>\n",
       "      <td>True</td>\n",
       "    </tr>\n",
       "    <tr>\n",
       "      <th>1</th>\n",
       "      <td>1</td>\n",
       "      <td>1098</td>\n",
       "      <td>55</td>\n",
       "      <td>True</td>\n",
       "      <td>1</td>\n",
       "      <td>17</td>\n",
       "      <td>0</td>\n",
       "      <td>True</td>\n",
       "      <td>1</td>\n",
       "      <td>5</td>\n",
       "      <td>15</td>\n",
       "      <td>True</td>\n",
       "    </tr>\n",
       "    <tr>\n",
       "      <th>2</th>\n",
       "      <td>2</td>\n",
       "      <td>1096</td>\n",
       "      <td>55</td>\n",
       "      <td>True</td>\n",
       "      <td>2</td>\n",
       "      <td>23</td>\n",
       "      <td>0</td>\n",
       "      <td>True</td>\n",
       "      <td>2</td>\n",
       "      <td>1</td>\n",
       "      <td>15</td>\n",
       "      <td>True</td>\n",
       "    </tr>\n",
       "    <tr>\n",
       "      <th>3</th>\n",
       "      <td>3</td>\n",
       "      <td>1097</td>\n",
       "      <td>55</td>\n",
       "      <td>True</td>\n",
       "      <td>3</td>\n",
       "      <td>23</td>\n",
       "      <td>0</td>\n",
       "      <td>True</td>\n",
       "      <td>3</td>\n",
       "      <td>0</td>\n",
       "      <td>15</td>\n",
       "      <td>True</td>\n",
       "    </tr>\n",
       "    <tr>\n",
       "      <th>4</th>\n",
       "      <td>4</td>\n",
       "      <td>1090</td>\n",
       "      <td>55</td>\n",
       "      <td>True</td>\n",
       "      <td>4</td>\n",
       "      <td>29</td>\n",
       "      <td>0</td>\n",
       "      <td>True</td>\n",
       "      <td>4</td>\n",
       "      <td>1</td>\n",
       "      <td>15</td>\n",
       "      <td>True</td>\n",
       "    </tr>\n",
       "  </tbody>\n",
       "</table>\n",
       "</div>"
      ],
      "text/plain": [
       "   x     y  color  pen down?  x.1  y.1  color.1  pen down?.1  x.2  y.2  \\\n",
       "0  0  1120     55       True    0    0        0         True    0    0   \n",
       "1  1  1098     55       True    1   17        0         True    1    5   \n",
       "2  2  1096     55       True    2   23        0         True    2    1   \n",
       "3  3  1097     55       True    3   23        0         True    3    0   \n",
       "4  4  1090     55       True    4   29        0         True    4    1   \n",
       "\n",
       "   color.2  pen down?.2  \n",
       "0       15         True  \n",
       "1       15         True  \n",
       "2       15         True  \n",
       "3       15         True  \n",
       "4       15         True  "
      ]
     },
     "execution_count": 2,
     "metadata": {},
     "output_type": "execute_result"
    }
   ],
   "source": [
    "file = pd.read_csv(r'/home/gdeandrea/Scrivania/UNI/Econofisica/MyModels/Epstein/PRESE DATI/A-Valore Soglia/dati_rivolte_lunghe')\n",
    "file.head()"
   ]
  },
  {
   "cell_type": "code",
   "execution_count": 3,
   "metadata": {},
   "outputs": [],
   "source": [
    "df = file['y.2']\n",
    "y = df.to_numpy()\n",
    "y = y[220:1200]\n",
    "x = ar(range(len(y)))"
   ]
  },
  {
   "cell_type": "code",
   "execution_count": 4,
   "metadata": {},
   "outputs": [
    {
     "data": {
      "text/plain": [
       "[<matplotlib.lines.Line2D at 0x7fa680aeec50>]"
      ]
     },
     "execution_count": 4,
     "metadata": {},
     "output_type": "execute_result"
    },
    {
     "data": {
      "image/png": "[encoded data removed]",
      "text/plain": [
       "<Figure size 432x288 with 1 Axes>"
      ]
     },
     "metadata": {
      "needs_background": "light"
     },
     "output_type": "display_data"
    }
   ],
   "source": [
    "plt.plot(x,y)"
   ]
  },
  {
   "cell_type": "markdown",
   "metadata": {},
   "source": [
    "# Definizioni Utili"
   ]
  },
  {
   "cell_type": "markdown",
   "metadata": {},
   "source": [
    "## Fit Utils"
   ]
  },
  {
   "cell_type": "code",
   "execution_count": 5,
   "metadata": {},
   "outputs": [],
   "source": [
    "def chiquadronorm(oss, fit, sigma, ddof, aiuto=False, norm=True):\n",
    "    'funzione che calcola il chiquadrato di una distribuzione osservata rispetto a una\\\n",
    "    forma funzionale nota'\n",
    "    \n",
    "    #prende liste monodimensionali come argomenti\n",
    "    scarti = []\n",
    "    scartiquadri = []\n",
    "    scartiquadridivisi = []\n",
    "    \n",
    "    for i in range(len(oss)):\n",
    "        scarti.append(oss[i]-fit[i])\n",
    "        scartiquadri.append(scarti[i]*scarti[i])\n",
    "        scartiquadridivisi.append(scartiquadri[i]/(sigma[i]*sigma[i]))\n",
    "        \n",
    "        if (aiuto==True):\n",
    "            print('scarti= ', scarti[i])\n",
    "            print('scartiquadri= ', scartiquadri[i])\n",
    "            print('scartiquadridivisi= ', scartiquadridivisi[i])\n",
    "            \n",
    "    chiquadro=sum(scartiquadridivisi)\n",
    "    chiquadroreg=chiquadro/ddof\n",
    "    \n",
    "    if(norm==True):\n",
    "        return (chiquadroreg)\n",
    "    else:\n",
    "        return (chiquadro)\n",
    "\n",
    "def cost_chiquadronorm(oss, fit, sigma, ddof, aiuto=False, norm=True):\n",
    "    'funzione che calcola il chiquadrato di una distribuzione osservata rispetto a una\\\n",
    "    forma funzionale nota'\n",
    "    \n",
    "    #prende liste monodimensionali come argomenti\n",
    "    scarti = []\n",
    "    scartiquadri = []\n",
    "    scartiquadridivisi = []\n",
    "    \n",
    "    for i in range(len(oss)):\n",
    "        scarti.append(oss[i]-fit)\n",
    "        scartiquadri.append(scarti[i]*scarti[i])\n",
    "        scartiquadridivisi.append(scartiquadri[i]/(sigma[i]*sigma[i]))\n",
    "        \n",
    "        if (aiuto==True):\n",
    "            print('scarti= ', scarti[i])\n",
    "            print('scartiquadri= ', scartiquadri[i])\n",
    "            print('scartiquadridivisi= ', scartiquadridivisi[i])\n",
    "            \n",
    "    chiquadro=sum(scartiquadridivisi)\n",
    "    chiquadroreg=chiquadro/ddof\n",
    "    \n",
    "    if(norm==True):\n",
    "        return (chiquadroreg)\n",
    "    else:\n",
    "        return (chiquadro)\n",
    "\n",
    "    \n",
    "def media_pesata(x, sigma):\n",
    "    numeratore = 0\n",
    "    denominatore = 0\n",
    "    for i in range(len(x)):\n",
    "        numeratore += x[i]/(sigma[i]**2)\n",
    "        denominatore += 1/(sigma[i]**2)\n",
    "    return numeratore/denominatore\n",
    "\n",
    "def costante(x,q):\n",
    "    return q\n",
    "\n",
    "def retta(x,m,q):\n",
    "    return m*x +q\n",
    "\n",
    "def gauss(x,a,x0,sigma,baseline):\n",
    "    'Ritorna array gaussiano a partire da lista x secondo i parametri a,x0,sigma'\n",
    "    return (baseline + a*exp(-(x-x0)**2/(2*sigma*sigma)))\n",
    "\n",
    "\n",
    "def lore(x, a, x0, y0, baseline):\n",
    "    'Ritorna array lorentziano a partire da lista x secondo i parametri a,x0,yo'\n",
    "    return (baseline + a*(y0/(((x - x0)**2) + (y0**2))))\n",
    "\n",
    "def fattoriale(x):\n",
    "    temp_list = []\n",
    "\n",
    "    for ics in x:\n",
    "        f=1\n",
    "        for i in range(1,ics+1):\n",
    "            f*=i\n",
    "        temp_list.append(f)\n",
    "    return(temp_list)\n",
    "\n",
    "def poisson(x, a, media, baseline):\n",
    "    result = baseline + a*(media**x)*np.exp(-media)/fattoriale(x)\n",
    "    return(result)\n",
    "\n",
    "def landau(x, mpv, eta, A, baseline):\n",
    "    x=double(x)\n",
    "    'Ritorna array landauiano a partire da lista x secondo i parametri suoi'\n",
    "    return (baseline + double(pylandau.landau(x, mpv=mpv, eta=eta, A=A)))"
   ]
  },
  {
   "cell_type": "markdown",
   "metadata": {},
   "source": [
    "## Findings of previous step"
   ]
  },
  {
   "cell_type": "code",
   "execution_count": 6,
   "metadata": {},
   "outputs": [],
   "source": [
    "soglia = 128.1241472701187\n",
    "err_soglia = 12.6007119219633"
   ]
  },
  {
   "cell_type": "markdown",
   "metadata": {},
   "source": [
    "## Selecting Spikes"
   ]
  },
  {
   "cell_type": "code",
   "execution_count": 7,
   "metadata": {},
   "outputs": [],
   "source": [
    "def isola_spikes (y, datiesterni):\n",
    "    '''\n",
    "    Dati i dati sugli attivi, ritorna due dizionari: \n",
    "    {num_rivolta: [valori attivi]}\n",
    "    {num_rivolta: [tick corrispondenti]}\n",
    "    '''\n",
    "    rivolte_diz = {}\n",
    "    tick_rivolte_diz = {}\n",
    "    temp_rivolta_list = []\n",
    "    temp_tick_list = []\n",
    "    rivolte_counter = 0\n",
    "    cerarivolta = False\n",
    "    \n",
    "    for i in range(len(y)):\n",
    "        \n",
    "        ##aggiustato a 12 per non avere rivoltini\n",
    "        if y[i] > 12:\n",
    "            temp_rivolta_list.append(y[i])\n",
    "            temp_tick_list.append(i)\n",
    "            if cerarivolta == False:\n",
    "                rivolte_counter += 1\n",
    "                cerarivolta = True\n",
    "        else:\n",
    "            if cerarivolta == True:\n",
    "                lunghezza=len(temp_rivolta_list)\n",
    "                if rivolte_counter > 1:\n",
    "                    if datiesterni == 1:\n",
    "                        temp_rivolta_list.insert(0, y[i-lunghezza-1])\n",
    "                        temp_tick_list.insert(0, i-lunghezza-1)\n",
    "                    if datiesterni == 2:\n",
    "                        temp_rivolta_list.insert(0, y[i-lunghezza-1])\n",
    "                        temp_rivolta_list.insert(0, y[i-lunghezza-2])\n",
    "                        temp_tick_list.insert(0, i-lunghezza-1)\n",
    "                        temp_tick_list.insert(0, i-lunghezza-2)\n",
    "                    if datiesterni == 3:\n",
    "                        temp_rivolta_list.insert(0, y[i-lunghezza-1])\n",
    "                        temp_rivolta_list.insert(0, y[i-lunghezza-2])\n",
    "                        temp_rivolta_list.insert(0, y[i-lunghezza-3])\n",
    "                        temp_tick_list.insert(0, i-lunghezza-1)\n",
    "                        temp_tick_list.insert(0, i-lunghezza-2)\n",
    "                        temp_tick_list.insert(0, i-lunghezza-3)\n",
    "                else:\n",
    "                    if datiesterni == 1:\n",
    "                        temp_rivolta_list.insert(0, 0)\n",
    "                        temp_tick_list.insert(0, i-lunghezza-1)\n",
    "                    if datiesterni == 2:\n",
    "                        temp_rivolta_list.insert(0, 0)\n",
    "                        temp_rivolta_list.insert(0, 0)\n",
    "                        temp_tick_list.insert(0, i-lunghezza-1)\n",
    "                        temp_tick_list.insert(0, i-lunghezza-2)\n",
    "                    if datiesterni == 3:\n",
    "                        temp_rivolta_list.insert(0, 0)\n",
    "                        temp_rivolta_list.insert(0, 0)\n",
    "                        temp_rivolta_list.insert(0, 0)\n",
    "                        temp_tick_list.insert(0, i-lunghezza-1)\n",
    "                        temp_tick_list.insert(0, i-lunghezza-2)\n",
    "                        temp_tick_list.insert(0, i-lunghezza-3)\n",
    "                    \n",
    "                if datiesterni == 1:\n",
    "                        temp_rivolta_list.append(y[i])\n",
    "                        temp_tick_list.append(i)\n",
    "                if datiesterni == 2:\n",
    "                        temp_rivolta_list.append(y[i])\n",
    "                        temp_rivolta_list.append(y[i+1])\n",
    "                        temp_tick_list.append(i)\n",
    "                        temp_tick_list.append(i+1)\n",
    "                if datiesterni == 3:\n",
    "                        temp_rivolta_list.append(y[i])\n",
    "                        temp_rivolta_list.append(y[i+1])\n",
    "                        temp_rivolta_list.append(y[i+2])\n",
    "                        temp_tick_list.append(i)\n",
    "                        temp_tick_list.append(i+1)\n",
    "                        temp_tick_list.append(i+2)\n",
    "                \n",
    "                rivolte_diz[str(rivolte_counter)+'_spike'] = temp_rivolta_list\n",
    "                tick_rivolte_diz[str(rivolte_counter)+'_spike'] = temp_tick_list\n",
    "                temp_rivolta_list = []\n",
    "                temp_tick_list = []\n",
    "                cerarivolta = False\n",
    "                \n",
    "    return rivolte_diz, tick_rivolte_diz"
   ]
  },
  {
   "cell_type": "markdown",
   "metadata": {},
   "source": [
    "# Analisi"
   ]
  },
  {
   "cell_type": "markdown",
   "metadata": {},
   "source": [
    "## Creo dizionario degli spikes"
   ]
  },
  {
   "cell_type": "code",
   "execution_count": 8,
   "metadata": {},
   "outputs": [],
   "source": [
    "spikes_dict, spikes_tick_dict = isola_spikes(y, 3)"
   ]
  },
  {
   "cell_type": "markdown",
   "metadata": {},
   "source": [
    "## Seleziono rivolte in base a valore di soglia trovato precedentemente"
   ]
  },
  {
   "cell_type": "code",
   "execution_count": 9,
   "metadata": {},
   "outputs": [],
   "source": [
    "numero_sigma_soglia = 3\n",
    "numero_sigma_baseline = 3\n",
    "baseline = 2"
   ]
  },
  {
   "cell_type": "code",
   "execution_count": 10,
   "metadata": {},
   "outputs": [],
   "source": [
    "## If soglia-errore_soglia < y + errore_y --> rivolta\n",
    "rivolte_dict = {}\n",
    "rivoltini_dict = {}\n",
    "tick_rivolte_dict = {}\n",
    "tick_rivoltini_dict = {}\n",
    "rivolte_counter = 0\n",
    "rivoltini_counter = 0\n",
    "for spike in spikes_dict:\n",
    "    y = spikes_dict[spike]\n",
    "    x = spikes_tick_dict[spike]\n",
    "    if np.max(y)+np.sqrt(np.max(y)) >= soglia-numero_sigma_soglia*err_soglia:\n",
    "        rivolte_counter += 1\n",
    "        rivolte_dict[str(rivolte_counter)+'_rivolta']=y\n",
    "        tick_rivolte_dict[str(rivolte_counter)+'_rivolta']=x\n",
    "    elif np.max(y)-numero_sigma_baseline*np.sqrt(np.max(y))>=baseline+numero_sigma_baseline*np.sqrt(baseline):\n",
    "        rivoltini_counter += 1\n",
    "        rivoltini_dict[str(rivoltini_counter)+'_rivolta']=y\n",
    "        tick_rivoltini_dict[str(rivoltini_counter)+'_rivolta']=x"
   ]
  },
  {
   "cell_type": "code",
   "execution_count": 11,
   "metadata": {},
   "outputs": [
    {
     "name": "stdout",
     "output_type": "stream",
     "text": [
      "38 34 1\n"
     ]
    }
   ],
   "source": [
    "print(len(spikes_dict), len(rivolte_dict), len(rivoltini_dict))"
   ]
  },
  {
   "cell_type": "code",
   "execution_count": 12,
   "metadata": {},
   "outputs": [
    {
     "data": {
      "text/plain": [
       "{'1_rivolta': [0, 0, 0, 23, 16, 4, 1, 2]}"
      ]
     },
     "execution_count": 12,
     "metadata": {},
     "output_type": "execute_result"
    }
   ],
   "source": [
    "rivoltini_dict"
   ]
  },
  {
   "cell_type": "markdown",
   "metadata": {},
   "source": [
    "## Calcolo Metriche: Durata, tempi d'attesa e ampiezza  \n",
    "Tutte le metriche vengono ricavate dal calcolo dei parametri derivanti dalla procedura di fit:  \n",
    "- Durata = 6sigma della rivolta considerata  \n",
    "- Tempo attesa = (media[rivolta_i+1] - 3sigma[rivolta_i+1]) - (media[rivolta_i] + 3sigma[rivolta_i])  \n",
    "- Ampiezza = parametro del fit  \n",
    "  \n",
    "Gli errori vengono calcolati dalla propagazione degli errori sui parametri del fit"
   ]
  },
  {
   "cell_type": "code",
   "execution_count": 13,
   "metadata": {},
   "outputs": [
    {
     "name": "stdout",
     "output_type": "stream",
     "text": [
      "1_rivolta\n",
      "2_rivolta\n",
      "3_rivolta\n",
      "4_rivolta\n",
      "5_rivolta\n",
      "6_rivolta\n",
      "7_rivolta\n",
      "8_rivolta\n",
      "9_rivolta\n",
      "10_rivolta\n",
      "11_rivolta\n",
      "12_rivolta\n",
      "13_rivolta\n",
      "14_rivolta\n",
      "15_rivolta\n",
      "16_rivolta\n",
      "17_rivolta\n",
      "18_rivolta\n",
      "19_rivolta\n",
      "20_rivolta\n",
      "21_rivolta\n",
      "22_rivolta\n",
      "23_rivolta\n",
      "24_rivolta\n",
      "25_rivolta\n",
      "26_rivolta\n",
      "27_rivolta\n",
      "28_rivolta\n",
      "29_rivolta\n",
      "30_rivolta\n",
      "31_rivolta\n",
      "32_rivolta\n",
      "33_rivolta\n",
      "34_rivolta\n"
     ]
    }
   ],
   "source": [
    "## For loop che mi serve a trovare ampiezza, media e deviazione standard di ognuna delle rivolte,\n",
    "###salvo i parametri del fit per ognuna delle rivolte\n",
    "gauss_params_dict = {}\n",
    "gauss_err_params_dict = {}\n",
    "for rivolte in rivolte_dict:\n",
    "    ## non considero 80_rivolta, è un errore della funzione 'isola_spike' che la isola come rivolta\n",
    "    if rivolte != '80_rivolta':\n",
    "        print(rivolte)\n",
    "        temp_list = []\n",
    "        temp_err_list = []\n",
    "        y = rivolte_dict[rivolte]\n",
    "        x = tick_rivolte_dict[rivolte]\n",
    "        #print(x)\n",
    "        #print(y)\n",
    "        err_y = np.where(np.sqrt(y)==0,1,np.sqrt(y))\n",
    "        gauss_params,gauss_cov = curve_fit(gauss,x,y,p0=[200,((x[-1]-x[0])/2)+x[0],4.,0.],sigma=err_y)\n",
    "        temp_list.append(gauss_params[0])\n",
    "        temp_list.append(gauss_params[1])\n",
    "        temp_list.append(gauss_params[2])\n",
    "        temp_list.append(gauss_params[3])\n",
    "        temp_err_list.append(np.sqrt(np.abs(gauss_cov[0][0])))\n",
    "        temp_err_list.append(np.sqrt(np.abs(gauss_cov[1][1])))\n",
    "        temp_err_list.append(np.sqrt(np.abs(gauss_cov[2][2])))\n",
    "        temp_err_list.append(np.sqrt(np.abs(gauss_cov[3][3])))\n",
    "        gauss_params_dict[rivolte] = temp_list\n",
    "        gauss_err_params_dict[rivolte] = temp_err_list"
   ]
  },
  {
   "cell_type": "code",
   "execution_count": 47,
   "metadata": {},
   "outputs": [
    {
     "data": {
      "text/plain": [
       "<bound method NDFrame.describe of                      0           1         2         3\n",
       "1_rivolta   320.657440   14.792786  1.745006 -1.777264\n",
       "2_rivolta   199.878305   41.298969 -1.586316  0.044577\n",
       "3_rivolta   207.272468   64.601636  1.564420 -1.331122\n",
       "4_rivolta   236.060638   94.524033  1.836459 -0.515920\n",
       "5_rivolta   297.850411  126.023046  1.703422 -0.755839\n",
       "6_rivolta   202.437120  151.174439  1.663522 -0.891282\n",
       "7_rivolta   274.592261  182.458213  1.893872 -1.340226\n",
       "8_rivolta   321.436338  230.912984  1.665563 -1.462728\n",
       "9_rivolta   293.185220  260.497248  1.787893 -0.767581\n",
       "10_rivolta  246.074262  285.896363  1.690882 -1.843282\n",
       "11_rivolta  272.429662  315.487187  1.824153 -0.849805\n",
       "12_rivolta  315.179470  353.661984  1.779953 -0.931009\n",
       "13_rivolta  284.592862  383.176543  1.786951 -1.159885\n",
       "14_rivolta  185.258979  407.982732  1.871614 -0.736350\n",
       "15_rivolta  208.315582  431.489630  1.598316 -1.247033\n",
       "16_rivolta  323.490319  472.254005  1.689663 -1.207644\n",
       "17_rivolta  125.239915  495.919098  2.172905 -1.319231\n",
       "18_rivolta  228.001093  520.020467  1.700918 -0.877941\n",
       "19_rivolta  283.593326  548.534072  1.782885 -1.490936\n",
       "20_rivolta  278.244695  580.580940  1.702731 -1.346019\n",
       "21_rivolta  252.752257  606.588575  1.691314 -1.107030\n",
       "22_rivolta   79.391175  625.829791  1.509381  0.175030\n",
       "23_rivolta  241.242131  646.024837  1.704613 -0.836943\n",
       "24_rivolta  312.821248  676.788412  1.681867 -1.257273\n",
       "25_rivolta  172.090942  699.478079  1.634108 -0.616821\n",
       "26_rivolta  306.951463  732.698483  1.673834 -1.114790\n",
       "27_rivolta  229.213766  758.089097  1.714737 -0.703664\n",
       "28_rivolta  187.890749  781.126667  1.673997 -0.810012\n",
       "29_rivolta  318.360487  816.935243  1.770544 -1.435764\n",
       "30_rivolta  302.776617  849.023421  1.826442 -1.158820\n",
       "31_rivolta  315.850946  883.775610  1.740474 -1.041935\n",
       "32_rivolta  227.106705  910.032255  1.813134 -0.266602\n",
       "33_rivolta  295.010622  939.907923  1.701903 -1.616178\n",
       "34_rivolta  278.768809  969.136905  1.770051 -1.029746>"
      ]
     },
     "execution_count": 47,
     "metadata": {},
     "output_type": "execute_result"
    }
   ],
   "source": [
    "pd.DataFrame.from_dict(gauss_params_dict, orient='index')"
   ]
  },
  {
   "cell_type": "code",
   "execution_count": 48,
   "metadata": {},
   "outputs": [
    {
     "data": {
      "text/html": [
       "<div>\n",
       "<style scoped>\n",
       "    .dataframe tbody tr th:only-of-type {\n",
       "        vertical-align: middle;\n",
       "    }\n",
       "\n",
       "    .dataframe tbody tr th {\n",
       "        vertical-align: top;\n",
       "    }\n",
       "\n",
       "    .dataframe thead th {\n",
       "        text-align: right;\n",
       "    }\n",
       "</style>\n",
       "<table border=\"1\" class=\"dataframe\">\n",
       "  <thead>\n",
       "    <tr style=\"text-align: right;\">\n",
       "      <th></th>\n",
       "      <th>0</th>\n",
       "      <th>1</th>\n",
       "      <th>2</th>\n",
       "      <th>3</th>\n",
       "    </tr>\n",
       "  </thead>\n",
       "  <tbody>\n",
       "    <tr>\n",
       "      <th>1_rivolta</th>\n",
       "      <td>41.242595</td>\n",
       "      <td>0.191714</td>\n",
       "      <td>0.133606</td>\n",
       "      <td>2.178037</td>\n",
       "    </tr>\n",
       "    <tr>\n",
       "      <th>2_rivolta</th>\n",
       "      <td>12.134490</td>\n",
       "      <td>0.079700</td>\n",
       "      <td>0.062639</td>\n",
       "      <td>0.630019</td>\n",
       "    </tr>\n",
       "    <tr>\n",
       "      <th>3_rivolta</th>\n",
       "      <td>17.142888</td>\n",
       "      <td>0.106728</td>\n",
       "      <td>0.085443</td>\n",
       "      <td>1.261203</td>\n",
       "    </tr>\n",
       "    <tr>\n",
       "      <th>4_rivolta</th>\n",
       "      <td>14.787838</td>\n",
       "      <td>0.093562</td>\n",
       "      <td>0.077802</td>\n",
       "      <td>0.936344</td>\n",
       "    </tr>\n",
       "    <tr>\n",
       "      <th>5_rivolta</th>\n",
       "      <td>38.125194</td>\n",
       "      <td>0.188746</td>\n",
       "      <td>0.136002</td>\n",
       "      <td>2.476906</td>\n",
       "    </tr>\n",
       "    <tr>\n",
       "      <th>6_rivolta</th>\n",
       "      <td>13.037126</td>\n",
       "      <td>0.087108</td>\n",
       "      <td>0.068776</td>\n",
       "      <td>0.842186</td>\n",
       "    </tr>\n",
       "    <tr>\n",
       "      <th>7_rivolta</th>\n",
       "      <td>27.603968</td>\n",
       "      <td>0.156252</td>\n",
       "      <td>0.120599</td>\n",
       "      <td>1.807339</td>\n",
       "    </tr>\n",
       "    <tr>\n",
       "      <th>8_rivolta</th>\n",
       "      <td>42.707268</td>\n",
       "      <td>0.191119</td>\n",
       "      <td>0.137661</td>\n",
       "      <td>2.289097</td>\n",
       "    </tr>\n",
       "    <tr>\n",
       "      <th>9_rivolta</th>\n",
       "      <td>30.185176</td>\n",
       "      <td>0.158216</td>\n",
       "      <td>0.112562</td>\n",
       "      <td>1.703961</td>\n",
       "    </tr>\n",
       "    <tr>\n",
       "      <th>10_rivolta</th>\n",
       "      <td>20.745784</td>\n",
       "      <td>0.115762</td>\n",
       "      <td>0.093807</td>\n",
       "      <td>1.527548</td>\n",
       "    </tr>\n",
       "    <tr>\n",
       "      <th>11_rivolta</th>\n",
       "      <td>18.552223</td>\n",
       "      <td>0.103052</td>\n",
       "      <td>0.079754</td>\n",
       "      <td>0.967085</td>\n",
       "    </tr>\n",
       "    <tr>\n",
       "      <th>12_rivolta</th>\n",
       "      <td>38.516341</td>\n",
       "      <td>0.188828</td>\n",
       "      <td>0.131848</td>\n",
       "      <td>2.090361</td>\n",
       "    </tr>\n",
       "    <tr>\n",
       "      <th>13_rivolta</th>\n",
       "      <td>27.140580</td>\n",
       "      <td>0.144078</td>\n",
       "      <td>0.113698</td>\n",
       "      <td>1.911871</td>\n",
       "    </tr>\n",
       "    <tr>\n",
       "      <th>14_rivolta</th>\n",
       "      <td>14.646790</td>\n",
       "      <td>0.124079</td>\n",
       "      <td>0.096632</td>\n",
       "      <td>1.161611</td>\n",
       "    </tr>\n",
       "    <tr>\n",
       "      <th>15_rivolta</th>\n",
       "      <td>19.063842</td>\n",
       "      <td>0.122285</td>\n",
       "      <td>0.093674</td>\n",
       "      <td>1.261673</td>\n",
       "    </tr>\n",
       "    <tr>\n",
       "      <th>16_rivolta</th>\n",
       "      <td>38.050501</td>\n",
       "      <td>0.172015</td>\n",
       "      <td>0.121487</td>\n",
       "      <td>2.084626</td>\n",
       "    </tr>\n",
       "    <tr>\n",
       "      <th>17_rivolta</th>\n",
       "      <td>9.315339</td>\n",
       "      <td>0.126480</td>\n",
       "      <td>0.127005</td>\n",
       "      <td>1.195832</td>\n",
       "    </tr>\n",
       "    <tr>\n",
       "      <th>18_rivolta</th>\n",
       "      <td>15.698576</td>\n",
       "      <td>0.097301</td>\n",
       "      <td>0.074914</td>\n",
       "      <td>0.889354</td>\n",
       "    </tr>\n",
       "    <tr>\n",
       "      <th>19_rivolta</th>\n",
       "      <td>36.088733</td>\n",
       "      <td>0.197169</td>\n",
       "      <td>0.142443</td>\n",
       "      <td>2.199265</td>\n",
       "    </tr>\n",
       "    <tr>\n",
       "      <th>20_rivolta</th>\n",
       "      <td>36.555360</td>\n",
       "      <td>0.198118</td>\n",
       "      <td>0.134678</td>\n",
       "      <td>1.934575</td>\n",
       "    </tr>\n",
       "    <tr>\n",
       "      <th>21_rivolta</th>\n",
       "      <td>24.958944</td>\n",
       "      <td>0.143768</td>\n",
       "      <td>0.108130</td>\n",
       "      <td>1.860504</td>\n",
       "    </tr>\n",
       "    <tr>\n",
       "      <th>22_rivolta</th>\n",
       "      <td>7.793062</td>\n",
       "      <td>0.124700</td>\n",
       "      <td>0.112497</td>\n",
       "      <td>0.945457</td>\n",
       "    </tr>\n",
       "    <tr>\n",
       "      <th>23_rivolta</th>\n",
       "      <td>23.876134</td>\n",
       "      <td>0.144329</td>\n",
       "      <td>0.108220</td>\n",
       "      <td>1.515588</td>\n",
       "    </tr>\n",
       "    <tr>\n",
       "      <th>24_rivolta</th>\n",
       "      <td>35.582874</td>\n",
       "      <td>0.166286</td>\n",
       "      <td>0.116137</td>\n",
       "      <td>1.742298</td>\n",
       "    </tr>\n",
       "    <tr>\n",
       "      <th>25_rivolta</th>\n",
       "      <td>11.311121</td>\n",
       "      <td>0.089388</td>\n",
       "      <td>0.069468</td>\n",
       "      <td>0.826524</td>\n",
       "    </tr>\n",
       "    <tr>\n",
       "      <th>26_rivolta</th>\n",
       "      <td>35.790222</td>\n",
       "      <td>0.172225</td>\n",
       "      <td>0.122110</td>\n",
       "      <td>1.894680</td>\n",
       "    </tr>\n",
       "    <tr>\n",
       "      <th>27_rivolta</th>\n",
       "      <td>15.694619</td>\n",
       "      <td>0.097381</td>\n",
       "      <td>0.075665</td>\n",
       "      <td>0.964471</td>\n",
       "    </tr>\n",
       "    <tr>\n",
       "      <th>28_rivolta</th>\n",
       "      <td>13.303159</td>\n",
       "      <td>0.097081</td>\n",
       "      <td>0.079686</td>\n",
       "      <td>1.057059</td>\n",
       "    </tr>\n",
       "    <tr>\n",
       "      <th>29_rivolta</th>\n",
       "      <td>46.544298</td>\n",
       "      <td>0.230072</td>\n",
       "      <td>0.157427</td>\n",
       "      <td>2.499924</td>\n",
       "    </tr>\n",
       "    <tr>\n",
       "      <th>30_rivolta</th>\n",
       "      <td>31.130018</td>\n",
       "      <td>0.164366</td>\n",
       "      <td>0.116270</td>\n",
       "      <td>1.667235</td>\n",
       "    </tr>\n",
       "    <tr>\n",
       "      <th>31_rivolta</th>\n",
       "      <td>42.456801</td>\n",
       "      <td>0.213072</td>\n",
       "      <td>0.143563</td>\n",
       "      <td>2.240218</td>\n",
       "    </tr>\n",
       "    <tr>\n",
       "      <th>32_rivolta</th>\n",
       "      <td>15.976065</td>\n",
       "      <td>0.108267</td>\n",
       "      <td>0.082344</td>\n",
       "      <td>1.148216</td>\n",
       "    </tr>\n",
       "    <tr>\n",
       "      <th>33_rivolta</th>\n",
       "      <td>34.588482</td>\n",
       "      <td>0.167036</td>\n",
       "      <td>0.123326</td>\n",
       "      <td>2.021367</td>\n",
       "    </tr>\n",
       "    <tr>\n",
       "      <th>34_rivolta</th>\n",
       "      <td>19.619399</td>\n",
       "      <td>0.102709</td>\n",
       "      <td>0.077838</td>\n",
       "      <td>1.089212</td>\n",
       "    </tr>\n",
       "  </tbody>\n",
       "</table>\n",
       "</div>"
      ],
      "text/plain": [
       "                    0         1         2         3\n",
       "1_rivolta   41.242595  0.191714  0.133606  2.178037\n",
       "2_rivolta   12.134490  0.079700  0.062639  0.630019\n",
       "3_rivolta   17.142888  0.106728  0.085443  1.261203\n",
       "4_rivolta   14.787838  0.093562  0.077802  0.936344\n",
       "5_rivolta   38.125194  0.188746  0.136002  2.476906\n",
       "6_rivolta   13.037126  0.087108  0.068776  0.842186\n",
       "7_rivolta   27.603968  0.156252  0.120599  1.807339\n",
       "8_rivolta   42.707268  0.191119  0.137661  2.289097\n",
       "9_rivolta   30.185176  0.158216  0.112562  1.703961\n",
       "10_rivolta  20.745784  0.115762  0.093807  1.527548\n",
       "11_rivolta  18.552223  0.103052  0.079754  0.967085\n",
       "12_rivolta  38.516341  0.188828  0.131848  2.090361\n",
       "13_rivolta  27.140580  0.144078  0.113698  1.911871\n",
       "14_rivolta  14.646790  0.124079  0.096632  1.161611\n",
       "15_rivolta  19.063842  0.122285  0.093674  1.261673\n",
       "16_rivolta  38.050501  0.172015  0.121487  2.084626\n",
       "17_rivolta   9.315339  0.126480  0.127005  1.195832\n",
       "18_rivolta  15.698576  0.097301  0.074914  0.889354\n",
       "19_rivolta  36.088733  0.197169  0.142443  2.199265\n",
       "20_rivolta  36.555360  0.198118  0.134678  1.934575\n",
       "21_rivolta  24.958944  0.143768  0.108130  1.860504\n",
       "22_rivolta   7.793062  0.124700  0.112497  0.945457\n",
       "23_rivolta  23.876134  0.144329  0.108220  1.515588\n",
       "24_rivolta  35.582874  0.166286  0.116137  1.742298\n",
       "25_rivolta  11.311121  0.089388  0.069468  0.826524\n",
       "26_rivolta  35.790222  0.172225  0.122110  1.894680\n",
       "27_rivolta  15.694619  0.097381  0.075665  0.964471\n",
       "28_rivolta  13.303159  0.097081  0.079686  1.057059\n",
       "29_rivolta  46.544298  0.230072  0.157427  2.499924\n",
       "30_rivolta  31.130018  0.164366  0.116270  1.667235\n",
       "31_rivolta  42.456801  0.213072  0.143563  2.240218\n",
       "32_rivolta  15.976065  0.108267  0.082344  1.148216\n",
       "33_rivolta  34.588482  0.167036  0.123326  2.021367\n",
       "34_rivolta  19.619399  0.102709  0.077838  1.089212"
      ]
     },
     "execution_count": 48,
     "metadata": {},
     "output_type": "execute_result"
    }
   ],
   "source": [
    "pd.DataFrame.from_dict(gauss_err_params_dict, orient='index')"
   ]
  },
  {
   "cell_type": "markdown",
   "metadata": {},
   "source": [
    "### Durata"
   ]
  },
  {
   "cell_type": "code",
   "execution_count": 14,
   "metadata": {},
   "outputs": [],
   "source": [
    "## calcolo la durata delle singole rivolte come 6 per la sigma della rivolta (hp:gaussiane)\n",
    "###e errori su singole durate propagando gli errori sulla sigma (6*err_assoluto sigma)\n",
    "durate_list = [gauss_params_dict[rivolte][2]*6 for rivolte in rivolte_dict]\n",
    "err_durate_list = [gauss_err_params_dict[rivolte][2]*6 for rivolte in rivolte_dict]\n",
    "durate_list = np.abs(durate_list)\n",
    "err_durate_list = np.abs(err_durate_list)\n",
    "\n",
    "## calcolo media pesata e errore su media\n",
    "media_pesata_durate = media_pesata(durate_list, err_durate_list)\n",
    "err_media_pesata_durate = np.sqrt(np.sum((durate_list - media_pesata_durate)**2)/(len(durate_list)*(len(durate_list)-1)))"
   ]
  },
  {
   "cell_type": "code",
   "execution_count": 15,
   "metadata": {},
   "outputs": [
    {
     "data": {
      "text/plain": [
       "<ErrorbarContainer object of 3 artists>"
      ]
     },
     "execution_count": 15,
     "metadata": {},
     "output_type": "execute_result"
    },
    {
     "data": {
      "image/png": "[encoded data removed]",
      "text/plain": [
       "<Figure size 432x288 with 1 Axes>"
      ]
     },
     "metadata": {
      "needs_background": "light"
     },
     "output_type": "display_data"
    }
   ],
   "source": [
    "plt.errorbar(range(len(durate_list)), durate_list, yerr=err_durate_list,solid_capstyle='projecting',capsize=5)"
   ]
  },
  {
   "cell_type": "code",
   "execution_count": 16,
   "metadata": {},
   "outputs": [
    {
     "name": "stdout",
     "output_type": "stream",
     "text": [
      "10.311830447971328 0.12035386293573513\n"
     ]
    }
   ],
   "source": [
    "print(media_pesata_durate, err_media_pesata_durate)"
   ]
  },
  {
   "cell_type": "markdown",
   "metadata": {},
   "source": [
    "### Tempi attesa"
   ]
  },
  {
   "cell_type": "code",
   "execution_count": 17,
   "metadata": {},
   "outputs": [],
   "source": [
    "## calcolo liste dei tick di inizio e fine rivolte con relativi errori \n",
    "###trovati con propagazione degli errori dagli errori dei parametri del fit\n",
    "###(start = media-3sigma --> err_start = sqrt(err_media**2 + (3err_sigma)**2)\n",
    "start_tick_list = []\n",
    "end_tick_list = []\n",
    "err_start_tick_list = []\n",
    "err_end_tick_list = []\n",
    "\n",
    "for rivolte in gauss_params_dict:\n",
    "    media = gauss_params_dict[rivolte][1]\n",
    "    sigma = np.abs(gauss_params_dict[rivolte][2])\n",
    "    err_media = gauss_err_params_dict[rivolte][1]\n",
    "    err_sigma = gauss_err_params_dict[rivolte][2]\n",
    "    start_tick_list.append(media - 3*sigma)\n",
    "    end_tick_list.append(media + 3*sigma)\n",
    "    err_start_tick_list.append(np.sqrt(err_media**2 + (3*err_sigma)**2))\n",
    "    err_end_tick_list.append(np.sqrt(err_media**2 + (3*err_sigma)**2))"
   ]
  },
  {
   "cell_type": "code",
   "execution_count": 18,
   "metadata": {},
   "outputs": [],
   "source": [
    "## Calcolo tempi di attesa dalle liste dei tick di inizio e fine rivolte e relativi errori\n",
    "###calcolati con la propagazione dagli errori dei tick di inizio e fine rivolte\n",
    "###(tempo_attesa = start[i+1]-end[i] --> err_tempo_attesa = np.sqrt(err_start[i+1]**2 + err_end[i]**2))\n",
    "tempi_attesa_list = []\n",
    "err_tempi_attesa_list = []\n",
    "for i in range(len(end_tick_list)-1):\n",
    "    tempi_attesa_list.append(start_tick_list[i+1] - end_tick_list[i])\n",
    "    err_tempi_attesa_list.append(np.sqrt(err_start_tick_list[i+1]**2 + err_end_tick_list[i]**2))"
   ]
  },
  {
   "cell_type": "code",
   "execution_count": 19,
   "metadata": {},
   "outputs": [],
   "source": [
    "## calcolo media pesata e errore su media\n",
    "media_pesata_tempi_attesa = media_pesata(tempi_attesa_list, err_tempi_attesa_list)\n",
    "err_media_pesata_tempi_attesa = np.sqrt(np.sum((tempi_attesa_list - media_pesata_tempi_attesa)**2)/(len(tempi_attesa_list)*(len(tempi_attesa_list)-1)))"
   ]
  },
  {
   "cell_type": "code",
   "execution_count": 20,
   "metadata": {},
   "outputs": [
    {
     "data": {
      "text/plain": [
       "<ErrorbarContainer object of 3 artists>"
      ]
     },
     "execution_count": 20,
     "metadata": {},
     "output_type": "execute_result"
    },
    {
     "data": {
      "image/png": "[encoded data removed]",
      "text/plain": [
       "<Figure size 432x288 with 1 Axes>"
      ]
     },
     "metadata": {
      "needs_background": "light"
     },
     "output_type": "display_data"
    }
   ],
   "source": [
    "plt.errorbar(range(len(tempi_attesa_list)), tempi_attesa_list, yerr=err_tempi_attesa_list,solid_capstyle='projecting',capsize=5)"
   ]
  },
  {
   "cell_type": "code",
   "execution_count": 21,
   "metadata": {},
   "outputs": [
    {
     "name": "stdout",
     "output_type": "stream",
     "text": [
      "17.850298917848043 1.0515878508062226\n"
     ]
    }
   ],
   "source": [
    "print(media_pesata_tempi_attesa, err_media_pesata_tempi_attesa)"
   ]
  },
  {
   "cell_type": "markdown",
   "metadata": {},
   "source": [
    "### Ampiezza"
   ]
  },
  {
   "cell_type": "code",
   "execution_count": 22,
   "metadata": {},
   "outputs": [],
   "source": [
    "## Calcolo ampiezze per ogni rivolta e errore da propagazione errori del fit\n",
    "ampiezze_list = [gauss_params_dict[rivolte][0] for rivolte in rivolte_dict]\n",
    "err_ampiezze_list = [gauss_err_params_dict[rivolte][0] for rivolte in rivolte_dict]\n",
    "ampiezze_list = np.abs(ampiezze_list)\n",
    "err_ampiezze_list = np.abs(err_ampiezze_list)\n",
    "\n",
    "## Calcolo media pesata e errore su media\n",
    "media_pesata_ampiezze = media_pesata(ampiezze_list, err_ampiezze_list)\n",
    "err_media_pesata_ampiezze = np.sqrt(np.sum((ampiezze_list - media_pesata_ampiezze)**2)/(len(ampiezze_list)*(len(ampiezze_list)-1)))"
   ]
  },
  {
   "cell_type": "code",
   "execution_count": 23,
   "metadata": {},
   "outputs": [
    {
     "data": {
      "text/plain": [
       "<ErrorbarContainer object of 3 artists>"
      ]
     },
     "execution_count": 23,
     "metadata": {},
     "output_type": "execute_result"
    },
    {
     "data": {
      "image/png": "[encoded data removed]",
      "text/plain": [
       "<Figure size 432x288 with 1 Axes>"
      ]
     },
     "metadata": {
      "needs_background": "light"
     },
     "output_type": "display_data"
    }
   ],
   "source": [
    "plt.errorbar(range(len(ampiezze_list)), ampiezze_list, yerr=err_ampiezze_list,solid_capstyle='projecting',capsize=5)"
   ]
  },
  {
   "cell_type": "code",
   "execution_count": 24,
   "metadata": {},
   "outputs": [
    {
     "data": {
      "text/plain": [
       "21"
      ]
     },
     "execution_count": 24,
     "metadata": {},
     "output_type": "execute_result"
    }
   ],
   "source": [
    "np.argmin(err_ampiezze_list)"
   ]
  },
  {
   "cell_type": "code",
   "execution_count": 25,
   "metadata": {},
   "outputs": [
    {
     "name": "stdout",
     "output_type": "stream",
     "text": [
      "193.59670978171002 14.655492080565837\n"
     ]
    }
   ],
   "source": [
    "print(media_pesata_ampiezze, err_media_pesata_ampiezze)"
   ]
  },
  {
   "cell_type": "markdown",
   "metadata": {},
   "source": [
    "## Epstein - Tempi attesa  \n",
    "Epstein afferma nel suo articolo che la distribuzione dei tempi di attesa per una rivolta segue un andamento a legge di potenza almeno nella coda destra della distribuzione, verifichiamolo"
   ]
  },
  {
   "cell_type": "code",
   "execution_count": 26,
   "metadata": {},
   "outputs": [],
   "source": [
    "b = tempi_attesa_list"
   ]
  },
  {
   "cell_type": "markdown",
   "metadata": {},
   "source": [
    "**Applico sturge's rule for binning**  \n",
    "K = 1 + 3.322logN, K is num of bins, N is number of observations"
   ]
  },
  {
   "cell_type": "code",
   "execution_count": 27,
   "metadata": {},
   "outputs": [],
   "source": [
    "N = len(b)\n",
    "K = int(1 + 3.322*np.log(N))"
   ]
  },
  {
   "cell_type": "code",
   "execution_count": 28,
   "metadata": {},
   "outputs": [
    {
     "data": {
      "image/png": "[encoded data removed]",
      "text/plain": [
       "<Figure size 432x288 with 1 Axes>"
      ]
     },
     "metadata": {
      "needs_background": "light"
     },
     "output_type": "display_data"
    },
    {
     "name": "stdout",
     "output_type": "stream",
     "text": [
      "num_bin: 12  N: 33\n"
     ]
    }
   ],
   "source": [
    "counts, bins, bars = plt.hist(b, bins=K)\n",
    "plt.show()\n",
    "print('num_bin:', K, ' N:', N)"
   ]
  },
  {
   "cell_type": "code",
   "execution_count": 29,
   "metadata": {},
   "outputs": [
    {
     "data": {
      "text/plain": [
       "array([7., 6., 3., 8., 2., 2., 1.])"
      ]
     },
     "execution_count": 29,
     "metadata": {},
     "output_type": "execute_result"
    }
   ],
   "source": [
    "counts = counts[1:-4]\n",
    "counts"
   ]
  },
  {
   "cell_type": "code",
   "execution_count": 30,
   "metadata": {},
   "outputs": [
    {
     "data": {
      "text/plain": [
       "[13.156298528845312,\n",
       " 15.501076504155895,\n",
       " 17.845854479466478,\n",
       " 20.19063245477706,\n",
       " 22.535410430087644,\n",
       " 24.880188405398226,\n",
       " 27.224966380708807]"
      ]
     },
     "execution_count": 30,
     "metadata": {},
     "output_type": "execute_result"
    }
   ],
   "source": [
    "bin_values = [(bins[i]+bins[i+1])/2 for i in range(len(bins[1:]))]\n",
    "bin_values = bin_values[1:-4]\n",
    "bin_values"
   ]
  },
  {
   "cell_type": "code",
   "execution_count": 31,
   "metadata": {},
   "outputs": [],
   "source": [
    "err_counts = np.where(np.sqrt(counts)==0,1,np.sqrt(counts))/counts"
   ]
  },
  {
   "cell_type": "code",
   "execution_count": 32,
   "metadata": {},
   "outputs": [
    {
     "data": {
      "text/plain": [
       "array([7., 6., 3., 8., 2., 2., 1.])"
      ]
     },
     "execution_count": 32,
     "metadata": {},
     "output_type": "execute_result"
    }
   ],
   "source": [
    "counts"
   ]
  },
  {
   "cell_type": "code",
   "execution_count": 33,
   "metadata": {
    "scrolled": true
   },
   "outputs": [
    {
     "data": {
      "image/png": "[encoded data removed]",
      "text/plain": [
       "<Figure size 432x288 with 1 Axes>"
      ]
     },
     "metadata": {
      "needs_background": "light"
     },
     "output_type": "display_data"
    },
    {
     "name": "stdout",
     "output_type": "stream",
     "text": [
      "ReducedChiSquared: 1.152143102995739\n"
     ]
    }
   ],
   "source": [
    "popt, pcov = curve_fit(retta, bin_values, np.log(counts), sigma=err_counts)\n",
    "plt.suptitle('Negative Esponential fit - Tempi di Attesa', fontweight='bold')\n",
    "plt.xlabel('bin_value')\n",
    "plt.ylabel('Log(counts)')\n",
    "plt.errorbar(bin_values, np.log(counts), yerr=err_counts)\n",
    "plt.plot(bin_values, [retta(bin_values[i], *popt) for i in range(len(bin_values))], 'r--')\n",
    "plt.show()\n",
    "tempi_attesa_chisq = chiquadronorm(np.log(counts), [retta(bin_values[i], *popt) for i in range(len(bin_values))], sigma=err_counts, ddof=len(counts)-len(popt))\n",
    "print('ReducedChiSquared:', tempi_attesa_chisq)"
   ]
  },
  {
   "cell_type": "markdown",
   "metadata": {},
   "source": [
    "**Come Epstein abbiamo verificato che l'andamento della distribuzione dei tempi di attesa è una negative esponential.**"
   ]
  },
  {
   "cell_type": "markdown",
   "metadata": {},
   "source": [
    "## Test compatibilità soglie"
   ]
  },
  {
   "cell_type": "code",
   "execution_count": 34,
   "metadata": {},
   "outputs": [],
   "source": [
    "## calcolo soglie come f(media-sigma) e errore come f(media-1.2*sigma)-f(media-0.8*sigma),\n",
    "### prendo media e sigma dal dizionario che mi sono costruito\n",
    "soglie = []\n",
    "err_soglie = []\n",
    "for i, rivolta in enumerate(rivolte_dict.keys()):\n",
    "    \n",
    "    media = gauss_params_dict[rivolta][1]\n",
    "    sigma = gauss_params_dict[rivolta][2]\n",
    "    sogliax = gauss(media-sigma, *gauss_params_dict[rivolta])\n",
    "    errore = np.abs(gauss(media-1.2*sigma, *gauss_params_dict[rivolta])-gauss(media-0.8*sigma, *gauss_params_dict[rivolta]))\n",
    "    \n",
    "    soglie.append(sogliax)\n",
    "    err_soglie.append(errore)"
   ]
  },
  {
   "cell_type": "code",
   "execution_count": 35,
   "metadata": {},
   "outputs": [
    {
     "data": {
      "image/png": "[encoded data removed]",
      "text/plain": [
       "<Figure size 432x288 with 1 Axes>"
      ]
     },
     "metadata": {
      "needs_background": "light"
     },
     "output_type": "display_data"
    },
    {
     "name": "stdout",
     "output_type": "stream",
     "text": [
      "ReducedChiSquared: 0.9320298576062249\n"
     ]
    }
   ],
   "source": [
    "popt, pcov = curve_fit(costante, range(len(soglie)), soglie, sigma=err_soglie)\n",
    "cost_red_chisq = cost_chiquadronorm(soglie, costante(range(len(soglie)),*popt), err_soglie, len(soglie)-len(popt), norm=True)\n",
    "plt.plot(range(len(soglie)), [costante(range(len(soglie)),*popt) for k in range(len(soglie))], color='r')\n",
    "plt.errorbar(range(len(soglie)), soglie, yerr=err_soglie,solid_capstyle='projecting',capsize=5,ecolor='blue',color='green')\n",
    "plt.show()\n",
    "print('ReducedChiSquared:', cost_red_chisq)"
   ]
  },
  {
   "cell_type": "code",
   "execution_count": 36,
   "metadata": {},
   "outputs": [
    {
     "data": {
      "text/plain": [
       "91.05538513813741"
      ]
     },
     "execution_count": 36,
     "metadata": {},
     "output_type": "execute_result"
    }
   ],
   "source": [
    "np.max(rivolte_dict['22_rivolta'])+np.sqrt(np.max(rivolte_dict['22_rivolta']))"
   ]
  },
  {
   "cell_type": "code",
   "execution_count": 37,
   "metadata": {},
   "outputs": [
    {
     "data": {
      "text/plain": [
       "90.3220115042288"
      ]
     },
     "execution_count": 37,
     "metadata": {},
     "output_type": "execute_result"
    }
   ],
   "source": [
    "soglia-3*err_soglia"
   ]
  },
  {
   "cell_type": "code",
   "execution_count": 38,
   "metadata": {},
   "outputs": [
    {
     "data": {
      "text/plain": [
       "6.242640687119286"
      ]
     },
     "execution_count": 38,
     "metadata": {},
     "output_type": "execute_result"
    }
   ],
   "source": [
    "baseline+numero_sigma_baseline*np.sqrt(baseline)"
   ]
  },
  {
   "cell_type": "code",
   "execution_count": 39,
   "metadata": {},
   "outputs": [
    {
     "data": {
      "text/plain": [
       "9.596296507960702"
      ]
     },
     "execution_count": 39,
     "metadata": {},
     "output_type": "execute_result"
    }
   ],
   "source": [
    "42-5*np.sqrt(42)"
   ]
  },
  {
   "cell_type": "code",
   "execution_count": 40,
   "metadata": {},
   "outputs": [
    {
     "data": {
      "text/plain": [
       "array([[8.51504977]])"
      ]
     },
     "execution_count": 40,
     "metadata": {},
     "output_type": "execute_result"
    }
   ],
   "source": [
    "np.sqrt(pcov)"
   ]
  },
  {
   "cell_type": "code",
   "execution_count": 41,
   "metadata": {},
   "outputs": [
    {
     "data": {
      "text/plain": [
       "array([119.85078321])"
      ]
     },
     "execution_count": 41,
     "metadata": {},
     "output_type": "execute_result"
    }
   ],
   "source": [
    "popt"
   ]
  },
  {
   "cell_type": "code",
   "execution_count": 42,
   "metadata": {},
   "outputs": [
    {
     "name": "stdout",
     "output_type": "stream",
     "text": [
      "119.85078310462809 8.44068794924578\n"
     ]
    }
   ],
   "source": [
    "media_pesata_soglie = media_pesata(soglie, err_soglie)\n",
    "errore_media_soglia = np.sqrt(np.sum((soglie - media_pesata_soglie)**2)/(len(soglie)*(len(soglie)-1)))\n",
    "print(media_pesata_soglie, errore_media_soglia)"
   ]
  },
  {
   "cell_type": "markdown",
   "metadata": {},
   "source": [
    "**Ho, come nel caso precedente dove consideravo meno rivolte, valori di soglia compatibili con un valore costante**  \n",
    "inoltre il valore di soglia trovato è compatibile con il valore di soglia trovato precedentemente"
   ]
  },
  {
   "cell_type": "code",
   "execution_count": null,
   "metadata": {},
   "outputs": [],
   "source": []
  }
 ],
 "metadata": {
  "kernelspec": {
   "display_name": "Python 3",
   "language": "python",
   "name": "python3"
  },
  "language_info": {
   "codemirror_mode": {
    "name": "ipython",
    "version": 3
   },
   "file_extension": ".py",
   "mimetype": "text/x-python",
   "name": "python",
   "nbconvert_exporter": "python",
   "pygments_lexer": "ipython3",
   "version": "3.7.3"
  },
  "toc": {
   "base_numbering": 1,
   "nav_menu": {},
   "number_sections": true,
   "sideBar": true,
   "skip_h1_title": false,
   "title_cell": "Table of Contents",
   "title_sidebar": "Contents",
   "toc_cell": false,
   "toc_position": {
    "height": "calc(100% - 180px)",
    "left": "10px",
    "top": "150px",
    "width": "165px"
   },
   "toc_section_display": true,
   "toc_window_display": true
  }
 },
 "nbformat": 4,
 "nbformat_minor": 2
}
