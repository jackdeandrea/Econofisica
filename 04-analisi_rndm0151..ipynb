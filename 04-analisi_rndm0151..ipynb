{
 "cells": [
  {
   "cell_type": "code",
   "execution_count": 1,
   "metadata": {},
   "outputs": [
    {
     "name": "stdout",
     "output_type": "stream",
     "text": [
      "Populating the interactive namespace from numpy and matplotlib\n"
     ]
    }
   ],
   "source": [
    "%pylab inline\n",
    "import pandas as pd\n",
    "from scipy.optimize import curve_fit\n",
    "from scipy import asarray as ar\n",
    "from scipy import math\n",
    "#import pylandau\n",
    "import random"
   ]
  },
  {
   "cell_type": "markdown",
   "metadata": {},
   "source": [
    "# Importo il dataset"
   ]
  },
  {
   "cell_type": "code",
   "execution_count": 2,
   "metadata": {},
   "outputs": [
    {
     "data": {
      "text/html": [
       "<div>\n",
       "<style scoped>\n",
       "    .dataframe tbody tr th:only-of-type {\n",
       "        vertical-align: middle;\n",
       "    }\n",
       "\n",
       "    .dataframe tbody tr th {\n",
       "        vertical-align: top;\n",
       "    }\n",
       "\n",
       "    .dataframe thead th {\n",
       "        text-align: right;\n",
       "    }\n",
       "</style>\n",
       "<table border=\"1\" class=\"dataframe\">\n",
       "  <thead>\n",
       "    <tr style=\"text-align: right;\">\n",
       "      <th></th>\n",
       "      <th>x</th>\n",
       "      <th>y</th>\n",
       "      <th>color</th>\n",
       "      <th>pen down?</th>\n",
       "      <th>x.1</th>\n",
       "      <th>y.1</th>\n",
       "      <th>color.1</th>\n",
       "      <th>pen down?.1</th>\n",
       "      <th>x.2</th>\n",
       "      <th>y.2</th>\n",
       "      <th>color.2</th>\n",
       "      <th>pen down?.2</th>\n",
       "      <th>Unnamed: 12</th>\n",
       "    </tr>\n",
       "  </thead>\n",
       "  <tbody>\n",
       "    <tr>\n",
       "      <th>0</th>\n",
       "      <td>0</td>\n",
       "      <td>1120</td>\n",
       "      <td>55</td>\n",
       "      <td>True</td>\n",
       "      <td>0</td>\n",
       "      <td>0</td>\n",
       "      <td>0</td>\n",
       "      <td>True</td>\n",
       "      <td>0</td>\n",
       "      <td>0</td>\n",
       "      <td>15</td>\n",
       "      <td>True</td>\n",
       "      <td>NaN</td>\n",
       "    </tr>\n",
       "    <tr>\n",
       "      <th>1</th>\n",
       "      <td>1</td>\n",
       "      <td>1040</td>\n",
       "      <td>55</td>\n",
       "      <td>True</td>\n",
       "      <td>1</td>\n",
       "      <td>28</td>\n",
       "      <td>0</td>\n",
       "      <td>True</td>\n",
       "      <td>1</td>\n",
       "      <td>52</td>\n",
       "      <td>15</td>\n",
       "      <td>True</td>\n",
       "      <td>NaN</td>\n",
       "    </tr>\n",
       "    <tr>\n",
       "      <th>2</th>\n",
       "      <td>2</td>\n",
       "      <td>734</td>\n",
       "      <td>55</td>\n",
       "      <td>True</td>\n",
       "      <td>2</td>\n",
       "      <td>83</td>\n",
       "      <td>0</td>\n",
       "      <td>True</td>\n",
       "      <td>2</td>\n",
       "      <td>303</td>\n",
       "      <td>15</td>\n",
       "      <td>True</td>\n",
       "      <td>NaN</td>\n",
       "    </tr>\n",
       "    <tr>\n",
       "      <th>3</th>\n",
       "      <td>3</td>\n",
       "      <td>606</td>\n",
       "      <td>55</td>\n",
       "      <td>True</td>\n",
       "      <td>3</td>\n",
       "      <td>141</td>\n",
       "      <td>0</td>\n",
       "      <td>True</td>\n",
       "      <td>3</td>\n",
       "      <td>373</td>\n",
       "      <td>15</td>\n",
       "      <td>True</td>\n",
       "      <td>NaN</td>\n",
       "    </tr>\n",
       "    <tr>\n",
       "      <th>4</th>\n",
       "      <td>4</td>\n",
       "      <td>606</td>\n",
       "      <td>55</td>\n",
       "      <td>True</td>\n",
       "      <td>4</td>\n",
       "      <td>200</td>\n",
       "      <td>0</td>\n",
       "      <td>True</td>\n",
       "      <td>4</td>\n",
       "      <td>314</td>\n",
       "      <td>15</td>\n",
       "      <td>True</td>\n",
       "      <td>NaN</td>\n",
       "    </tr>\n",
       "  </tbody>\n",
       "</table>\n",
       "</div>"
      ],
      "text/plain": [
       "   x     y  color  pen down?  x.1  y.1  color.1  pen down?.1  x.2  y.2  \\\n",
       "0  0  1120     55       True    0    0        0         True    0    0   \n",
       "1  1  1040     55       True    1   28        0         True    1   52   \n",
       "2  2   734     55       True    2   83        0         True    2  303   \n",
       "3  3   606     55       True    3  141        0         True    3  373   \n",
       "4  4   606     55       True    4  200        0         True    4  314   \n",
       "\n",
       "   color.2  pen down?.2  Unnamed: 12  \n",
       "0       15         True          NaN  \n",
       "1       15         True          NaN  \n",
       "2       15         True          NaN  \n",
       "3       15         True          NaN  \n",
       "4       15         True          NaN  "
      ]
     },
     "execution_count": 2,
     "metadata": {},
     "output_type": "execute_result"
    }
   ],
   "source": [
    "file = pd.read_csv(r'/home/gdeandrea/Scrivania/secondo1,5%.csv', header=18)\n",
    "file.head()"
   ]
  },
  {
   "cell_type": "code",
   "execution_count": 3,
   "metadata": {
    "scrolled": true
   },
   "outputs": [
    {
     "data": {
      "text/plain": [
       "990"
      ]
     },
     "execution_count": 3,
     "metadata": {},
     "output_type": "execute_result"
    }
   ],
   "source": [
    "df = file['y.2']\n",
    "y = df.to_numpy()\n",
    "y = y[210:]\n",
    "x = ar(range(len(y)))\n",
    "len(x)"
   ]
  },
  {
   "cell_type": "code",
   "execution_count": 4,
   "metadata": {},
   "outputs": [
    {
     "data": {
      "image/png": "[encoded data removed]",
      "text/plain": [
       "<Figure size 432x288 with 1 Axes>"
      ]
     },
     "metadata": {
      "needs_background": "light"
     },
     "output_type": "display_data"
    }
   ],
   "source": [
    "plt.plot(range(len(y)), y, color='r')\n",
    "#plt.errorbar(range(len(soglie)), soglie, yerr=err_soglie)\n",
    "plt.show()"
   ]
  },
  {
   "cell_type": "markdown",
   "metadata": {},
   "source": [
    "# Definizioni Utili"
   ]
  },
  {
   "cell_type": "markdown",
   "metadata": {},
   "source": [
    "## Fit Utils"
   ]
  },
  {
   "cell_type": "code",
   "execution_count": 5,
   "metadata": {},
   "outputs": [],
   "source": [
    "def chiquadronorm(oss, fit, sigma, ddof, aiuto=False, norm=True):\n",
    "    'funzione che calcola il chiquadrato di una distribuzione osservata rispetto a una\\\n",
    "    forma funzionale nota'\n",
    "    \n",
    "    #prende liste monodimensionali come argomenti\n",
    "    scarti = []\n",
    "    scartiquadri = []\n",
    "    scartiquadridivisi = []\n",
    "    \n",
    "    for i in range(len(oss)):\n",
    "        scarti.append(oss[i]-fit[i])\n",
    "        scartiquadri.append(scarti[i]*scarti[i])\n",
    "        scartiquadridivisi.append(scartiquadri[i]/(sigma[i]*sigma[i]))\n",
    "        \n",
    "        if (aiuto==True):\n",
    "            print('scarti= ', scarti[i])\n",
    "            print('scartiquadri= ', scartiquadri[i])\n",
    "            print('scartiquadridivisi= ', scartiquadridivisi[i])\n",
    "            \n",
    "    chiquadro=sum(scartiquadridivisi)\n",
    "    chiquadroreg=chiquadro/ddof\n",
    "    \n",
    "    if(norm==True):\n",
    "        return (chiquadroreg)\n",
    "    else:\n",
    "        return (chiquadro)\n",
    "\n",
    "def cost_chiquadronorm(oss, fit, sigma, ddof, aiuto=False, norm=True):\n",
    "    'funzione che calcola il chiquadrato di una distribuzione osservata rispetto a una\\\n",
    "    forma funzionale nota'\n",
    "    \n",
    "    #prende liste monodimensionali come argomenti\n",
    "    scarti = []\n",
    "    scartiquadri = []\n",
    "    scartiquadridivisi = []\n",
    "    \n",
    "    for i in range(len(oss)):\n",
    "        scarti.append(oss[i]-fit)\n",
    "        scartiquadri.append(scarti[i]*scarti[i])\n",
    "        scartiquadridivisi.append(scartiquadri[i]/(sigma[i]*sigma[i]))\n",
    "        \n",
    "        if (aiuto==True):\n",
    "            print('scarti= ', scarti[i])\n",
    "            print('scartiquadri= ', scartiquadri[i])\n",
    "            print('scartiquadridivisi= ', scartiquadridivisi[i])\n",
    "            \n",
    "    chiquadro=sum(scartiquadridivisi)\n",
    "    chiquadroreg=chiquadro/ddof\n",
    "    \n",
    "    if(norm==True):\n",
    "        return (chiquadroreg)\n",
    "    else:\n",
    "        return (chiquadro)\n",
    "\n",
    "    \n",
    "def media_pesata(x, sigma):\n",
    "    numeratore = 0\n",
    "    denominatore = 0\n",
    "    for i in range(len(x)):\n",
    "        numeratore += x[i]/(sigma[i]**2)\n",
    "        denominatore += 1/(sigma[i]**2)\n",
    "    return numeratore/denominatore\n",
    "\n",
    "def costante(x,q):\n",
    "    return q\n",
    "\n",
    "def retta(x,m,q):\n",
    "    return m*x +q\n",
    "\n",
    "def gauss(x,a,x0,sigma,baseline):\n",
    "    'Ritorna array gaussiano a partire da lista x secondo i parametri a,x0,sigma'\n",
    "    return (baseline + a*exp(-(x-x0)**2/(2*sigma*sigma)))\n",
    "\n",
    "\n",
    "def lore(x, a, x0, y0, baseline):\n",
    "    'Ritorna array lorentziano a partire da lista x secondo i parametri a,x0,yo'\n",
    "    return (baseline + a*(y0/(((x - x0)**2) + (y0**2))))\n",
    "\n",
    "def fattoriale(x):\n",
    "    temp_list = []\n",
    "\n",
    "    for ics in x:\n",
    "        f=1\n",
    "        for i in range(1,ics+1):\n",
    "            f*=i\n",
    "        temp_list.append(f)\n",
    "    return(temp_list)\n",
    "\n",
    "def poisson(x, a, media, baseline):\n",
    "    result = baseline + a*(media**x)*np.exp(-media)/fattoriale(x)\n",
    "    return(result)\n",
    "\n",
    "def landau(x, mpv, eta, A, baseline):\n",
    "    x=double(x)\n",
    "    'Ritorna array landauiano a partire da lista x secondo i parametri suoi'\n",
    "    return (baseline + double(pylandau.landau(x, mpv=mpv, eta=eta, A=A)))"
   ]
  },
  {
   "cell_type": "markdown",
   "metadata": {},
   "source": [
    "## Selecting Spikes"
   ]
  },
  {
   "cell_type": "code",
   "execution_count": 6,
   "metadata": {},
   "outputs": [],
   "source": [
    "def isola_spikes (y, datiesterni):\n",
    "    '''\n",
    "    Dati i dati sugli attivi, ritorna due dizionari: \n",
    "    {num_rivolta: [valori attivi]}\n",
    "    {num_rivolta: [tick corrispondenti]}\n",
    "    '''\n",
    "    rivolte_diz = {}\n",
    "    tick_rivolte_diz = {}\n",
    "    temp_rivolta_list = []\n",
    "    temp_tick_list = []\n",
    "    rivolte_counter = 0\n",
    "    cerarivolta = False\n",
    "    \n",
    "    for i in range(len(y)):\n",
    "        \n",
    "        ##aggiustato a 12 per non avere rivoltini\n",
    "        if y[i] > 12:\n",
    "            temp_rivolta_list.append(y[i])\n",
    "            temp_tick_list.append(i)\n",
    "            if cerarivolta == False:\n",
    "                rivolte_counter += 1\n",
    "                cerarivolta = True\n",
    "        else:\n",
    "            if cerarivolta == True:\n",
    "                lunghezza=len(temp_rivolta_list)\n",
    "                if rivolte_counter > 1:\n",
    "                    if datiesterni == 1:\n",
    "                        temp_rivolta_list.insert(0, y[i-lunghezza-1])\n",
    "                        temp_tick_list.insert(0, i-lunghezza-1)\n",
    "                    if datiesterni == 2:\n",
    "                        temp_rivolta_list.insert(0, y[i-lunghezza-1])\n",
    "                        temp_rivolta_list.insert(0, y[i-lunghezza-2])\n",
    "                        temp_tick_list.insert(0, i-lunghezza-1)\n",
    "                        temp_tick_list.insert(0, i-lunghezza-2)\n",
    "                    if datiesterni == 3:\n",
    "                        temp_rivolta_list.insert(0, y[i-lunghezza-1])\n",
    "                        temp_rivolta_list.insert(0, y[i-lunghezza-2])\n",
    "                        temp_rivolta_list.insert(0, y[i-lunghezza-3])\n",
    "                        temp_tick_list.insert(0, i-lunghezza-1)\n",
    "                        temp_tick_list.insert(0, i-lunghezza-2)\n",
    "                        temp_tick_list.insert(0, i-lunghezza-3)\n",
    "                else:\n",
    "                    if datiesterni == 1:\n",
    "                        temp_rivolta_list.insert(0, 0)\n",
    "                        temp_tick_list.insert(0, i-lunghezza-1)\n",
    "                    if datiesterni == 2:\n",
    "                        temp_rivolta_list.insert(0, 0)\n",
    "                        temp_rivolta_list.insert(0, 0)\n",
    "                        temp_tick_list.insert(0, i-lunghezza-1)\n",
    "                        temp_tick_list.insert(0, i-lunghezza-2)\n",
    "                    if datiesterni == 3:\n",
    "                        temp_rivolta_list.insert(0, 0)\n",
    "                        temp_rivolta_list.insert(0, 0)\n",
    "                        temp_rivolta_list.insert(0, 0)\n",
    "                        temp_tick_list.insert(0, i-lunghezza-1)\n",
    "                        temp_tick_list.insert(0, i-lunghezza-2)\n",
    "                        temp_tick_list.insert(0, i-lunghezza-3)\n",
    "                    \n",
    "                if datiesterni == 1:\n",
    "                        temp_rivolta_list.append(y[i])\n",
    "                        temp_tick_list.append(i)\n",
    "                if datiesterni == 2:\n",
    "                        temp_rivolta_list.append(y[i])\n",
    "                        temp_rivolta_list.append(y[i+1])\n",
    "                        temp_tick_list.append(i)\n",
    "                        temp_tick_list.append(i+1)\n",
    "                if datiesterni == 3:\n",
    "                        temp_rivolta_list.append(y[i])\n",
    "                        temp_rivolta_list.append(y[i+1])\n",
    "                        temp_rivolta_list.append(y[i+2])\n",
    "                        temp_tick_list.append(i)\n",
    "                        temp_tick_list.append(i+1)\n",
    "                        temp_tick_list.append(i+2)\n",
    "                \n",
    "                rivolte_diz[str(rivolte_counter)+'_spike'] = temp_rivolta_list\n",
    "                tick_rivolte_diz[str(rivolte_counter)+'_spike'] = temp_tick_list\n",
    "                temp_rivolta_list = []\n",
    "                temp_tick_list = []\n",
    "                cerarivolta = False\n",
    "                \n",
    "    return rivolte_diz, tick_rivolte_diz"
   ]
  },
  {
   "cell_type": "markdown",
   "metadata": {},
   "source": [
    "# Analisi - rndm 1.51%"
   ]
  },
  {
   "cell_type": "markdown",
   "metadata": {},
   "source": [
    "## Creo dizionario degli spikes"
   ]
  },
  {
   "cell_type": "code",
   "execution_count": 7,
   "metadata": {},
   "outputs": [],
   "source": [
    "spikes_dict, tick_spikes_dict = isola_spikes(y, 3)"
   ]
  },
  {
   "cell_type": "markdown",
   "metadata": {},
   "source": [
    "# Rivolte  \n",
    "**HP: sono funzioni gaussiane**  \n",
    "Usiamo il valore di soglia trovato nel caso non random, cambia il meccanismo di attivazione del singolo agente ma non la descrizione della rivolta.  \n",
    "Selezioniamo tutte le rivolte tali per cui max#attivi+errore_attivi >= soglia-5err_soglia, queste apparterranno alla stessa categoria di rivolte trovate nel caso non rndm.  \n",
    "Salvo in rivoltini_dict quelle che non vengono incluse prima per vedere se si viene a creare una nuova popolazione dovuta dalla randomizzazione (che differisce invece dalle rivolte, dovute alla clusterizzazione degli agenti)"
   ]
  },
  {
   "cell_type": "code",
   "execution_count": 8,
   "metadata": {},
   "outputs": [],
   "source": [
    "soglia = 128.1241472701187\n",
    "err_soglia = 12.6007119219633"
   ]
  },
  {
   "cell_type": "code",
   "execution_count": 9,
   "metadata": {},
   "outputs": [],
   "source": [
    "numero_sigma_soglia = 3\n",
    "numero_sigma_baseline = 3\n",
    "baseline = 2"
   ]
  },
  {
   "cell_type": "code",
   "execution_count": 10,
   "metadata": {},
   "outputs": [],
   "source": [
    "## Seleziono le rivolte secondo la regola:\n",
    "###if soglia-5*errore_soglia < y + errore_y --> rivolta\n",
    "###altrimenti salvo in rivoltini_dict\n",
    "rivolte_dict = {}\n",
    "tick_rivolte_dict = {}\n",
    "rivoltini_dict = {}\n",
    "tick_rivoltini_dict = {}\n",
    "nobase_dict = {}\n",
    "tick_nobase_dict = {}\n",
    "rivolte_counter = 0\n",
    "rivoltini_counter = 0\n",
    "for spike in spikes_dict:\n",
    "    y = spikes_dict[spike]\n",
    "    x = tick_spikes_dict[spike]\n",
    "    if np.max(y)+np.sqrt(np.max(y)) >= soglia-numero_sigma_soglia*err_soglia:\n",
    "        rivolte_counter += 1\n",
    "        rivolte_dict[str(rivolte_counter)+'_rivolta']=y\n",
    "        tick_rivolte_dict[str(rivolte_counter)+'_rivolta']=x\n",
    "        nobase_dict[str(rivolte_counter)+'_rivolta']=y\n",
    "        tick_nobase_dict[str(rivolte_counter)+'_rivolta']=x\n",
    "    elif np.max(y)-numero_sigma_baseline*np.sqrt(np.max(y))>=baseline+numero_sigma_baseline*np.sqrt(baseline):\n",
    "        rivoltini_counter += 1 \n",
    "        rivoltini_dict[str(rivoltini_counter)+'_rivoltini']=y\n",
    "        tick_rivoltini_dict[str(rivoltini_counter)+'_rivoltini']=x\n",
    "        nobase_dict[str(rivoltini_counter)+'_rivoltini']=y\n",
    "        tick_nobase_dict[str(rivoltini_counter)+'_rivoltini']=x"
   ]
  },
  {
   "cell_type": "code",
   "execution_count": 11,
   "metadata": {},
   "outputs": [
    {
     "name": "stdout",
     "output_type": "stream",
     "text": [
      "61 35 16\n"
     ]
    }
   ],
   "source": [
    "print(len(spikes_dict), len(rivolte_dict), len(rivoltini_dict))"
   ]
  },
  {
   "cell_type": "code",
   "execution_count": 12,
   "metadata": {},
   "outputs": [
    {
     "name": "stdout",
     "output_type": "stream",
     "text": [
      "90.3220115042288 \n",
      "\n",
      "44.164414002968975\n",
      "44.164414002968975\n",
      "25.58257569495584\n",
      "60.28010988928052\n",
      "58.14142842854285\n",
      "58.14142842854285\n",
      "66.68114574786861\n",
      "30.0\n",
      "51.70820393249937\n",
      "60.28010988928052\n",
      "76.24621125123532\n",
      "49.557438524302\n",
      "34.3851648071345\n",
      "77.30662386291807\n",
      "24.47213595499958\n",
      "62.41619848709566\n"
     ]
    }
   ],
   "source": [
    "print(soglia-numero_sigma_soglia*err_soglia,'\\n')\n",
    "for risvoltino in rivoltini_dict:\n",
    "    print(max(rivoltini_dict[risvoltino])+np.sqrt(max(rivoltini_dict[risvoltino])))"
   ]
  },
  {
   "cell_type": "code",
   "execution_count": 13,
   "metadata": {
    "scrolled": false
   },
   "outputs": [
    {
     "name": "stderr",
     "output_type": "stream",
     "text": [
      "/home/gdeandrea/anaconda3/lib/python3.7/site-packages/scipy/optimize/minpack.py:787: OptimizeWarning: Covariance of the parameters could not be estimated\n",
      "  category=OptimizeWarning)\n"
     ]
    }
   ],
   "source": [
    "##calcolo soglie delle rivolte come f(media-sigma) e errore come f(media-1.2*sigma)-f(media-0.8*sigma)\n",
    "soglie = []\n",
    "err_soglie = []\n",
    "for i, rivolta in enumerate(rivolte_dict.keys()):\n",
    "    \n",
    "    y = rivolte_dict[rivolta]\n",
    "    x = range(len(y))\n",
    "    ##computo errore come radice dei conteggi\n",
    "    sigma_gauss = np.where(np.sqrt(y)==0,1,np.sqrt(y))\n",
    "    \n",
    "    gauss_params,gauss_cov = curve_fit(gauss,x,y,p0=[200.,3.,2.5,0],sigma=sigma_gauss, **{'maxfev':1000})\n",
    "    gauss_red_chisq = chiquadronorm(y, gauss(x,*gauss_params), sigma_gauss, len(y)-len(gauss_params), norm=True)\n",
    "    soglia = gauss(gauss_params[1] - gauss_params[2], *gauss_params)\n",
    "    errore = gauss(gauss_params[1] - 1.2*gauss_params[2], *gauss_params) - gauss(gauss_params[1] - 0.8*gauss_params[2], *gauss_params)\n",
    "    soglie.append(soglia)\n",
    "    err_soglie.append(np.abs(errore))"
   ]
  },
  {
   "cell_type": "code",
   "execution_count": 14,
   "metadata": {
    "scrolled": false
   },
   "outputs": [],
   "source": [
    "##calcolo soglini delle rivoltine come f(media-sigma) e errore come f(media-1.2*sigma)-f(media-0.8*sigma)\n",
    "soglini = []\n",
    "err_soglini = []\n",
    "for i, rivolta in enumerate(rivoltini_dict.keys()):\n",
    "    \n",
    "    y = rivoltini_dict[rivolta]\n",
    "    x = range(len(y))\n",
    "    ##computo errore come radice dei conteggi\n",
    "    sigma_gauss = np.where(np.sqrt(y)==0,1,np.sqrt(y))\n",
    "    \n",
    "    gauss_params,gauss_cov = curve_fit(gauss,x,y,p0=[50.,3.,2.5,0.],sigma=sigma_gauss, **{'maxfev':1000000})\n",
    "    gauss_red_chisq = chiquadronorm(y, gauss(x,*gauss_params), sigma_gauss, len(y)-len(gauss_params), norm=True)\n",
    "    soglia = gauss(gauss_params[1] - gauss_params[2], *gauss_params)\n",
    "    errore = gauss(gauss_params[1] - 1.2*gauss_params[2], *gauss_params) - gauss(gauss_params[1] - 0.8*gauss_params[2], *gauss_params)\n",
    "    soglini.append(soglia)\n",
    "    err_soglini.append(np.abs(errore))"
   ]
  },
  {
   "cell_type": "markdown",
   "metadata": {},
   "source": [
    "## Metodo grafico  \n",
    "Plotto le rivolte con relativi errori in funzione dell'ordine della rivolta,  \n",
    "se il chiquadro ridotto del fit di questi valori con una costante è minore di uno, allora posso dire che gli eventi considerati sono statisticamente indipendenti e appartenenti alla stessa distribuzione"
   ]
  },
  {
   "cell_type": "markdown",
   "metadata": {},
   "source": [
    "### Rivolte-Provo con costante"
   ]
  },
  {
   "cell_type": "code",
   "execution_count": 15,
   "metadata": {},
   "outputs": [
    {
     "data": {
      "image/png": "[encoded data removed]",
      "text/plain": [
       "<Figure size 432x288 with 1 Axes>"
      ]
     },
     "metadata": {
      "needs_background": "light"
     },
     "output_type": "display_data"
    },
    {
     "name": "stdout",
     "output_type": "stream",
     "text": [
      "ReducedChiSquared: 4.6866458011107355\n"
     ]
    }
   ],
   "source": [
    "popt, pcov = curve_fit(costante, range(len(soglie)), soglie, sigma=err_soglie)\n",
    "cost_red_chisq = cost_chiquadronorm(soglie, costante(range(len(soglie)),*popt), err_soglie, len(soglie)-len(popt), norm=True)\n",
    "plt.plot(range(len(soglie)), [costante(range(len(soglie)),*popt) for k in range(len(soglie))], color='r')\n",
    "plt.errorbar(range(len(soglie)), soglie, yerr=err_soglie,solid_capstyle='projecting',capsize=5)\n",
    "plt.show()\n",
    "print('ReducedChiSquared:', cost_red_chisq)"
   ]
  },
  {
   "cell_type": "code",
   "execution_count": 16,
   "metadata": {},
   "outputs": [
    {
     "data": {
      "text/plain": [
       "[77.51077439029724,\n",
       " 131.95000430192357,\n",
       " 151.57629877684033,\n",
       " 128.89610889380995,\n",
       " 59.527497991328126,\n",
       " 75.34602918142527,\n",
       " 103.51589348972558,\n",
       " 144.98343452424174,\n",
       " 54.49032833526275,\n",
       " 117.89110678212563,\n",
       " 89.16384483093623,\n",
       " 167.56335989827255,\n",
       " 158.9228074037173,\n",
       " 148.53418713212966,\n",
       " 114.49352715490015,\n",
       " 138.84997127492144,\n",
       " 81.02574392531528,\n",
       " 117.86568431862084,\n",
       " 82.85129440416056,\n",
       " 134.1816544491366,\n",
       " 139.32291090195343,\n",
       " 142.9709397859221,\n",
       " 134.1121780358641,\n",
       " 116.60312353070157,\n",
       " 133.97435608012725,\n",
       " 61.05046877938925,\n",
       " 142.93442123430972,\n",
       " 147.6435087750203,\n",
       " 66.9315549568546,\n",
       " 134.27571621025953,\n",
       " 66.4142386437673,\n",
       " 120.3030124605367,\n",
       " 154.75653554573444]"
      ]
     },
     "execution_count": 16,
     "metadata": {},
     "output_type": "execute_result"
    }
   ],
   "source": [
    "soglie1=[]\n",
    "err_soglie1=[]\n",
    "for i in range(len(soglie)):\n",
    "    if soglie[i]>20 and soglie[i]<400:\n",
    "        soglie1.append(soglie[i])\n",
    "        err_soglie1.append(err_soglie[i])\n",
    "soglie1"
   ]
  },
  {
   "cell_type": "code",
   "execution_count": 17,
   "metadata": {},
   "outputs": [
    {
     "data": {
      "image/png": "[encoded data removed]",
      "text/plain": [
       "<Figure size 432x288 with 1 Axes>"
      ]
     },
     "metadata": {
      "needs_background": "light"
     },
     "output_type": "display_data"
    },
    {
     "name": "stdout",
     "output_type": "stream",
     "text": [
      "ReducedChiSquared: 0.7924724122565875\n"
     ]
    }
   ],
   "source": [
    "popt, pcov = curve_fit(costante, range(len(soglie1)), soglie1, sigma=err_soglie1)\n",
    "cost_red_chisq = cost_chiquadronorm(soglie1, costante(range(len(soglie1)),*popt), err_soglie1, len(soglie1)-len(popt), norm=True)\n",
    "plt.plot(range(len(soglie1)), [costante(range(len(soglie1)),*popt) for k in range(len(soglie1))], color='r')\n",
    "plt.errorbar(range(len(soglie1)), soglie1, yerr=err_soglie1,solid_capstyle='projecting',capsize=5)\n",
    "plt.show()\n",
    "print('ReducedChiSquared:', cost_red_chisq)"
   ]
  },
  {
   "cell_type": "code",
   "execution_count": 18,
   "metadata": {},
   "outputs": [
    {
     "data": {
      "text/plain": [
       "(array([91.77222344]), array([[5.9282029]]))"
      ]
     },
     "execution_count": 18,
     "metadata": {},
     "output_type": "execute_result"
    }
   ],
   "source": [
    "popt ,np.sqrt(pcov)"
   ]
  },
  {
   "cell_type": "code",
   "execution_count": 19,
   "metadata": {},
   "outputs": [
    {
     "name": "stdout",
     "output_type": "stream",
     "text": [
      "91.77222345130217 7.257178484741257\n"
     ]
    }
   ],
   "source": [
    "media_pesata_soglie1 = media_pesata(soglie1, err_soglie1)\n",
    "err_media_pesata_soglie1 = np.sqrt(np.sum((soglie1-media_pesata_soglie1)**2)/((len(soglie1)-1)*len(soglie1)))\n",
    "print(media_pesata_soglie1, err_media_pesata_soglie1)"
   ]
  },
  {
   "cell_type": "markdown",
   "metadata": {},
   "source": [
    "media pesata e errore soglie caso nonrndm  \n",
    "128.77802517036957 6.633983699986502"
   ]
  },
  {
   "cell_type": "markdown",
   "metadata": {},
   "source": [
    "Gli eventi selezionati come rivolte hanno valori di soglia che, al netto degli errori considerati, sono considerabili come appartenenti a alla stessa distribuzione statistica.  \n",
    "Rispetto al caso non random vedo però che il valore della costante (media pesata soglie) è calato e non è più compatibile (1sigma) con il valore trovato in precedenza. Se considero però gli intervalli media pesata +- 3sigma dei valori di soglia nel caso random e non random questi hanno intersezione non nulla."
   ]
  },
  {
   "cell_type": "markdown",
   "metadata": {},
   "source": [
    "### Rivoltini-Provo con costante  \n",
    "oss, sono proprio sicuro che fittino con una gaussiana? non dovrei provare altre forme funzionali?"
   ]
  },
  {
   "cell_type": "code",
   "execution_count": 27,
   "metadata": {},
   "outputs": [
    {
     "data": {
      "text/plain": [
       "[11.488607791580232,\n",
       " 27.096749940401473,\n",
       " 14.411577866481302,\n",
       " 27.87120439698801,\n",
       " 25.415978555900107,\n",
       " 21.071455530054095,\n",
       " 29.284385813389683,\n",
       " 18.822822096863085,\n",
       " 32.856142377015864,\n",
       " 45.26083306027608,\n",
       " 21.508575273957707,\n",
       " 49.83034355214322,\n",
       " 12.885957185313131,\n",
       " 33.06645123742845]"
      ]
     },
     "execution_count": 27,
     "metadata": {},
     "output_type": "execute_result"
    }
   ],
   "source": [
    "soglini1=[]\n",
    "err_soglini1=[]\n",
    "for i in range(len(soglini)):\n",
    "    if soglini[i]>10 and soglini[i]<80:\n",
    "        soglini1.append(soglini[i])\n",
    "        err_soglini1.append(err_soglini[i])\n",
    "soglini1"
   ]
  },
  {
   "cell_type": "code",
   "execution_count": 28,
   "metadata": {},
   "outputs": [
    {
     "data": {
      "image/png": "[encoded data removed]",
      "text/plain": [
       "<Figure size 432x288 with 1 Axes>"
      ]
     },
     "metadata": {
      "needs_background": "light"
     },
     "output_type": "display_data"
    },
    {
     "name": "stdout",
     "output_type": "stream",
     "text": [
      "ReducedChiSquared: 1.689809827298217\n"
     ]
    }
   ],
   "source": [
    "popt, pcov = curve_fit(costante, range(len(soglini1)), soglini1, sigma=err_soglini1)\n",
    "cost_red_chisq = cost_chiquadronorm(soglini1, costante(range(len(soglini1)),*popt), err_soglini1, len(soglini1)-len(popt), norm=True)\n",
    "plt.plot(range(len(soglini1)), [costante(range(len(soglini1)),*popt) for k in range(len(soglini1))], color='r')\n",
    "plt.errorbar(range(len(soglini1)), soglini1, yerr=err_soglini1,solid_capstyle='projecting',capsize=5)\n",
    "plt.show()\n",
    "print('ReducedChiSquared:', cost_red_chisq)"
   ]
  },
  {
   "cell_type": "code",
   "execution_count": 30,
   "metadata": {},
   "outputs": [
    {
     "name": "stdout",
     "output_type": "stream",
     "text": [
      "[16.81353426] [[2.16095889]]\n"
     ]
    }
   ],
   "source": [
    "print(popt, np.sqrt(pcov))"
   ]
  },
  {
   "cell_type": "code",
   "execution_count": 29,
   "metadata": {},
   "outputs": [
    {
     "name": "stdout",
     "output_type": "stream",
     "text": [
      "16.8135342517398 4.04112275761074\n"
     ]
    }
   ],
   "source": [
    "media_pesata_soglini1 = media_pesata(soglini1, err_soglini1)\n",
    "err_media_pesata_soglini1 = np.sqrt(np.sum((soglini1-media_pesata_soglini1)**2)/((len(soglini1)-1)*len(soglini1)))\n",
    "print(media_pesata_soglini1, err_media_pesata_soglini1)"
   ]
  },
  {
   "cell_type": "markdown",
   "metadata": {},
   "source": [
    "I rivoltini invece, hanno un chiquadro ridotto superiore a uno.  \n",
    "Non sembrerebbe si tratti della stessa popolazione statistica, ma probabilmente questo è dovuto ai piccoli errori sui valori di soglia più piccoli"
   ]
  },
  {
   "cell_type": "markdown",
   "metadata": {},
   "source": [
    "## Esporto soglie soglini"
   ]
  },
  {
   "cell_type": "code",
   "execution_count": 33,
   "metadata": {},
   "outputs": [],
   "source": [
    "soglie1_dict = {'soglie1':soglie1, 'err_soglie1':err_soglie1}\n",
    "soglini1_dict = {'soglini1':soglini1, 'err_soglini1': err_soglini1}\n",
    "soglie1_df = pd.DataFrame.from_dict(soglie1_dict)\n",
    "soglini1_df = pd.DataFrame.from_dict(soglini1_dict)\n",
    "soglie1_df.to_csv('soglie_1,5.csv', index=False)\n",
    "soglini1_df.to_csv('soglini_1,5.csv', index=False)"
   ]
  },
  {
   "cell_type": "markdown",
   "metadata": {},
   "source": [
    "# Metriche  \n",
    "Tutte le metriche vengono ricavate dal calcolo dei parametri derivanti dalla procedura di fit:  \n",
    "- Durata = 6sigma della rivolta considerata  \n",
    "- Tempo attesa = (media[rivolta_i+1] - 3sigma[rivolta_i+1]) - (media[rivolta_i] + 3sigma[rivolta_i])  \n",
    "- Ampiezza = parametro del fit  \n",
    "  \n",
    "Gli errori vengono calcolati dalla propagazione degli errori sui parametri del fit"
   ]
  },
  {
   "cell_type": "code",
   "execution_count": 22,
   "metadata": {},
   "outputs": [],
   "source": [
    "## For loop che mi serve a trovare ampiezza, media e deviazione standard di ognuna delle rivolte,\n",
    "###salvo i parametri del fit per ognuna delle rivolte\n",
    "gauss_params_dict = {}\n",
    "gauss_err_params_dict = {}\n",
    "for rivolte in rivolte_dict:\n",
    "\n",
    "    temp_list = []\n",
    "    temp_err_list = []\n",
    "    y = rivolte_dict[rivolte]\n",
    "    x = tick_rivolte_dict[rivolte]\n",
    "    \n",
    "    err_y = np.where(np.sqrt(y)==0,1,np.sqrt(y))\n",
    "    gauss_params,gauss_cov = curve_fit(gauss,x,y,p0=[200,((x[-1]-x[0])/2)+x[0],4.,0.],sigma=err_y)\n",
    "    temp_list.append(gauss_params[0])\n",
    "    temp_list.append(gauss_params[1])\n",
    "    temp_list.append(gauss_params[2])\n",
    "    temp_list.append(gauss_params[3])\n",
    "    temp_err_list.append(np.sqrt(np.abs(gauss_cov[0][0])))\n",
    "    temp_err_list.append(np.sqrt(np.abs(gauss_cov[1][1])))\n",
    "    temp_err_list.append(np.sqrt(np.abs(gauss_cov[2][2])))\n",
    "    temp_err_list.append(np.sqrt(np.abs(gauss_cov[3][3])))\n",
    "    gauss_params_dict[rivolte] = temp_list\n",
    "    gauss_err_params_dict[rivolte] = temp_err_list"
   ]
  },
  {
   "cell_type": "code",
   "execution_count": 23,
   "metadata": {},
   "outputs": [
    {
     "name": "stderr",
     "output_type": "stream",
     "text": [
      "/opt/anaconda3/lib/python3.7/site-packages/scipy/optimize/minpack.py:808: OptimizeWarning: Covariance of the parameters could not be estimated\n",
      "  category=OptimizeWarning)\n"
     ]
    }
   ],
   "source": [
    "## For loop che mi serve a trovare ampiezza, media e deviazione standard di ognuna delle rivolte,\n",
    "###salvo i parametri del fit per ognuna delle rivolte\n",
    "nobase_gauss_params_dict = {}\n",
    "nobase_gauss_err_params_dict = {}\n",
    "for rivolte in nobase_dict:\n",
    "\n",
    "    temp_list = []\n",
    "    temp_err_list = []\n",
    "    y = nobase_dict[rivolte]\n",
    "    x = tick_nobase_dict[rivolte]\n",
    "    \n",
    "    err_y = np.where(np.sqrt(y)==0,1,np.sqrt(y))\n",
    "    gauss_params,gauss_cov = curve_fit(gauss,x,y,p0=[100,((x[-1]-x[0])/2)+x[0],4.,0.],sigma=err_y,**{'maxfev':100000})\n",
    "    temp_list.append(gauss_params[0])\n",
    "    temp_list.append(gauss_params[1])\n",
    "    temp_list.append(gauss_params[2])\n",
    "    temp_list.append(gauss_params[3])\n",
    "    temp_err_list.append(np.sqrt(np.abs(gauss_cov[0][0])))\n",
    "    temp_err_list.append(np.sqrt(np.abs(gauss_cov[1][1])))\n",
    "    temp_err_list.append(np.sqrt(np.abs(gauss_cov[2][2])))\n",
    "    temp_err_list.append(np.sqrt(np.abs(gauss_cov[3][3])))\n",
    "    nobase_gauss_params_dict[rivolte] = temp_list\n",
    "    nobase_gauss_err_params_dict[rivolte] = temp_err_list"
   ]
  },
  {
   "cell_type": "code",
   "execution_count": 24,
   "metadata": {
    "scrolled": true
   },
   "outputs": [
    {
     "data": {
      "text/html": [
       "<div>\n",
       "<style scoped>\n",
       "    .dataframe tbody tr th:only-of-type {\n",
       "        vertical-align: middle;\n",
       "    }\n",
       "\n",
       "    .dataframe tbody tr th {\n",
       "        vertical-align: top;\n",
       "    }\n",
       "\n",
       "    .dataframe thead th {\n",
       "        text-align: right;\n",
       "    }\n",
       "</style>\n",
       "<table border=\"1\" class=\"dataframe\">\n",
       "  <thead>\n",
       "    <tr style=\"text-align: right;\">\n",
       "      <th></th>\n",
       "      <th>0</th>\n",
       "      <th>1</th>\n",
       "      <th>2</th>\n",
       "      <th>3</th>\n",
       "    </tr>\n",
       "  </thead>\n",
       "  <tbody>\n",
       "    <tr>\n",
       "      <td>1_rivoltini</td>\n",
       "      <td>5.118209e+00</td>\n",
       "      <td>6.011647e-01</td>\n",
       "      <td>5.903002e-01</td>\n",
       "      <td>1.309961e+00</td>\n",
       "    </tr>\n",
       "    <tr>\n",
       "      <td>2_rivoltini</td>\n",
       "      <td>8.843380e+00</td>\n",
       "      <td>1.395220e+00</td>\n",
       "      <td>3.074140e+00</td>\n",
       "      <td>9.630471e+00</td>\n",
       "    </tr>\n",
       "    <tr>\n",
       "      <td>3_rivoltini</td>\n",
       "      <td>inf</td>\n",
       "      <td>inf</td>\n",
       "      <td>inf</td>\n",
       "      <td>inf</td>\n",
       "    </tr>\n",
       "    <tr>\n",
       "      <td>4_rivoltini</td>\n",
       "      <td>inf</td>\n",
       "      <td>inf</td>\n",
       "      <td>inf</td>\n",
       "      <td>inf</td>\n",
       "    </tr>\n",
       "    <tr>\n",
       "      <td>1_rivolta</td>\n",
       "      <td>1.543675e+01</td>\n",
       "      <td>1.219085e-01</td>\n",
       "      <td>1.043932e-01</td>\n",
       "      <td>1.668986e+00</td>\n",
       "    </tr>\n",
       "    <tr>\n",
       "      <td>2_rivolta</td>\n",
       "      <td>1.420122e+01</td>\n",
       "      <td>1.219755e-01</td>\n",
       "      <td>1.105185e-01</td>\n",
       "      <td>1.532146e+00</td>\n",
       "    </tr>\n",
       "    <tr>\n",
       "      <td>5_rivoltini</td>\n",
       "      <td>8.855885e+00</td>\n",
       "      <td>2.040194e-01</td>\n",
       "      <td>1.992515e-01</td>\n",
       "      <td>1.778229e+00</td>\n",
       "    </tr>\n",
       "    <tr>\n",
       "      <td>3_rivolta</td>\n",
       "      <td>9.916748e+00</td>\n",
       "      <td>1.078732e-01</td>\n",
       "      <td>9.621575e-02</td>\n",
       "      <td>9.469131e-01</td>\n",
       "    </tr>\n",
       "    <tr>\n",
       "      <td>4_rivolta</td>\n",
       "      <td>8.798778e+00</td>\n",
       "      <td>7.294310e-02</td>\n",
       "      <td>6.213501e-02</td>\n",
       "      <td>7.557148e-01</td>\n",
       "    </tr>\n",
       "    <tr>\n",
       "      <td>6_rivoltini</td>\n",
       "      <td>8.461800e+00</td>\n",
       "      <td>2.275416e-01</td>\n",
       "      <td>2.305477e-01</td>\n",
       "      <td>1.871548e+00</td>\n",
       "    </tr>\n",
       "    <tr>\n",
       "      <td>7_rivoltini</td>\n",
       "      <td>3.298351e+08</td>\n",
       "      <td>8.955947e+00</td>\n",
       "      <td>8.169259e+05</td>\n",
       "      <td>3.298351e+08</td>\n",
       "    </tr>\n",
       "    <tr>\n",
       "      <td>5_rivolta</td>\n",
       "      <td>1.782117e+01</td>\n",
       "      <td>2.052076e-01</td>\n",
       "      <td>1.927677e-01</td>\n",
       "      <td>2.541824e+00</td>\n",
       "    </tr>\n",
       "    <tr>\n",
       "      <td>6_rivolta</td>\n",
       "      <td>2.263074e+01</td>\n",
       "      <td>1.753149e-01</td>\n",
       "      <td>1.394088e-01</td>\n",
       "      <td>1.865912e+00</td>\n",
       "    </tr>\n",
       "    <tr>\n",
       "      <td>7_rivolta</td>\n",
       "      <td>1.083374e+01</td>\n",
       "      <td>8.942841e-02</td>\n",
       "      <td>8.008529e-02</td>\n",
       "      <td>1.438566e+00</td>\n",
       "    </tr>\n",
       "    <tr>\n",
       "      <td>8_rivoltini</td>\n",
       "      <td>4.110456e+70</td>\n",
       "      <td>5.065570e+04</td>\n",
       "      <td>1.470691e+03</td>\n",
       "      <td>2.401983e+00</td>\n",
       "    </tr>\n",
       "    <tr>\n",
       "      <td>9_rivoltini</td>\n",
       "      <td>8.232737e+00</td>\n",
       "      <td>2.591803e-01</td>\n",
       "      <td>2.987062e-01</td>\n",
       "      <td>2.858595e+00</td>\n",
       "    </tr>\n",
       "    <tr>\n",
       "      <td>10_rivoltini</td>\n",
       "      <td>2.203307e+08</td>\n",
       "      <td>7.358918e-01</td>\n",
       "      <td>2.810150e+05</td>\n",
       "      <td>2.203307e+08</td>\n",
       "    </tr>\n",
       "    <tr>\n",
       "      <td>8_rivolta</td>\n",
       "      <td>2.065689e+01</td>\n",
       "      <td>2.454491e-01</td>\n",
       "      <td>2.522560e-01</td>\n",
       "      <td>4.261827e+00</td>\n",
       "    </tr>\n",
       "    <tr>\n",
       "      <td>9_rivolta</td>\n",
       "      <td>4.797762e+01</td>\n",
       "      <td>8.335579e-01</td>\n",
       "      <td>8.002982e-01</td>\n",
       "      <td>3.250387e+00</td>\n",
       "    </tr>\n",
       "    <tr>\n",
       "      <td>10_rivolta</td>\n",
       "      <td>2.514633e+01</td>\n",
       "      <td>1.636154e-01</td>\n",
       "      <td>1.325615e-01</td>\n",
       "      <td>2.137843e+00</td>\n",
       "    </tr>\n",
       "    <tr>\n",
       "      <td>11_rivolta</td>\n",
       "      <td>2.243426e+01</td>\n",
       "      <td>1.416032e-01</td>\n",
       "      <td>1.089469e-01</td>\n",
       "      <td>1.802574e+00</td>\n",
       "    </tr>\n",
       "    <tr>\n",
       "      <td>11_rivoltini</td>\n",
       "      <td>4.776446e+00</td>\n",
       "      <td>2.219061e-01</td>\n",
       "      <td>3.104059e-01</td>\n",
       "      <td>1.739825e+00</td>\n",
       "    </tr>\n",
       "    <tr>\n",
       "      <td>12_rivolta</td>\n",
       "      <td>1.720985e+01</td>\n",
       "      <td>1.090966e-01</td>\n",
       "      <td>9.150031e-02</td>\n",
       "      <td>1.369142e+00</td>\n",
       "    </tr>\n",
       "    <tr>\n",
       "      <td>13_rivolta</td>\n",
       "      <td>1.433796e+01</td>\n",
       "      <td>2.185161e-01</td>\n",
       "      <td>1.946890e-01</td>\n",
       "      <td>1.694904e+00</td>\n",
       "    </tr>\n",
       "    <tr>\n",
       "      <td>14_rivolta</td>\n",
       "      <td>1.441468e+01</td>\n",
       "      <td>1.207283e-01</td>\n",
       "      <td>1.066089e-01</td>\n",
       "      <td>1.788614e+00</td>\n",
       "    </tr>\n",
       "    <tr>\n",
       "      <td>12_rivoltini</td>\n",
       "      <td>9.910244e+03</td>\n",
       "      <td>1.261170e+02</td>\n",
       "      <td>2.701972e+01</td>\n",
       "      <td>4.403620e+00</td>\n",
       "    </tr>\n",
       "    <tr>\n",
       "      <td>13_rivoltini</td>\n",
       "      <td>7.346280e+00</td>\n",
       "      <td>4.601607e-01</td>\n",
       "      <td>5.277806e-01</td>\n",
       "      <td>3.055041e+00</td>\n",
       "    </tr>\n",
       "    <tr>\n",
       "      <td>15_rivolta</td>\n",
       "      <td>1.642582e+01</td>\n",
       "      <td>1.145428e-01</td>\n",
       "      <td>1.024255e-01</td>\n",
       "      <td>2.086083e+00</td>\n",
       "    </tr>\n",
       "    <tr>\n",
       "      <td>16_rivolta</td>\n",
       "      <td>2.562843e+01</td>\n",
       "      <td>1.877497e-01</td>\n",
       "      <td>1.479118e-01</td>\n",
       "      <td>1.754671e+00</td>\n",
       "    </tr>\n",
       "    <tr>\n",
       "      <td>17_rivolta</td>\n",
       "      <td>9.279706e+00</td>\n",
       "      <td>8.064064e-02</td>\n",
       "      <td>6.760234e-02</td>\n",
       "      <td>9.367028e-01</td>\n",
       "    </tr>\n",
       "    <tr>\n",
       "      <td>14_rivoltini</td>\n",
       "      <td>6.626115e+64</td>\n",
       "      <td>1.399527e+06</td>\n",
       "      <td>4.278822e+04</td>\n",
       "      <td>5.000541e+01</td>\n",
       "    </tr>\n",
       "    <tr>\n",
       "      <td>15_rivoltini</td>\n",
       "      <td>7.969762e+00</td>\n",
       "      <td>3.657641e-01</td>\n",
       "      <td>7.338570e-01</td>\n",
       "      <td>6.962662e+00</td>\n",
       "    </tr>\n",
       "    <tr>\n",
       "      <td>18_rivolta</td>\n",
       "      <td>1.677711e+01</td>\n",
       "      <td>1.239797e-01</td>\n",
       "      <td>1.038662e-01</td>\n",
       "      <td>1.720370e+00</td>\n",
       "    </tr>\n",
       "    <tr>\n",
       "      <td>19_rivolta</td>\n",
       "      <td>7.848948e+00</td>\n",
       "      <td>1.189986e-01</td>\n",
       "      <td>1.065793e-01</td>\n",
       "      <td>1.021439e+00</td>\n",
       "    </tr>\n",
       "    <tr>\n",
       "      <td>20_rivolta</td>\n",
       "      <td>9.643319e+00</td>\n",
       "      <td>1.171553e-01</td>\n",
       "      <td>1.060108e-01</td>\n",
       "      <td>1.235139e+00</td>\n",
       "    </tr>\n",
       "    <tr>\n",
       "      <td>21_rivolta</td>\n",
       "      <td>1.598487e+01</td>\n",
       "      <td>1.130579e-01</td>\n",
       "      <td>9.280791e-02</td>\n",
       "      <td>1.506339e+00</td>\n",
       "    </tr>\n",
       "    <tr>\n",
       "      <td>16_rivoltini</td>\n",
       "      <td>8.070960e+00</td>\n",
       "      <td>2.246484e-01</td>\n",
       "      <td>2.460675e-01</td>\n",
       "      <td>1.659996e+00</td>\n",
       "    </tr>\n",
       "    <tr>\n",
       "      <td>22_rivolta</td>\n",
       "      <td>1.558974e+01</td>\n",
       "      <td>1.043294e-01</td>\n",
       "      <td>8.930275e-02</td>\n",
       "      <td>1.508262e+00</td>\n",
       "    </tr>\n",
       "    <tr>\n",
       "      <td>23_rivolta</td>\n",
       "      <td>1.131434e+01</td>\n",
       "      <td>2.271515e-01</td>\n",
       "      <td>2.196965e-01</td>\n",
       "      <td>2.072680e+00</td>\n",
       "    </tr>\n",
       "    <tr>\n",
       "      <td>24_rivolta</td>\n",
       "      <td>1.830705e+01</td>\n",
       "      <td>1.281817e-01</td>\n",
       "      <td>1.016640e-01</td>\n",
       "      <td>1.611695e+00</td>\n",
       "    </tr>\n",
       "    <tr>\n",
       "      <td>25_rivolta</td>\n",
       "      <td>2.026717e+01</td>\n",
       "      <td>1.352342e-01</td>\n",
       "      <td>1.089541e-01</td>\n",
       "      <td>1.583496e+00</td>\n",
       "    </tr>\n",
       "    <tr>\n",
       "      <td>26_rivolta</td>\n",
       "      <td>1.075558e+01</td>\n",
       "      <td>9.303071e-02</td>\n",
       "      <td>7.985371e-02</td>\n",
       "      <td>1.238477e+00</td>\n",
       "    </tr>\n",
       "    <tr>\n",
       "      <td>17_rivoltini</td>\n",
       "      <td>4.719363e+00</td>\n",
       "      <td>2.789212e-01</td>\n",
       "      <td>6.765804e-01</td>\n",
       "      <td>4.765290e+00</td>\n",
       "    </tr>\n",
       "    <tr>\n",
       "      <td>27_rivolta</td>\n",
       "      <td>1.200671e+01</td>\n",
       "      <td>8.729109e-02</td>\n",
       "      <td>7.368357e-02</td>\n",
       "      <td>1.100329e+00</td>\n",
       "    </tr>\n",
       "    <tr>\n",
       "      <td>28_rivolta</td>\n",
       "      <td>1.671340e+01</td>\n",
       "      <td>1.455890e-01</td>\n",
       "      <td>1.215435e-01</td>\n",
       "      <td>1.839785e+00</td>\n",
       "    </tr>\n",
       "    <tr>\n",
       "      <td>18_rivoltini</td>\n",
       "      <td>1.581972e+01</td>\n",
       "      <td>6.668769e-01</td>\n",
       "      <td>6.629390e-01</td>\n",
       "      <td>4.208482e+00</td>\n",
       "    </tr>\n",
       "    <tr>\n",
       "      <td>19_rivoltini</td>\n",
       "      <td>1.388396e+02</td>\n",
       "      <td>2.835060e+01</td>\n",
       "      <td>1.333066e+01</td>\n",
       "      <td>1.553097e+01</td>\n",
       "    </tr>\n",
       "  </tbody>\n",
       "</table>\n",
       "</div>"
      ],
      "text/plain": [
       "                         0             1             2             3\n",
       "1_rivoltini   5.118209e+00  6.011647e-01  5.903002e-01  1.309961e+00\n",
       "2_rivoltini   8.843380e+00  1.395220e+00  3.074140e+00  9.630471e+00\n",
       "3_rivoltini            inf           inf           inf           inf\n",
       "4_rivoltini            inf           inf           inf           inf\n",
       "1_rivolta     1.543675e+01  1.219085e-01  1.043932e-01  1.668986e+00\n",
       "2_rivolta     1.420122e+01  1.219755e-01  1.105185e-01  1.532146e+00\n",
       "5_rivoltini   8.855885e+00  2.040194e-01  1.992515e-01  1.778229e+00\n",
       "3_rivolta     9.916748e+00  1.078732e-01  9.621575e-02  9.469131e-01\n",
       "4_rivolta     8.798778e+00  7.294310e-02  6.213501e-02  7.557148e-01\n",
       "6_rivoltini   8.461800e+00  2.275416e-01  2.305477e-01  1.871548e+00\n",
       "7_rivoltini   3.298351e+08  8.955947e+00  8.169259e+05  3.298351e+08\n",
       "5_rivolta     1.782117e+01  2.052076e-01  1.927677e-01  2.541824e+00\n",
       "6_rivolta     2.263074e+01  1.753149e-01  1.394088e-01  1.865912e+00\n",
       "7_rivolta     1.083374e+01  8.942841e-02  8.008529e-02  1.438566e+00\n",
       "8_rivoltini   4.110456e+70  5.065570e+04  1.470691e+03  2.401983e+00\n",
       "9_rivoltini   8.232737e+00  2.591803e-01  2.987062e-01  2.858595e+00\n",
       "10_rivoltini  2.203307e+08  7.358918e-01  2.810150e+05  2.203307e+08\n",
       "8_rivolta     2.065689e+01  2.454491e-01  2.522560e-01  4.261827e+00\n",
       "9_rivolta     4.797762e+01  8.335579e-01  8.002982e-01  3.250387e+00\n",
       "10_rivolta    2.514633e+01  1.636154e-01  1.325615e-01  2.137843e+00\n",
       "11_rivolta    2.243426e+01  1.416032e-01  1.089469e-01  1.802574e+00\n",
       "11_rivoltini  4.776446e+00  2.219061e-01  3.104059e-01  1.739825e+00\n",
       "12_rivolta    1.720985e+01  1.090966e-01  9.150031e-02  1.369142e+00\n",
       "13_rivolta    1.433796e+01  2.185161e-01  1.946890e-01  1.694904e+00\n",
       "14_rivolta    1.441468e+01  1.207283e-01  1.066089e-01  1.788614e+00\n",
       "12_rivoltini  9.910244e+03  1.261170e+02  2.701972e+01  4.403620e+00\n",
       "13_rivoltini  7.346280e+00  4.601607e-01  5.277806e-01  3.055041e+00\n",
       "15_rivolta    1.642582e+01  1.145428e-01  1.024255e-01  2.086083e+00\n",
       "16_rivolta    2.562843e+01  1.877497e-01  1.479118e-01  1.754671e+00\n",
       "17_rivolta    9.279706e+00  8.064064e-02  6.760234e-02  9.367028e-01\n",
       "14_rivoltini  6.626115e+64  1.399527e+06  4.278822e+04  5.000541e+01\n",
       "15_rivoltini  7.969762e+00  3.657641e-01  7.338570e-01  6.962662e+00\n",
       "18_rivolta    1.677711e+01  1.239797e-01  1.038662e-01  1.720370e+00\n",
       "19_rivolta    7.848948e+00  1.189986e-01  1.065793e-01  1.021439e+00\n",
       "20_rivolta    9.643319e+00  1.171553e-01  1.060108e-01  1.235139e+00\n",
       "21_rivolta    1.598487e+01  1.130579e-01  9.280791e-02  1.506339e+00\n",
       "16_rivoltini  8.070960e+00  2.246484e-01  2.460675e-01  1.659996e+00\n",
       "22_rivolta    1.558974e+01  1.043294e-01  8.930275e-02  1.508262e+00\n",
       "23_rivolta    1.131434e+01  2.271515e-01  2.196965e-01  2.072680e+00\n",
       "24_rivolta    1.830705e+01  1.281817e-01  1.016640e-01  1.611695e+00\n",
       "25_rivolta    2.026717e+01  1.352342e-01  1.089541e-01  1.583496e+00\n",
       "26_rivolta    1.075558e+01  9.303071e-02  7.985371e-02  1.238477e+00\n",
       "17_rivoltini  4.719363e+00  2.789212e-01  6.765804e-01  4.765290e+00\n",
       "27_rivolta    1.200671e+01  8.729109e-02  7.368357e-02  1.100329e+00\n",
       "28_rivolta    1.671340e+01  1.455890e-01  1.215435e-01  1.839785e+00\n",
       "18_rivoltini  1.581972e+01  6.668769e-01  6.629390e-01  4.208482e+00\n",
       "19_rivoltini  1.388396e+02  2.835060e+01  1.333066e+01  1.553097e+01"
      ]
     },
     "execution_count": 24,
     "metadata": {},
     "output_type": "execute_result"
    }
   ],
   "source": [
    "\n",
    "pd.DataFrame.from_dict(nobase_gauss_err_params_dict, orient='index')"
   ]
  },
  {
   "cell_type": "code",
   "execution_count": 25,
   "metadata": {},
   "outputs": [],
   "source": [
    "del nobase_gauss_params_dict['8_rivoltini']\n",
    "del nobase_gauss_err_params_dict['8_rivoltini']\n",
    "del nobase_gauss_params_dict['14_rivoltini']\n",
    "del nobase_gauss_err_params_dict['14_rivoltini']\n",
    "del nobase_gauss_params_dict['3_rivoltini']\n",
    "del nobase_gauss_err_params_dict['3_rivoltini']\n",
    "del nobase_gauss_params_dict['4_rivoltini']\n",
    "del nobase_gauss_err_params_dict['4_rivoltini']\n",
    "del nobase_gauss_params_dict['7_rivoltini']\n",
    "del nobase_gauss_err_params_dict['7_rivoltini']\n",
    "del nobase_gauss_params_dict['10_rivoltini']\n",
    "del nobase_gauss_err_params_dict['10_rivoltini']\n",
    "del nobase_gauss_params_dict['12_rivoltini']\n",
    "del nobase_gauss_err_params_dict['12_rivoltini']\n",
    "del nobase_gauss_params_dict['19_rivoltini']\n",
    "del nobase_gauss_err_params_dict['19_rivoltini']\n",
    "\n",
    "del gauss_params_dict['9_rivolta']\n",
    "del gauss_err_params_dict['9_rivolta']"
   ]
  },
  {
   "cell_type": "markdown",
   "metadata": {},
   "source": [
    "## Durata"
   ]
  },
  {
   "cell_type": "code",
   "execution_count": 26,
   "metadata": {},
   "outputs": [],
   "source": [
    "## calcolo la durata delle singole rivolte come 6 per la sigma della rivolta (hp:gaussiane)\n",
    "###e errori su singole durate propagando gli errori sulla sigma (6*err_assoluto sigma)\n",
    "durate_list = [gauss_params_dict[rivolte][2]*6 for rivolte in gauss_params_dict]\n",
    "err_durate_list = [gauss_err_params_dict[rivolte][2]*6 for rivolte in gauss_params_dict]\n",
    "durate_list = np.abs(durate_list)\n",
    "err_durate_list = np.abs(err_durate_list)\n",
    "\n",
    "## calcolo media pesata e errore su media\n",
    "media_pesata_durate = media_pesata(durate_list, err_durate_list)\n",
    "err_media_pesata_durate = np.sqrt(np.sum((durate_list - media_pesata_durate)**2)/(len(durate_list)*(len(durate_list)-1)))"
   ]
  },
  {
   "cell_type": "code",
   "execution_count": 27,
   "metadata": {},
   "outputs": [
    {
     "data": {
      "image/png": "[encoded data removed]",
      "text/plain": [
       "<Figure size 432x288 with 1 Axes>"
      ]
     },
     "metadata": {
      "needs_background": "light"
     },
     "output_type": "display_data"
    }
   ],
   "source": [
    "plt.hist(durate_list, bins=10)\n",
    "plt.show()"
   ]
  },
  {
   "cell_type": "code",
   "execution_count": 28,
   "metadata": {},
   "outputs": [
    {
     "data": {
      "image/png": "[encoded data removed]",
      "text/plain": [
       "<Figure size 432x288 with 1 Axes>"
      ]
     },
     "metadata": {
      "needs_background": "light"
     },
     "output_type": "display_data"
    }
   ],
   "source": [
    "plt.errorbar(range(len(durate_list)), durate_list, yerr=err_durate_list,solid_capstyle='projecting',capsize=5)\n",
    "plt.show()"
   ]
  },
  {
   "cell_type": "code",
   "execution_count": 29,
   "metadata": {},
   "outputs": [
    {
     "name": "stdout",
     "output_type": "stream",
     "text": [
      "10.334508347475296 0.2080151973028901\n"
     ]
    }
   ],
   "source": [
    "print(media_pesata_durate,err_media_pesata_durate)"
   ]
  },
  {
   "cell_type": "markdown",
   "metadata": {},
   "source": [
    "media pesata durate e errore caso norndm  \n",
    "10.311830447971328 0.12035386293573513\n",
    "  \n",
    "valori compatibili tra loro"
   ]
  },
  {
   "cell_type": "markdown",
   "metadata": {},
   "source": [
    "## Ampiezza"
   ]
  },
  {
   "cell_type": "code",
   "execution_count": 30,
   "metadata": {},
   "outputs": [],
   "source": [
    "## Calcolo ampiezze per ogni rivolta e errore da propagazione errori del fit\n",
    "ampiezze_list = [gauss_params_dict[rivolte][0] for rivolte in gauss_params_dict]\n",
    "err_ampiezze_list = [gauss_err_params_dict[rivolte][0] for rivolte in gauss_params_dict]\n",
    "ampiezze_list = np.abs(ampiezze_list)\n",
    "err_ampiezze_list = np.abs(err_ampiezze_list)\n",
    "\n",
    "## Calcolo media pesata e errore su media\n",
    "media_pesata_ampiezze = media_pesata(ampiezze_list, err_ampiezze_list)\n",
    "err_media_pesata_ampiezze = np.sqrt(np.sum((ampiezze_list - media_pesata_ampiezze)**2)/(len(ampiezze_list)*(len(ampiezze_list)-1)))"
   ]
  },
  {
   "cell_type": "code",
   "execution_count": 31,
   "metadata": {
    "scrolled": true
   },
   "outputs": [
    {
     "data": {
      "image/png": "[encoded data removed]",
      "text/plain": [
       "<Figure size 432x288 with 1 Axes>"
      ]
     },
     "metadata": {
      "needs_background": "light"
     },
     "output_type": "display_data"
    }
   ],
   "source": [
    "plt.hist(ampiezze_list, bins=20)\n",
    "plt.show()"
   ]
  },
  {
   "cell_type": "code",
   "execution_count": 32,
   "metadata": {},
   "outputs": [
    {
     "data": {
      "image/png": "[encoded data removed]",
      "text/plain": [
       "<Figure size 432x288 with 1 Axes>"
      ]
     },
     "metadata": {
      "needs_background": "light"
     },
     "output_type": "display_data"
    }
   ],
   "source": [
    "plt.errorbar(range(len(ampiezze_list)), ampiezze_list, yerr=err_ampiezze_list,solid_capstyle='projecting',capsize=5)\n",
    "plt.show()"
   ]
  },
  {
   "cell_type": "code",
   "execution_count": 33,
   "metadata": {},
   "outputs": [
    {
     "name": "stdout",
     "output_type": "stream",
     "text": [
      "158.6979561867577 9.208381114108269\n"
     ]
    }
   ],
   "source": [
    "print(media_pesata_ampiezze,err_media_pesata_ampiezze)"
   ]
  },
  {
   "cell_type": "markdown",
   "metadata": {},
   "source": [
    "Media pesata e errore ampiezze caso nonrndm  \n",
    "193.59670978171002 14.655492080565837"
   ]
  },
  {
   "cell_type": "markdown",
   "metadata": {},
   "source": [
    "## Tempi attesa"
   ]
  },
  {
   "cell_type": "code",
   "execution_count": 34,
   "metadata": {},
   "outputs": [],
   "source": [
    "## calcolo liste dei tick di inizio e fine rivolte con relativi errori \n",
    "###trovati con propagazione degli errori dagli errori dei parametri del fit\n",
    "###(start = media-3sigma --> err_start = sqrt(err_media**2 + (3err_sigma)**2)\n",
    "start_tick_list = []\n",
    "end_tick_list = []\n",
    "err_start_tick_list = []\n",
    "err_end_tick_list = []\n",
    "\n",
    "for rivolte in nobase_gauss_params_dict:\n",
    "    media = nobase_gauss_params_dict[rivolte][1]\n",
    "    sigma = np.abs(nobase_gauss_params_dict[rivolte][2])\n",
    "    err_media = nobase_gauss_err_params_dict[rivolte][1]\n",
    "    err_sigma = nobase_gauss_err_params_dict[rivolte][2]\n",
    "    start_tick_list.append(media - 3*sigma)\n",
    "    end_tick_list.append(media + 3*sigma)\n",
    "    err_start_tick_list.append(np.sqrt(err_media**2 + (3*err_sigma)**2))\n",
    "    err_end_tick_list.append(np.sqrt(err_media**2 + (3*err_sigma)**2))"
   ]
  },
  {
   "cell_type": "code",
   "execution_count": 35,
   "metadata": {},
   "outputs": [],
   "source": [
    "## Calcolo tempi di attesa dalle liste dei tick di inizio e fine rivolte e relativi errori\n",
    "###calcolati con la propagazione dagli errori dei tick di inizio e fine rivolte\n",
    "###(tempo_attesa = start[i+1]-end[i] --> err_tempo_attesa = err_start[i+1] + err_end[i])\n",
    "tempi_attesa_list = []\n",
    "err_tempi_attesa_list = []\n",
    "for i in range(len(end_tick_list)-1):\n",
    "    tempi_attesa_list.append(start_tick_list[i+1] - end_tick_list[i])\n",
    "    err_tempi_attesa_list.append(err_start_tick_list[i+1] + err_end_tick_list[i])"
   ]
  },
  {
   "cell_type": "code",
   "execution_count": 36,
   "metadata": {},
   "outputs": [
    {
     "data": {
      "image/png": "[encoded data removed]",
      "text/plain": [
       "<Figure size 432x288 with 1 Axes>"
      ]
     },
     "metadata": {
      "needs_background": "light"
     },
     "output_type": "display_data"
    }
   ],
   "source": [
    "plt.hist(durate_list, bins=10)\n",
    "plt.show()"
   ]
  },
  {
   "cell_type": "code",
   "execution_count": 37,
   "metadata": {},
   "outputs": [
    {
     "data": {
      "image/png": "[encoded data removed]",
      "text/plain": [
       "<Figure size 432x288 with 1 Axes>"
      ]
     },
     "metadata": {
      "needs_background": "light"
     },
     "output_type": "display_data"
    }
   ],
   "source": [
    "plt.errorbar(range(len(tempi_attesa_list)), tempi_attesa_list, yerr=err_tempi_attesa_list,solid_capstyle='projecting',capsize=5)\n",
    "plt.show()"
   ]
  },
  {
   "cell_type": "code",
   "execution_count": 38,
   "metadata": {},
   "outputs": [
    {
     "data": {
      "text/plain": [
       "[-12.023438673877347,\n",
       " 0.998576877951864,\n",
       " 13.023047501506284,\n",
       " 9.568923747079452,\n",
       " 9.79700695178488,\n",
       " 9.756143524169488,\n",
       " 1.557986182578773,\n",
       " 6.074532396019819,\n",
       " 14.26270023056847,\n",
       " 12.76767254117837,\n",
       " 6.829072982189814,\n",
       " 3.7313712181552603,\n",
       " -4.854826408348146,\n",
       " 15.450458412876657,\n",
       " 19.106341866341694,\n",
       " 4.896354610828723,\n",
       " 4.109889104863214,\n",
       " 11.124429840303264,\n",
       " 13.42874563474021,\n",
       " 8.156541396736714,\n",
       " 6.8898475432355895,\n",
       " 16.53091457617586,\n",
       " 14.327724828889188,\n",
       " 7.148060353059975,\n",
       " 9.04213961702203,\n",
       " 6.023315017933953,\n",
       " 3.5544212737082717,\n",
       " 13.943115225943416,\n",
       " 5.534693595344493,\n",
       " 9.318173180906115,\n",
       " 9.042146034420284,\n",
       " 10.54828311638687,\n",
       " 15.679887188301336,\n",
       " 12.704165992697085,\n",
       " 2.385757410642327,\n",
       " 2.2445059836015844,\n",
       " 10.142416438520968,\n",
       " -0.6196278041829828]"
      ]
     },
     "execution_count": 38,
     "metadata": {},
     "output_type": "execute_result"
    }
   ],
   "source": [
    "tempi_attesa_list"
   ]
  },
  {
   "cell_type": "code",
   "execution_count": 39,
   "metadata": {},
   "outputs": [],
   "source": [
    "del tempi_attesa_list[-1]\n",
    "del tempi_attesa_list[12]\n",
    "del tempi_attesa_list[0]"
   ]
  },
  {
   "cell_type": "code",
   "execution_count": 40,
   "metadata": {},
   "outputs": [
    {
     "name": "stdout",
     "output_type": "stream",
     "text": [
      "Media pesata e errore tempi attesa: 7.651950212336573 0.8326971194905305\n"
     ]
    }
   ],
   "source": [
    "media_pesata_tempi_attesa = media_pesata(tempi_attesa_list, err_tempi_attesa_list)\n",
    "err_media_pesata_tempi_attesa = np.sqrt(np.sum((tempi_attesa_list-media_pesata_tempi_attesa)**2)/((len(tempi_attesa_list)-1)*len(tempi_attesa_list)))\n",
    "print('Media pesata e errore tempi attesa:',media_pesata_tempi_attesa,err_media_pesata_tempi_attesa)"
   ]
  },
  {
   "cell_type": "markdown",
   "metadata": {},
   "source": [
    "media pesata e errori tempi attesa caso norndm  \n",
    "17.850298917848043 1.0515878508062226"
   ]
  },
  {
   "cell_type": "markdown",
   "metadata": {},
   "source": [
    "Tempi di attesa diminuiscono\n",
    "Sembra ok, data la contemporanea presenza di più attivi e la nascita di una nuova classe di rivolte, sembra logico che gli spike diventino più frequenti"
   ]
  },
  {
   "cell_type": "code",
   "execution_count": null,
   "metadata": {},
   "outputs": [],
   "source": []
  },
  {
   "cell_type": "code",
   "execution_count": null,
   "metadata": {},
   "outputs": [],
   "source": []
  }
 ],
 "metadata": {
  "kernelspec": {
   "display_name": "Python 3",
   "language": "python",
   "name": "python3"
  },
  "language_info": {
   "codemirror_mode": {
    "name": "ipython",
    "version": 3
   },
   "file_extension": ".py",
   "mimetype": "text/x-python",
   "name": "python",
   "nbconvert_exporter": "python",
   "pygments_lexer": "ipython3",
   "version": "3.7.3"
  },
  "toc": {
   "base_numbering": 1,
   "nav_menu": {},
   "number_sections": true,
   "sideBar": true,
   "skip_h1_title": false,
   "title_cell": "Table of Contents",
   "title_sidebar": "Contents",
   "toc_cell": false,
   "toc_position": {
    "height": "calc(100% - 180px)",
    "left": "10px",
    "top": "150px",
    "width": "201.8px"
   },
   "toc_section_display": true,
   "toc_window_display": true
  }
 },
 "nbformat": 4,
 "nbformat_minor": 2
}
