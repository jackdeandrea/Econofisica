{
 "cells": [
  {
   "cell_type": "code",
   "execution_count": 1,
   "metadata": {},
   "outputs": [
    {
     "name": "stdout",
     "output_type": "stream",
     "text": [
      "Populating the interactive namespace from numpy and matplotlib\n"
     ]
    }
   ],
   "source": [
    "%pylab inline\n",
    "import pandas as pd\n",
    "from scipy.optimize import curve_fit\n",
    "from scipy import asarray as ar\n",
    "from scipy import math\n",
    "#import pylandau\n",
    "import random"
   ]
  },
  {
   "cell_type": "markdown",
   "metadata": {},
   "source": [
    "# Importo il dataset"
   ]
  },
  {
   "cell_type": "code",
   "execution_count": 2,
   "metadata": {},
   "outputs": [
    {
     "data": {
      "text/html": [
       "<div>\n",
       "<style scoped>\n",
       "    .dataframe tbody tr th:only-of-type {\n",
       "        vertical-align: middle;\n",
       "    }\n",
       "\n",
       "    .dataframe tbody tr th {\n",
       "        vertical-align: top;\n",
       "    }\n",
       "\n",
       "    .dataframe thead th {\n",
       "        text-align: right;\n",
       "    }\n",
       "</style>\n",
       "<table border=\"1\" class=\"dataframe\">\n",
       "  <thead>\n",
       "    <tr style=\"text-align: right;\">\n",
       "      <th></th>\n",
       "      <th>x</th>\n",
       "      <th>y</th>\n",
       "      <th>color</th>\n",
       "      <th>pen down?</th>\n",
       "      <th>x.1</th>\n",
       "      <th>y.1</th>\n",
       "      <th>color.1</th>\n",
       "      <th>pen down?.1</th>\n",
       "      <th>x.2</th>\n",
       "      <th>y.2</th>\n",
       "      <th>color.2</th>\n",
       "      <th>pen down?.2</th>\n",
       "    </tr>\n",
       "  </thead>\n",
       "  <tbody>\n",
       "    <tr>\n",
       "      <td>0</td>\n",
       "      <td>0</td>\n",
       "      <td>1120</td>\n",
       "      <td>55</td>\n",
       "      <td>True</td>\n",
       "      <td>0</td>\n",
       "      <td>0</td>\n",
       "      <td>0</td>\n",
       "      <td>True</td>\n",
       "      <td>0</td>\n",
       "      <td>0</td>\n",
       "      <td>15</td>\n",
       "      <td>True</td>\n",
       "    </tr>\n",
       "    <tr>\n",
       "      <td>1</td>\n",
       "      <td>1</td>\n",
       "      <td>883</td>\n",
       "      <td>55</td>\n",
       "      <td>True</td>\n",
       "      <td>1</td>\n",
       "      <td>52</td>\n",
       "      <td>0</td>\n",
       "      <td>True</td>\n",
       "      <td>1</td>\n",
       "      <td>185</td>\n",
       "      <td>15</td>\n",
       "      <td>True</td>\n",
       "    </tr>\n",
       "    <tr>\n",
       "      <td>2</td>\n",
       "      <td>2</td>\n",
       "      <td>588</td>\n",
       "      <td>55</td>\n",
       "      <td>True</td>\n",
       "      <td>2</td>\n",
       "      <td>112</td>\n",
       "      <td>0</td>\n",
       "      <td>True</td>\n",
       "      <td>2</td>\n",
       "      <td>420</td>\n",
       "      <td>15</td>\n",
       "      <td>True</td>\n",
       "    </tr>\n",
       "    <tr>\n",
       "      <td>3</td>\n",
       "      <td>3</td>\n",
       "      <td>582</td>\n",
       "      <td>55</td>\n",
       "      <td>True</td>\n",
       "      <td>3</td>\n",
       "      <td>166</td>\n",
       "      <td>0</td>\n",
       "      <td>True</td>\n",
       "      <td>3</td>\n",
       "      <td>372</td>\n",
       "      <td>15</td>\n",
       "      <td>True</td>\n",
       "    </tr>\n",
       "    <tr>\n",
       "      <td>4</td>\n",
       "      <td>4</td>\n",
       "      <td>572</td>\n",
       "      <td>55</td>\n",
       "      <td>True</td>\n",
       "      <td>4</td>\n",
       "      <td>221</td>\n",
       "      <td>0</td>\n",
       "      <td>True</td>\n",
       "      <td>4</td>\n",
       "      <td>327</td>\n",
       "      <td>15</td>\n",
       "      <td>True</td>\n",
       "    </tr>\n",
       "  </tbody>\n",
       "</table>\n",
       "</div>"
      ],
      "text/plain": [
       "   x     y  color  pen down?  x.1  y.1  color.1  pen down?.1  x.2  y.2  \\\n",
       "0  0  1120     55       True    0    0        0         True    0    0   \n",
       "1  1   883     55       True    1   52        0         True    1  185   \n",
       "2  2   588     55       True    2  112        0         True    2  420   \n",
       "3  3   582     55       True    3  166        0         True    3  372   \n",
       "4  4   572     55       True    4  221        0         True    4  327   \n",
       "\n",
       "   color.2  pen down?.2  \n",
       "0       15         True  \n",
       "1       15         True  \n",
       "2       15         True  \n",
       "3       15         True  \n",
       "4       15         True  "
      ]
     },
     "execution_count": 2,
     "metadata": {},
     "output_type": "execute_result"
    }
   ],
   "source": [
    "file = pd.read_csv(r'/Users/giulioquaglia/Downloads/Econofisica-main-4/dati_rndm_0301.txt')\n",
    "file.head()"
   ]
  },
  {
   "cell_type": "code",
   "execution_count": 3,
   "metadata": {
    "scrolled": true
   },
   "outputs": [
    {
     "name": "stderr",
     "output_type": "stream",
     "text": [
      "/opt/anaconda3/lib/python3.7/site-packages/ipykernel_launcher.py:4: DeprecationWarning: scipy.asarray is deprecated and will be removed in SciPy 2.0.0, use numpy.asarray instead\n",
      "  after removing the cwd from sys.path.\n"
     ]
    },
    {
     "data": {
      "text/plain": [
       "707"
      ]
     },
     "execution_count": 3,
     "metadata": {},
     "output_type": "execute_result"
    }
   ],
   "source": [
    "df = file['y.2']\n",
    "y = df.to_numpy()\n",
    "y = y[210:-10]\n",
    "x = ar(range(len(y)))\n",
    "len(x)"
   ]
  },
  {
   "cell_type": "code",
   "execution_count": 4,
   "metadata": {},
   "outputs": [
    {
     "data": {
      "image/png": "[encoded data removed]",
      "text/plain": [
       "<Figure size 432x288 with 1 Axes>"
      ]
     },
     "metadata": {
      "needs_background": "light"
     },
     "output_type": "display_data"
    }
   ],
   "source": [
    "plt.plot(range(len(y)), y, color='r')\n",
    "#plt.errorbar(range(len(soglie)), soglie, yerr=err_soglie)\n",
    "plt.show()"
   ]
  },
  {
   "cell_type": "markdown",
   "metadata": {},
   "source": [
    "# Definizioni Utili"
   ]
  },
  {
   "cell_type": "markdown",
   "metadata": {},
   "source": [
    "## Fit Utils"
   ]
  },
  {
   "cell_type": "code",
   "execution_count": 5,
   "metadata": {},
   "outputs": [],
   "source": [
    "def chiquadronorm(oss, fit, sigma, ddof, aiuto=False, norm=True):\n",
    "    'funzione che calcola il chiquadrato di una distribuzione osservata rispetto a una\\\n",
    "    forma funzionale nota'\n",
    "    \n",
    "    #prende liste monodimensionali come argomenti\n",
    "    scarti = []\n",
    "    scartiquadri = []\n",
    "    scartiquadridivisi = []\n",
    "    \n",
    "    for i in range(len(oss)):\n",
    "        scarti.append(oss[i]-fit[i])\n",
    "        scartiquadri.append(scarti[i]*scarti[i])\n",
    "        scartiquadridivisi.append(scartiquadri[i]/(sigma[i]*sigma[i]))\n",
    "        \n",
    "        if (aiuto==True):\n",
    "            print('scarti= ', scarti[i])\n",
    "            print('scartiquadri= ', scartiquadri[i])\n",
    "            print('scartiquadridivisi= ', scartiquadridivisi[i])\n",
    "            \n",
    "    chiquadro=sum(scartiquadridivisi)\n",
    "    chiquadroreg=chiquadro/ddof\n",
    "    \n",
    "    if(norm==True):\n",
    "        return (chiquadroreg)\n",
    "    else:\n",
    "        return (chiquadro)\n",
    "\n",
    "def cost_chiquadronorm(oss, fit, sigma, ddof, aiuto=False, norm=True):\n",
    "    'funzione che calcola il chiquadrato di una distribuzione osservata rispetto a una\\\n",
    "    forma funzionale nota'\n",
    "    \n",
    "    #prende liste monodimensionali come argomenti\n",
    "    scarti = []\n",
    "    scartiquadri = []\n",
    "    scartiquadridivisi = []\n",
    "    \n",
    "    for i in range(len(oss)):\n",
    "        scarti.append(oss[i]-fit)\n",
    "        scartiquadri.append(scarti[i]*scarti[i])\n",
    "        scartiquadridivisi.append(scartiquadri[i]/(sigma[i]*sigma[i]))\n",
    "        \n",
    "        if (aiuto==True):\n",
    "            print('scarti= ', scarti[i])\n",
    "            print('scartiquadri= ', scartiquadri[i])\n",
    "            print('scartiquadridivisi= ', scartiquadridivisi[i])\n",
    "            \n",
    "    chiquadro=sum(scartiquadridivisi)\n",
    "    chiquadroreg=chiquadro/ddof\n",
    "    \n",
    "    if(norm==True):\n",
    "        return (chiquadroreg)\n",
    "    else:\n",
    "        return (chiquadro)\n",
    "\n",
    "    \n",
    "def media_pesata(x, sigma):\n",
    "    numeratore = 0\n",
    "    denominatore = 0\n",
    "    for i in range(len(x)):\n",
    "        numeratore += x[i]/(sigma[i]**2)\n",
    "        denominatore += 1/(sigma[i]**2)\n",
    "    return numeratore/denominatore\n",
    "\n",
    "def costante(x,q):\n",
    "    return q\n",
    "\n",
    "def retta(x,m,q):\n",
    "    return m*x +q\n",
    "\n",
    "def gauss(x,a,x0,sigma,baseline):\n",
    "    'Ritorna array gaussiano a partire da lista x secondo i parametri a,x0,sigma'\n",
    "    return (baseline + a*exp(-(x-x0)**2/(2*sigma*sigma)))\n",
    "\n",
    "\n",
    "def lore(x, a, x0, y0, baseline):\n",
    "    'Ritorna array lorentziano a partire da lista x secondo i parametri a,x0,yo'\n",
    "    return (baseline + a*(y0/(((x - x0)**2) + (y0**2))))\n",
    "\n",
    "def fattoriale(x):\n",
    "    temp_list = []\n",
    "\n",
    "    for ics in x:\n",
    "        f=1\n",
    "        for i in range(1,ics+1):\n",
    "            f*=i\n",
    "        temp_list.append(f)\n",
    "    return(temp_list)\n",
    "\n",
    "def poisson(x, a, media, baseline):\n",
    "    result = baseline + a*(media**x)*np.exp(-media)/fattoriale(x)\n",
    "    return(result)\n",
    "\n",
    "def landau(x, mpv, eta, A, baseline):\n",
    "    x=double(x)\n",
    "    'Ritorna array landauiano a partire da lista x secondo i parametri suoi'\n",
    "    return (baseline + double(pylandau.landau(x, mpv=mpv, eta=eta, A=A)))"
   ]
  },
  {
   "cell_type": "markdown",
   "metadata": {},
   "source": [
    "## Selecting Spikes"
   ]
  },
  {
   "cell_type": "code",
   "execution_count": 6,
   "metadata": {},
   "outputs": [],
   "source": [
    "def isola_spikes (y, datiesterni):\n",
    "    '''\n",
    "    Dati i dati sugli attivi, ritorna due dizionari: \n",
    "    {num_rivolta: [valori attivi]}\n",
    "    {num_rivolta: [tick corrispondenti]}\n",
    "    '''\n",
    "    rivolte_diz = {}\n",
    "    tick_rivolte_diz = {}\n",
    "    temp_rivolta_list = []\n",
    "    temp_tick_list = []\n",
    "    rivolte_counter = 0\n",
    "    cerarivolta = False\n",
    "    \n",
    "    for i in range(len(y)):\n",
    "        \n",
    "        ##aggiustato a 12 per non avere rivoltini\n",
    "        if y[i] > 12:\n",
    "            temp_rivolta_list.append(y[i])\n",
    "            temp_tick_list.append(i)\n",
    "            if cerarivolta == False:\n",
    "                rivolte_counter += 1\n",
    "                cerarivolta = True\n",
    "        else:\n",
    "            if cerarivolta == True:\n",
    "                lunghezza=len(temp_rivolta_list)\n",
    "                if rivolte_counter > 1:\n",
    "                    if datiesterni == 1:\n",
    "                        temp_rivolta_list.insert(0, y[i-lunghezza-1])\n",
    "                        temp_tick_list.insert(0, i-lunghezza-1)\n",
    "                    if datiesterni == 2:\n",
    "                        temp_rivolta_list.insert(0, y[i-lunghezza-1])\n",
    "                        temp_rivolta_list.insert(0, y[i-lunghezza-2])\n",
    "                        temp_tick_list.insert(0, i-lunghezza-1)\n",
    "                        temp_tick_list.insert(0, i-lunghezza-2)\n",
    "                    if datiesterni == 3:\n",
    "                        temp_rivolta_list.insert(0, y[i-lunghezza-1])\n",
    "                        temp_rivolta_list.insert(0, y[i-lunghezza-2])\n",
    "                        temp_rivolta_list.insert(0, y[i-lunghezza-3])\n",
    "                        temp_tick_list.insert(0, i-lunghezza-1)\n",
    "                        temp_tick_list.insert(0, i-lunghezza-2)\n",
    "                        temp_tick_list.insert(0, i-lunghezza-3)\n",
    "                else:\n",
    "                    if datiesterni == 1:\n",
    "                        temp_rivolta_list.insert(0, 0)\n",
    "                        temp_tick_list.insert(0, i-lunghezza-1)\n",
    "                    if datiesterni == 2:\n",
    "                        temp_rivolta_list.insert(0, 0)\n",
    "                        temp_rivolta_list.insert(0, 0)\n",
    "                        temp_tick_list.insert(0, i-lunghezza-1)\n",
    "                        temp_tick_list.insert(0, i-lunghezza-2)\n",
    "                    if datiesterni == 3:\n",
    "                        temp_rivolta_list.insert(0, 0)\n",
    "                        temp_rivolta_list.insert(0, 0)\n",
    "                        temp_rivolta_list.insert(0, 0)\n",
    "                        temp_tick_list.insert(0, i-lunghezza-1)\n",
    "                        temp_tick_list.insert(0, i-lunghezza-2)\n",
    "                        temp_tick_list.insert(0, i-lunghezza-3)\n",
    "                    \n",
    "                if datiesterni == 1:\n",
    "                        temp_rivolta_list.append(y[i])\n",
    "                        temp_tick_list.append(i)\n",
    "                if datiesterni == 2:\n",
    "                        temp_rivolta_list.append(y[i])\n",
    "                        temp_rivolta_list.append(y[i+1])\n",
    "                        temp_tick_list.append(i)\n",
    "                        temp_tick_list.append(i+1)\n",
    "                if datiesterni == 3:\n",
    "                        temp_rivolta_list.append(y[i])\n",
    "                        temp_rivolta_list.append(y[i+1])\n",
    "                        temp_rivolta_list.append(y[i+2])\n",
    "                        temp_tick_list.append(i)\n",
    "                        temp_tick_list.append(i+1)\n",
    "                        temp_tick_list.append(i+2)\n",
    "                \n",
    "                rivolte_diz[str(rivolte_counter)+'_spike'] = temp_rivolta_list\n",
    "                tick_rivolte_diz[str(rivolte_counter)+'_spike'] = temp_tick_list\n",
    "                temp_rivolta_list = []\n",
    "                temp_tick_list = []\n",
    "                cerarivolta = False\n",
    "                \n",
    "    return rivolte_diz, tick_rivolte_diz"
   ]
  },
  {
   "cell_type": "markdown",
   "metadata": {},
   "source": [
    "# Analisi - rndm 3%"
   ]
  },
  {
   "cell_type": "markdown",
   "metadata": {},
   "source": [
    "## Creo dizionario degli spikes"
   ]
  },
  {
   "cell_type": "code",
   "execution_count": 7,
   "metadata": {},
   "outputs": [],
   "source": [
    "spikes_dict, tick_spikes_dict = isola_spikes(y, 3)"
   ]
  },
  {
   "cell_type": "markdown",
   "metadata": {},
   "source": [
    "# Rivolte  \n",
    "**HP: sono funzioni gaussiane**  \n",
    "Usiamo il valore di soglia trovato nel caso non random, cambia il meccanismo di attivazione del singolo agente ma non la descrizione della rivolta.  \n",
    "Selezioniamo tutte le rivolte tali per cui max#attivi+errore_attivi >= soglia-5err_soglia, queste apparterranno alla stessa categoria di rivolte trovate nel caso non rndm.  \n",
    "Salvo in rivoltini_dict quelle che non vengono incluse prima per vedere se si viene a creare una nuova popolazione dovuta dalla randomizzazione (che differisce invece dalle rivolte, dovute alla clusterizzazione degli agenti)"
   ]
  },
  {
   "cell_type": "code",
   "execution_count": 8,
   "metadata": {},
   "outputs": [],
   "source": [
    "soglia = 128.1241472701187\n",
    "err_soglia = 12.6007119219633"
   ]
  },
  {
   "cell_type": "code",
   "execution_count": 9,
   "metadata": {},
   "outputs": [],
   "source": [
    "numero_sigma_soglia = 3\n",
    "numero_sigma_baseline = 3\n",
    "baseline = 2"
   ]
  },
  {
   "cell_type": "code",
   "execution_count": 10,
   "metadata": {},
   "outputs": [],
   "source": [
    "## Seleziono le rivolte secondo la regola:\n",
    "###if soglia-5*errore_soglia < y + errore_y --> rivolta\n",
    "###altrimenti salvo in rivoltini_dict\n",
    "rivolte_dict = {}\n",
    "tick_rivolte_dict = {}\n",
    "rivoltini_dict = {}\n",
    "tick_rivoltini_dict = {}\n",
    "nobase_dict = {}\n",
    "tick_nobase_dict = {}\n",
    "rivolte_counter = 0\n",
    "rivoltini_counter = 0\n",
    "for spike in spikes_dict:\n",
    "    y = spikes_dict[spike]\n",
    "    x = tick_spikes_dict[spike]\n",
    "    if np.max(y)+np.sqrt(np.max(y)) >= soglia-numero_sigma_soglia*err_soglia:\n",
    "        rivolte_counter += 1\n",
    "        rivolte_dict[str(rivolte_counter)+'_rivolta']=y\n",
    "        tick_rivolte_dict[str(rivolte_counter)+'_rivolta']=x\n",
    "        nobase_dict[str(rivolte_counter)+'_rivolta']=y\n",
    "        tick_nobase_dict[str(rivolte_counter)+'_rivolta']=x\n",
    "    elif np.max(y)-numero_sigma_baseline*np.sqrt(np.max(y))>=baseline+numero_sigma_baseline*np.sqrt(baseline):\n",
    "        rivoltini_counter += 1 \n",
    "        rivoltini_dict[str(rivoltini_counter)+'_rivoltini']=y\n",
    "        tick_rivoltini_dict[str(rivoltini_counter)+'_rivoltini']=x\n",
    "        nobase_dict[str(rivoltini_counter)+'_rivoltini']=y\n",
    "        tick_nobase_dict[str(rivoltini_counter)+'_rivoltini']=x"
   ]
  },
  {
   "cell_type": "code",
   "execution_count": 11,
   "metadata": {},
   "outputs": [
    {
     "name": "stdout",
     "output_type": "stream",
     "text": [
      "57 32 18\n"
     ]
    }
   ],
   "source": [
    "print(len(spikes_dict), len(rivolte_dict), len(rivoltini_dict))"
   ]
  },
  {
   "cell_type": "code",
   "execution_count": 12,
   "metadata": {},
   "outputs": [
    {
     "name": "stdout",
     "output_type": "stream",
     "text": [
      "90.3220115042288 \n",
      "\n",
      "26.69041575982343\n",
      "68.81024967590665\n",
      "73.06225774829855\n",
      "64.54983443527075\n",
      "44.164414002968975\n",
      "64.54983443527075\n",
      "36.56776436283002\n",
      "52.782329983125265\n",
      "58.14142842854285\n",
      "63.48331477354788\n",
      "51.70820393249937\n",
      "90.0\n",
      "69.87400787401181\n",
      "63.48331477354788\n",
      "80.48528137423857\n",
      "44.164414002968975\n",
      "50.633249580710796\n",
      "24.47213595499958\n"
     ]
    }
   ],
   "source": [
    "print(soglia-numero_sigma_soglia*err_soglia,'\\n')\n",
    "for risvoltino in rivoltini_dict:\n",
    "    print(max(rivoltini_dict[risvoltino])+np.sqrt(max(rivoltini_dict[risvoltino])))"
   ]
  },
  {
   "cell_type": "code",
   "execution_count": 13,
   "metadata": {
    "scrolled": false
   },
   "outputs": [],
   "source": [
    "##calcolo soglie delle rivolte come f(media-sigma) e errore come f(media-1.2*sigma)-f(media-0.8*sigma)\n",
    "soglie = []\n",
    "err_soglie = []\n",
    "for i, rivolta in enumerate(rivolte_dict.keys()):\n",
    "    \n",
    "    y = rivolte_dict[rivolta]\n",
    "    x = range(len(y))\n",
    "    ##computo errore come radice dei conteggi\n",
    "    sigma_gauss = np.where(np.sqrt(y)==0,1,np.sqrt(y))\n",
    "    \n",
    "    gauss_params,gauss_cov = curve_fit(gauss,x,y,p0=[200.,3.,2.5,0],sigma=sigma_gauss)\n",
    "    gauss_red_chisq = chiquadronorm(y, gauss(x,*gauss_params), sigma_gauss, len(y)-len(gauss_params), norm=True)\n",
    "    soglia = gauss(gauss_params[1] - gauss_params[2], *gauss_params)\n",
    "    errore = gauss(gauss_params[1] - 1.2*gauss_params[2], *gauss_params) - gauss(gauss_params[1] - 0.8*gauss_params[2], *gauss_params)\n",
    "    soglie.append(soglia)\n",
    "    err_soglie.append(np.abs(errore))"
   ]
  },
  {
   "cell_type": "code",
   "execution_count": 14,
   "metadata": {
    "scrolled": false
   },
   "outputs": [
    {
     "name": "stderr",
     "output_type": "stream",
     "text": [
      "/opt/anaconda3/lib/python3.7/site-packages/scipy/optimize/minpack.py:808: OptimizeWarning: Covariance of the parameters could not be estimated\n",
      "  category=OptimizeWarning)\n"
     ]
    }
   ],
   "source": [
    "##calcolo soglini delle rivoltine come f(media-sigma) e errore come f(media-1.2*sigma)-f(media-0.8*sigma)\n",
    "soglini = []\n",
    "err_soglini = []\n",
    "for i, rivolta in enumerate(rivoltini_dict.keys()):\n",
    "    \n",
    "    y = rivoltini_dict[rivolta]\n",
    "    x = range(len(y))\n",
    "    ##computo errore come radice dei conteggi\n",
    "    sigma_gauss = np.where(np.sqrt(y)==0,1,np.sqrt(y))\n",
    "    \n",
    "    gauss_params,gauss_cov = curve_fit(gauss,x,y,p0=[50.,3.,2.5,0.],sigma=sigma_gauss,**{'maxfev':1000000})\n",
    "    gauss_red_chisq = chiquadronorm(y, gauss(x,*gauss_params), sigma_gauss, len(y)-len(gauss_params), norm=True)\n",
    "    soglia = gauss(gauss_params[1] - gauss_params[2], *gauss_params)\n",
    "    errore = gauss(gauss_params[1] - 1.2*gauss_params[2], *gauss_params) - gauss(gauss_params[1] - 0.8*gauss_params[2], *gauss_params)\n",
    "    soglini.append(soglia)\n",
    "    err_soglini.append(np.abs(errore))"
   ]
  },
  {
   "cell_type": "markdown",
   "metadata": {},
   "source": [
    "## Metodo grafico  \n",
    "Plotto le rivolte con relativi errori in funzione dell'ordine della rivolta,  \n",
    "se il chiquadro ridotto del fit di questi valori con una costante è minore di uno, allora posso dire che gli eventi considerati sono statisticamente indipendenti e appartenenti alla stessa distribuzione"
   ]
  },
  {
   "cell_type": "markdown",
   "metadata": {},
   "source": [
    "### Rivolte-Provo con costante"
   ]
  },
  {
   "cell_type": "code",
   "execution_count": 15,
   "metadata": {},
   "outputs": [
    {
     "data": {
      "image/png": "[encoded data removed]",
      "text/plain": [
       "<Figure size 432x288 with 1 Axes>"
      ]
     },
     "metadata": {
      "needs_background": "light"
     },
     "output_type": "display_data"
    },
    {
     "name": "stdout",
     "output_type": "stream",
     "text": [
      "ReducedChiSquared: 0.4490694032438524\n"
     ]
    }
   ],
   "source": [
    "popt, pcov = curve_fit(costante, range(len(soglie)), soglie, sigma=err_soglie)\n",
    "cost_red_chisq = cost_chiquadronorm(soglie, costante(range(len(soglie)),*popt), err_soglie, len(soglie)-len(popt), norm=True)\n",
    "plt.plot(range(len(soglie)), [costante(range(len(soglie)),*popt) for k in range(len(soglie))], color='r')\n",
    "plt.errorbar(range(len(soglie)), soglie, yerr=err_soglie,solid_capstyle='projecting',capsize=5)\n",
    "plt.show()\n",
    "print('ReducedChiSquared:', cost_red_chisq)"
   ]
  },
  {
   "cell_type": "code",
   "execution_count": 16,
   "metadata": {},
   "outputs": [
    {
     "data": {
      "text/plain": [
       "(array([73.91889158]), array([[3.44517775]]))"
      ]
     },
     "execution_count": 16,
     "metadata": {},
     "output_type": "execute_result"
    }
   ],
   "source": [
    "popt ,np.sqrt(pcov)"
   ]
  },
  {
   "cell_type": "code",
   "execution_count": 17,
   "metadata": {},
   "outputs": [
    {
     "name": "stdout",
     "output_type": "stream",
     "text": [
      "73.91889157809139 4.457422535352403\n"
     ]
    }
   ],
   "source": [
    "media_pesata_soglie = media_pesata(soglie, err_soglie)\n",
    "err_media_pesata_soglie = np.sqrt(np.sum((soglie-media_pesata_soglie)**2)/((len(soglie)-1)*len(soglie)))\n",
    "print(media_pesata_soglie, err_media_pesata_soglie)"
   ]
  },
  {
   "cell_type": "markdown",
   "metadata": {},
   "source": [
    "media pesata e errore soglie caso nonrndm  \n",
    "128.77802517036957 6.633983699986502"
   ]
  },
  {
   "cell_type": "markdown",
   "metadata": {},
   "source": [
    "Gli eventi selezionati come rivolte hanno valori di soglia che, al netto degli errori considerati, sono considerabili come appartenenti a alla stessa distribuzione statistica.  \n",
    "Rispetto al caso non random vedo però che il valore della costante (media pesata soglie) è calato e non è più compatibile (1sigma) con il valore trovato in precedenza. Se considero però gli intervalli media pesata +- 3sigma dei valori di soglia nel caso random e non random questi hanno intersezione non nulla."
   ]
  },
  {
   "cell_type": "markdown",
   "metadata": {},
   "source": [
    "### Rivoltini-Provo con costante  \n",
    "oss, sono proprio sicuro che fittino con una gaussiana? non dovrei provare altre forme funzionali?"
   ]
  },
  {
   "cell_type": "code",
   "execution_count": 18,
   "metadata": {},
   "outputs": [],
   "source": [
    "soglini=np.delete(soglini,-6)\n",
    "err_soglini=np.delete(err_soglini,-6)\n",
    "soglini=np.delete(soglini,6)\n",
    "err_soglini=np.delete(err_soglini,6)\n",
    "soglini=np.delete(soglini,0)\n",
    "err_soglini=np.delete(err_soglini,0)"
   ]
  },
  {
   "cell_type": "code",
   "execution_count": 19,
   "metadata": {},
   "outputs": [
    {
     "data": {
      "text/plain": [
       "array([36.30030519, 29.93708033, 19.93653912, 24.15718696, 30.43074649,\n",
       "       18.98138702, 33.41170338, 13.15306438, 11.63842458, 52.33952082,\n",
       "       26.56162991, 45.81586099, 26.78264301, 20.52372903,  9.56454521])"
      ]
     },
     "execution_count": 19,
     "metadata": {},
     "output_type": "execute_result"
    }
   ],
   "source": [
    "soglini"
   ]
  },
  {
   "cell_type": "code",
   "execution_count": 20,
   "metadata": {},
   "outputs": [
    {
     "data": {
      "image/png": "[encoded data removed]",
      "text/plain": [
       "<Figure size 432x288 with 1 Axes>"
      ]
     },
     "metadata": {
      "needs_background": "light"
     },
     "output_type": "display_data"
    },
    {
     "name": "stdout",
     "output_type": "stream",
     "text": [
      "ReducedChiSquared: 3.167993014988021\n"
     ]
    }
   ],
   "source": [
    "popt, pcov = curve_fit(costante, range(len(soglini)), soglini, sigma=err_soglini)\n",
    "cost_red_chisq = cost_chiquadronorm(soglini, costante(range(len(soglini)),*popt), err_soglini, len(soglini)-len(popt), norm=True)\n",
    "plt.plot(range(len(soglini)), [costante(range(len(soglini)),*popt) for k in range(len(soglini))], color='r')\n",
    "plt.errorbar(range(len(soglini)), soglini, yerr=err_soglini,solid_capstyle='projecting',capsize=5)\n",
    "plt.show()\n",
    "print('ReducedChiSquared:', cost_red_chisq)"
   ]
  },
  {
   "cell_type": "markdown",
   "metadata": {},
   "source": [
    "I rivoltini invece, hanno un chiquadro ridotto superiore a uno.  \n",
    "Non sembrerebbe si tratti della stessa popolazione statistica, ma probabilmente questo è dovuto ai piccoli errori sui valori di soglia più piccoli"
   ]
  },
  {
   "cell_type": "markdown",
   "metadata": {},
   "source": [
    "# Metriche  \n",
    "Tutte le metriche vengono ricavate dal calcolo dei parametri derivanti dalla procedura di fit:  \n",
    "- Durata = 6sigma della rivolta considerata  \n",
    "- Tempo attesa = (media[rivolta_i+1] - 3sigma[rivolta_i+1]) - (media[rivolta_i] + 3sigma[rivolta_i])  \n",
    "- Ampiezza = parametro del fit  \n",
    "  \n",
    "Gli errori vengono calcolati dalla propagazione degli errori sui parametri del fit"
   ]
  },
  {
   "cell_type": "code",
   "execution_count": 21,
   "metadata": {},
   "outputs": [],
   "source": [
    "## For loop che mi serve a trovare ampiezza, media e deviazione standard di ognuna delle rivolte,\n",
    "###salvo i parametri del fit per ognuna delle rivolte\n",
    "gauss_params_dict = {}\n",
    "gauss_err_params_dict = {}\n",
    "for rivolte in rivolte_dict:\n",
    "\n",
    "    temp_list = []\n",
    "    temp_err_list = []\n",
    "    y = rivolte_dict[rivolte]\n",
    "    x = tick_rivolte_dict[rivolte]\n",
    "    \n",
    "    err_y = np.where(np.sqrt(y)==0,1,np.sqrt(y))\n",
    "    gauss_params,gauss_cov = curve_fit(gauss,x,y,p0=[200,((x[-1]-x[0])/2)+x[0],4.,0.],sigma=err_y)\n",
    "    temp_list.append(gauss_params[0])\n",
    "    temp_list.append(gauss_params[1])\n",
    "    temp_list.append(gauss_params[2])\n",
    "    temp_list.append(gauss_params[3])\n",
    "    temp_err_list.append(np.sqrt(np.abs(gauss_cov[0][0])))\n",
    "    temp_err_list.append(np.sqrt(np.abs(gauss_cov[1][1])))\n",
    "    temp_err_list.append(np.sqrt(np.abs(gauss_cov[2][2])))\n",
    "    temp_err_list.append(np.sqrt(np.abs(gauss_cov[3][3])))\n",
    "    gauss_params_dict[rivolte] = temp_list\n",
    "    gauss_err_params_dict[rivolte] = temp_err_list"
   ]
  },
  {
   "cell_type": "code",
   "execution_count": 22,
   "metadata": {},
   "outputs": [],
   "source": [
    "## For loop che mi serve a trovare ampiezza, media e deviazione standard di ognuna delle rivolte,\n",
    "###salvo i parametri del fit per ognuna delle rivolte\n",
    "nobase_gauss_params_dict = {}\n",
    "nobase_gauss_err_params_dict = {}\n",
    "for rivolte in nobase_dict:\n",
    "\n",
    "    temp_list = []\n",
    "    temp_err_list = []\n",
    "    y = nobase_dict[rivolte]\n",
    "    x = tick_nobase_dict[rivolte]\n",
    "    \n",
    "    err_y = np.where(np.sqrt(y)==0,1,np.sqrt(y))\n",
    "    gauss_params,gauss_cov = curve_fit(gauss,x,y,p0=[100,((x[-1]-x[0])/2)+x[0],4.,0.],sigma=err_y,**{'maxfev':100000})\n",
    "    temp_list.append(gauss_params[0])\n",
    "    temp_list.append(gauss_params[1])\n",
    "    temp_list.append(gauss_params[2])\n",
    "    temp_list.append(gauss_params[3])\n",
    "    temp_err_list.append(np.sqrt(np.abs(gauss_cov[0][0])))\n",
    "    temp_err_list.append(np.sqrt(np.abs(gauss_cov[1][1])))\n",
    "    temp_err_list.append(np.sqrt(np.abs(gauss_cov[2][2])))\n",
    "    temp_err_list.append(np.sqrt(np.abs(gauss_cov[3][3])))\n",
    "    nobase_gauss_params_dict[rivolte] = temp_list\n",
    "    nobase_gauss_err_params_dict[rivolte] = temp_err_list"
   ]
  },
  {
   "cell_type": "code",
   "execution_count": 23,
   "metadata": {
    "scrolled": false
   },
   "outputs": [
    {
     "data": {
      "text/html": [
       "<div>\n",
       "<style scoped>\n",
       "    .dataframe tbody tr th:only-of-type {\n",
       "        vertical-align: middle;\n",
       "    }\n",
       "\n",
       "    .dataframe tbody tr th {\n",
       "        vertical-align: top;\n",
       "    }\n",
       "\n",
       "    .dataframe thead th {\n",
       "        text-align: right;\n",
       "    }\n",
       "</style>\n",
       "<table border=\"1\" class=\"dataframe\">\n",
       "  <thead>\n",
       "    <tr style=\"text-align: right;\">\n",
       "      <th></th>\n",
       "      <th>0</th>\n",
       "      <th>1</th>\n",
       "      <th>2</th>\n",
       "      <th>3</th>\n",
       "    </tr>\n",
       "  </thead>\n",
       "  <tbody>\n",
       "    <tr>\n",
       "      <td>1_rivolta</td>\n",
       "      <td>1.260262e+01</td>\n",
       "      <td>1.522185e-01</td>\n",
       "      <td>1.348070e-01</td>\n",
       "      <td>1.323236</td>\n",
       "    </tr>\n",
       "    <tr>\n",
       "      <td>1_rivoltini</td>\n",
       "      <td>inf</td>\n",
       "      <td>inf</td>\n",
       "      <td>inf</td>\n",
       "      <td>inf</td>\n",
       "    </tr>\n",
       "    <tr>\n",
       "      <td>2_rivolta</td>\n",
       "      <td>1.424288e+01</td>\n",
       "      <td>1.104684e-01</td>\n",
       "      <td>8.865403e-02</td>\n",
       "      <td>1.302290</td>\n",
       "    </tr>\n",
       "    <tr>\n",
       "      <td>2_rivoltini</td>\n",
       "      <td>5.434587e+00</td>\n",
       "      <td>1.912432e-01</td>\n",
       "      <td>2.368014e-01</td>\n",
       "      <td>2.208997</td>\n",
       "    </tr>\n",
       "    <tr>\n",
       "      <td>3_rivoltini</td>\n",
       "      <td>8.778501e+00</td>\n",
       "      <td>4.417507e-01</td>\n",
       "      <td>7.751578e-01</td>\n",
       "      <td>6.576021</td>\n",
       "    </tr>\n",
       "    <tr>\n",
       "      <td>3_rivolta</td>\n",
       "      <td>8.471784e+00</td>\n",
       "      <td>9.961485e-02</td>\n",
       "      <td>9.576850e-02</td>\n",
       "      <td>1.324939</td>\n",
       "    </tr>\n",
       "    <tr>\n",
       "      <td>4_rivolta</td>\n",
       "      <td>1.050537e+01</td>\n",
       "      <td>1.748234e-01</td>\n",
       "      <td>1.869859e-01</td>\n",
       "      <td>2.209784</td>\n",
       "    </tr>\n",
       "    <tr>\n",
       "      <td>4_rivoltini</td>\n",
       "      <td>7.827997e+00</td>\n",
       "      <td>4.023301e-01</td>\n",
       "      <td>9.258484e-01</td>\n",
       "      <td>7.525424</td>\n",
       "    </tr>\n",
       "    <tr>\n",
       "      <td>5_rivolta</td>\n",
       "      <td>1.017419e+01</td>\n",
       "      <td>2.391843e-01</td>\n",
       "      <td>2.650812e-01</td>\n",
       "      <td>3.147061</td>\n",
       "    </tr>\n",
       "    <tr>\n",
       "      <td>6_rivolta</td>\n",
       "      <td>1.435979e+01</td>\n",
       "      <td>5.361063e-01</td>\n",
       "      <td>3.318980e-01</td>\n",
       "      <td>1.699240</td>\n",
       "    </tr>\n",
       "    <tr>\n",
       "      <td>7_rivolta</td>\n",
       "      <td>9.867223e+00</td>\n",
       "      <td>1.040606e-01</td>\n",
       "      <td>9.304847e-02</td>\n",
       "      <td>1.075916</td>\n",
       "    </tr>\n",
       "    <tr>\n",
       "      <td>5_rivoltini</td>\n",
       "      <td>6.195641e+00</td>\n",
       "      <td>1.030594e-01</td>\n",
       "      <td>7.993642e-02</td>\n",
       "      <td>0.859295</td>\n",
       "    </tr>\n",
       "    <tr>\n",
       "      <td>8_rivolta</td>\n",
       "      <td>9.774525e+00</td>\n",
       "      <td>8.818796e-02</td>\n",
       "      <td>8.143135e-02</td>\n",
       "      <td>1.365161</td>\n",
       "    </tr>\n",
       "    <tr>\n",
       "      <td>6_rivoltini</td>\n",
       "      <td>8.705448e+00</td>\n",
       "      <td>2.963111e-01</td>\n",
       "      <td>2.925632e-01</td>\n",
       "      <td>2.119078</td>\n",
       "    </tr>\n",
       "    <tr>\n",
       "      <td>9_rivolta</td>\n",
       "      <td>1.039613e+01</td>\n",
       "      <td>1.243390e-01</td>\n",
       "      <td>1.100013e-01</td>\n",
       "      <td>1.652615</td>\n",
       "    </tr>\n",
       "    <tr>\n",
       "      <td>7_rivoltini</td>\n",
       "      <td>6.597487e+03</td>\n",
       "      <td>4.646762e-01</td>\n",
       "      <td>1.020187e+02</td>\n",
       "      <td>6599.725949</td>\n",
       "    </tr>\n",
       "    <tr>\n",
       "      <td>8_rivoltini</td>\n",
       "      <td>2.098247e+07</td>\n",
       "      <td>2.052568e+04</td>\n",
       "      <td>2.343495e+04</td>\n",
       "      <td>3.386105</td>\n",
       "    </tr>\n",
       "    <tr>\n",
       "      <td>10_rivolta</td>\n",
       "      <td>1.247658e+01</td>\n",
       "      <td>1.875184e-01</td>\n",
       "      <td>1.728028e-01</td>\n",
       "      <td>1.785962</td>\n",
       "    </tr>\n",
       "    <tr>\n",
       "      <td>11_rivolta</td>\n",
       "      <td>9.132301e+00</td>\n",
       "      <td>8.643398e-02</td>\n",
       "      <td>7.669037e-02</td>\n",
       "      <td>1.232153</td>\n",
       "    </tr>\n",
       "    <tr>\n",
       "      <td>9_rivoltini</td>\n",
       "      <td>8.672626e+00</td>\n",
       "      <td>1.496818e-01</td>\n",
       "      <td>1.353335e-01</td>\n",
       "      <td>1.175848</td>\n",
       "    </tr>\n",
       "    <tr>\n",
       "      <td>10_rivoltini</td>\n",
       "      <td>1.636758e+01</td>\n",
       "      <td>7.132952e-01</td>\n",
       "      <td>2.870982e+00</td>\n",
       "      <td>18.456414</td>\n",
       "    </tr>\n",
       "    <tr>\n",
       "      <td>12_rivolta</td>\n",
       "      <td>2.420820e+01</td>\n",
       "      <td>1.699832e-01</td>\n",
       "      <td>1.493747e-01</td>\n",
       "      <td>3.328569</td>\n",
       "    </tr>\n",
       "    <tr>\n",
       "      <td>13_rivolta</td>\n",
       "      <td>1.376010e+01</td>\n",
       "      <td>1.250035e-01</td>\n",
       "      <td>1.114634e-01</td>\n",
       "      <td>2.035606</td>\n",
       "    </tr>\n",
       "    <tr>\n",
       "      <td>11_rivoltini</td>\n",
       "      <td>1.107667e+64</td>\n",
       "      <td>6.720379e+04</td>\n",
       "      <td>2.051856e+03</td>\n",
       "      <td>3.255533</td>\n",
       "    </tr>\n",
       "    <tr>\n",
       "      <td>14_rivolta</td>\n",
       "      <td>7.978152e+00</td>\n",
       "      <td>1.678565e-01</td>\n",
       "      <td>1.708700e-01</td>\n",
       "      <td>1.486744</td>\n",
       "    </tr>\n",
       "    <tr>\n",
       "      <td>15_rivolta</td>\n",
       "      <td>8.978328e+00</td>\n",
       "      <td>1.172580e-01</td>\n",
       "      <td>1.063369e-01</td>\n",
       "      <td>1.272599</td>\n",
       "    </tr>\n",
       "    <tr>\n",
       "      <td>16_rivolta</td>\n",
       "      <td>1.379964e+01</td>\n",
       "      <td>1.026118e-01</td>\n",
       "      <td>8.889201e-02</td>\n",
       "      <td>1.577052</td>\n",
       "    </tr>\n",
       "    <tr>\n",
       "      <td>12_rivoltini</td>\n",
       "      <td>5.179700e+00</td>\n",
       "      <td>9.371755e-02</td>\n",
       "      <td>9.250055e-02</td>\n",
       "      <td>1.068830</td>\n",
       "    </tr>\n",
       "    <tr>\n",
       "      <td>17_rivolta</td>\n",
       "      <td>7.380268e+00</td>\n",
       "      <td>7.298788e-02</td>\n",
       "      <td>6.634064e-02</td>\n",
       "      <td>0.830311</td>\n",
       "    </tr>\n",
       "    <tr>\n",
       "      <td>18_rivolta</td>\n",
       "      <td>1.450005e+01</td>\n",
       "      <td>1.841312e-01</td>\n",
       "      <td>1.679035e-01</td>\n",
       "      <td>2.351076</td>\n",
       "    </tr>\n",
       "    <tr>\n",
       "      <td>13_rivoltini</td>\n",
       "      <td>2.763574e+65</td>\n",
       "      <td>1.953106e+05</td>\n",
       "      <td>5.912809e+03</td>\n",
       "      <td>8.218173</td>\n",
       "    </tr>\n",
       "    <tr>\n",
       "      <td>19_rivolta</td>\n",
       "      <td>9.052297e+00</td>\n",
       "      <td>7.905002e-02</td>\n",
       "      <td>6.695564e-02</td>\n",
       "      <td>0.938536</td>\n",
       "    </tr>\n",
       "    <tr>\n",
       "      <td>20_rivolta</td>\n",
       "      <td>1.678750e+01</td>\n",
       "      <td>1.305190e-01</td>\n",
       "      <td>1.145060e-01</td>\n",
       "      <td>2.045198</td>\n",
       "    </tr>\n",
       "    <tr>\n",
       "      <td>21_rivolta</td>\n",
       "      <td>1.151816e+01</td>\n",
       "      <td>1.824977e-01</td>\n",
       "      <td>1.744811e-01</td>\n",
       "      <td>2.160113</td>\n",
       "    </tr>\n",
       "    <tr>\n",
       "      <td>22_rivolta</td>\n",
       "      <td>1.219203e+01</td>\n",
       "      <td>1.089443e-01</td>\n",
       "      <td>8.848889e-02</td>\n",
       "      <td>1.104725</td>\n",
       "    </tr>\n",
       "    <tr>\n",
       "      <td>23_rivolta</td>\n",
       "      <td>2.175366e+01</td>\n",
       "      <td>1.583353e-01</td>\n",
       "      <td>1.345951e-01</td>\n",
       "      <td>2.405882</td>\n",
       "    </tr>\n",
       "    <tr>\n",
       "      <td>14_rivoltini</td>\n",
       "      <td>4.723213e+00</td>\n",
       "      <td>2.364672e-01</td>\n",
       "      <td>5.035299e-01</td>\n",
       "      <td>3.981730</td>\n",
       "    </tr>\n",
       "    <tr>\n",
       "      <td>24_rivolta</td>\n",
       "      <td>8.908990e+00</td>\n",
       "      <td>1.679558e-01</td>\n",
       "      <td>1.843385e-01</td>\n",
       "      <td>2.145867</td>\n",
       "    </tr>\n",
       "    <tr>\n",
       "      <td>25_rivolta</td>\n",
       "      <td>1.210195e+01</td>\n",
       "      <td>1.240463e-01</td>\n",
       "      <td>1.157185e-01</td>\n",
       "      <td>1.370632</td>\n",
       "    </tr>\n",
       "    <tr>\n",
       "      <td>15_rivoltini</td>\n",
       "      <td>2.400191e+01</td>\n",
       "      <td>1.322306e+00</td>\n",
       "      <td>8.259385e-01</td>\n",
       "      <td>2.501971</td>\n",
       "    </tr>\n",
       "    <tr>\n",
       "      <td>26_rivolta</td>\n",
       "      <td>1.179204e+01</td>\n",
       "      <td>1.640756e-01</td>\n",
       "      <td>1.540494e-01</td>\n",
       "      <td>1.851375</td>\n",
       "    </tr>\n",
       "    <tr>\n",
       "      <td>16_rivoltini</td>\n",
       "      <td>2.822346e+07</td>\n",
       "      <td>1.077969e+04</td>\n",
       "      <td>1.330843e+03</td>\n",
       "      <td>7.976098</td>\n",
       "    </tr>\n",
       "    <tr>\n",
       "      <td>27_rivolta</td>\n",
       "      <td>2.522377e+01</td>\n",
       "      <td>1.583737e-01</td>\n",
       "      <td>1.299234e-01</td>\n",
       "      <td>2.917933</td>\n",
       "    </tr>\n",
       "    <tr>\n",
       "      <td>28_rivolta</td>\n",
       "      <td>1.005807e+01</td>\n",
       "      <td>8.873761e-02</td>\n",
       "      <td>7.695147e-02</td>\n",
       "      <td>1.006541</td>\n",
       "    </tr>\n",
       "    <tr>\n",
       "      <td>17_rivoltini</td>\n",
       "      <td>6.069173e+00</td>\n",
       "      <td>3.904736e-01</td>\n",
       "      <td>6.318969e-01</td>\n",
       "      <td>4.230448</td>\n",
       "    </tr>\n",
       "    <tr>\n",
       "      <td>29_rivolta</td>\n",
       "      <td>1.345746e+01</td>\n",
       "      <td>2.029803e-01</td>\n",
       "      <td>1.996325e-01</td>\n",
       "      <td>2.670258</td>\n",
       "    </tr>\n",
       "    <tr>\n",
       "      <td>30_rivolta</td>\n",
       "      <td>1.354268e+01</td>\n",
       "      <td>2.722961e-01</td>\n",
       "      <td>2.514179e-01</td>\n",
       "      <td>2.872919</td>\n",
       "    </tr>\n",
       "    <tr>\n",
       "      <td>31_rivolta</td>\n",
       "      <td>1.378529e+01</td>\n",
       "      <td>1.853597e-01</td>\n",
       "      <td>1.753862e-01</td>\n",
       "      <td>2.184148</td>\n",
       "    </tr>\n",
       "    <tr>\n",
       "      <td>32_rivolta</td>\n",
       "      <td>1.209373e+01</td>\n",
       "      <td>1.060969e-01</td>\n",
       "      <td>9.566067e-02</td>\n",
       "      <td>1.657398</td>\n",
       "    </tr>\n",
       "    <tr>\n",
       "      <td>18_rivoltini</td>\n",
       "      <td>5.029155e+00</td>\n",
       "      <td>4.998745e-01</td>\n",
       "      <td>6.290368e-01</td>\n",
       "      <td>2.524801</td>\n",
       "    </tr>\n",
       "  </tbody>\n",
       "</table>\n",
       "</div>"
      ],
      "text/plain": [
       "                         0             1             2            3\n",
       "1_rivolta     1.260262e+01  1.522185e-01  1.348070e-01     1.323236\n",
       "1_rivoltini            inf           inf           inf          inf\n",
       "2_rivolta     1.424288e+01  1.104684e-01  8.865403e-02     1.302290\n",
       "2_rivoltini   5.434587e+00  1.912432e-01  2.368014e-01     2.208997\n",
       "3_rivoltini   8.778501e+00  4.417507e-01  7.751578e-01     6.576021\n",
       "3_rivolta     8.471784e+00  9.961485e-02  9.576850e-02     1.324939\n",
       "4_rivolta     1.050537e+01  1.748234e-01  1.869859e-01     2.209784\n",
       "4_rivoltini   7.827997e+00  4.023301e-01  9.258484e-01     7.525424\n",
       "5_rivolta     1.017419e+01  2.391843e-01  2.650812e-01     3.147061\n",
       "6_rivolta     1.435979e+01  5.361063e-01  3.318980e-01     1.699240\n",
       "7_rivolta     9.867223e+00  1.040606e-01  9.304847e-02     1.075916\n",
       "5_rivoltini   6.195641e+00  1.030594e-01  7.993642e-02     0.859295\n",
       "8_rivolta     9.774525e+00  8.818796e-02  8.143135e-02     1.365161\n",
       "6_rivoltini   8.705448e+00  2.963111e-01  2.925632e-01     2.119078\n",
       "9_rivolta     1.039613e+01  1.243390e-01  1.100013e-01     1.652615\n",
       "7_rivoltini   6.597487e+03  4.646762e-01  1.020187e+02  6599.725949\n",
       "8_rivoltini   2.098247e+07  2.052568e+04  2.343495e+04     3.386105\n",
       "10_rivolta    1.247658e+01  1.875184e-01  1.728028e-01     1.785962\n",
       "11_rivolta    9.132301e+00  8.643398e-02  7.669037e-02     1.232153\n",
       "9_rivoltini   8.672626e+00  1.496818e-01  1.353335e-01     1.175848\n",
       "10_rivoltini  1.636758e+01  7.132952e-01  2.870982e+00    18.456414\n",
       "12_rivolta    2.420820e+01  1.699832e-01  1.493747e-01     3.328569\n",
       "13_rivolta    1.376010e+01  1.250035e-01  1.114634e-01     2.035606\n",
       "11_rivoltini  1.107667e+64  6.720379e+04  2.051856e+03     3.255533\n",
       "14_rivolta    7.978152e+00  1.678565e-01  1.708700e-01     1.486744\n",
       "15_rivolta    8.978328e+00  1.172580e-01  1.063369e-01     1.272599\n",
       "16_rivolta    1.379964e+01  1.026118e-01  8.889201e-02     1.577052\n",
       "12_rivoltini  5.179700e+00  9.371755e-02  9.250055e-02     1.068830\n",
       "17_rivolta    7.380268e+00  7.298788e-02  6.634064e-02     0.830311\n",
       "18_rivolta    1.450005e+01  1.841312e-01  1.679035e-01     2.351076\n",
       "13_rivoltini  2.763574e+65  1.953106e+05  5.912809e+03     8.218173\n",
       "19_rivolta    9.052297e+00  7.905002e-02  6.695564e-02     0.938536\n",
       "20_rivolta    1.678750e+01  1.305190e-01  1.145060e-01     2.045198\n",
       "21_rivolta    1.151816e+01  1.824977e-01  1.744811e-01     2.160113\n",
       "22_rivolta    1.219203e+01  1.089443e-01  8.848889e-02     1.104725\n",
       "23_rivolta    2.175366e+01  1.583353e-01  1.345951e-01     2.405882\n",
       "14_rivoltini  4.723213e+00  2.364672e-01  5.035299e-01     3.981730\n",
       "24_rivolta    8.908990e+00  1.679558e-01  1.843385e-01     2.145867\n",
       "25_rivolta    1.210195e+01  1.240463e-01  1.157185e-01     1.370632\n",
       "15_rivoltini  2.400191e+01  1.322306e+00  8.259385e-01     2.501971\n",
       "26_rivolta    1.179204e+01  1.640756e-01  1.540494e-01     1.851375\n",
       "16_rivoltini  2.822346e+07  1.077969e+04  1.330843e+03     7.976098\n",
       "27_rivolta    2.522377e+01  1.583737e-01  1.299234e-01     2.917933\n",
       "28_rivolta    1.005807e+01  8.873761e-02  7.695147e-02     1.006541\n",
       "17_rivoltini  6.069173e+00  3.904736e-01  6.318969e-01     4.230448\n",
       "29_rivolta    1.345746e+01  2.029803e-01  1.996325e-01     2.670258\n",
       "30_rivolta    1.354268e+01  2.722961e-01  2.514179e-01     2.872919\n",
       "31_rivolta    1.378529e+01  1.853597e-01  1.753862e-01     2.184148\n",
       "32_rivolta    1.209373e+01  1.060969e-01  9.566067e-02     1.657398\n",
       "18_rivoltini  5.029155e+00  4.998745e-01  6.290368e-01     2.524801"
      ]
     },
     "execution_count": 23,
     "metadata": {},
     "output_type": "execute_result"
    }
   ],
   "source": [
    "\n",
    "pd.DataFrame.from_dict(nobase_gauss_err_params_dict, orient='index')"
   ]
  },
  {
   "cell_type": "code",
   "execution_count": 24,
   "metadata": {},
   "outputs": [],
   "source": [
    "del nobase_gauss_params_dict['7_rivoltini']\n",
    "del nobase_gauss_err_params_dict['7_rivoltini']\n",
    "del nobase_gauss_params_dict['1_rivoltini']\n",
    "del nobase_gauss_err_params_dict['1_rivoltini']\n",
    "del nobase_gauss_params_dict['11_rivoltini']\n",
    "del nobase_gauss_err_params_dict['11_rivoltini']\n",
    "del nobase_gauss_params_dict['13_rivoltini']\n",
    "del nobase_gauss_err_params_dict['13_rivoltini']\n",
    "del nobase_gauss_params_dict['16_rivoltini']\n",
    "del nobase_gauss_err_params_dict['16_rivoltini']\n",
    "del nobase_gauss_params_dict['8_rivoltini']\n",
    "del nobase_gauss_err_params_dict['8_rivoltini']"
   ]
  },
  {
   "cell_type": "markdown",
   "metadata": {},
   "source": [
    "## Durata"
   ]
  },
  {
   "cell_type": "code",
   "execution_count": 25,
   "metadata": {},
   "outputs": [],
   "source": [
    "## calcolo la durata delle singole rivolte come 6 per la sigma della rivolta (hp:gaussiane)\n",
    "###e errori su singole durate propagando gli errori sulla sigma (6*err_assoluto sigma)\n",
    "durate_list = [gauss_params_dict[rivolte][2]*6 for rivolte in rivolte_dict]\n",
    "err_durate_list = [gauss_err_params_dict[rivolte][2]*6 for rivolte in rivolte_dict]\n",
    "durate_list = np.abs(durate_list)\n",
    "err_durate_list = np.abs(err_durate_list)\n",
    "\n",
    "## calcolo media pesata e errore su media\n",
    "media_pesata_durate = media_pesata(durate_list, err_durate_list)\n",
    "err_media_pesata_durate = np.sqrt(np.sum((durate_list - media_pesata_durate)**2)/(len(durate_list)*(len(durate_list)-1)))"
   ]
  },
  {
   "cell_type": "code",
   "execution_count": 26,
   "metadata": {},
   "outputs": [
    {
     "data": {
      "image/png": "[encoded data removed]",
      "text/plain": [
       "<Figure size 432x288 with 1 Axes>"
      ]
     },
     "metadata": {
      "needs_background": "light"
     },
     "output_type": "display_data"
    }
   ],
   "source": [
    "plt.hist(durate_list, bins=10)\n",
    "plt.show()"
   ]
  },
  {
   "cell_type": "code",
   "execution_count": 27,
   "metadata": {},
   "outputs": [
    {
     "data": {
      "image/png": "[encoded data removed]",
      "text/plain": [
       "<Figure size 432x288 with 1 Axes>"
      ]
     },
     "metadata": {
      "needs_background": "light"
     },
     "output_type": "display_data"
    }
   ],
   "source": [
    "plt.errorbar(range(len(durate_list)), durate_list, yerr=err_durate_list,solid_capstyle='projecting',capsize=5)\n",
    "plt.show()"
   ]
  },
  {
   "cell_type": "code",
   "execution_count": 28,
   "metadata": {},
   "outputs": [
    {
     "name": "stdout",
     "output_type": "stream",
     "text": [
      "10.200581039169487 0.3276677375573076\n"
     ]
    }
   ],
   "source": [
    "print(media_pesata_durate,err_media_pesata_durate)"
   ]
  },
  {
   "cell_type": "markdown",
   "metadata": {},
   "source": [
    "media pesata durate e errore caso norndm  \n",
    "10.311830447971328 0.12035386293573513\n",
    "  \n",
    "valori compatibili tra loro"
   ]
  },
  {
   "cell_type": "markdown",
   "metadata": {},
   "source": [
    "## Ampiezza"
   ]
  },
  {
   "cell_type": "code",
   "execution_count": 29,
   "metadata": {},
   "outputs": [],
   "source": [
    "## Calcolo ampiezze per ogni rivolta e errore da propagazione errori del fit\n",
    "ampiezze_list = [gauss_params_dict[rivolte][0] for rivolte in rivolte_dict]\n",
    "err_ampiezze_list = [gauss_err_params_dict[rivolte][0] for rivolte in rivolte_dict]\n",
    "ampiezze_list = np.abs(ampiezze_list)\n",
    "err_ampiezze_list = np.abs(err_ampiezze_list)\n",
    "\n",
    "## Calcolo media pesata e errore su media\n",
    "media_pesata_ampiezze = media_pesata(ampiezze_list, err_ampiezze_list)\n",
    "err_media_pesata_ampiezze = np.sqrt(np.sum((ampiezze_list - media_pesata_ampiezze)**2)/(len(ampiezze_list)*(len(ampiezze_list)-1)))"
   ]
  },
  {
   "cell_type": "code",
   "execution_count": 30,
   "metadata": {
    "scrolled": true
   },
   "outputs": [
    {
     "data": {
      "image/png": "[encoded data removed]",
      "text/plain": [
       "<Figure size 432x288 with 1 Axes>"
      ]
     },
     "metadata": {
      "needs_background": "light"
     },
     "output_type": "display_data"
    }
   ],
   "source": [
    "plt.hist(ampiezze_list, bins=20)\n",
    "plt.show()"
   ]
  },
  {
   "cell_type": "code",
   "execution_count": 31,
   "metadata": {},
   "outputs": [
    {
     "data": {
      "image/png": "[encoded data removed]",
      "text/plain": [
       "<Figure size 432x288 with 1 Axes>"
      ]
     },
     "metadata": {
      "needs_background": "light"
     },
     "output_type": "display_data"
    }
   ],
   "source": [
    "plt.errorbar(range(len(ampiezze_list)), ampiezze_list, yerr=err_ampiezze_list,solid_capstyle='projecting',capsize=5)\n",
    "plt.show()"
   ]
  },
  {
   "cell_type": "code",
   "execution_count": 32,
   "metadata": {},
   "outputs": [
    {
     "name": "stdout",
     "output_type": "stream",
     "text": [
      "129.63959302735734 6.802510668689234\n"
     ]
    }
   ],
   "source": [
    "print(media_pesata_ampiezze,err_media_pesata_ampiezze)"
   ]
  },
  {
   "cell_type": "markdown",
   "metadata": {},
   "source": [
    "Media pesata e errore ampiezze caso nonrndm  \n",
    "193.59670978171002 14.655492080565837"
   ]
  },
  {
   "cell_type": "markdown",
   "metadata": {},
   "source": [
    "## Tempi attesa"
   ]
  },
  {
   "cell_type": "code",
   "execution_count": 33,
   "metadata": {},
   "outputs": [],
   "source": [
    "## calcolo liste dei tick di inizio e fine rivolte con relativi errori \n",
    "###trovati con propagazione degli errori dagli errori dei parametri del fit\n",
    "###(start = media-3sigma --> err_start = sqrt(err_media**2 + (3err_sigma)**2)\n",
    "start_tick_list = []\n",
    "end_tick_list = []\n",
    "err_start_tick_list = []\n",
    "err_end_tick_list = []\n",
    "\n",
    "for rivolte in nobase_gauss_params_dict:\n",
    "    media = nobase_gauss_params_dict[rivolte][1]\n",
    "    sigma = np.abs(nobase_gauss_params_dict[rivolte][2])\n",
    "    err_media = nobase_gauss_err_params_dict[rivolte][1]\n",
    "    err_sigma = nobase_gauss_err_params_dict[rivolte][2]\n",
    "    start_tick_list.append(media - 3*sigma)\n",
    "    end_tick_list.append(media + 3*sigma)\n",
    "    err_start_tick_list.append(np.sqrt(err_media**2 + (3*err_sigma)**2))\n",
    "    err_end_tick_list.append(np.sqrt(err_media**2 + (3*err_sigma)**2))"
   ]
  },
  {
   "cell_type": "code",
   "execution_count": 34,
   "metadata": {},
   "outputs": [],
   "source": [
    "## Calcolo tempi di attesa dalle liste dei tick di inizio e fine rivolte e relativi errori\n",
    "###calcolati con la propagazione dagli errori dei tick di inizio e fine rivolte\n",
    "###(tempo_attesa = start[i+1]-end[i] --> err_tempo_attesa = err_start[i+1] + err_end[i])\n",
    "tempi_attesa_list = []\n",
    "err_tempi_attesa_list = []\n",
    "for i in range(len(end_tick_list)-1):\n",
    "    tempi_attesa_list.append(start_tick_list[i+1] - end_tick_list[i])\n",
    "    err_tempi_attesa_list.append(err_start_tick_list[i+1] + err_end_tick_list[i])"
   ]
  },
  {
   "cell_type": "code",
   "execution_count": 35,
   "metadata": {},
   "outputs": [
    {
     "data": {
      "image/png": "[encoded data removed]",
      "text/plain": [
       "<Figure size 432x288 with 1 Axes>"
      ]
     },
     "metadata": {
      "needs_background": "light"
     },
     "output_type": "display_data"
    }
   ],
   "source": [
    "plt.hist(durate_list, bins=10)\n",
    "plt.show()"
   ]
  },
  {
   "cell_type": "code",
   "execution_count": 36,
   "metadata": {
    "scrolled": true
   },
   "outputs": [
    {
     "data": {
      "image/png": "[encoded data removed]",
      "text/plain": [
       "<Figure size 432x288 with 1 Axes>"
      ]
     },
     "metadata": {
      "needs_background": "light"
     },
     "output_type": "display_data"
    }
   ],
   "source": [
    "plt.errorbar(range(len(tempi_attesa_list)), tempi_attesa_list, yerr=err_tempi_attesa_list,solid_capstyle='projecting',capsize=5)\n",
    "plt.show()"
   ]
  },
  {
   "cell_type": "code",
   "execution_count": 41,
   "metadata": {},
   "outputs": [],
   "source": [
    "lista=[]\n",
    "err_lista=[]\n",
    "for tempo, errore in zip(tempi_attesa_list,err_tempi_attesa_list):\n",
    "    if tempo>0:\n",
    "        lista.append(tempo)\n",
    "        err_lista.append(errore)"
   ]
  },
  {
   "cell_type": "code",
   "execution_count": 44,
   "metadata": {},
   "outputs": [
    {
     "name": "stdout",
     "output_type": "stream",
     "text": [
      "Media pesata e errore tempi attesa: 7.69119213992014 0.8425280191894304\n"
     ]
    }
   ],
   "source": [
    "media_pesata_tempi_attesa = media_pesata(lista, err_lista)\n",
    "err_media_pesata_tempi_attesa = np.sqrt(np.sum((lista-media_pesata_tempi_attesa)**2)/((len(lista)-1)*len(lista)))\n",
    "print('Media pesata e errore tempi attesa:',media_pesata_tempi_attesa,err_media_pesata_tempi_attesa)"
   ]
  },
  {
   "cell_type": "markdown",
   "metadata": {},
   "source": [
    "media pesata e errori tempi attesa caso norndm  \n",
    "17.850298917848043 1.0515878508062226"
   ]
  },
  {
   "cell_type": "markdown",
   "metadata": {},
   "source": [
    "Tempi di attesa diminuiscono\n",
    "Sembra ok, data la contemporanea presenza di più attivi e la nascita di una nuova classe di rivolte, sembra logico che gli spike diventino più frequenti"
   ]
  },
  {
   "cell_type": "code",
   "execution_count": null,
   "metadata": {},
   "outputs": [],
   "source": []
  },
  {
   "cell_type": "code",
   "execution_count": null,
   "metadata": {},
   "outputs": [],
   "source": []
  }
 ],
 "metadata": {
  "kernelspec": {
   "display_name": "Python 3",
   "language": "python",
   "name": "python3"
  },
  "language_info": {
   "codemirror_mode": {
    "name": "ipython",
    "version": 3
   },
   "file_extension": ".py",
   "mimetype": "text/x-python",
   "name": "python",
   "nbconvert_exporter": "python",
   "pygments_lexer": "ipython3",
   "version": "3.7.4"
  },
  "toc": {
   "base_numbering": 1,
   "nav_menu": {},
   "number_sections": true,
   "sideBar": true,
   "skip_h1_title": false,
   "title_cell": "Table of Contents",
   "title_sidebar": "Contents",
   "toc_cell": false,
   "toc_position": {
    "height": "calc(100% - 180px)",
    "left": "10px",
    "top": "150px",
    "width": "201.8px"
   },
   "toc_section_display": true,
   "toc_window_display": true
  }
 },
 "nbformat": 4,
 "nbformat_minor": 2
}
