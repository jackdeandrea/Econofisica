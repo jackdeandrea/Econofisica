{
 "cells": [
  {
   "cell_type": "code",
   "execution_count": 1,
   "metadata": {},
   "outputs": [
    {
     "name": "stdout",
     "output_type": "stream",
     "text": [
      "Populating the interactive namespace from numpy and matplotlib\n"
     ]
    }
   ],
   "source": [
    "%pylab inline\n",
    "import pandas as pd\n",
    "from scipy.optimize import curve_fit\n",
    "from scipy import asarray as ar\n",
    "from scipy import math\n",
    "#import pylandau\n",
    "import random"
   ]
  },
  {
   "cell_type": "markdown",
   "metadata": {},
   "source": [
    "# Importo il dataset"
   ]
  },
  {
   "cell_type": "code",
   "execution_count": 2,
   "metadata": {},
   "outputs": [
    {
     "data": {
      "text/html": [
       "<div>\n",
       "<style scoped>\n",
       "    .dataframe tbody tr th:only-of-type {\n",
       "        vertical-align: middle;\n",
       "    }\n",
       "\n",
       "    .dataframe tbody tr th {\n",
       "        vertical-align: top;\n",
       "    }\n",
       "\n",
       "    .dataframe thead th {\n",
       "        text-align: right;\n",
       "    }\n",
       "</style>\n",
       "<table border=\"1\" class=\"dataframe\">\n",
       "  <thead>\n",
       "    <tr style=\"text-align: right;\">\n",
       "      <th></th>\n",
       "      <th>x</th>\n",
       "      <th>y</th>\n",
       "      <th>color</th>\n",
       "      <th>pen down?</th>\n",
       "      <th>x.1</th>\n",
       "      <th>y.1</th>\n",
       "      <th>color.1</th>\n",
       "      <th>pen down?.1</th>\n",
       "      <th>x.2</th>\n",
       "      <th>y.2</th>\n",
       "      <th>color.2</th>\n",
       "      <th>pen down?.2</th>\n",
       "    </tr>\n",
       "  </thead>\n",
       "  <tbody>\n",
       "    <tr>\n",
       "      <td>0</td>\n",
       "      <td>0</td>\n",
       "      <td>1120</td>\n",
       "      <td>55</td>\n",
       "      <td>True</td>\n",
       "      <td>0</td>\n",
       "      <td>0</td>\n",
       "      <td>0</td>\n",
       "      <td>True</td>\n",
       "      <td>0</td>\n",
       "      <td>0</td>\n",
       "      <td>15</td>\n",
       "      <td>True</td>\n",
       "    </tr>\n",
       "    <tr>\n",
       "      <td>1</td>\n",
       "      <td>1</td>\n",
       "      <td>883</td>\n",
       "      <td>55</td>\n",
       "      <td>True</td>\n",
       "      <td>1</td>\n",
       "      <td>52</td>\n",
       "      <td>0</td>\n",
       "      <td>True</td>\n",
       "      <td>1</td>\n",
       "      <td>185</td>\n",
       "      <td>15</td>\n",
       "      <td>True</td>\n",
       "    </tr>\n",
       "    <tr>\n",
       "      <td>2</td>\n",
       "      <td>2</td>\n",
       "      <td>588</td>\n",
       "      <td>55</td>\n",
       "      <td>True</td>\n",
       "      <td>2</td>\n",
       "      <td>112</td>\n",
       "      <td>0</td>\n",
       "      <td>True</td>\n",
       "      <td>2</td>\n",
       "      <td>420</td>\n",
       "      <td>15</td>\n",
       "      <td>True</td>\n",
       "    </tr>\n",
       "    <tr>\n",
       "      <td>3</td>\n",
       "      <td>3</td>\n",
       "      <td>582</td>\n",
       "      <td>55</td>\n",
       "      <td>True</td>\n",
       "      <td>3</td>\n",
       "      <td>166</td>\n",
       "      <td>0</td>\n",
       "      <td>True</td>\n",
       "      <td>3</td>\n",
       "      <td>372</td>\n",
       "      <td>15</td>\n",
       "      <td>True</td>\n",
       "    </tr>\n",
       "    <tr>\n",
       "      <td>4</td>\n",
       "      <td>4</td>\n",
       "      <td>572</td>\n",
       "      <td>55</td>\n",
       "      <td>True</td>\n",
       "      <td>4</td>\n",
       "      <td>221</td>\n",
       "      <td>0</td>\n",
       "      <td>True</td>\n",
       "      <td>4</td>\n",
       "      <td>327</td>\n",
       "      <td>15</td>\n",
       "      <td>True</td>\n",
       "    </tr>\n",
       "  </tbody>\n",
       "</table>\n",
       "</div>"
      ],
      "text/plain": [
       "   x     y  color  pen down?  x.1  y.1  color.1  pen down?.1  x.2  y.2  \\\n",
       "0  0  1120     55       True    0    0        0         True    0    0   \n",
       "1  1   883     55       True    1   52        0         True    1  185   \n",
       "2  2   588     55       True    2  112        0         True    2  420   \n",
       "3  3   582     55       True    3  166        0         True    3  372   \n",
       "4  4   572     55       True    4  221        0         True    4  327   \n",
       "\n",
       "   color.2  pen down?.2  \n",
       "0       15         True  \n",
       "1       15         True  \n",
       "2       15         True  \n",
       "3       15         True  \n",
       "4       15         True  "
      ]
     },
     "execution_count": 2,
     "metadata": {},
     "output_type": "execute_result"
    }
   ],
   "source": [
    "file = pd.read_csv(r'/Users/giulioquaglia/Downloads/Econofisica-main-4/dati_rndm_0301.txt')\n",
    "file.head()"
   ]
  },
  {
   "cell_type": "code",
   "execution_count": 3,
   "metadata": {
    "scrolled": true
   },
   "outputs": [
    {
     "name": "stderr",
     "output_type": "stream",
     "text": [
      "/opt/anaconda3/lib/python3.7/site-packages/ipykernel_launcher.py:4: DeprecationWarning: scipy.asarray is deprecated and will be removed in SciPy 2.0.0, use numpy.asarray instead\n",
      "  after removing the cwd from sys.path.\n"
     ]
    },
    {
     "data": {
      "text/plain": [
       "717"
      ]
     },
     "execution_count": 3,
     "metadata": {},
     "output_type": "execute_result"
    }
   ],
   "source": [
    "df = file['y.2']\n",
    "y = df.to_numpy()\n",
    "y = y[210:]\n",
    "x = ar(range(len(y)))\n",
    "len(x)"
   ]
  },
  {
   "cell_type": "code",
   "execution_count": 4,
   "metadata": {},
   "outputs": [
    {
     "data": {
      "image/png": "[encoded data removed]",
      "text/plain": [
       "<Figure size 432x288 with 1 Axes>"
      ]
     },
     "metadata": {
      "needs_background": "light"
     },
     "output_type": "display_data"
    }
   ],
   "source": [
    "plt.plot(range(len(y)), y, color='r')\n",
    "#plt.errorbar(range(len(soglie)), soglie, yerr=err_soglie)\n",
    "plt.show()"
   ]
  },
  {
   "cell_type": "markdown",
   "metadata": {},
   "source": [
    "# Definizioni Utili"
   ]
  },
  {
   "cell_type": "markdown",
   "metadata": {},
   "source": [
    "## Fit Utils"
   ]
  },
  {
   "cell_type": "code",
   "execution_count": 5,
   "metadata": {},
   "outputs": [],
   "source": [
    "def chiquadronorm(oss, fit, sigma, ddof, aiuto=False, norm=True):\n",
    "    'funzione che calcola il chiquadrato di una distribuzione osservata rispetto a una\\\n",
    "    forma funzionale nota'\n",
    "    \n",
    "    #prende liste monodimensionali come argomenti\n",
    "    scarti = []\n",
    "    scartiquadri = []\n",
    "    scartiquadridivisi = []\n",
    "    \n",
    "    for i in range(len(oss)):\n",
    "        scarti.append(oss[i]-fit[i])\n",
    "        scartiquadri.append(scarti[i]*scarti[i])\n",
    "        scartiquadridivisi.append(scartiquadri[i]/(sigma[i]*sigma[i]))\n",
    "        \n",
    "        if (aiuto==True):\n",
    "            print('scarti= ', scarti[i])\n",
    "            print('scartiquadri= ', scartiquadri[i])\n",
    "            print('scartiquadridivisi= ', scartiquadridivisi[i])\n",
    "            \n",
    "    chiquadro=sum(scartiquadridivisi)\n",
    "    chiquadroreg=chiquadro/ddof\n",
    "    \n",
    "    if(norm==True):\n",
    "        return (chiquadroreg)\n",
    "    else:\n",
    "        return (chiquadro)\n",
    "\n",
    "def cost_chiquadronorm(oss, fit, sigma, ddof, aiuto=False, norm=True):\n",
    "    'funzione che calcola il chiquadrato di una distribuzione osservata rispetto a una\\\n",
    "    forma funzionale nota'\n",
    "    \n",
    "    #prende liste monodimensionali come argomenti\n",
    "    scarti = []\n",
    "    scartiquadri = []\n",
    "    scartiquadridivisi = []\n",
    "    \n",
    "    for i in range(len(oss)):\n",
    "        scarti.append(oss[i]-fit)\n",
    "        scartiquadri.append(scarti[i]*scarti[i])\n",
    "        scartiquadridivisi.append(scartiquadri[i]/(sigma[i]*sigma[i]))\n",
    "        \n",
    "        if (aiuto==True):\n",
    "            print('scarti= ', scarti[i])\n",
    "            print('scartiquadri= ', scartiquadri[i])\n",
    "            print('scartiquadridivisi= ', scartiquadridivisi[i])\n",
    "            \n",
    "    chiquadro=sum(scartiquadridivisi)\n",
    "    chiquadroreg=chiquadro/ddof\n",
    "    \n",
    "    if(norm==True):\n",
    "        return (chiquadroreg)\n",
    "    else:\n",
    "        return (chiquadro)\n",
    "\n",
    "    \n",
    "def media_pesata(x, sigma):\n",
    "    numeratore = 0\n",
    "    denominatore = 0\n",
    "    for i in range(len(x)):\n",
    "        numeratore += x[i]/(sigma[i]**2)\n",
    "        denominatore += 1/(sigma[i]**2)\n",
    "    return numeratore/denominatore\n",
    "\n",
    "def costante(x,q):\n",
    "    return q\n",
    "\n",
    "def retta(x,m,q):\n",
    "    return m*x +q\n",
    "\n",
    "def gauss(x,a,x0,sigma,baseline):\n",
    "    'Ritorna array gaussiano a partire da lista x secondo i parametri a,x0,sigma'\n",
    "    return (baseline + a*exp(-(x-x0)**2/(2*sigma*sigma)))\n",
    "\n",
    "\n",
    "def lore(x, a, x0, y0, baseline):\n",
    "    'Ritorna array lorentziano a partire da lista x secondo i parametri a,x0,yo'\n",
    "    return (baseline + a*(y0/(((x - x0)**2) + (y0**2))))\n",
    "\n",
    "def fattoriale(x):\n",
    "    temp_list = []\n",
    "\n",
    "    for ics in x:\n",
    "        f=1\n",
    "        for i in range(1,ics+1):\n",
    "            f*=i\n",
    "        temp_list.append(f)\n",
    "    return(temp_list)\n",
    "\n",
    "def poisson(x, a, media, baseline):\n",
    "    result = baseline + a*(media**x)*np.exp(-media)/fattoriale(x)\n",
    "    return(result)\n",
    "\n",
    "def landau(x, mpv, eta, A, baseline):\n",
    "    x=double(x)\n",
    "    'Ritorna array landauiano a partire da lista x secondo i parametri suoi'\n",
    "    return (baseline + double(pylandau.landau(x, mpv=mpv, eta=eta, A=A)))"
   ]
  },
  {
   "cell_type": "markdown",
   "metadata": {},
   "source": [
    "## Selecting Spikes"
   ]
  },
  {
   "cell_type": "code",
   "execution_count": 6,
   "metadata": {},
   "outputs": [],
   "source": [
    "def isola_spikes (y, datiesterni):\n",
    "    '''\n",
    "    Dati i dati sugli attivi, ritorna due dizionari: \n",
    "    {num_rivolta: [valori attivi]}\n",
    "    {num_rivolta: [tick corrispondenti]}\n",
    "    '''\n",
    "    rivolte_diz = {}\n",
    "    tick_rivolte_diz = {}\n",
    "    temp_rivolta_list = []\n",
    "    temp_tick_list = []\n",
    "    rivolte_counter = 0\n",
    "    cerarivolta = False\n",
    "    \n",
    "    for i in range(len(y)):\n",
    "        \n",
    "        ##aggiustato a 12 per non avere rivoltini\n",
    "        if y[i] > 12:\n",
    "            temp_rivolta_list.append(y[i])\n",
    "            temp_tick_list.append(i)\n",
    "            if cerarivolta == False:\n",
    "                rivolte_counter += 1\n",
    "                cerarivolta = True\n",
    "        else:\n",
    "            if cerarivolta == True:\n",
    "                lunghezza=len(temp_rivolta_list)\n",
    "                if rivolte_counter > 1:\n",
    "                    if datiesterni == 1:\n",
    "                        temp_rivolta_list.insert(0, y[i-lunghezza-1])\n",
    "                        temp_tick_list.insert(0, i-lunghezza-1)\n",
    "                    if datiesterni == 2:\n",
    "                        temp_rivolta_list.insert(0, y[i-lunghezza-1])\n",
    "                        temp_rivolta_list.insert(0, y[i-lunghezza-2])\n",
    "                        temp_tick_list.insert(0, i-lunghezza-1)\n",
    "                        temp_tick_list.insert(0, i-lunghezza-2)\n",
    "                    if datiesterni == 3:\n",
    "                        temp_rivolta_list.insert(0, y[i-lunghezza-1])\n",
    "                        temp_rivolta_list.insert(0, y[i-lunghezza-2])\n",
    "                        temp_rivolta_list.insert(0, y[i-lunghezza-3])\n",
    "                        temp_tick_list.insert(0, i-lunghezza-1)\n",
    "                        temp_tick_list.insert(0, i-lunghezza-2)\n",
    "                        temp_tick_list.insert(0, i-lunghezza-3)\n",
    "                else:\n",
    "                    if datiesterni == 1:\n",
    "                        temp_rivolta_list.insert(0, 0)\n",
    "                        temp_tick_list.insert(0, i-lunghezza-1)\n",
    "                    if datiesterni == 2:\n",
    "                        temp_rivolta_list.insert(0, 0)\n",
    "                        temp_rivolta_list.insert(0, 0)\n",
    "                        temp_tick_list.insert(0, i-lunghezza-1)\n",
    "                        temp_tick_list.insert(0, i-lunghezza-2)\n",
    "                    if datiesterni == 3:\n",
    "                        temp_rivolta_list.insert(0, 0)\n",
    "                        temp_rivolta_list.insert(0, 0)\n",
    "                        temp_rivolta_list.insert(0, 0)\n",
    "                        temp_tick_list.insert(0, i-lunghezza-1)\n",
    "                        temp_tick_list.insert(0, i-lunghezza-2)\n",
    "                        temp_tick_list.insert(0, i-lunghezza-3)\n",
    "                    \n",
    "                if datiesterni == 1:\n",
    "                        temp_rivolta_list.append(y[i])\n",
    "                        temp_tick_list.append(i)\n",
    "                if datiesterni == 2:\n",
    "                        temp_rivolta_list.append(y[i])\n",
    "                        temp_rivolta_list.append(y[i+1])\n",
    "                        temp_tick_list.append(i)\n",
    "                        temp_tick_list.append(i+1)\n",
    "                if datiesterni == 3:\n",
    "                        temp_rivolta_list.append(y[i])\n",
    "                        temp_rivolta_list.append(y[i+1])\n",
    "                        temp_rivolta_list.append(y[i+2])\n",
    "                        temp_tick_list.append(i)\n",
    "                        temp_tick_list.append(i+1)\n",
    "                        temp_tick_list.append(i+2)\n",
    "                \n",
    "                rivolte_diz[str(rivolte_counter)+'_spike'] = temp_rivolta_list\n",
    "                tick_rivolte_diz[str(rivolte_counter)+'_spike'] = temp_tick_list\n",
    "                temp_rivolta_list = []\n",
    "                temp_tick_list = []\n",
    "                cerarivolta = False\n",
    "                \n",
    "    return rivolte_diz, tick_rivolte_diz"
   ]
  },
  {
   "cell_type": "markdown",
   "metadata": {},
   "source": [
    "# Analisi - rndm 0.025%"
   ]
  },
  {
   "cell_type": "markdown",
   "metadata": {},
   "source": [
    "## Creo dizionario degli spikes"
   ]
  },
  {
   "cell_type": "code",
   "execution_count": 7,
   "metadata": {},
   "outputs": [
    {
     "ename": "IndexError",
     "evalue": "index 717 is out of bounds for axis 0 with size 717",
     "output_type": "error",
     "traceback": [
      "\u001b[0;31m---------------------------------------------------------------------------\u001b[0m",
      "\u001b[0;31mIndexError\u001b[0m                                Traceback (most recent call last)",
      "\u001b[0;32m<ipython-input-7-1fa91878761a>\u001b[0m in \u001b[0;36m<module>\u001b[0;34m\u001b[0m\n\u001b[0;32m----> 1\u001b[0;31m \u001b[0mspikes_dict\u001b[0m\u001b[0;34m,\u001b[0m \u001b[0mtick_spikes_dict\u001b[0m \u001b[0;34m=\u001b[0m \u001b[0misola_spikes\u001b[0m\u001b[0;34m(\u001b[0m\u001b[0my\u001b[0m\u001b[0;34m,\u001b[0m \u001b[0;36m3\u001b[0m\u001b[0;34m)\u001b[0m\u001b[0;34m\u001b[0m\u001b[0;34m\u001b[0m\u001b[0m\n\u001b[0m",
      "\u001b[0;32m<ipython-input-6-461dd5e57ac8>\u001b[0m in \u001b[0;36misola_spikes\u001b[0;34m(y, datiesterni)\u001b[0m\n\u001b[1;32m     67\u001b[0m                 \u001b[0;32mif\u001b[0m \u001b[0mdatiesterni\u001b[0m \u001b[0;34m==\u001b[0m \u001b[0;36m3\u001b[0m\u001b[0;34m:\u001b[0m\u001b[0;34m\u001b[0m\u001b[0;34m\u001b[0m\u001b[0m\n\u001b[1;32m     68\u001b[0m                         \u001b[0mtemp_rivolta_list\u001b[0m\u001b[0;34m.\u001b[0m\u001b[0mappend\u001b[0m\u001b[0;34m(\u001b[0m\u001b[0my\u001b[0m\u001b[0;34m[\u001b[0m\u001b[0mi\u001b[0m\u001b[0;34m]\u001b[0m\u001b[0;34m)\u001b[0m\u001b[0;34m\u001b[0m\u001b[0;34m\u001b[0m\u001b[0m\n\u001b[0;32m---> 69\u001b[0;31m                         \u001b[0mtemp_rivolta_list\u001b[0m\u001b[0;34m.\u001b[0m\u001b[0mappend\u001b[0m\u001b[0;34m(\u001b[0m\u001b[0my\u001b[0m\u001b[0;34m[\u001b[0m\u001b[0mi\u001b[0m\u001b[0;34m+\u001b[0m\u001b[0;36m1\u001b[0m\u001b[0;34m]\u001b[0m\u001b[0;34m)\u001b[0m\u001b[0;34m\u001b[0m\u001b[0;34m\u001b[0m\u001b[0m\n\u001b[0m\u001b[1;32m     70\u001b[0m                         \u001b[0mtemp_rivolta_list\u001b[0m\u001b[0;34m.\u001b[0m\u001b[0mappend\u001b[0m\u001b[0;34m(\u001b[0m\u001b[0my\u001b[0m\u001b[0;34m[\u001b[0m\u001b[0mi\u001b[0m\u001b[0;34m+\u001b[0m\u001b[0;36m2\u001b[0m\u001b[0;34m]\u001b[0m\u001b[0;34m)\u001b[0m\u001b[0;34m\u001b[0m\u001b[0;34m\u001b[0m\u001b[0m\n\u001b[1;32m     71\u001b[0m                         \u001b[0mtemp_tick_list\u001b[0m\u001b[0;34m.\u001b[0m\u001b[0mappend\u001b[0m\u001b[0;34m(\u001b[0m\u001b[0mi\u001b[0m\u001b[0;34m)\u001b[0m\u001b[0;34m\u001b[0m\u001b[0;34m\u001b[0m\u001b[0m\n",
      "\u001b[0;31mIndexError\u001b[0m: index 717 is out of bounds for axis 0 with size 717"
     ]
    }
   ],
   "source": [
    "spikes_dict, tick_spikes_dict = isola_spikes(y, 3)"
   ]
  },
  {
   "cell_type": "markdown",
   "metadata": {},
   "source": [
    "# Rivolte  \n",
    "**HP: sono funzioni gaussiane**  \n",
    "Usiamo il valore di soglia trovato nel caso non random, cambia il meccanismo di attivazione del singolo agente ma non la descrizione della rivolta.  \n",
    "Selezioniamo tutte le rivolte tali per cui max#attivi+errore_attivi >= soglia-5err_soglia, queste apparterranno alla stessa categoria di rivolte trovate nel caso non rndm.  \n",
    "Salvo in rivoltini_dict quelle che non vengono incluse prima per vedere se si viene a creare una nuova popolazione dovuta dalla randomizzazione (che differisce invece dalle rivolte, dovute alla clusterizzazione degli agenti)"
   ]
  },
  {
   "cell_type": "code",
   "execution_count": null,
   "metadata": {},
   "outputs": [],
   "source": [
    "soglia = 128.1241472701187\n",
    "err_soglia = 12.6007119219633"
   ]
  },
  {
   "cell_type": "code",
   "execution_count": null,
   "metadata": {},
   "outputs": [],
   "source": [
    "numero_sigma_soglia = 5\n",
    "numero_sigma_baseline = 3\n",
    "baseline = 2"
   ]
  },
  {
   "cell_type": "code",
   "execution_count": null,
   "metadata": {},
   "outputs": [],
   "source": [
    "## Seleziono le rivolte secondo la regola:\n",
    "###if soglia-5*errore_soglia < y + errore_y --> rivolta\n",
    "###altrimenti salvo in rivoltini_dict\n",
    "rivolte_dict = {}\n",
    "tick_rivolte_dict = {}\n",
    "rivoltini_dict = {}\n",
    "tick_rivoltini_dict = {}\n",
    "rivolte_counter = 0\n",
    "rivoltini_counter = 0\n",
    "for spike in spikes_dict:\n",
    "    y = spikes_dict[spike]\n",
    "    x = tick_spikes_dict[spike]\n",
    "    if np.max(y)+np.sqrt(np.max(y)) >= soglia-numero_sigma_soglia*err_soglia:\n",
    "        rivolte_counter += 1\n",
    "        rivolte_dict[str(rivolte_counter)+'_rivolta']=y\n",
    "        tick_rivolte_dict[str(rivolte_counter)+'_rivolta']=x\n",
    "    elif np.max(y)-numero_sigma_baseline*np.sqrt(np.max(y))>=baseline+numero_sigma_baseline*np.sqrt(baseline):\n",
    "        rivoltini_counter += 1 \n",
    "        rivoltini_dict[str(rivoltini_counter)+'_rivoltini']=y\n",
    "        tick_rivoltini_dict[str(rivoltini_counter)+'_rivoltini']=x"
   ]
  },
  {
   "cell_type": "code",
   "execution_count": null,
   "metadata": {},
   "outputs": [],
   "source": [
    "print(len(spikes_dict), len(rivolte_dict), len(rivoltini_dict))"
   ]
  },
  {
   "cell_type": "code",
   "execution_count": null,
   "metadata": {},
   "outputs": [],
   "source": [
    "print(soglia-numero_sigma_soglia*err_soglia,'\\n')\n",
    "for risvoltino in rivoltini_dict:\n",
    "    print(max(rivoltini_dict[risvoltino])+np.sqrt(max(rivoltini_dict[risvoltino])))"
   ]
  },
  {
   "cell_type": "code",
   "execution_count": null,
   "metadata": {
    "scrolled": false
   },
   "outputs": [],
   "source": [
    "##calcolo soglie delle rivolte come f(media-sigma) e errore come f(media-1.2*sigma)-f(media-0.8*sigma)\n",
    "soglie = []\n",
    "err_soglie = []\n",
    "for i, rivolta in enumerate(rivolte_dict.keys()):\n",
    "    \n",
    "    y = rivolte_dict[rivolta]\n",
    "    x = range(len(y))\n",
    "    ##computo errore come radice dei conteggi\n",
    "    sigma_gauss = np.where(np.sqrt(y)==0,1,np.sqrt(y))\n",
    "    \n",
    "    gauss_params,gauss_cov = curve_fit(gauss,x,y,p0=[200.,3.,2.5,0],sigma=sigma_gauss)\n",
    "    gauss_red_chisq = chiquadronorm(y, gauss(x,*gauss_params), sigma_gauss, len(y)-len(gauss_params), norm=True)\n",
    "    soglia = gauss(gauss_params[1] - gauss_params[2], *gauss_params)\n",
    "    errore = gauss(gauss_params[1] - 1.2*gauss_params[2], *gauss_params) - gauss(gauss_params[1] - 0.8*gauss_params[2], *gauss_params)\n",
    "    soglie.append(soglia)\n",
    "    err_soglie.append(np.abs(errore))"
   ]
  },
  {
   "cell_type": "markdown",
   "metadata": {},
   "source": [
    "## Rivoltini ancora gaussiani?  \n",
    "Compaiono queste nuove rivolte, che non possono essere descritte allo stesso modo delle precedenti perchè non appartengono alla stessa popolazione. Vedo se la forma funzionale che le descrive megli osia una gaussiana"
   ]
  },
  {
   "cell_type": "code",
   "execution_count": null,
   "metadata": {},
   "outputs": [],
   "source": [
    "fig, ax = plt.subplots(nrows=len(rivoltini_dict.keys()), ncols=3, figsize=(10,15))\n",
    "\n",
    "gauss_chisq_list = []\n",
    "lore_chisq_list = []\n",
    "poiss_chisq_list = []\n",
    "\n",
    "for i, rivolta in enumerate(rivoltini_dict.keys()):\n",
    "    \n",
    "    y = rivoltini_dict[rivolta]\n",
    "    x = range(len(y))\n",
    "    sigma_gauss = np.where(np.sqrt(y)==0,1,np.sqrt(y))\n",
    "\n",
    "    gauss_params,gauss_cov = curve_fit(gauss,x,y,p0=[50.,3.,2.5,0],sigma=sigma_gauss)\n",
    "    gauss_red_chisq = chiquadronorm(y, gauss(x,*gauss_params), sigma_gauss, len(y)-len(gauss_params), norm=True)\n",
    "    gauss_chisq_list.append(gauss_red_chisq)\n",
    "\n",
    "    sigma_lore = sigma_gauss\n",
    "    lore_params,lore_cov = curve_fit(lore,x,y,p0=[2.,4.,.5,0.1],sigma=sigma_gauss, **{'maxfev':10000})\n",
    "    lore_red_chisq = chiquadronorm(y, lore(x,*lore_params), sigma_lore, len(y)-len(lore_params), norm=True)\n",
    "    lore_chisq_list.append(lore_red_chisq)\n",
    "\n",
    "    sigma_poiss = sigma_gauss \n",
    "    poiss_params,poiss_cov = curve_fit(poisson,x,y, p0=[400.,3.,0], sigma=sigma_poiss)\n",
    "    poiss_red_chisq = chiquadronorm(y, poisson(x, *poiss_params), sigma_poiss, len(y)-len(poiss_params), norm=True)\n",
    "    poiss_chisq_list.append(poiss_red_chisq)\n",
    "\n",
    "    ax[i][0].errorbar(x,y,yerr=np.sqrt(y),fmt='o:',solid_capstyle='projecting',capsize=5,label='data')\n",
    "    ax[i][0].plot(x,gauss(x,*gauss_params),'ro:',label='gauss fit')\n",
    "    ax[i][0].legend(loc='upper left')\n",
    "    ax[i][0].text(2,20,'chisquared = %.2f' % (gauss_red_chisq))\n",
    "    ax[i][0].title.set_text('GaussFit ' + rivolta)\n",
    "    \n",
    "    ax[i][1].errorbar(x,y,yerr=np.sqrt(y),fmt='o:',solid_capstyle='projecting',capsize=5,label='data')\n",
    "    ax[i][1].plot(x,lore(x,*lore_params),'ro:',label='lore fit')\n",
    "    ax[i][1].legend(loc='upper left')\n",
    "    ax[i][1].text(2,20,'chisquared = %.2f' % (lore_red_chisq))\n",
    "    ax[i][1].title.set_text('LoreFit ' + rivolta)\n",
    "    \n",
    "    ax[i][2].errorbar(x,y,yerr=np.sqrt(y),fmt='o:',solid_capstyle='projecting',capsize=5,label='data')\n",
    "    ax[i][2].plot(x,poisson(x,*poiss_params),'ro:',label='poiss fit')\n",
    "    ax[i][2].legend(loc='upper left')\n",
    "    ax[i][2].text(2,20,'chisquared = %.2f' % (poiss_red_chisq))\n",
    "    ax[i][2].title.set_text('PoissFit ' + rivolta)\n",
    "    \n",
    "    #ax[i].errorbar(x,y,yerr=np.sqrt(y),fmt='o:',solid_capstyle='projecting',capsize=5,label='data')\n",
    "    #ax[i].plot(x,gauss(x,*gauss_params),'ro:',label='gauss fit')\n",
    "    #ax[i].legend(loc='upper left')\n",
    "    #ax[i].text(2,20,'chisquared = %.2f' % (gauss_red_chisq))\n",
    "    #ax[i].title.set_text('GaussFit ' + rivolta)\n",
    "\n",
    "    #ax[i].errorbar(x,y,yerr=np.sqrt(y),fmt='o:',solid_capstyle='projecting',capsize=5,label='data')\n",
    "    #ax[i].plot(x,lore(x,*lore_params),'ro:',label='lore fit')\n",
    "    #ax[i].legend(loc='upper left')\n",
    "    #ax[i].text(2,20,'chisquared = %.2f' % (lore_red_chisq))\n",
    "    #ax[i].title.set_text('LoreFit ' + rivolta)\n",
    "    \n",
    "    #ax[i].errorbar(x,y,yerr=np.sqrt(y),fmt='o:',solid_capstyle='projecting',capsize=5,label='data')\n",
    "    #ax[i].plot(x,poisson(x,*poiss_params),'ro:',label='poiss fit')\n",
    "    #ax[i].legend(loc='upper left')\n",
    "    #ax[i].text(2,20,'chisquared = %.2f' % (poiss_red_chisq))\n",
    "    #ax[i].title.set_text('PoissFit ' + rivolta)\n",
    "    \n",
    "fig.tight_layout()\n",
    "plt.show()"
   ]
  },
  {
   "cell_type": "code",
   "execution_count": null,
   "metadata": {},
   "outputs": [],
   "source": [
    "## Printing how many times each function had the best chi squared\n",
    "gauss_score = 0\n",
    "lore_score = 0\n",
    "poiss_score = 0\n",
    "for i in range(len(gauss_chisq_list)):\n",
    "    if gauss_chisq_list[i] < lore_chisq_list[i] and gauss_chisq_list[i] < poiss_chisq_list[i]:\n",
    "        gauss_score+=1\n",
    "    elif lore_chisq_list[i] < poiss_chisq_list[i]:\n",
    "        lore_score+=1\n",
    "    else:\n",
    "        poiss_score+=1\n",
    "        \n",
    "print('Gauss %score:', gauss_score/len(gauss_chisq_list))\n",
    "print('Lore %score:', lore_score/len(lore_chisq_list))\n",
    "print('Poiss %score:', poiss_score/len(poiss_chisq_list))"
   ]
  },
  {
   "cell_type": "markdown",
   "metadata": {},
   "source": [
    "**Si, considero le rivoltine come gaussiane**"
   ]
  },
  {
   "cell_type": "code",
   "execution_count": null,
   "metadata": {
    "scrolled": false
   },
   "outputs": [],
   "source": [
    "##calcolo soglini delle rivoltine come f(media-sigma) e errore come f(media-1.2*sigma)-f(media-0.8*sigma)\n",
    "soglini = []\n",
    "err_soglini = []\n",
    "for i, rivolta in enumerate(rivoltini_dict.keys()):\n",
    "    \n",
    "    y = rivoltini_dict[rivolta]\n",
    "    x = range(len(y))\n",
    "    ##computo errore come radice dei conteggi\n",
    "    sigma_gauss = np.where(np.sqrt(y)==0,1,np.sqrt(y))\n",
    "    \n",
    "    gauss_params,gauss_cov = curve_fit(gauss,x,y,p0=[50.,3.,2.5,0.],sigma=sigma_gauss)\n",
    "    gauss_red_chisq = chiquadronorm(y, gauss(x,*gauss_params), sigma_gauss, len(y)-len(gauss_params), norm=True)\n",
    "    soglia = gauss(gauss_params[1] - gauss_params[2], *gauss_params)\n",
    "    errore = gauss(gauss_params[1] - 1.2*gauss_params[2], *gauss_params) - gauss(gauss_params[1] - 0.8*gauss_params[2], *gauss_params)\n",
    "    soglini.append(soglia)\n",
    "    err_soglini.append(np.abs(errore))"
   ]
  },
  {
   "cell_type": "markdown",
   "metadata": {},
   "source": [
    "## Metodo grafico  \n",
    "Plotto le rivolte con relativi errori in funzione dell'ordine della rivolta,  \n",
    "se il chiquadro ridotto del fit di questi valori con una costante è minore di uno, allora posso dire che gli eventi considerati sono statisticamente indipendenti e appartenenti alla stessa distribuzione"
   ]
  },
  {
   "cell_type": "markdown",
   "metadata": {},
   "source": [
    "### Rivolte-Provo con costante"
   ]
  },
  {
   "cell_type": "code",
   "execution_count": null,
   "metadata": {},
   "outputs": [],
   "source": [
    "popt, pcov = curve_fit(costante, range(len(soglie)), soglie, sigma=err_soglie)\n",
    "cost_red_chisq = cost_chiquadronorm(soglie, costante(range(len(soglie)),*popt), err_soglie, len(soglie)-len(popt), norm=True)\n",
    "plt.plot(range(len(soglie)), [costante(range(len(soglie)),*popt) for k in range(len(soglie))], color='r')\n",
    "plt.errorbar(range(len(soglie)), soglie, yerr=err_soglie,solid_capstyle='projecting',capsize=5)\n",
    "plt.show()\n",
    "print('ReducedChiSquared:', cost_red_chisq)"
   ]
  },
  {
   "cell_type": "code",
   "execution_count": null,
   "metadata": {},
   "outputs": [],
   "source": [
    "popt ,np.sqrt(pcov)"
   ]
  },
  {
   "cell_type": "code",
   "execution_count": null,
   "metadata": {},
   "outputs": [],
   "source": [
    "media_pesata_soglie = media_pesata(soglie, err_soglie)\n",
    "err_media_pesata_soglie = np.sqrt(np.sum((soglie-media_pesata_soglie)**2)/((len(soglie)-1)*len(soglie)))\n",
    "print(media_pesata_soglie, err_media_pesata_soglie)"
   ]
  },
  {
   "cell_type": "markdown",
   "metadata": {},
   "source": [
    "media pesata e errore soglie caso nonrndm  \n",
    "128.77802517036957 6.633983699986502"
   ]
  },
  {
   "cell_type": "markdown",
   "metadata": {},
   "source": [
    "Gli eventi selezionati come rivolte hanno valori di soglia che, al netto degli errori considerati, sono considerabili come appartenenti a alla stessa distribuzione statistica.  \n",
    "Rispetto al caso non random vedo però che il valore della costante (media pesata soglie) è calato e non è più compatibile (1sigma) con il valore trovato in precedenza. Se considero però gli intervalli media pesata +- 3sigma dei valori di soglia nel caso random e non random questi hanno intersezione non nulla."
   ]
  },
  {
   "cell_type": "markdown",
   "metadata": {},
   "source": [
    "### Rivoltini-Provo con costante  \n",
    "oss, sono proprio sicuro che fittino con una gaussiana? non dovrei provare altre forme funzionali?"
   ]
  },
  {
   "cell_type": "code",
   "execution_count": null,
   "metadata": {},
   "outputs": [],
   "source": [
    "popt, pcov = curve_fit(costante, range(len(soglini)), soglini, sigma=err_soglini)\n",
    "cost_red_chisq = cost_chiquadronorm(soglini, costante(range(len(soglini)),*popt), err_soglini, len(soglini)-len(popt), norm=True)\n",
    "plt.plot(range(len(soglini)), [costante(range(len(soglini)),*popt) for k in range(len(soglini))], color='r')\n",
    "plt.errorbar(range(len(soglini)), soglini, yerr=err_soglini,solid_capstyle='projecting',capsize=5)\n",
    "plt.show()\n",
    "print('ReducedChiSquared:', cost_red_chisq)"
   ]
  },
  {
   "cell_type": "markdown",
   "metadata": {},
   "source": [
    "I rivoltini invece, hanno un chiquadro ridotto superiore a uno.  \n",
    "Non sembrerebbe si tratti della stessa popolazione statistica, ma probabilmente questo è dovuto ai piccoli errori sui valori di soglia più piccoli"
   ]
  },
  {
   "cell_type": "markdown",
   "metadata": {},
   "source": [
    "# Metriche  \n",
    "Tutte le metriche vengono ricavate dal calcolo dei parametri derivanti dalla procedura di fit:  \n",
    "- Durata = 6sigma della rivolta considerata  \n",
    "- Tempo attesa = (media[rivolta_i+1] - 3sigma[rivolta_i+1]) - (media[rivolta_i] + 3sigma[rivolta_i])  \n",
    "- Ampiezza = parametro del fit  \n",
    "  \n",
    "Gli errori vengono calcolati dalla propagazione degli errori sui parametri del fit"
   ]
  },
  {
   "cell_type": "code",
   "execution_count": null,
   "metadata": {},
   "outputs": [],
   "source": [
    "## For loop che mi serve a trovare ampiezza, media e deviazione standard di ognuna delle rivolte,\n",
    "###salvo i parametri del fit per ognuna delle rivolte\n",
    "gauss_params_dict = {}\n",
    "gauss_err_params_dict = {}\n",
    "for rivolte in rivolte_dict:\n",
    "\n",
    "    temp_list = []\n",
    "    temp_err_list = []\n",
    "    y = rivolte_dict[rivolte]\n",
    "    x = tick_rivolte_dict[rivolte]\n",
    "    \n",
    "    err_y = np.where(np.sqrt(y)==0,1,np.sqrt(y))\n",
    "    gauss_params,gauss_cov = curve_fit(gauss,x,y,p0=[200,((x[-1]-x[0])/2)+x[0],4.,0.],sigma=err_y)\n",
    "    temp_list.append(gauss_params[0])\n",
    "    temp_list.append(gauss_params[1])\n",
    "    temp_list.append(gauss_params[2])\n",
    "    temp_list.append(gauss_params[3])\n",
    "    temp_err_list.append(np.sqrt(np.abs(gauss_cov[0][0])))\n",
    "    temp_err_list.append(np.sqrt(np.abs(gauss_cov[1][1])))\n",
    "    temp_err_list.append(np.sqrt(np.abs(gauss_cov[2][2])))\n",
    "    temp_err_list.append(np.sqrt(np.abs(gauss_cov[3][3])))\n",
    "    gauss_params_dict[rivolte] = temp_list\n",
    "    gauss_err_params_dict[rivolte] = temp_err_list"
   ]
  },
  {
   "cell_type": "markdown",
   "metadata": {},
   "source": [
    "## Durata"
   ]
  },
  {
   "cell_type": "code",
   "execution_count": null,
   "metadata": {},
   "outputs": [],
   "source": [
    "## calcolo la durata delle singole rivolte come 6 per la sigma della rivolta (hp:gaussiane)\n",
    "###e errori su singole durate propagando gli errori sulla sigma (6*err_assoluto sigma)\n",
    "durate_list = [gauss_params_dict[rivolte][2]*6 for rivolte in rivolte_dict]\n",
    "err_durate_list = [gauss_err_params_dict[rivolte][2]*6 for rivolte in rivolte_dict]\n",
    "durate_list = np.abs(durate_list)\n",
    "err_durate_list = np.abs(err_durate_list)\n",
    "\n",
    "## calcolo media pesata e errore su media\n",
    "media_pesata_durate = media_pesata(durate_list, err_durate_list)\n",
    "err_media_pesata_durate = np.sqrt(np.sum((durate_list - media_pesata_durate)**2)/(len(durate_list)*(len(durate_list)-1)))"
   ]
  },
  {
   "cell_type": "code",
   "execution_count": null,
   "metadata": {},
   "outputs": [],
   "source": [
    "plt.hist(durate_list, bins=10)\n",
    "plt.show()"
   ]
  },
  {
   "cell_type": "code",
   "execution_count": null,
   "metadata": {},
   "outputs": [],
   "source": [
    "print(media_pesata_durate,err_media_pesata_durate)"
   ]
  },
  {
   "cell_type": "markdown",
   "metadata": {},
   "source": [
    "media pesata durate e errore caso norndm  \n",
    "10.311830447971328 0.12035386293573513\n",
    "  \n",
    "valori compatibili tra loro"
   ]
  },
  {
   "cell_type": "markdown",
   "metadata": {},
   "source": [
    "## Tempi attesa"
   ]
  },
  {
   "cell_type": "code",
   "execution_count": null,
   "metadata": {},
   "outputs": [],
   "source": [
    "## calcolo liste dei tick di inizio e fine rivolte con relativi errori \n",
    "###trovati con propagazione degli errori dagli errori dei parametri del fit\n",
    "###(start = media-3sigma --> err_start = sqrt(err_media**2 + (3err_sigma)**2)\n",
    "start_tick_list = []\n",
    "end_tick_list = []\n",
    "err_start_tick_list = []\n",
    "err_end_tick_list = []\n",
    "\n",
    "for rivolte in gauss_params_dict:\n",
    "    media = gauss_params_dict[rivolte][1]\n",
    "    sigma = np.abs(gauss_params_dict[rivolte][2])\n",
    "    err_media = gauss_err_params_dict[rivolte][1]\n",
    "    err_sigma = gauss_err_params_dict[rivolte][2]\n",
    "    start_tick_list.append(media - 3*sigma)\n",
    "    end_tick_list.append(media + 3*sigma)\n",
    "    err_start_tick_list.append(np.sqrt(err_media**2 + (3*err_sigma)**2))\n",
    "    err_end_tick_list.append(np.sqrt(err_media**2 + (3*err_sigma)**2))"
   ]
  },
  {
   "cell_type": "code",
   "execution_count": null,
   "metadata": {},
   "outputs": [],
   "source": [
    "## Calcolo tempi di attesa dalle liste dei tick di inizio e fine rivolte e relativi errori\n",
    "###calcolati con la propagazione dagli errori dei tick di inizio e fine rivolte\n",
    "###(tempo_attesa = start[i+1]-end[i] --> err_tempo_attesa = err_start[i+1] + err_end[i])\n",
    "tempi_attesa_list = []\n",
    "err_tempi_attesa_list = []\n",
    "for i in range(len(end_tick_list)-1):\n",
    "    tempi_attesa_list.append(start_tick_list[i+1] - end_tick_list[i])\n",
    "    err_tempi_attesa_list.append(err_start_tick_list[i+1] + err_end_tick_list[i])"
   ]
  },
  {
   "cell_type": "code",
   "execution_count": null,
   "metadata": {},
   "outputs": [],
   "source": [
    "plt.hist(tempi_attesa_list, bins=9)\n",
    "plt.show()"
   ]
  },
  {
   "cell_type": "code",
   "execution_count": null,
   "metadata": {},
   "outputs": [],
   "source": [
    "media_pesata_tempi_attesa = media_pesata(tempi_attesa_list, err_tempi_attesa_list)\n",
    "err_media_pesata_tempi_attesa = np.sqrt(np.sum((tempi_attesa_list-media_pesata_tempi_attesa)**2)/((len(tempi_attesa_list)-1)*len(tempi_attesa_list)))\n",
    "print('Media pesata e errore tempi attesa:',media_pesata_tempi_attesa,err_media_pesata_tempi_attesa)"
   ]
  },
  {
   "cell_type": "markdown",
   "metadata": {},
   "source": [
    "media pesata e errori tempi attesa caso norndm  \n",
    "17.850298917848043 1.0515878508062226"
   ]
  },
  {
   "cell_type": "markdown",
   "metadata": {},
   "source": [
    "Tempi di attesa diminuiscono\n",
    "Sembra ok, data la contemporanea presenza di più attivi e la nascita di una nuova classe di rivolte, sembra logico che gli spike diventino più frequenti"
   ]
  },
  {
   "cell_type": "markdown",
   "metadata": {},
   "source": [
    "## Ampiezza"
   ]
  },
  {
   "cell_type": "code",
   "execution_count": null,
   "metadata": {},
   "outputs": [],
   "source": [
    "## Calcolo ampiezze per ogni rivolta e errore da propagazione errori del fit\n",
    "ampiezze_list = [gauss_params_dict[rivolte][0] for rivolte in rivolte_dict]\n",
    "err_ampiezze_list = [gauss_err_params_dict[rivolte][0] for rivolte in rivolte_dict]\n",
    "ampiezze_list = np.abs(ampiezze_list)\n",
    "err_ampiezze_list = np.abs(err_ampiezze_list)\n",
    "\n",
    "## Calcolo media pesata e errore su media\n",
    "media_pesata_ampiezze = media_pesata(ampiezze_list, err_ampiezze_list)\n",
    "err_media_pesata_ampiezze = np.sqrt(np.sum((ampiezze_list - media_pesata_ampiezze)**2)/(len(ampiezze_list)*(len(ampiezze_list)-1)))"
   ]
  },
  {
   "cell_type": "code",
   "execution_count": null,
   "metadata": {
    "scrolled": true
   },
   "outputs": [],
   "source": [
    "plt.hist(ampiezze_list, bins=20)\n",
    "plt.show()"
   ]
  },
  {
   "cell_type": "code",
   "execution_count": null,
   "metadata": {},
   "outputs": [],
   "source": [
    "print(media_pesata_ampiezze,err_media_pesata_ampiezze)"
   ]
  },
  {
   "cell_type": "markdown",
   "metadata": {},
   "source": [
    "Media pesata e errore ampiezze caso nonrndm  \n",
    "193.59670978171002 14.655492080565837"
   ]
  },
  {
   "cell_type": "code",
   "execution_count": null,
   "metadata": {},
   "outputs": [],
   "source": []
  },
  {
   "cell_type": "code",
   "execution_count": null,
   "metadata": {},
   "outputs": [],
   "source": []
  }
 ],
 "metadata": {
  "kernelspec": {
   "display_name": "Python 3",
   "language": "python",
   "name": "python3"
  },
  "language_info": {
   "codemirror_mode": {
    "name": "ipython",
    "version": 3
   },
   "file_extension": ".py",
   "mimetype": "text/x-python",
   "name": "python",
   "nbconvert_exporter": "python",
   "pygments_lexer": "ipython3",
   "version": "3.7.4"
  },
  "toc": {
   "base_numbering": 1,
   "nav_menu": {},
   "number_sections": true,
   "sideBar": true,
   "skip_h1_title": false,
   "title_cell": "Table of Contents",
   "title_sidebar": "Contents",
   "toc_cell": false,
   "toc_position": {
    "height": "calc(100% - 180px)",
    "left": "10px",
    "top": "150px",
    "width": "201.8px"
   },
   "toc_section_display": true,
   "toc_window_display": true
  }
 },
 "nbformat": 4,
 "nbformat_minor": 2
}
