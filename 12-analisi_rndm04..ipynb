{
 "cells": [
  {
   "cell_type": "code",
   "execution_count": 1,
   "metadata": {},
   "outputs": [
    {
     "name": "stdout",
     "output_type": "stream",
     "text": [
      "Populating the interactive namespace from numpy and matplotlib\n"
     ]
    }
   ],
   "source": [
    "%pylab inline\n",
    "import pandas as pd\n",
    "from scipy.optimize import curve_fit\n",
    "from scipy import asarray as ar\n",
    "from scipy import math\n",
    "#import pylandau\n",
    "import random"
   ]
  },
  {
   "cell_type": "markdown",
   "metadata": {},
   "source": [
    "# Importo il dataset"
   ]
  },
  {
   "cell_type": "code",
   "execution_count": 2,
   "metadata": {},
   "outputs": [
    {
     "data": {
      "text/html": [
       "<div>\n",
       "<style scoped>\n",
       "    .dataframe tbody tr th:only-of-type {\n",
       "        vertical-align: middle;\n",
       "    }\n",
       "\n",
       "    .dataframe tbody tr th {\n",
       "        vertical-align: top;\n",
       "    }\n",
       "\n",
       "    .dataframe thead th {\n",
       "        text-align: right;\n",
       "    }\n",
       "</style>\n",
       "<table border=\"1\" class=\"dataframe\">\n",
       "  <thead>\n",
       "    <tr style=\"text-align: right;\">\n",
       "      <th></th>\n",
       "      <th>x</th>\n",
       "      <th>y</th>\n",
       "      <th>color</th>\n",
       "      <th>pen down?</th>\n",
       "      <th>x.1</th>\n",
       "      <th>y.1</th>\n",
       "      <th>color.1</th>\n",
       "      <th>pen down?.1</th>\n",
       "      <th>x.2</th>\n",
       "      <th>y.2</th>\n",
       "      <th>color.2</th>\n",
       "      <th>pen down?.2</th>\n",
       "    </tr>\n",
       "  </thead>\n",
       "  <tbody>\n",
       "    <tr>\n",
       "      <td>0</td>\n",
       "      <td>0</td>\n",
       "      <td>1120</td>\n",
       "      <td>55</td>\n",
       "      <td>True</td>\n",
       "      <td>0</td>\n",
       "      <td>0</td>\n",
       "      <td>0</td>\n",
       "      <td>True</td>\n",
       "      <td>0</td>\n",
       "      <td>0</td>\n",
       "      <td>15</td>\n",
       "      <td>True</td>\n",
       "    </tr>\n",
       "    <tr>\n",
       "      <td>1</td>\n",
       "      <td>1</td>\n",
       "      <td>1097</td>\n",
       "      <td>55</td>\n",
       "      <td>True</td>\n",
       "      <td>1</td>\n",
       "      <td>21</td>\n",
       "      <td>0</td>\n",
       "      <td>True</td>\n",
       "      <td>1</td>\n",
       "      <td>2</td>\n",
       "      <td>15</td>\n",
       "      <td>True</td>\n",
       "    </tr>\n",
       "    <tr>\n",
       "      <td>2</td>\n",
       "      <td>2</td>\n",
       "      <td>1098</td>\n",
       "      <td>55</td>\n",
       "      <td>True</td>\n",
       "      <td>2</td>\n",
       "      <td>22</td>\n",
       "      <td>0</td>\n",
       "      <td>True</td>\n",
       "      <td>2</td>\n",
       "      <td>0</td>\n",
       "      <td>15</td>\n",
       "      <td>True</td>\n",
       "    </tr>\n",
       "    <tr>\n",
       "      <td>3</td>\n",
       "      <td>3</td>\n",
       "      <td>1098</td>\n",
       "      <td>55</td>\n",
       "      <td>True</td>\n",
       "      <td>3</td>\n",
       "      <td>22</td>\n",
       "      <td>0</td>\n",
       "      <td>True</td>\n",
       "      <td>3</td>\n",
       "      <td>0</td>\n",
       "      <td>15</td>\n",
       "      <td>True</td>\n",
       "    </tr>\n",
       "    <tr>\n",
       "      <td>4</td>\n",
       "      <td>4</td>\n",
       "      <td>1099</td>\n",
       "      <td>55</td>\n",
       "      <td>True</td>\n",
       "      <td>4</td>\n",
       "      <td>20</td>\n",
       "      <td>0</td>\n",
       "      <td>True</td>\n",
       "      <td>4</td>\n",
       "      <td>1</td>\n",
       "      <td>15</td>\n",
       "      <td>True</td>\n",
       "    </tr>\n",
       "  </tbody>\n",
       "</table>\n",
       "</div>"
      ],
      "text/plain": [
       "   x     y  color  pen down?  x.1  y.1  color.1  pen down?.1  x.2  y.2  \\\n",
       "0  0  1120     55       True    0    0        0         True    0    0   \n",
       "1  1  1097     55       True    1   21        0         True    1    2   \n",
       "2  2  1098     55       True    2   22        0         True    2    0   \n",
       "3  3  1098     55       True    3   22        0         True    3    0   \n",
       "4  4  1099     55       True    4   20        0         True    4    1   \n",
       "\n",
       "   color.2  pen down?.2  \n",
       "0       15         True  \n",
       "1       15         True  \n",
       "2       15         True  \n",
       "3       15         True  \n",
       "4       15         True  "
      ]
     },
     "execution_count": 2,
     "metadata": {},
     "output_type": "execute_result"
    }
   ],
   "source": [
    "file = pd.read_csv(r'/Users/giulioquaglia/Downloads/Econofisica-main-4/dati_rndm_04.txt')\n",
    "file.head()"
   ]
  },
  {
   "cell_type": "code",
   "execution_count": 3,
   "metadata": {
    "scrolled": true
   },
   "outputs": [
    {
     "name": "stderr",
     "output_type": "stream",
     "text": [
      "/opt/anaconda3/lib/python3.7/site-packages/ipykernel_launcher.py:4: DeprecationWarning: scipy.asarray is deprecated and will be removed in SciPy 2.0.0, use numpy.asarray instead\n",
      "  after removing the cwd from sys.path.\n"
     ]
    },
    {
     "data": {
      "text/plain": [
       "980"
      ]
     },
     "execution_count": 3,
     "metadata": {},
     "output_type": "execute_result"
    }
   ],
   "source": [
    "df = file['y.2']\n",
    "y = df.to_numpy()\n",
    "y = y[210:-10]\n",
    "x = ar(range(len(y)))\n",
    "len(x)"
   ]
  },
  {
   "cell_type": "code",
   "execution_count": 4,
   "metadata": {},
   "outputs": [
    {
     "data": {
      "image/png": "[encoded data removed]",
      "text/plain": [
       "<Figure size 432x288 with 1 Axes>"
      ]
     },
     "metadata": {
      "needs_background": "light"
     },
     "output_type": "display_data"
    }
   ],
   "source": [
    "plt.plot(range(len(y)), y, color='r')\n",
    "#plt.errorbar(range(len(soglie)), soglie, yerr=err_soglie)\n",
    "plt.show()"
   ]
  },
  {
   "cell_type": "markdown",
   "metadata": {},
   "source": [
    "# Definizioni Utili"
   ]
  },
  {
   "cell_type": "markdown",
   "metadata": {},
   "source": [
    "## Fit Utils"
   ]
  },
  {
   "cell_type": "code",
   "execution_count": 5,
   "metadata": {},
   "outputs": [],
   "source": [
    "def chiquadronorm(oss, fit, sigma, ddof, aiuto=False, norm=True):\n",
    "    'funzione che calcola il chiquadrato di una distribuzione osservata rispetto a una\\\n",
    "    forma funzionale nota'\n",
    "    \n",
    "    #prende liste monodimensionali come argomenti\n",
    "    scarti = []\n",
    "    scartiquadri = []\n",
    "    scartiquadridivisi = []\n",
    "    \n",
    "    for i in range(len(oss)):\n",
    "        scarti.append(oss[i]-fit[i])\n",
    "        scartiquadri.append(scarti[i]*scarti[i])\n",
    "        scartiquadridivisi.append(scartiquadri[i]/(sigma[i]*sigma[i]))\n",
    "        \n",
    "        if (aiuto==True):\n",
    "            print('scarti= ', scarti[i])\n",
    "            print('scartiquadri= ', scartiquadri[i])\n",
    "            print('scartiquadridivisi= ', scartiquadridivisi[i])\n",
    "            \n",
    "    chiquadro=sum(scartiquadridivisi)\n",
    "    chiquadroreg=chiquadro/ddof\n",
    "    \n",
    "    if(norm==True):\n",
    "        return (chiquadroreg)\n",
    "    else:\n",
    "        return (chiquadro)\n",
    "\n",
    "def cost_chiquadronorm(oss, fit, sigma, ddof, aiuto=False, norm=True):\n",
    "    'funzione che calcola il chiquadrato di una distribuzione osservata rispetto a una\\\n",
    "    forma funzionale nota'\n",
    "    \n",
    "    #prende liste monodimensionali come argomenti\n",
    "    scarti = []\n",
    "    scartiquadri = []\n",
    "    scartiquadridivisi = []\n",
    "    \n",
    "    for i in range(len(oss)):\n",
    "        scarti.append(oss[i]-fit)\n",
    "        scartiquadri.append(scarti[i]*scarti[i])\n",
    "        scartiquadridivisi.append(scartiquadri[i]/(sigma[i]*sigma[i]))\n",
    "        \n",
    "        if (aiuto==True):\n",
    "            print('scarti= ', scarti[i])\n",
    "            print('scartiquadri= ', scartiquadri[i])\n",
    "            print('scartiquadridivisi= ', scartiquadridivisi[i])\n",
    "            \n",
    "    chiquadro=sum(scartiquadridivisi)\n",
    "    chiquadroreg=chiquadro/ddof\n",
    "    \n",
    "    if(norm==True):\n",
    "        return (chiquadroreg)\n",
    "    else:\n",
    "        return (chiquadro)\n",
    "\n",
    "    \n",
    "def media_pesata(x, sigma):\n",
    "    numeratore = 0\n",
    "    denominatore = 0\n",
    "    for i in range(len(x)):\n",
    "        numeratore += x[i]/(sigma[i]**2)\n",
    "        denominatore += 1/(sigma[i]**2)\n",
    "    return numeratore/denominatore\n",
    "\n",
    "def costante(x,q):\n",
    "    return q\n",
    "\n",
    "def retta(x,m,q):\n",
    "    return m*x +q\n",
    "\n",
    "def gauss(x,a,x0,sigma,baseline):\n",
    "    'Ritorna array gaussiano a partire da lista x secondo i parametri a,x0,sigma'\n",
    "    return (baseline + a*exp(-(x-x0)**2/(2*sigma*sigma)))\n",
    "\n",
    "\n",
    "def lore(x, a, x0, y0, baseline):\n",
    "    'Ritorna array lorentziano a partire da lista x secondo i parametri a,x0,yo'\n",
    "    return (baseline + a*(y0/(((x - x0)**2) + (y0**2))))\n",
    "\n",
    "def fattoriale(x):\n",
    "    temp_list = []\n",
    "\n",
    "    for ics in x:\n",
    "        f=1\n",
    "        for i in range(1,ics+1):\n",
    "            f*=i\n",
    "        temp_list.append(f)\n",
    "    return(temp_list)\n",
    "\n",
    "def poisson(x, a, media, baseline):\n",
    "    result = baseline + a*(media**x)*np.exp(-media)/fattoriale(x)\n",
    "    return(result)\n",
    "\n",
    "def landau(x, mpv, eta, A, baseline):\n",
    "    x=double(x)\n",
    "    'Ritorna array landauiano a partire da lista x secondo i parametri suoi'\n",
    "    return (baseline + double(pylandau.landau(x, mpv=mpv, eta=eta, A=A)))"
   ]
  },
  {
   "cell_type": "markdown",
   "metadata": {},
   "source": [
    "## Selecting Spikes"
   ]
  },
  {
   "cell_type": "code",
   "execution_count": 6,
   "metadata": {},
   "outputs": [],
   "source": [
    "def isola_spikes (y, datiesterni):\n",
    "    '''\n",
    "    Dati i dati sugli attivi, ritorna due dizionari: \n",
    "    {num_rivolta: [valori attivi]}\n",
    "    {num_rivolta: [tick corrispondenti]}\n",
    "    '''\n",
    "    rivolte_diz = {}\n",
    "    tick_rivolte_diz = {}\n",
    "    temp_rivolta_list = []\n",
    "    temp_tick_list = []\n",
    "    rivolte_counter = 0\n",
    "    cerarivolta = False\n",
    "    \n",
    "    for i in range(len(y)):\n",
    "        \n",
    "        ##aggiustato a 12 per non avere rivoltini\n",
    "        if y[i] > 12:\n",
    "            temp_rivolta_list.append(y[i])\n",
    "            temp_tick_list.append(i)\n",
    "            if cerarivolta == False:\n",
    "                rivolte_counter += 1\n",
    "                cerarivolta = True\n",
    "        else:\n",
    "            if cerarivolta == True:\n",
    "                lunghezza=len(temp_rivolta_list)\n",
    "                if rivolte_counter > 1:\n",
    "                    if datiesterni == 1:\n",
    "                        temp_rivolta_list.insert(0, y[i-lunghezza-1])\n",
    "                        temp_tick_list.insert(0, i-lunghezza-1)\n",
    "                    if datiesterni == 2:\n",
    "                        temp_rivolta_list.insert(0, y[i-lunghezza-1])\n",
    "                        temp_rivolta_list.insert(0, y[i-lunghezza-2])\n",
    "                        temp_tick_list.insert(0, i-lunghezza-1)\n",
    "                        temp_tick_list.insert(0, i-lunghezza-2)\n",
    "                    if datiesterni == 3:\n",
    "                        temp_rivolta_list.insert(0, y[i-lunghezza-1])\n",
    "                        temp_rivolta_list.insert(0, y[i-lunghezza-2])\n",
    "                        temp_rivolta_list.insert(0, y[i-lunghezza-3])\n",
    "                        temp_tick_list.insert(0, i-lunghezza-1)\n",
    "                        temp_tick_list.insert(0, i-lunghezza-2)\n",
    "                        temp_tick_list.insert(0, i-lunghezza-3)\n",
    "                else:\n",
    "                    if datiesterni == 1:\n",
    "                        temp_rivolta_list.insert(0, 0)\n",
    "                        temp_tick_list.insert(0, i-lunghezza-1)\n",
    "                    if datiesterni == 2:\n",
    "                        temp_rivolta_list.insert(0, 0)\n",
    "                        temp_rivolta_list.insert(0, 0)\n",
    "                        temp_tick_list.insert(0, i-lunghezza-1)\n",
    "                        temp_tick_list.insert(0, i-lunghezza-2)\n",
    "                    if datiesterni == 3:\n",
    "                        temp_rivolta_list.insert(0, 0)\n",
    "                        temp_rivolta_list.insert(0, 0)\n",
    "                        temp_rivolta_list.insert(0, 0)\n",
    "                        temp_tick_list.insert(0, i-lunghezza-1)\n",
    "                        temp_tick_list.insert(0, i-lunghezza-2)\n",
    "                        temp_tick_list.insert(0, i-lunghezza-3)\n",
    "                    \n",
    "                if datiesterni == 1:\n",
    "                        temp_rivolta_list.append(y[i])\n",
    "                        temp_tick_list.append(i)\n",
    "                if datiesterni == 2:\n",
    "                        temp_rivolta_list.append(y[i])\n",
    "                        temp_rivolta_list.append(y[i+1])\n",
    "                        temp_tick_list.append(i)\n",
    "                        temp_tick_list.append(i+1)\n",
    "                if datiesterni == 3:\n",
    "                        temp_rivolta_list.append(y[i])\n",
    "                        temp_rivolta_list.append(y[i+1])\n",
    "                        temp_rivolta_list.append(y[i+2])\n",
    "                        temp_tick_list.append(i)\n",
    "                        temp_tick_list.append(i+1)\n",
    "                        temp_tick_list.append(i+2)\n",
    "                \n",
    "                rivolte_diz[str(rivolte_counter)+'_spike'] = temp_rivolta_list\n",
    "                tick_rivolte_diz[str(rivolte_counter)+'_spike'] = temp_tick_list\n",
    "                temp_rivolta_list = []\n",
    "                temp_tick_list = []\n",
    "                cerarivolta = False\n",
    "                \n",
    "    return rivolte_diz, tick_rivolte_diz"
   ]
  },
  {
   "cell_type": "markdown",
   "metadata": {},
   "source": [
    "# Analisi - rndm 4%"
   ]
  },
  {
   "cell_type": "markdown",
   "metadata": {},
   "source": [
    "## Creo dizionario degli spikes"
   ]
  },
  {
   "cell_type": "code",
   "execution_count": 7,
   "metadata": {},
   "outputs": [],
   "source": [
    "spikes_dict, tick_spikes_dict = isola_spikes(y, 3)"
   ]
  },
  {
   "cell_type": "markdown",
   "metadata": {},
   "source": [
    "# Rivolte  \n",
    "**HP: sono funzioni gaussiane**  \n",
    "Usiamo il valore di soglia trovato nel caso non random, cambia il meccanismo di attivazione del singolo agente ma non la descrizione della rivolta.  \n",
    "Selezioniamo tutte le rivolte tali per cui max#attivi+errore_attivi >= soglia-5err_soglia, queste apparterranno alla stessa categoria di rivolte trovate nel caso non rndm.  \n",
    "Salvo in rivoltini_dict quelle che non vengono incluse prima per vedere se si viene a creare una nuova popolazione dovuta dalla randomizzazione (che differisce invece dalle rivolte, dovute alla clusterizzazione degli agenti)"
   ]
  },
  {
   "cell_type": "code",
   "execution_count": 8,
   "metadata": {},
   "outputs": [],
   "source": [
    "soglia = 128.1241472701187\n",
    "err_soglia = 12.6007119219633"
   ]
  },
  {
   "cell_type": "code",
   "execution_count": 9,
   "metadata": {},
   "outputs": [],
   "source": [
    "numero_sigma_soglia = 3\n",
    "numero_sigma_baseline = 3\n",
    "baseline = 2"
   ]
  },
  {
   "cell_type": "code",
   "execution_count": 10,
   "metadata": {},
   "outputs": [],
   "source": [
    "## Seleziono le rivolte secondo la regola:\n",
    "###if soglia-5*errore_soglia < y + errore_y --> rivolta\n",
    "###altrimenti salvo in rivoltini_dict\n",
    "rivolte_dict = {}\n",
    "tick_rivolte_dict = {}\n",
    "rivoltini_dict = {}\n",
    "tick_rivoltini_dict = {}\n",
    "nobase_dict = {}\n",
    "tick_nobase_dict = {}\n",
    "rivolte_counter = 0\n",
    "rivoltini_counter = 0\n",
    "for spike in spikes_dict:\n",
    "    y = spikes_dict[spike]\n",
    "    x = tick_spikes_dict[spike]\n",
    "    if np.max(y)+np.sqrt(np.max(y)) >= soglia-numero_sigma_soglia*err_soglia:\n",
    "        rivolte_counter += 1\n",
    "        rivolte_dict[str(rivolte_counter)+'_rivolta']=y\n",
    "        tick_rivolte_dict[str(rivolte_counter)+'_rivolta']=x\n",
    "        nobase_dict[str(rivolte_counter)+'_rivolta']=y\n",
    "        tick_nobase_dict[str(rivolte_counter)+'_rivolta']=x\n",
    "    elif np.max(y)-numero_sigma_baseline*np.sqrt(np.max(y))>=baseline+numero_sigma_baseline*np.sqrt(baseline):\n",
    "        rivoltini_counter += 1 \n",
    "        rivoltini_dict[str(rivoltini_counter)+'_rivoltini']=y\n",
    "        tick_rivoltini_dict[str(rivoltini_counter)+'_rivoltini']=x\n",
    "        nobase_dict[str(rivoltini_counter)+'_rivoltini']=y\n",
    "        tick_nobase_dict[str(rivoltini_counter)+'_rivoltini']=x"
   ]
  },
  {
   "cell_type": "code",
   "execution_count": 11,
   "metadata": {},
   "outputs": [
    {
     "name": "stdout",
     "output_type": "stream",
     "text": [
      "42 35 4\n"
     ]
    }
   ],
   "source": [
    "print(len(spikes_dict), len(rivolte_dict), len(rivoltini_dict))"
   ]
  },
  {
   "cell_type": "code",
   "execution_count": 12,
   "metadata": {},
   "outputs": [
    {
     "name": "stdout",
     "output_type": "stream",
     "text": [
      "90.3220115042288 \n",
      "\n",
      "57.071067811865476\n",
      "50.633249580710796\n",
      "49.557438524302\n",
      "40.91607978309962\n"
     ]
    }
   ],
   "source": [
    "print(soglia-numero_sigma_soglia*err_soglia,'\\n')\n",
    "for risvoltino in rivoltini_dict:\n",
    "    print(max(rivoltini_dict[risvoltino])+np.sqrt(max(rivoltini_dict[risvoltino])))"
   ]
  },
  {
   "cell_type": "code",
   "execution_count": 13,
   "metadata": {
    "scrolled": false
   },
   "outputs": [],
   "source": [
    "##calcolo soglie delle rivolte come f(media-sigma) e errore come f(media-1.2*sigma)-f(media-0.8*sigma)\n",
    "soglie = []\n",
    "err_soglie = []\n",
    "for i, rivolta in enumerate(rivolte_dict.keys()):\n",
    "    \n",
    "    y = rivolte_dict[rivolta]\n",
    "    x = range(len(y))\n",
    "    ##computo errore come radice dei conteggi\n",
    "    sigma_gauss = np.where(np.sqrt(y)==0,1,np.sqrt(y))\n",
    "    \n",
    "    gauss_params,gauss_cov = curve_fit(gauss,x,y,p0=[200.,3.,2.5,0],sigma=sigma_gauss)\n",
    "    gauss_red_chisq = chiquadronorm(y, gauss(x,*gauss_params), sigma_gauss, len(y)-len(gauss_params), norm=True)\n",
    "    soglia = gauss(gauss_params[1] - gauss_params[2], *gauss_params)\n",
    "    errore = gauss(gauss_params[1] - 1.2*gauss_params[2], *gauss_params) - gauss(gauss_params[1] - 0.8*gauss_params[2], *gauss_params)\n",
    "    soglie.append(soglia)\n",
    "    err_soglie.append(np.abs(errore))"
   ]
  },
  {
   "cell_type": "code",
   "execution_count": 14,
   "metadata": {
    "scrolled": false
   },
   "outputs": [],
   "source": [
    "##calcolo soglini delle rivoltine come f(media-sigma) e errore come f(media-1.2*sigma)-f(media-0.8*sigma)\n",
    "soglini = []\n",
    "err_soglini = []\n",
    "for i, rivolta in enumerate(rivoltini_dict.keys()):\n",
    "    \n",
    "    y = rivoltini_dict[rivolta]\n",
    "    x = range(len(y))\n",
    "    ##computo errore come radice dei conteggi\n",
    "    sigma_gauss = np.where(np.sqrt(y)==0,1,np.sqrt(y))\n",
    "    \n",
    "    gauss_params,gauss_cov = curve_fit(gauss,x,y,p0=[50.,3.,2.5,0.],sigma=sigma_gauss)\n",
    "    gauss_red_chisq = chiquadronorm(y, gauss(x,*gauss_params), sigma_gauss, len(y)-len(gauss_params), norm=True)\n",
    "    soglia = gauss(gauss_params[1] - gauss_params[2], *gauss_params)\n",
    "    errore = gauss(gauss_params[1] - 1.2*gauss_params[2], *gauss_params) - gauss(gauss_params[1] - 0.8*gauss_params[2], *gauss_params)\n",
    "    soglini.append(soglia)\n",
    "    err_soglini.append(np.abs(errore))"
   ]
  },
  {
   "cell_type": "markdown",
   "metadata": {},
   "source": [
    "## Metodo grafico  \n",
    "Plotto le rivolte con relativi errori in funzione dell'ordine della rivolta,  \n",
    "se il chiquadro ridotto del fit di questi valori con una costante è minore di uno, allora posso dire che gli eventi considerati sono statisticamente indipendenti e appartenenti alla stessa distribuzione"
   ]
  },
  {
   "cell_type": "markdown",
   "metadata": {},
   "source": [
    "### Rivolte-Provo con costante"
   ]
  },
  {
   "cell_type": "code",
   "execution_count": 15,
   "metadata": {},
   "outputs": [
    {
     "data": {
      "image/png": "[encoded data removed]",
      "text/plain": [
       "<Figure size 432x288 with 1 Axes>"
      ]
     },
     "metadata": {
      "needs_background": "light"
     },
     "output_type": "display_data"
    },
    {
     "name": "stdout",
     "output_type": "stream",
     "text": [
      "ReducedChiSquared: 0.8094813277321361\n"
     ]
    }
   ],
   "source": [
    "popt, pcov = curve_fit(costante, range(len(soglie)), soglie, sigma=err_soglie)\n",
    "cost_red_chisq = cost_chiquadronorm(soglie, costante(range(len(soglie)),*popt), err_soglie, len(soglie)-len(popt), norm=True)\n",
    "plt.plot(range(len(soglie)), [costante(range(len(soglie)),*popt) for k in range(len(soglie))], color='r')\n",
    "plt.errorbar(range(len(soglie)), soglie, yerr=err_soglie,solid_capstyle='projecting',capsize=5)\n",
    "plt.show()\n",
    "print('ReducedChiSquared:', cost_red_chisq)"
   ]
  },
  {
   "cell_type": "code",
   "execution_count": 16,
   "metadata": {},
   "outputs": [
    {
     "data": {
      "text/plain": [
       "(array([117.6526564]), array([[7.60005978]]))"
      ]
     },
     "execution_count": 16,
     "metadata": {},
     "output_type": "execute_result"
    }
   ],
   "source": [
    "popt ,np.sqrt(pcov)"
   ]
  },
  {
   "cell_type": "code",
   "execution_count": 17,
   "metadata": {},
   "outputs": [
    {
     "name": "stdout",
     "output_type": "stream",
     "text": [
      "117.65265641044147 8.773112492138617\n"
     ]
    }
   ],
   "source": [
    "media_pesata_soglie = media_pesata(soglie, err_soglie)\n",
    "err_media_pesata_soglie = np.sqrt(np.sum((soglie-media_pesata_soglie)**2)/((len(soglie)-1)*len(soglie)))\n",
    "print(media_pesata_soglie, err_media_pesata_soglie)"
   ]
  },
  {
   "cell_type": "markdown",
   "metadata": {},
   "source": [
    "media pesata e errore soglie caso nonrndm  \n",
    "128.77802517036957 6.633983699986502"
   ]
  },
  {
   "cell_type": "markdown",
   "metadata": {},
   "source": [
    "Gli eventi selezionati come rivolte hanno valori di soglia che, al netto degli errori considerati, sono considerabili come appartenenti a alla stessa distribuzione statistica.  \n",
    "Rispetto al caso non random vedo però che il valore della costante (media pesata soglie) è calato e non è più compatibile (1sigma) con il valore trovato in precedenza. Se considero però gli intervalli media pesata +- 3sigma dei valori di soglia nel caso random e non random questi hanno intersezione non nulla."
   ]
  },
  {
   "cell_type": "markdown",
   "metadata": {},
   "source": [
    "### Rivoltini-Provo con costante  \n",
    "oss, sono proprio sicuro che fittino con una gaussiana? non dovrei provare altre forme funzionali?"
   ]
  },
  {
   "cell_type": "code",
   "execution_count": 18,
   "metadata": {},
   "outputs": [
    {
     "data": {
      "image/png": "[encoded data removed]",
      "text/plain": [
       "<Figure size 432x288 with 1 Axes>"
      ]
     },
     "metadata": {
      "needs_background": "light"
     },
     "output_type": "display_data"
    },
    {
     "name": "stdout",
     "output_type": "stream",
     "text": [
      "ReducedChiSquared: 0.2914860412330269\n"
     ]
    }
   ],
   "source": [
    "popt, pcov = curve_fit(costante, range(len(soglini)), soglini, sigma=err_soglini)\n",
    "cost_red_chisq = cost_chiquadronorm(soglini, costante(range(len(soglini)),*popt), err_soglini, len(soglini)-len(popt), norm=True)\n",
    "plt.plot(range(len(soglini)), [costante(range(len(soglini)),*popt) for k in range(len(soglini))], color='r')\n",
    "plt.errorbar(range(len(soglini)), soglini, yerr=err_soglini,solid_capstyle='projecting',capsize=5)\n",
    "plt.show()\n",
    "print('ReducedChiSquared:', cost_red_chisq)"
   ]
  },
  {
   "cell_type": "code",
   "execution_count": 19,
   "metadata": {},
   "outputs": [
    {
     "name": "stdout",
     "output_type": "stream",
     "text": [
      "24.54084767182624 3.361037958551396\n"
     ]
    }
   ],
   "source": [
    "media_pesata_soglini = media_pesata(soglini, err_soglini)\n",
    "err_media_pesata_soglini = np.sqrt(np.sum((soglini-media_pesata_soglini)**2)/((len(soglini)-1)*len(soglini)))\n",
    "print(media_pesata_soglini, err_media_pesata_soglini)"
   ]
  },
  {
   "cell_type": "markdown",
   "metadata": {},
   "source": [
    "I rivoltini invece, hanno un chiquadro ridotto superiore a uno.  \n",
    "Non sembrerebbe si tratti della stessa popolazione statistica, ma probabilmente questo è dovuto ai piccoli errori sui valori di soglia più piccoli"
   ]
  },
  {
   "cell_type": "markdown",
   "metadata": {},
   "source": [
    "# Metriche  \n",
    "Tutte le metriche vengono ricavate dal calcolo dei parametri derivanti dalla procedura di fit:  \n",
    "- Durata = 6sigma della rivolta considerata  \n",
    "- Tempo attesa = (media[rivolta_i+1] - 3sigma[rivolta_i+1]) - (media[rivolta_i] + 3sigma[rivolta_i])  \n",
    "- Ampiezza = parametro del fit  \n",
    "  \n",
    "Gli errori vengono calcolati dalla propagazione degli errori sui parametri del fit"
   ]
  },
  {
   "cell_type": "code",
   "execution_count": 20,
   "metadata": {},
   "outputs": [],
   "source": [
    "## For loop che mi serve a trovare ampiezza, media e deviazione standard di ognuna delle rivolte,\n",
    "###salvo i parametri del fit per ognuna delle rivolte\n",
    "gauss_params_dict = {}\n",
    "gauss_err_params_dict = {}\n",
    "for rivolte in rivolte_dict:\n",
    "\n",
    "    temp_list = []\n",
    "    temp_err_list = []\n",
    "    y = rivolte_dict[rivolte]\n",
    "    x = tick_rivolte_dict[rivolte]\n",
    "    \n",
    "    err_y = np.where(np.sqrt(y)==0,1,np.sqrt(y))\n",
    "    gauss_params,gauss_cov = curve_fit(gauss,x,y,p0=[200,((x[-1]-x[0])/2)+x[0],4.,0.],sigma=err_y)\n",
    "    temp_list.append(gauss_params[0])\n",
    "    temp_list.append(gauss_params[1])\n",
    "    temp_list.append(gauss_params[2])\n",
    "    temp_list.append(gauss_params[3])\n",
    "    temp_err_list.append(np.sqrt(np.abs(gauss_cov[0][0])))\n",
    "    temp_err_list.append(np.sqrt(np.abs(gauss_cov[1][1])))\n",
    "    temp_err_list.append(np.sqrt(np.abs(gauss_cov[2][2])))\n",
    "    temp_err_list.append(np.sqrt(np.abs(gauss_cov[3][3])))\n",
    "    gauss_params_dict[rivolte] = temp_list\n",
    "    gauss_err_params_dict[rivolte] = temp_err_list"
   ]
  },
  {
   "cell_type": "code",
   "execution_count": 21,
   "metadata": {},
   "outputs": [],
   "source": [
    "## For loop che mi serve a trovare ampiezza, media e deviazione standard di ognuna delle rivolte,\n",
    "###salvo i parametri del fit per ognuna delle rivolte\n",
    "nobase_gauss_params_dict = {}\n",
    "nobase_gauss_err_params_dict = {}\n",
    "for rivolte in nobase_dict:\n",
    "\n",
    "    temp_list = []\n",
    "    temp_err_list = []\n",
    "    y = nobase_dict[rivolte]\n",
    "    x = tick_nobase_dict[rivolte]\n",
    "    \n",
    "    err_y = np.where(np.sqrt(y)==0,1,np.sqrt(y))\n",
    "    gauss_params,gauss_cov = curve_fit(gauss,x,y,p0=[100,((x[-1]-x[0])/2)+x[0],4.,0.],sigma=err_y,**{'maxfev':10000})\n",
    "    temp_list.append(gauss_params[0])\n",
    "    temp_list.append(gauss_params[1])\n",
    "    temp_list.append(gauss_params[2])\n",
    "    temp_list.append(gauss_params[3])\n",
    "    temp_err_list.append(np.sqrt(np.abs(gauss_cov[0][0])))\n",
    "    temp_err_list.append(np.sqrt(np.abs(gauss_cov[1][1])))\n",
    "    temp_err_list.append(np.sqrt(np.abs(gauss_cov[2][2])))\n",
    "    temp_err_list.append(np.sqrt(np.abs(gauss_cov[3][3])))\n",
    "    nobase_gauss_params_dict[rivolte] = temp_list\n",
    "    nobase_gauss_err_params_dict[rivolte] = temp_err_list"
   ]
  },
  {
   "cell_type": "code",
   "execution_count": 22,
   "metadata": {
    "scrolled": false
   },
   "outputs": [
    {
     "data": {
      "text/html": [
       "<div>\n",
       "<style scoped>\n",
       "    .dataframe tbody tr th:only-of-type {\n",
       "        vertical-align: middle;\n",
       "    }\n",
       "\n",
       "    .dataframe tbody tr th {\n",
       "        vertical-align: top;\n",
       "    }\n",
       "\n",
       "    .dataframe thead th {\n",
       "        text-align: right;\n",
       "    }\n",
       "</style>\n",
       "<table border=\"1\" class=\"dataframe\">\n",
       "  <thead>\n",
       "    <tr style=\"text-align: right;\">\n",
       "      <th></th>\n",
       "      <th>0</th>\n",
       "      <th>1</th>\n",
       "      <th>2</th>\n",
       "      <th>3</th>\n",
       "    </tr>\n",
       "  </thead>\n",
       "  <tbody>\n",
       "    <tr>\n",
       "      <td>1_rivolta</td>\n",
       "      <td>1.373428e+01</td>\n",
       "      <td>1.276361e-01</td>\n",
       "      <td>9.858172e-02</td>\n",
       "      <td>1.114297</td>\n",
       "    </tr>\n",
       "    <tr>\n",
       "      <td>2_rivolta</td>\n",
       "      <td>3.216217e+01</td>\n",
       "      <td>1.823177e-01</td>\n",
       "      <td>1.341648e-01</td>\n",
       "      <td>2.009913</td>\n",
       "    </tr>\n",
       "    <tr>\n",
       "      <td>3_rivolta</td>\n",
       "      <td>2.162449e+01</td>\n",
       "      <td>1.460180e-01</td>\n",
       "      <td>1.099462e-01</td>\n",
       "      <td>1.450655</td>\n",
       "    </tr>\n",
       "    <tr>\n",
       "      <td>4_rivolta</td>\n",
       "      <td>5.491516e+01</td>\n",
       "      <td>2.531447e-01</td>\n",
       "      <td>1.645349e-01</td>\n",
       "      <td>2.604147</td>\n",
       "    </tr>\n",
       "    <tr>\n",
       "      <td>5_rivolta</td>\n",
       "      <td>4.499580e+01</td>\n",
       "      <td>2.108748e-01</td>\n",
       "      <td>1.436659e-01</td>\n",
       "      <td>2.586735</td>\n",
       "    </tr>\n",
       "    <tr>\n",
       "      <td>6_rivolta</td>\n",
       "      <td>4.353864e+01</td>\n",
       "      <td>2.090245e-01</td>\n",
       "      <td>1.434160e-01</td>\n",
       "      <td>2.397661</td>\n",
       "    </tr>\n",
       "    <tr>\n",
       "      <td>7_rivolta</td>\n",
       "      <td>1.884481e+01</td>\n",
       "      <td>1.234108e-01</td>\n",
       "      <td>9.822504e-02</td>\n",
       "      <td>1.348493</td>\n",
       "    </tr>\n",
       "    <tr>\n",
       "      <td>8_rivolta</td>\n",
       "      <td>1.137294e+01</td>\n",
       "      <td>1.626260e-01</td>\n",
       "      <td>1.276682e-01</td>\n",
       "      <td>1.021691</td>\n",
       "    </tr>\n",
       "    <tr>\n",
       "      <td>9_rivolta</td>\n",
       "      <td>3.664513e+01</td>\n",
       "      <td>1.673580e-01</td>\n",
       "      <td>1.119521e-01</td>\n",
       "      <td>1.862789</td>\n",
       "    </tr>\n",
       "    <tr>\n",
       "      <td>10_rivolta</td>\n",
       "      <td>3.517668e+01</td>\n",
       "      <td>2.155363e-01</td>\n",
       "      <td>1.514820e-01</td>\n",
       "      <td>2.093546</td>\n",
       "    </tr>\n",
       "    <tr>\n",
       "      <td>11_rivolta</td>\n",
       "      <td>2.659771e+01</td>\n",
       "      <td>1.595889e-01</td>\n",
       "      <td>1.145893e-01</td>\n",
       "      <td>1.571683</td>\n",
       "    </tr>\n",
       "    <tr>\n",
       "      <td>12_rivolta</td>\n",
       "      <td>7.839822e+09</td>\n",
       "      <td>7.982721e+08</td>\n",
       "      <td>6.800003e+10</td>\n",
       "      <td>3.406423</td>\n",
       "    </tr>\n",
       "    <tr>\n",
       "      <td>13_rivolta</td>\n",
       "      <td>2.074477e+01</td>\n",
       "      <td>1.154557e-01</td>\n",
       "      <td>8.884131e-02</td>\n",
       "      <td>1.194470</td>\n",
       "    </tr>\n",
       "    <tr>\n",
       "      <td>14_rivolta</td>\n",
       "      <td>2.278474e+01</td>\n",
       "      <td>1.331970e-01</td>\n",
       "      <td>1.053892e-01</td>\n",
       "      <td>1.536648</td>\n",
       "    </tr>\n",
       "    <tr>\n",
       "      <td>15_rivolta</td>\n",
       "      <td>4.728359e+01</td>\n",
       "      <td>2.042994e-01</td>\n",
       "      <td>1.373291e-01</td>\n",
       "      <td>2.288192</td>\n",
       "    </tr>\n",
       "    <tr>\n",
       "      <td>16_rivolta</td>\n",
       "      <td>2.990146e+01</td>\n",
       "      <td>1.750068e-01</td>\n",
       "      <td>1.306415e-01</td>\n",
       "      <td>1.743783</td>\n",
       "    </tr>\n",
       "    <tr>\n",
       "      <td>17_rivolta</td>\n",
       "      <td>1.216467e+01</td>\n",
       "      <td>1.038123e-01</td>\n",
       "      <td>9.013650e-02</td>\n",
       "      <td>1.138676</td>\n",
       "    </tr>\n",
       "    <tr>\n",
       "      <td>18_rivolta</td>\n",
       "      <td>1.103658e+01</td>\n",
       "      <td>1.010269e-01</td>\n",
       "      <td>8.746046e-02</td>\n",
       "      <td>0.962191</td>\n",
       "    </tr>\n",
       "    <tr>\n",
       "      <td>19_rivolta</td>\n",
       "      <td>2.072990e+01</td>\n",
       "      <td>1.182058e-01</td>\n",
       "      <td>8.899061e-02</td>\n",
       "      <td>1.286039</td>\n",
       "    </tr>\n",
       "    <tr>\n",
       "      <td>20_rivolta</td>\n",
       "      <td>3.645406e+01</td>\n",
       "      <td>1.800265e-01</td>\n",
       "      <td>1.279823e-01</td>\n",
       "      <td>2.075198</td>\n",
       "    </tr>\n",
       "    <tr>\n",
       "      <td>21_rivolta</td>\n",
       "      <td>4.253655e+01</td>\n",
       "      <td>2.172547e-01</td>\n",
       "      <td>1.472188e-01</td>\n",
       "      <td>2.307889</td>\n",
       "    </tr>\n",
       "    <tr>\n",
       "      <td>22_rivolta</td>\n",
       "      <td>1.346478e+01</td>\n",
       "      <td>9.221499e-02</td>\n",
       "      <td>7.398633e-02</td>\n",
       "      <td>0.958538</td>\n",
       "    </tr>\n",
       "    <tr>\n",
       "      <td>23_rivolta</td>\n",
       "      <td>5.462046e+01</td>\n",
       "      <td>2.459269e-01</td>\n",
       "      <td>1.580958e-01</td>\n",
       "      <td>2.500241</td>\n",
       "    </tr>\n",
       "    <tr>\n",
       "      <td>24_rivolta</td>\n",
       "      <td>1.425800e+01</td>\n",
       "      <td>9.808669e-02</td>\n",
       "      <td>8.223511e-02</td>\n",
       "      <td>1.111414</td>\n",
       "    </tr>\n",
       "    <tr>\n",
       "      <td>25_rivolta</td>\n",
       "      <td>4.374224e+01</td>\n",
       "      <td>2.184076e-01</td>\n",
       "      <td>1.443120e-01</td>\n",
       "      <td>2.236774</td>\n",
       "    </tr>\n",
       "    <tr>\n",
       "      <td>26_rivolta</td>\n",
       "      <td>1.400107e+01</td>\n",
       "      <td>9.412985e-02</td>\n",
       "      <td>7.177772e-02</td>\n",
       "      <td>0.890074</td>\n",
       "    </tr>\n",
       "    <tr>\n",
       "      <td>27_rivolta</td>\n",
       "      <td>4.207548e+01</td>\n",
       "      <td>2.124641e-01</td>\n",
       "      <td>1.436460e-01</td>\n",
       "      <td>2.505794</td>\n",
       "    </tr>\n",
       "    <tr>\n",
       "      <td>28_rivolta</td>\n",
       "      <td>2.490207e+01</td>\n",
       "      <td>1.383703e-01</td>\n",
       "      <td>1.045905e-01</td>\n",
       "      <td>1.406570</td>\n",
       "    </tr>\n",
       "    <tr>\n",
       "      <td>29_rivolta</td>\n",
       "      <td>1.164305e+01</td>\n",
       "      <td>1.021110e-01</td>\n",
       "      <td>8.185633e-02</td>\n",
       "      <td>0.849298</td>\n",
       "    </tr>\n",
       "    <tr>\n",
       "      <td>30_rivolta</td>\n",
       "      <td>3.679824e+01</td>\n",
       "      <td>1.950767e-01</td>\n",
       "      <td>1.364943e-01</td>\n",
       "      <td>1.923090</td>\n",
       "    </tr>\n",
       "    <tr>\n",
       "      <td>31_rivolta</td>\n",
       "      <td>1.261892e+01</td>\n",
       "      <td>9.717321e-02</td>\n",
       "      <td>7.711867e-02</td>\n",
       "      <td>0.985489</td>\n",
       "    </tr>\n",
       "    <tr>\n",
       "      <td>32_rivolta</td>\n",
       "      <td>6.421338e+00</td>\n",
       "      <td>1.025405e-01</td>\n",
       "      <td>9.011715e-02</td>\n",
       "      <td>0.685353</td>\n",
       "    </tr>\n",
       "    <tr>\n",
       "      <td>33_rivolta</td>\n",
       "      <td>2.733364e+01</td>\n",
       "      <td>1.536911e-01</td>\n",
       "      <td>1.115643e-01</td>\n",
       "      <td>1.620965</td>\n",
       "    </tr>\n",
       "    <tr>\n",
       "      <td>34_rivolta</td>\n",
       "      <td>1.119556e+01</td>\n",
       "      <td>8.336508e-02</td>\n",
       "      <td>6.656158e-02</td>\n",
       "      <td>0.776027</td>\n",
       "    </tr>\n",
       "    <tr>\n",
       "      <td>35_rivolta</td>\n",
       "      <td>2.351605e+01</td>\n",
       "      <td>1.374107e-01</td>\n",
       "      <td>1.015046e-01</td>\n",
       "      <td>1.407245</td>\n",
       "    </tr>\n",
       "  </tbody>\n",
       "</table>\n",
       "</div>"
      ],
      "text/plain": [
       "                       0             1             2         3\n",
       "1_rivolta   1.373428e+01  1.276361e-01  9.858172e-02  1.114297\n",
       "2_rivolta   3.216217e+01  1.823177e-01  1.341648e-01  2.009913\n",
       "3_rivolta   2.162449e+01  1.460180e-01  1.099462e-01  1.450655\n",
       "4_rivolta   5.491516e+01  2.531447e-01  1.645349e-01  2.604147\n",
       "5_rivolta   4.499580e+01  2.108748e-01  1.436659e-01  2.586735\n",
       "6_rivolta   4.353864e+01  2.090245e-01  1.434160e-01  2.397661\n",
       "7_rivolta   1.884481e+01  1.234108e-01  9.822504e-02  1.348493\n",
       "8_rivolta   1.137294e+01  1.626260e-01  1.276682e-01  1.021691\n",
       "9_rivolta   3.664513e+01  1.673580e-01  1.119521e-01  1.862789\n",
       "10_rivolta  3.517668e+01  2.155363e-01  1.514820e-01  2.093546\n",
       "11_rivolta  2.659771e+01  1.595889e-01  1.145893e-01  1.571683\n",
       "12_rivolta  7.839822e+09  7.982721e+08  6.800003e+10  3.406423\n",
       "13_rivolta  2.074477e+01  1.154557e-01  8.884131e-02  1.194470\n",
       "14_rivolta  2.278474e+01  1.331970e-01  1.053892e-01  1.536648\n",
       "15_rivolta  4.728359e+01  2.042994e-01  1.373291e-01  2.288192\n",
       "16_rivolta  2.990146e+01  1.750068e-01  1.306415e-01  1.743783\n",
       "17_rivolta  1.216467e+01  1.038123e-01  9.013650e-02  1.138676\n",
       "18_rivolta  1.103658e+01  1.010269e-01  8.746046e-02  0.962191\n",
       "19_rivolta  2.072990e+01  1.182058e-01  8.899061e-02  1.286039\n",
       "20_rivolta  3.645406e+01  1.800265e-01  1.279823e-01  2.075198\n",
       "21_rivolta  4.253655e+01  2.172547e-01  1.472188e-01  2.307889\n",
       "22_rivolta  1.346478e+01  9.221499e-02  7.398633e-02  0.958538\n",
       "23_rivolta  5.462046e+01  2.459269e-01  1.580958e-01  2.500241\n",
       "24_rivolta  1.425800e+01  9.808669e-02  8.223511e-02  1.111414\n",
       "25_rivolta  4.374224e+01  2.184076e-01  1.443120e-01  2.236774\n",
       "26_rivolta  1.400107e+01  9.412985e-02  7.177772e-02  0.890074\n",
       "27_rivolta  4.207548e+01  2.124641e-01  1.436460e-01  2.505794\n",
       "28_rivolta  2.490207e+01  1.383703e-01  1.045905e-01  1.406570\n",
       "29_rivolta  1.164305e+01  1.021110e-01  8.185633e-02  0.849298\n",
       "30_rivolta  3.679824e+01  1.950767e-01  1.364943e-01  1.923090\n",
       "31_rivolta  1.261892e+01  9.717321e-02  7.711867e-02  0.985489\n",
       "32_rivolta  6.421338e+00  1.025405e-01  9.011715e-02  0.685353\n",
       "33_rivolta  2.733364e+01  1.536911e-01  1.115643e-01  1.620965\n",
       "34_rivolta  1.119556e+01  8.336508e-02  6.656158e-02  0.776027\n",
       "35_rivolta  2.351605e+01  1.374107e-01  1.015046e-01  1.407245"
      ]
     },
     "execution_count": 22,
     "metadata": {},
     "output_type": "execute_result"
    }
   ],
   "source": [
    "\n",
    "pd.DataFrame.from_dict(gauss_err_params_dict, orient='index')"
   ]
  },
  {
   "cell_type": "code",
   "execution_count": 23,
   "metadata": {},
   "outputs": [],
   "source": [
    "del gauss_params_dict['12_rivolta']\n",
    "del gauss_err_params_dict['12_rivolta']"
   ]
  },
  {
   "cell_type": "markdown",
   "metadata": {},
   "source": [
    "## Durata"
   ]
  },
  {
   "cell_type": "code",
   "execution_count": 24,
   "metadata": {},
   "outputs": [],
   "source": [
    "## calcolo la durata delle singole rivolte come 6 per la sigma della rivolta (hp:gaussiane)\n",
    "###e errori su singole durate propagando gli errori sulla sigma (6*err_assoluto sigma)\n",
    "durate_list = [gauss_params_dict[rivolte][2]*6 for rivolte in gauss_params_dict]\n",
    "err_durate_list = [gauss_err_params_dict[rivolte][2]*6 for rivolte in gauss_params_dict]\n",
    "durate_list = np.abs(durate_list)\n",
    "err_durate_list = np.abs(err_durate_list)\n",
    "\n",
    "## calcolo media pesata e errore su media\n",
    "media_pesata_durate = media_pesata(durate_list, err_durate_list)\n",
    "err_media_pesata_durate = np.sqrt(np.sum((durate_list - media_pesata_durate)**2)/(len(durate_list)*(len(durate_list)-1)))"
   ]
  },
  {
   "cell_type": "code",
   "execution_count": 25,
   "metadata": {},
   "outputs": [
    {
     "data": {
      "image/png": "[encoded data removed]",
      "text/plain": [
       "<Figure size 432x288 with 1 Axes>"
      ]
     },
     "metadata": {
      "needs_background": "light"
     },
     "output_type": "display_data"
    }
   ],
   "source": [
    "plt.hist(durate_list, bins=10)\n",
    "plt.show()"
   ]
  },
  {
   "cell_type": "code",
   "execution_count": 26,
   "metadata": {},
   "outputs": [
    {
     "data": {
      "image/png": "[encoded data removed]",
      "text/plain": [
       "<Figure size 432x288 with 1 Axes>"
      ]
     },
     "metadata": {
      "needs_background": "light"
     },
     "output_type": "display_data"
    }
   ],
   "source": [
    "plt.errorbar(range(len(durate_list)), durate_list, yerr=err_durate_list,solid_capstyle='projecting',capsize=5)\n",
    "plt.show()"
   ]
  },
  {
   "cell_type": "code",
   "execution_count": 27,
   "metadata": {},
   "outputs": [
    {
     "data": {
      "text/plain": [
       "3"
      ]
     },
     "execution_count": 27,
     "metadata": {},
     "output_type": "execute_result"
    }
   ],
   "source": [
    "np.argmax(err_durate_list)"
   ]
  },
  {
   "cell_type": "code",
   "execution_count": 28,
   "metadata": {},
   "outputs": [
    {
     "name": "stdout",
     "output_type": "stream",
     "text": [
      "10.469269267785979 0.1537622130532514\n"
     ]
    }
   ],
   "source": [
    "print(media_pesata_durate,err_media_pesata_durate)"
   ]
  },
  {
   "cell_type": "markdown",
   "metadata": {},
   "source": [
    "media pesata durate e errore caso norndm  \n",
    "10.311830447971328 0.12035386293573513\n",
    "  \n",
    "valori compatibili tra loro"
   ]
  },
  {
   "cell_type": "markdown",
   "metadata": {},
   "source": [
    "## Ampiezza"
   ]
  },
  {
   "cell_type": "code",
   "execution_count": 29,
   "metadata": {},
   "outputs": [],
   "source": [
    "## Calcolo ampiezze per ogni rivolta e errore da propagazione errori del fit\n",
    "ampiezze_list = [gauss_params_dict[rivolte][0] for rivolte in gauss_params_dict]\n",
    "err_ampiezze_list = [gauss_err_params_dict[rivolte][0] for rivolte in gauss_params_dict]\n",
    "ampiezze_list = np.abs(ampiezze_list)\n",
    "err_ampiezze_list = np.abs(err_ampiezze_list)\n",
    "\n",
    "## Calcolo media pesata e errore su media\n",
    "media_pesata_ampiezze = media_pesata(ampiezze_list, err_ampiezze_list)\n",
    "err_media_pesata_ampiezze = np.sqrt(np.sum((ampiezze_list - media_pesata_ampiezze)**2)/(len(ampiezze_list)*(len(ampiezze_list)-1)))"
   ]
  },
  {
   "cell_type": "code",
   "execution_count": 30,
   "metadata": {
    "scrolled": true
   },
   "outputs": [
    {
     "data": {
      "image/png": "[encoded data removed]",
      "text/plain": [
       "<Figure size 432x288 with 1 Axes>"
      ]
     },
     "metadata": {
      "needs_background": "light"
     },
     "output_type": "display_data"
    }
   ],
   "source": [
    "plt.hist(ampiezze_list, bins=20)\n",
    "plt.show()"
   ]
  },
  {
   "cell_type": "code",
   "execution_count": 31,
   "metadata": {},
   "outputs": [
    {
     "data": {
      "image/png": "[encoded data removed]",
      "text/plain": [
       "<Figure size 432x288 with 1 Axes>"
      ]
     },
     "metadata": {
      "needs_background": "light"
     },
     "output_type": "display_data"
    }
   ],
   "source": [
    "plt.errorbar(range(len(ampiezze_list)), ampiezze_list, yerr=err_ampiezze_list,solid_capstyle='projecting',capsize=5)\n",
    "plt.show()"
   ]
  },
  {
   "cell_type": "code",
   "execution_count": 32,
   "metadata": {},
   "outputs": [
    {
     "name": "stdout",
     "output_type": "stream",
     "text": [
      "178.21633548655777 16.991131198425357\n"
     ]
    }
   ],
   "source": [
    "print(media_pesata_ampiezze,err_media_pesata_ampiezze)"
   ]
  },
  {
   "cell_type": "markdown",
   "metadata": {},
   "source": [
    "Media pesata e errore ampiezze caso nonrndm  \n",
    "193.59670978171002 14.655492080565837"
   ]
  },
  {
   "cell_type": "markdown",
   "metadata": {},
   "source": [
    "## Tempi attesa"
   ]
  },
  {
   "cell_type": "code",
   "execution_count": 33,
   "metadata": {},
   "outputs": [],
   "source": [
    "## calcolo liste dei tick di inizio e fine rivolte con relativi errori \n",
    "###trovati con propagazione degli errori dagli errori dei parametri del fit\n",
    "###(start = media-3sigma --> err_start = sqrt(err_media**2 + (3err_sigma)**2)\n",
    "start_tick_list = []\n",
    "end_tick_list = []\n",
    "err_start_tick_list = []\n",
    "err_end_tick_list = []\n",
    "\n",
    "for rivolte in nobase_gauss_params_dict:\n",
    "    media = nobase_gauss_params_dict[rivolte][1]\n",
    "    sigma = np.abs(nobase_gauss_params_dict[rivolte][2])\n",
    "    err_media = nobase_gauss_err_params_dict[rivolte][1]\n",
    "    err_sigma = nobase_gauss_err_params_dict[rivolte][2]\n",
    "    start_tick_list.append(media - 3*sigma)\n",
    "    end_tick_list.append(media + 3*sigma)\n",
    "    err_start_tick_list.append(np.sqrt(err_media**2 + (3*err_sigma)**2))\n",
    "    err_end_tick_list.append(np.sqrt(err_media**2 + (3*err_sigma)**2))"
   ]
  },
  {
   "cell_type": "code",
   "execution_count": 34,
   "metadata": {},
   "outputs": [],
   "source": [
    "## Calcolo tempi di attesa dalle liste dei tick di inizio e fine rivolte e relativi errori\n",
    "###calcolati con la propagazione dagli errori dei tick di inizio e fine rivolte\n",
    "###(tempo_attesa = start[i+1]-end[i] --> err_tempo_attesa = err_start[i+1] + err_end[i])\n",
    "tempi_attesa_list = []\n",
    "err_tempi_attesa_list = []\n",
    "for i in range(len(end_tick_list)-1):\n",
    "    tempi_attesa_list.append(start_tick_list[i+1] - end_tick_list[i])\n",
    "    err_tempi_attesa_list.append(err_start_tick_list[i+1] + err_end_tick_list[i])"
   ]
  },
  {
   "cell_type": "code",
   "execution_count": 35,
   "metadata": {},
   "outputs": [
    {
     "data": {
      "image/png": "[encoded data removed]",
      "text/plain": [
       "<Figure size 432x288 with 1 Axes>"
      ]
     },
     "metadata": {
      "needs_background": "light"
     },
     "output_type": "display_data"
    }
   ],
   "source": [
    "plt.hist(durate_list, bins=10)\n",
    "plt.show()"
   ]
  },
  {
   "cell_type": "code",
   "execution_count": 36,
   "metadata": {},
   "outputs": [],
   "source": [
    "tempi_attesa_list=np.delete(tempi_attesa_list,-11)\n",
    "err_tempi_attesa_list=np.delete(err_tempi_attesa_list,-11)"
   ]
  },
  {
   "cell_type": "code",
   "execution_count": 37,
   "metadata": {},
   "outputs": [
    {
     "data": {
      "image/png": "[encoded data removed]",
      "text/plain": [
       "<Figure size 432x288 with 1 Axes>"
      ]
     },
     "metadata": {
      "needs_background": "light"
     },
     "output_type": "display_data"
    }
   ],
   "source": [
    "plt.errorbar(range(len(tempi_attesa_list)), tempi_attesa_list, yerr=err_tempi_attesa_list,solid_capstyle='projecting',capsize=5)\n",
    "plt.show()"
   ]
  },
  {
   "cell_type": "code",
   "execution_count": 38,
   "metadata": {},
   "outputs": [
    {
     "name": "stdout",
     "output_type": "stream",
     "text": [
      "Media pesata e errore tempi attesa: 14.199434332933365 1.1113450936042837\n"
     ]
    }
   ],
   "source": [
    "media_pesata_tempi_attesa = media_pesata(tempi_attesa_list, err_tempi_attesa_list)\n",
    "err_media_pesata_tempi_attesa = np.sqrt(np.sum((tempi_attesa_list-media_pesata_tempi_attesa)**2)/((len(tempi_attesa_list)-1)*len(tempi_attesa_list)))\n",
    "print('Media pesata e errore tempi attesa:',media_pesata_tempi_attesa,err_media_pesata_tempi_attesa)"
   ]
  },
  {
   "cell_type": "markdown",
   "metadata": {},
   "source": [
    "media pesata e errori tempi attesa caso norndm  \n",
    "17.850298917848043 1.0515878508062226"
   ]
  },
  {
   "cell_type": "markdown",
   "metadata": {},
   "source": [
    "Tempi di attesa diminuiscono\n",
    "Sembra ok, data la contemporanea presenza di più attivi e la nascita di una nuova classe di rivolte, sembra logico che gli spike diventino più frequenti"
   ]
  },
  {
   "cell_type": "code",
   "execution_count": null,
   "metadata": {},
   "outputs": [],
   "source": []
  },
  {
   "cell_type": "code",
   "execution_count": null,
   "metadata": {},
   "outputs": [],
   "source": []
  }
 ],
 "metadata": {
  "kernelspec": {
   "display_name": "Python 3",
   "language": "python",
   "name": "python3"
  },
  "language_info": {
   "codemirror_mode": {
    "name": "ipython",
    "version": 3
   },
   "file_extension": ".py",
   "mimetype": "text/x-python",
   "name": "python",
   "nbconvert_exporter": "python",
   "pygments_lexer": "ipython3",
   "version": "3.7.4"
  },
  "toc": {
   "base_numbering": 1,
   "nav_menu": {},
   "number_sections": true,
   "sideBar": true,
   "skip_h1_title": false,
   "title_cell": "Table of Contents",
   "title_sidebar": "Contents",
   "toc_cell": false,
   "toc_position": {
    "height": "calc(100% - 180px)",
    "left": "10px",
    "top": "150px",
    "width": "201.8px"
   },
   "toc_section_display": true,
   "toc_window_display": true
  }
 },
 "nbformat": 4,
 "nbformat_minor": 2
}
