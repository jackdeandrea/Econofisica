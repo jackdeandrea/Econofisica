{
 "cells": [
  {
   "cell_type": "code",
   "execution_count": 1,
   "metadata": {},
   "outputs": [
    {
     "name": "stdout",
     "output_type": "stream",
     "text": [
      "Populating the interactive namespace from numpy and matplotlib\n"
     ]
    }
   ],
   "source": [
    "%pylab inline\n",
    "import pandas as pd\n",
    "from scipy.optimize import curve_fit\n",
    "from scipy import asarray as ar\n",
    "from scipy import math\n",
    "#import pylandau\n",
    "import random"
   ]
  },
  {
   "cell_type": "markdown",
   "metadata": {},
   "source": [
    "# Importo il dataset"
   ]
  },
  {
   "cell_type": "code",
   "execution_count": 2,
   "metadata": {},
   "outputs": [
    {
     "data": {
      "text/html": [
       "<div>\n",
       "<style scoped>\n",
       "    .dataframe tbody tr th:only-of-type {\n",
       "        vertical-align: middle;\n",
       "    }\n",
       "\n",
       "    .dataframe tbody tr th {\n",
       "        vertical-align: top;\n",
       "    }\n",
       "\n",
       "    .dataframe thead th {\n",
       "        text-align: right;\n",
       "    }\n",
       "</style>\n",
       "<table border=\"1\" class=\"dataframe\">\n",
       "  <thead>\n",
       "    <tr style=\"text-align: right;\">\n",
       "      <th></th>\n",
       "      <th>x</th>\n",
       "      <th>y</th>\n",
       "      <th>color</th>\n",
       "      <th>pen down?</th>\n",
       "      <th>x.1</th>\n",
       "      <th>y.1</th>\n",
       "      <th>color.1</th>\n",
       "      <th>pen down?.1</th>\n",
       "      <th>x.2</th>\n",
       "      <th>y.2</th>\n",
       "      <th>color.2</th>\n",
       "      <th>pen down?.2</th>\n",
       "      <th>Unnamed: 12</th>\n",
       "    </tr>\n",
       "  </thead>\n",
       "  <tbody>\n",
       "    <tr>\n",
       "      <th>0</th>\n",
       "      <td>0</td>\n",
       "      <td>1120</td>\n",
       "      <td>55</td>\n",
       "      <td>True</td>\n",
       "      <td>0</td>\n",
       "      <td>0</td>\n",
       "      <td>0</td>\n",
       "      <td>True</td>\n",
       "      <td>0</td>\n",
       "      <td>0</td>\n",
       "      <td>15</td>\n",
       "      <td>True</td>\n",
       "      <td>NaN</td>\n",
       "    </tr>\n",
       "    <tr>\n",
       "      <th>1</th>\n",
       "      <td>1</td>\n",
       "      <td>1010</td>\n",
       "      <td>55</td>\n",
       "      <td>True</td>\n",
       "      <td>1</td>\n",
       "      <td>46</td>\n",
       "      <td>0</td>\n",
       "      <td>True</td>\n",
       "      <td>1</td>\n",
       "      <td>64</td>\n",
       "      <td>15</td>\n",
       "      <td>True</td>\n",
       "      <td>NaN</td>\n",
       "    </tr>\n",
       "    <tr>\n",
       "      <th>2</th>\n",
       "      <td>2</td>\n",
       "      <td>626</td>\n",
       "      <td>55</td>\n",
       "      <td>True</td>\n",
       "      <td>2</td>\n",
       "      <td>102</td>\n",
       "      <td>0</td>\n",
       "      <td>True</td>\n",
       "      <td>2</td>\n",
       "      <td>392</td>\n",
       "      <td>15</td>\n",
       "      <td>True</td>\n",
       "      <td>NaN</td>\n",
       "    </tr>\n",
       "    <tr>\n",
       "      <th>3</th>\n",
       "      <td>3</td>\n",
       "      <td>562</td>\n",
       "      <td>55</td>\n",
       "      <td>True</td>\n",
       "      <td>3</td>\n",
       "      <td>159</td>\n",
       "      <td>0</td>\n",
       "      <td>True</td>\n",
       "      <td>3</td>\n",
       "      <td>399</td>\n",
       "      <td>15</td>\n",
       "      <td>True</td>\n",
       "      <td>NaN</td>\n",
       "    </tr>\n",
       "    <tr>\n",
       "      <th>4</th>\n",
       "      <td>4</td>\n",
       "      <td>565</td>\n",
       "      <td>55</td>\n",
       "      <td>True</td>\n",
       "      <td>4</td>\n",
       "      <td>209</td>\n",
       "      <td>0</td>\n",
       "      <td>True</td>\n",
       "      <td>4</td>\n",
       "      <td>346</td>\n",
       "      <td>15</td>\n",
       "      <td>True</td>\n",
       "      <td>NaN</td>\n",
       "    </tr>\n",
       "  </tbody>\n",
       "</table>\n",
       "</div>"
      ],
      "text/plain": [
       "   x     y  color  pen down?  x.1  y.1  color.1  pen down?.1  x.2  y.2  \\\n",
       "0  0  1120     55       True    0    0        0         True    0    0   \n",
       "1  1  1010     55       True    1   46        0         True    1   64   \n",
       "2  2   626     55       True    2  102        0         True    2  392   \n",
       "3  3   562     55       True    3  159        0         True    3  399   \n",
       "4  4   565     55       True    4  209        0         True    4  346   \n",
       "\n",
       "   color.2  pen down?.2  Unnamed: 12  \n",
       "0       15         True          NaN  \n",
       "1       15         True          NaN  \n",
       "2       15         True          NaN  \n",
       "3       15         True          NaN  \n",
       "4       15         True          NaN  "
      ]
     },
     "execution_count": 2,
     "metadata": {},
     "output_type": "execute_result"
    }
   ],
   "source": [
    "file = pd.read_csv(r'/home/gdeandrea/Scrivania/secondo4,5%.csv', header=18)\n",
    "file.head()"
   ]
  },
  {
   "cell_type": "code",
   "execution_count": 3,
   "metadata": {
    "scrolled": true
   },
   "outputs": [
    {
     "data": {
      "text/plain": [
       "990"
      ]
     },
     "execution_count": 3,
     "metadata": {},
     "output_type": "execute_result"
    }
   ],
   "source": [
    "df = file['y.2']\n",
    "y = df.to_numpy()\n",
    "y = y[210:]\n",
    "x = ar(range(len(y)))\n",
    "len(x)"
   ]
  },
  {
   "cell_type": "code",
   "execution_count": 4,
   "metadata": {},
   "outputs": [
    {
     "data": {
      "image/png": "[encoded data removed]",
      "text/plain": [
       "<Figure size 432x288 with 1 Axes>"
      ]
     },
     "metadata": {
      "needs_background": "light"
     },
     "output_type": "display_data"
    }
   ],
   "source": [
    "plt.plot(range(len(y)), y, color='r')\n",
    "#plt.errorbar(range(len(soglie)), soglie, yerr=err_soglie)\n",
    "plt.show()"
   ]
  },
  {
   "cell_type": "markdown",
   "metadata": {},
   "source": [
    "# Definizioni Utili"
   ]
  },
  {
   "cell_type": "markdown",
   "metadata": {},
   "source": [
    "## Fit Utils"
   ]
  },
  {
   "cell_type": "code",
   "execution_count": 5,
   "metadata": {},
   "outputs": [],
   "source": [
    "def chiquadronorm(oss, fit, sigma, ddof, aiuto=False, norm=True):\n",
    "    'funzione che calcola il chiquadrato di una distribuzione osservata rispetto a una\\\n",
    "    forma funzionale nota'\n",
    "    \n",
    "    #prende liste monodimensionali come argomenti\n",
    "    scarti = []\n",
    "    scartiquadri = []\n",
    "    scartiquadridivisi = []\n",
    "    \n",
    "    for i in range(len(oss)):\n",
    "        scarti.append(oss[i]-fit[i])\n",
    "        scartiquadri.append(scarti[i]*scarti[i])\n",
    "        scartiquadridivisi.append(scartiquadri[i]/(sigma[i]*sigma[i]))\n",
    "        \n",
    "        if (aiuto==True):\n",
    "            print('scarti= ', scarti[i])\n",
    "            print('scartiquadri= ', scartiquadri[i])\n",
    "            print('scartiquadridivisi= ', scartiquadridivisi[i])\n",
    "            \n",
    "    chiquadro=sum(scartiquadridivisi)\n",
    "    chiquadroreg=chiquadro/ddof\n",
    "    \n",
    "    if(norm==True):\n",
    "        return (chiquadroreg)\n",
    "    else:\n",
    "        return (chiquadro)\n",
    "\n",
    "def cost_chiquadronorm(oss, fit, sigma, ddof, aiuto=False, norm=True):\n",
    "    'funzione che calcola il chiquadrato di una distribuzione osservata rispetto a una\\\n",
    "    forma funzionale nota'\n",
    "    \n",
    "    #prende liste monodimensionali come argomenti\n",
    "    scarti = []\n",
    "    scartiquadri = []\n",
    "    scartiquadridivisi = []\n",
    "    \n",
    "    for i in range(len(oss)):\n",
    "        scarti.append(oss[i]-fit)\n",
    "        scartiquadri.append(scarti[i]*scarti[i])\n",
    "        scartiquadridivisi.append(scartiquadri[i]/(sigma[i]*sigma[i]))\n",
    "        \n",
    "        if (aiuto==True):\n",
    "            print('scarti= ', scarti[i])\n",
    "            print('scartiquadri= ', scartiquadri[i])\n",
    "            print('scartiquadridivisi= ', scartiquadridivisi[i])\n",
    "            \n",
    "    chiquadro=sum(scartiquadridivisi)\n",
    "    chiquadroreg=chiquadro/ddof\n",
    "    \n",
    "    if(norm==True):\n",
    "        return (chiquadroreg)\n",
    "    else:\n",
    "        return (chiquadro)\n",
    "\n",
    "    \n",
    "def media_pesata(x, sigma):\n",
    "    numeratore = 0\n",
    "    denominatore = 0\n",
    "    for i in range(len(x)):\n",
    "        numeratore += x[i]/(sigma[i]**2)\n",
    "        denominatore += 1/(sigma[i]**2)\n",
    "    return numeratore/denominatore\n",
    "\n",
    "def costante(x,q):\n",
    "    return q\n",
    "\n",
    "def retta(x,m,q):\n",
    "    return m*x +q\n",
    "\n",
    "def gauss(x,a,x0,sigma,baseline):\n",
    "    'Ritorna array gaussiano a partire da lista x secondo i parametri a,x0,sigma'\n",
    "    return (baseline + a*exp(-(x-x0)**2/(2*sigma*sigma)))\n",
    "\n",
    "\n",
    "def lore(x, a, x0, y0, baseline):\n",
    "    'Ritorna array lorentziano a partire da lista x secondo i parametri a,x0,yo'\n",
    "    return (baseline + a*(y0/(((x - x0)**2) + (y0**2))))\n",
    "\n",
    "def fattoriale(x):\n",
    "    temp_list = []\n",
    "\n",
    "    for ics in x:\n",
    "        f=1\n",
    "        for i in range(1,ics+1):\n",
    "            f*=i\n",
    "        temp_list.append(f)\n",
    "    return(temp_list)\n",
    "\n",
    "def poisson(x, a, media, baseline):\n",
    "    result = baseline + a*(media**x)*np.exp(-media)/fattoriale(x)\n",
    "    return(result)\n",
    "\n",
    "def landau(x, mpv, eta, A, baseline):\n",
    "    x=double(x)\n",
    "    'Ritorna array landauiano a partire da lista x secondo i parametri suoi'\n",
    "    return (baseline + double(pylandau.landau(x, mpv=mpv, eta=eta, A=A)))"
   ]
  },
  {
   "cell_type": "markdown",
   "metadata": {},
   "source": [
    "## Selecting Spikes"
   ]
  },
  {
   "cell_type": "code",
   "execution_count": 6,
   "metadata": {},
   "outputs": [],
   "source": [
    "def isola_spikes (y, datiesterni):\n",
    "    '''\n",
    "    Dati i dati sugli attivi, ritorna due dizionari: \n",
    "    {num_rivolta: [valori attivi]}\n",
    "    {num_rivolta: [tick corrispondenti]}\n",
    "    '''\n",
    "    rivolte_diz = {}\n",
    "    tick_rivolte_diz = {}\n",
    "    temp_rivolta_list = []\n",
    "    temp_tick_list = []\n",
    "    rivolte_counter = 0\n",
    "    cerarivolta = False\n",
    "    \n",
    "    for i in range(len(y)):\n",
    "        \n",
    "        ##aggiustato a 12 per non avere rivoltini\n",
    "        if y[i] > 12:\n",
    "            temp_rivolta_list.append(y[i])\n",
    "            temp_tick_list.append(i)\n",
    "            if cerarivolta == False:\n",
    "                rivolte_counter += 1\n",
    "                cerarivolta = True\n",
    "        else:\n",
    "            if cerarivolta == True:\n",
    "                lunghezza=len(temp_rivolta_list)\n",
    "                if rivolte_counter > 1:\n",
    "                    if datiesterni == 1:\n",
    "                        temp_rivolta_list.insert(0, y[i-lunghezza-1])\n",
    "                        temp_tick_list.insert(0, i-lunghezza-1)\n",
    "                    if datiesterni == 2:\n",
    "                        temp_rivolta_list.insert(0, y[i-lunghezza-1])\n",
    "                        temp_rivolta_list.insert(0, y[i-lunghezza-2])\n",
    "                        temp_tick_list.insert(0, i-lunghezza-1)\n",
    "                        temp_tick_list.insert(0, i-lunghezza-2)\n",
    "                    if datiesterni == 3:\n",
    "                        temp_rivolta_list.insert(0, y[i-lunghezza-1])\n",
    "                        temp_rivolta_list.insert(0, y[i-lunghezza-2])\n",
    "                        temp_rivolta_list.insert(0, y[i-lunghezza-3])\n",
    "                        temp_tick_list.insert(0, i-lunghezza-1)\n",
    "                        temp_tick_list.insert(0, i-lunghezza-2)\n",
    "                        temp_tick_list.insert(0, i-lunghezza-3)\n",
    "                else:\n",
    "                    if datiesterni == 1:\n",
    "                        temp_rivolta_list.insert(0, 0)\n",
    "                        temp_tick_list.insert(0, i-lunghezza-1)\n",
    "                    if datiesterni == 2:\n",
    "                        temp_rivolta_list.insert(0, 0)\n",
    "                        temp_rivolta_list.insert(0, 0)\n",
    "                        temp_tick_list.insert(0, i-lunghezza-1)\n",
    "                        temp_tick_list.insert(0, i-lunghezza-2)\n",
    "                    if datiesterni == 3:\n",
    "                        temp_rivolta_list.insert(0, 0)\n",
    "                        temp_rivolta_list.insert(0, 0)\n",
    "                        temp_rivolta_list.insert(0, 0)\n",
    "                        temp_tick_list.insert(0, i-lunghezza-1)\n",
    "                        temp_tick_list.insert(0, i-lunghezza-2)\n",
    "                        temp_tick_list.insert(0, i-lunghezza-3)\n",
    "                    \n",
    "                if datiesterni == 1:\n",
    "                        temp_rivolta_list.append(y[i])\n",
    "                        temp_tick_list.append(i)\n",
    "                if datiesterni == 2:\n",
    "                        temp_rivolta_list.append(y[i])\n",
    "                        temp_rivolta_list.append(y[i+1])\n",
    "                        temp_tick_list.append(i)\n",
    "                        temp_tick_list.append(i+1)\n",
    "                if datiesterni == 3:\n",
    "                        temp_rivolta_list.append(y[i])\n",
    "                        temp_rivolta_list.append(y[i+1])\n",
    "                        temp_rivolta_list.append(y[i+2])\n",
    "                        temp_tick_list.append(i)\n",
    "                        temp_tick_list.append(i+1)\n",
    "                        temp_tick_list.append(i+2)\n",
    "                \n",
    "                rivolte_diz[str(rivolte_counter)+'_spike'] = temp_rivolta_list\n",
    "                tick_rivolte_diz[str(rivolte_counter)+'_spike'] = temp_tick_list\n",
    "                temp_rivolta_list = []\n",
    "                temp_tick_list = []\n",
    "                cerarivolta = False\n",
    "                \n",
    "    return rivolte_diz, tick_rivolte_diz"
   ]
  },
  {
   "cell_type": "markdown",
   "metadata": {},
   "source": [
    "# Analisi - rndm 4.45%"
   ]
  },
  {
   "cell_type": "markdown",
   "metadata": {},
   "source": [
    "## Creo dizionario degli spikes"
   ]
  },
  {
   "cell_type": "code",
   "execution_count": 7,
   "metadata": {},
   "outputs": [],
   "source": [
    "spikes_dict, tick_spikes_dict = isola_spikes(y, 3)"
   ]
  },
  {
   "cell_type": "markdown",
   "metadata": {},
   "source": [
    "# Rivolte  \n",
    "**HP: sono funzioni gaussiane**  \n",
    "Usiamo il valore di soglia trovato nel caso non random, cambia il meccanismo di attivazione del singolo agente ma non la descrizione della rivolta.  \n",
    "Selezioniamo tutte le rivolte tali per cui max#attivi+errore_attivi >= soglia-5err_soglia, queste apparterranno alla stessa categoria di rivolte trovate nel caso non rndm.  \n",
    "Salvo in rivoltini_dict quelle che non vengono incluse prima per vedere se si viene a creare una nuova popolazione dovuta dalla randomizzazione (che differisce invece dalle rivolte, dovute alla clusterizzazione degli agenti)"
   ]
  },
  {
   "cell_type": "code",
   "execution_count": 8,
   "metadata": {},
   "outputs": [],
   "source": [
    "soglia = 128.1241472701187\n",
    "err_soglia = 12.6007119219633"
   ]
  },
  {
   "cell_type": "code",
   "execution_count": 9,
   "metadata": {},
   "outputs": [],
   "source": [
    "numero_sigma_soglia = 3\n",
    "numero_sigma_baseline = 3\n",
    "baseline = 2"
   ]
  },
  {
   "cell_type": "code",
   "execution_count": 10,
   "metadata": {},
   "outputs": [],
   "source": [
    "## Seleziono le rivolte secondo la regola:\n",
    "###if soglia-5*errore_soglia < y + errore_y --> rivolta\n",
    "###altrimenti salvo in rivoltini_dict\n",
    "rivolte_dict = {}\n",
    "tick_rivolte_dict = {}\n",
    "rivoltini_dict = {}\n",
    "tick_rivoltini_dict = {}\n",
    "nobase_dict = {}\n",
    "tick_nobase_dict = {}\n",
    "rivolte_counter = 0\n",
    "rivoltini_counter = 0\n",
    "for spike in spikes_dict:\n",
    "    y = spikes_dict[spike]\n",
    "    x = tick_spikes_dict[spike]\n",
    "    if np.max(y)+np.sqrt(np.max(y)) >= soglia-numero_sigma_soglia*err_soglia:\n",
    "        rivolte_counter += 1\n",
    "        rivolte_dict[str(rivolte_counter)+'_rivolta']=y\n",
    "        tick_rivolte_dict[str(rivolte_counter)+'_rivolta']=x\n",
    "        nobase_dict[str(rivolte_counter)+'_rivolta']=y\n",
    "        tick_nobase_dict[str(rivolte_counter)+'_rivolta']=x\n",
    "    elif np.max(y)-numero_sigma_baseline*np.sqrt(np.max(y))>=baseline+numero_sigma_baseline*np.sqrt(baseline):\n",
    "        rivoltini_counter += 1 \n",
    "        rivoltini_dict[str(rivoltini_counter)+'_rivoltini']=y\n",
    "        tick_rivoltini_dict[str(rivoltini_counter)+'_rivoltini']=x\n",
    "        nobase_dict[str(rivoltini_counter)+'_rivoltini']=y\n",
    "        tick_nobase_dict[str(rivoltini_counter)+'_rivoltini']=x"
   ]
  },
  {
   "cell_type": "code",
   "execution_count": 11,
   "metadata": {},
   "outputs": [
    {
     "name": "stdout",
     "output_type": "stream",
     "text": [
      "100 34 62\n"
     ]
    }
   ],
   "source": [
    "print(len(spikes_dict), len(rivolte_dict), len(rivoltini_dict))"
   ]
  },
  {
   "cell_type": "code",
   "execution_count": 12,
   "metadata": {},
   "outputs": [
    {
     "name": "stdout",
     "output_type": "stream",
     "text": [
      "90.3220115042288 \n",
      "\n",
      "50.633249580710796\n",
      "24.47213595499958\n",
      "74.12403840463597\n",
      "45.2449979983984\n",
      "65.61577310586391\n",
      "35.47722557505166\n",
      "82.60232526704263\n",
      "57.071067811865476\n",
      "24.47213595499958\n",
      "75.18535277187245\n",
      "83.66025403784438\n",
      "43.08276253029822\n",
      "48.48074069840786\n",
      "64.54983443527075\n",
      "34.3851648071345\n",
      "58.14142842854285\n",
      "76.24621125123532\n",
      "26.69041575982343\n",
      "88.94427190999916\n",
      "46.324555320336756\n",
      "46.324555320336756\n",
      "60.28010988928052\n",
      "53.855654600401046\n",
      "40.91607978309962\n",
      "67.74596669241484\n",
      "31.099019513592786\n",
      "60.28010988928052\n",
      "47.40312423743285\n",
      "59.211102550927976\n",
      "28.898979485566358\n",
      "47.40312423743285\n",
      "47.40312423743285\n",
      "64.54983443527075\n",
      "45.2449979983984\n",
      "28.898979485566358\n",
      "26.69041575982343\n",
      "35.47722557505166\n",
      "35.47722557505166\n",
      "40.91607978309962\n",
      "79.42614977317636\n",
      "77.30662386291807\n",
      "24.47213595499958\n",
      "67.74596669241484\n",
      "40.91607978309962\n",
      "68.81024967590665\n",
      "48.48074069840786\n",
      "34.3851648071345\n",
      "85.77496438739212\n",
      "81.54400374531753\n",
      "46.324555320336756\n",
      "47.40312423743285\n",
      "32.19615242270663\n",
      "32.19615242270663\n",
      "32.19615242270663\n",
      "54.92820323027551\n",
      "73.06225774829855\n",
      "33.29150262212918\n",
      "30.0\n",
      "40.91607978309962\n",
      "82.60232526704263\n",
      "68.81024967590665\n",
      "90.0\n"
     ]
    }
   ],
   "source": [
    "print(soglia-numero_sigma_soglia*err_soglia,'\\n')\n",
    "for risvoltino in rivoltini_dict:\n",
    "    print(max(rivoltini_dict[risvoltino])+np.sqrt(max(rivoltini_dict[risvoltino])))"
   ]
  },
  {
   "cell_type": "code",
   "execution_count": 13,
   "metadata": {
    "scrolled": false
   },
   "outputs": [
    {
     "name": "stderr",
     "output_type": "stream",
     "text": [
      "/home/gdeandrea/anaconda3/lib/python3.7/site-packages/scipy/optimize/minpack.py:787: OptimizeWarning: Covariance of the parameters could not be estimated\n",
      "  category=OptimizeWarning)\n"
     ]
    }
   ],
   "source": [
    "##calcolo soglie delle rivolte come f(media-sigma) e errore come f(media-1.2*sigma)-f(media-0.8*sigma)\n",
    "soglie = []\n",
    "err_soglie = []\n",
    "for i, rivolta in enumerate(rivolte_dict.keys()):\n",
    "    \n",
    "    y = rivolte_dict[rivolta]\n",
    "    x = range(len(y))\n",
    "    ##computo errore come radice dei conteggi\n",
    "    sigma_gauss = np.where(np.sqrt(y)==0,1,np.sqrt(y))\n",
    "    \n",
    "    gauss_params,gauss_cov = curve_fit(gauss,x,y,p0=[200.,3.,2.5,0],sigma=sigma_gauss)\n",
    "    gauss_red_chisq = chiquadronorm(y, gauss(x,*gauss_params), sigma_gauss, len(y)-len(gauss_params), norm=True)\n",
    "    soglia = gauss(gauss_params[1] - gauss_params[2], *gauss_params)\n",
    "    errore = gauss(gauss_params[1] - 1.2*gauss_params[2], *gauss_params) - gauss(gauss_params[1] - 0.8*gauss_params[2], *gauss_params)\n",
    "    soglie.append(soglia)\n",
    "    err_soglie.append(np.abs(errore))"
   ]
  },
  {
   "cell_type": "code",
   "execution_count": 14,
   "metadata": {
    "scrolled": false
   },
   "outputs": [
    {
     "data": {
      "text/plain": [
       "[28435.09461458023,\n",
       " 3.415538655714659,\n",
       " 12.71940815491321,\n",
       " 1.967041610186418e+46,\n",
       " 13.294944868203537,\n",
       " 5.162864710430483,\n",
       " 15.245385461995909,\n",
       " 9.536140260482789,\n",
       " 1.639333302298514,\n",
       " 43859.86824230793,\n",
       " 16.15728349684626,\n",
       " 6.391676789121455,\n",
       " 5.964740027515134,\n",
       " 11.946662277170127,\n",
       " 2.990542697206191,\n",
       " 7.8512048409494355,\n",
       " 12.478690403053498,\n",
       " 11.67139816381539,\n",
       " 14.044241767365477,\n",
       " 6.6931525956279,\n",
       " 21469.938765975436,\n",
       " 6.3369193734703395e+38,\n",
       " 5.1350408874895095,\n",
       " 22.057312112642002,\n",
       " 8.290843708692549,\n",
       " 22.533121047836957,\n",
       " 8.870227467282792,\n",
       " 8.610155820276223,\n",
       " 7.866130143232933,\n",
       " 5.79776737581194,\n",
       " 9.876714535550562,\n",
       " 2.3720628927669004e+159,\n",
       " 12.814185282055021,\n",
       " 30.608226116476303,\n",
       " 4.200765376314028,\n",
       " 5390.793502350583,\n",
       " 4.0278006775675195,\n",
       " 7.827568665979424,\n",
       " 9.919745100426645,\n",
       " 12.73929087873578,\n",
       " 14.528275537410387,\n",
       " 702.3916650882222,\n",
       " 43159.959309684826,\n",
       " 12.002986453464814,\n",
       " 13.770025174292552,\n",
       " 1194.8351429102622,\n",
       " 11401811.27409998,\n",
       " 14.779529707673689,\n",
       " 15.804287959004114,\n",
       " 4.750324633873244e+96,\n",
       " 15511.683112920662,\n",
       " 12935.331057354484,\n",
       " 10881.984975711552,\n",
       " 6.760047349741278,\n",
       " 21.636338048176675,\n",
       " 13.961499184858056,\n",
       " 5.460144586849555,\n",
       " 2.22562709305486,\n",
       " 7.4462442974849665,\n",
       " 11.182246120736576,\n",
       " 13.198704882533786,\n",
       " 15.722287221537037]"
      ]
     },
     "execution_count": 14,
     "metadata": {},
     "output_type": "execute_result"
    }
   ],
   "source": [
    "##calcolo soglini delle rivoltine come f(media-sigma) e errore come f(media-1.2*sigma)-f(media-0.8*sigma)\n",
    "soglini = []\n",
    "err_soglini = []\n",
    "for i, rivolta in enumerate(rivoltini_dict.keys()):\n",
    "    \n",
    "    y = rivoltini_dict[rivolta]\n",
    "    x = range(len(y))\n",
    "    ##computo errore come radice dei conteggi\n",
    "    sigma_gauss = np.where(np.sqrt(y)==0,1,np.sqrt(y))\n",
    "    \n",
    "    gauss_params,gauss_cov = curve_fit(gauss,x,y,p0=[50.,3.,2.5,0.],sigma=sigma_gauss,**{'maxfev':1000000})\n",
    "    gauss_red_chisq = chiquadronorm(y, gauss(x,*gauss_params), sigma_gauss, len(y)-len(gauss_params), norm=True)\n",
    "    soglia = gauss(gauss_params[1] - gauss_params[2], *gauss_params)\n",
    "    errore = gauss(gauss_params[1] - 1.2*gauss_params[2], *gauss_params) - gauss(gauss_params[1] - 0.8*gauss_params[2], *gauss_params)\n",
    "    soglini.append(soglia)\n",
    "    err_soglini.append(np.abs(errore))\n",
    "err_soglini"
   ]
  },
  {
   "cell_type": "markdown",
   "metadata": {},
   "source": [
    "## Metodo grafico  \n",
    "Plotto le rivolte con relativi errori in funzione dell'ordine della rivolta,  \n",
    "se il chiquadro ridotto del fit di questi valori con una costante è minore di uno, allora posso dire che gli eventi considerati sono statisticamente indipendenti e appartenenti alla stessa distribuzione"
   ]
  },
  {
   "cell_type": "markdown",
   "metadata": {},
   "source": [
    "### Rivolte-Provo con costante"
   ]
  },
  {
   "cell_type": "code",
   "execution_count": 15,
   "metadata": {},
   "outputs": [
    {
     "data": {
      "image/png": "[encoded data removed]",
      "text/plain": [
       "<Figure size 432x288 with 1 Axes>"
      ]
     },
     "metadata": {
      "needs_background": "light"
     },
     "output_type": "display_data"
    },
    {
     "name": "stdout",
     "output_type": "stream",
     "text": [
      "ReducedChiSquared: 0.8793052578469265\n"
     ]
    }
   ],
   "source": [
    "popt, pcov = curve_fit(costante, range(len(soglie)), soglie, sigma=err_soglie)\n",
    "cost_red_chisq = cost_chiquadronorm(soglie, costante(range(len(soglie)),*popt), err_soglie, len(soglie)-len(popt), norm=True)\n",
    "plt.plot(range(len(soglie)), [costante(range(len(soglie)),*popt) for k in range(len(soglie))], color='r')\n",
    "plt.errorbar(range(len(soglie)), soglie, yerr=err_soglie,solid_capstyle='projecting',capsize=5)\n",
    "plt.show()\n",
    "print('ReducedChiSquared:', cost_red_chisq)"
   ]
  },
  {
   "cell_type": "code",
   "execution_count": 16,
   "metadata": {},
   "outputs": [
    {
     "data": {
      "text/plain": [
       "[57.68683121469981,\n",
       " 64.1628397236379,\n",
       " 73.6884388609451,\n",
       " 49.42230489252191,\n",
       " 107.5926077204048,\n",
       " 61.44380920246569,\n",
       " 86.72299747051692,\n",
       " 88.9077570076954,\n",
       " 69.17763041737557,\n",
       " 105.40599810474957,\n",
       " 76.42550896565515,\n",
       " 83.6960641414716,\n",
       " 61.70243302910641,\n",
       " 67.02395403100911,\n",
       " 122.13927564674515,\n",
       " 92.62695172015273,\n",
       " 71.027907810671,\n",
       " 54.16357568973383,\n",
       " 62.473003032878744,\n",
       " 101.26319779072548,\n",
       " 61.099389284014045,\n",
       " 75.6313248388561,\n",
       " 120.32337184244749,\n",
       " 49.93246385761767,\n",
       " 70.1853209568652,\n",
       " 55.267215735787005,\n",
       " 60.936346912728474,\n",
       " 52.81773275864083,\n",
       " 60.53559338952335,\n",
       " 71.66056263093013,\n",
       " 107.13009220122335,\n",
       " 81.74020467239657]"
      ]
     },
     "execution_count": 16,
     "metadata": {},
     "output_type": "execute_result"
    }
   ],
   "source": [
    "soglie1=[]\n",
    "err_soglie1=[]\n",
    "for i in range(len(soglie)):\n",
    "    if soglie[i]>20 and soglie[i]<400:\n",
    "        soglie1.append(soglie[i])\n",
    "        err_soglie1.append(err_soglie[i])\n",
    "soglie1"
   ]
  },
  {
   "cell_type": "code",
   "execution_count": 17,
   "metadata": {},
   "outputs": [
    {
     "data": {
      "image/png": "[encoded data removed]",
      "text/plain": [
       "<Figure size 432x288 with 1 Axes>"
      ]
     },
     "metadata": {
      "needs_background": "light"
     },
     "output_type": "display_data"
    },
    {
     "name": "stdout",
     "output_type": "stream",
     "text": [
      "ReducedChiSquared: 0.4055170308662752\n"
     ]
    }
   ],
   "source": [
    "popt, pcov = curve_fit(costante, range(len(soglie1)), soglie1, sigma=err_soglie1)\n",
    "cost_red_chisq = cost_chiquadronorm(soglie1, costante(range(len(soglie1)),*popt), err_soglie1, len(soglie1)-len(popt), norm=True)\n",
    "plt.plot(range(len(soglie1)), [costante(range(len(soglie1)),*popt) for k in range(len(soglie1))], color='r')\n",
    "plt.errorbar(range(len(soglie1)), soglie1, yerr=err_soglie1,solid_capstyle='projecting',capsize=5)\n",
    "plt.show()\n",
    "print('ReducedChiSquared:', cost_red_chisq)"
   ]
  },
  {
   "cell_type": "code",
   "execution_count": 18,
   "metadata": {},
   "outputs": [
    {
     "data": {
      "text/plain": [
       "(array([66.58264782]), array([[2.80392224]]))"
      ]
     },
     "execution_count": 18,
     "metadata": {},
     "output_type": "execute_result"
    }
   ],
   "source": [
    "popt ,np.sqrt(pcov)"
   ]
  },
  {
   "cell_type": "code",
   "execution_count": 20,
   "metadata": {},
   "outputs": [
    {
     "name": "stdout",
     "output_type": "stream",
     "text": [
      "66.58264782533166 3.978806692934575\n"
     ]
    }
   ],
   "source": [
    "media_pesata_soglie1 = media_pesata(soglie1, err_soglie1)\n",
    "err_media_pesata_soglie1 = np.sqrt(np.sum((soglie1-media_pesata_soglie1)**2)/((len(soglie1)-1)*len(soglie1)))\n",
    "print(media_pesata_soglie1, err_media_pesata_soglie1)"
   ]
  },
  {
   "cell_type": "markdown",
   "metadata": {},
   "source": [
    "media pesata e errore soglie caso nonrndm  \n",
    "128.77802517036957 6.633983699986502"
   ]
  },
  {
   "cell_type": "markdown",
   "metadata": {},
   "source": [
    "Gli eventi selezionati come rivolte hanno valori di soglia che, al netto degli errori considerati, sono considerabili come appartenenti a alla stessa distribuzione statistica.  \n",
    "Rispetto al caso non random vedo però che il valore della costante (media pesata soglie) è calato e non è più compatibile (1sigma) con il valore trovato in precedenza. Se considero però gli intervalli media pesata +- 3sigma dei valori di soglia nel caso random e non random questi hanno intersezione non nulla."
   ]
  },
  {
   "cell_type": "markdown",
   "metadata": {},
   "source": [
    "### Rivoltini-Provo con costante  \n",
    "oss, sono proprio sicuro che fittino con una gaussiana? non dovrei provare altre forme funzionali?"
   ]
  },
  {
   "cell_type": "code",
   "execution_count": 24,
   "metadata": {
    "scrolled": true
   },
   "outputs": [
    {
     "data": {
      "text/plain": [
       "[38.473656990910754,\n",
       " 28.91559295157259,\n",
       " 25.40287391164823,\n",
       " 48.562609072910305,\n",
       " 32.697167980648985,\n",
       " 13.42738511841759,\n",
       " 45.35254669911613,\n",
       " 30.33106769373414,\n",
       " 29.30730030680386,\n",
       " 30.82607047309963,\n",
       " 13.51237407761019,\n",
       " 28.699118555803068,\n",
       " 38.90376847198172,\n",
       " 37.56487251186141,\n",
       " 46.8701419319586,\n",
       " 20.458654388667377,\n",
       " 10.672971069744172,\n",
       " 69.27770212579912,\n",
       " 37.38137231351201,\n",
       " 65.4019842654861,\n",
       " 28.118596121942943,\n",
       " 29.622710930736858,\n",
       " 26.50669745394266,\n",
       " 28.976910653566826,\n",
       " 38.64446324509337,\n",
       " 13.921056284706875,\n",
       " 26.02109034134694,\n",
       " 33.63815684383596,\n",
       " 41.19956050020993,\n",
       " 43.17143287558626,\n",
       " 25.157458975384365,\n",
       " 12.673066847640904,\n",
       " 45.16615856499503,\n",
       " 44.67990751392698,\n",
       " 22.085653826845327,\n",
       " 41.71061393135986,\n",
       " 19.68977845141869,\n",
       " 26.54358880708322,\n",
       " 31.6493813364146,\n",
       " 36.682407128218344,\n",
       " 47.68235715136784]"
      ]
     },
     "execution_count": 24,
     "metadata": {},
     "output_type": "execute_result"
    }
   ],
   "source": [
    "soglini1=[]\n",
    "err_soglini1=[]\n",
    "for i in range(len(soglini)):\n",
    "    if soglini[i]>10 and soglini[i]<80:\n",
    "        soglini1.append(soglini[i])\n",
    "        err_soglini1.append(err_soglini[i])\n",
    "soglini1"
   ]
  },
  {
   "cell_type": "code",
   "execution_count": 25,
   "metadata": {},
   "outputs": [
    {
     "data": {
      "image/png": "[encoded data removed]",
      "text/plain": [
       "<Figure size 432x288 with 1 Axes>"
      ]
     },
     "metadata": {
      "needs_background": "light"
     },
     "output_type": "display_data"
    },
    {
     "name": "stdout",
     "output_type": "stream",
     "text": [
      "ReducedChiSquared: 2.371801609692144\n"
     ]
    }
   ],
   "source": [
    "popt, pcov = curve_fit(costante, range(len(soglini1)), soglini1, sigma=err_soglini1)\n",
    "cost_red_chisq = cost_chiquadronorm(soglini1, costante(range(len(soglini1)),*popt), err_soglini1, len(soglini1)-len(popt), norm=True)\n",
    "plt.plot(range(len(soglini1)), [costante(range(len(soglini1)),*popt) for k in range(len(soglini1))], color='r')\n",
    "plt.errorbar(range(len(soglini1)), soglini1, yerr=err_soglini1,solid_capstyle='projecting',capsize=5)\n",
    "plt.show()\n",
    "print('ReducedChiSquared:', cost_red_chisq)"
   ]
  },
  {
   "cell_type": "code",
   "execution_count": 26,
   "metadata": {},
   "outputs": [
    {
     "name": "stdout",
     "output_type": "stream",
     "text": [
      "20.196807860129166 2.868576728417425\n"
     ]
    }
   ],
   "source": [
    "media_pesata_soglini1 = media_pesata(soglini1, err_soglini1)\n",
    "err_media_pesata_soglini1 = np.sqrt(np.sum((soglini1-media_pesata_soglini1)**2)/((len(soglini1)-1)*len(soglini1)))\n",
    "print(media_pesata_soglini1, err_media_pesata_soglini1)"
   ]
  },
  {
   "cell_type": "markdown",
   "metadata": {},
   "source": [
    "I rivoltini invece, hanno un chiquadro ridotto superiore a uno.  \n",
    "Non sembrerebbe si tratti della stessa popolazione statistica, ma probabilmente questo è dovuto ai piccoli errori sui valori di soglia più piccoli"
   ]
  },
  {
   "cell_type": "markdown",
   "metadata": {},
   "source": [
    "# Metriche  \n",
    "Tutte le metriche vengono ricavate dal calcolo dei parametri derivanti dalla procedura di fit:  \n",
    "- Durata = 6sigma della rivolta considerata  \n",
    "- Tempo attesa = (media[rivolta_i+1] - 3sigma[rivolta_i+1]) - (media[rivolta_i] + 3sigma[rivolta_i])  \n",
    "- Ampiezza = parametro del fit  \n",
    "  \n",
    "Gli errori vengono calcolati dalla propagazione degli errori sui parametri del fit"
   ]
  },
  {
   "cell_type": "code",
   "execution_count": 22,
   "metadata": {},
   "outputs": [],
   "source": [
    "## For loop che mi serve a trovare ampiezza, media e deviazione standard di ognuna delle rivolte,\n",
    "###salvo i parametri del fit per ognuna delle rivolte\n",
    "gauss_params_dict = {}\n",
    "gauss_err_params_dict = {}\n",
    "for rivolte in rivolte_dict:\n",
    "\n",
    "    temp_list = []\n",
    "    temp_err_list = []\n",
    "    y = rivolte_dict[rivolte]\n",
    "    x = tick_rivolte_dict[rivolte]\n",
    "    \n",
    "    err_y = np.where(np.sqrt(y)==0,1,np.sqrt(y))\n",
    "    gauss_params,gauss_cov = curve_fit(gauss,x,y,p0=[200,((x[-1]-x[0])/2)+x[0],4.,0.],sigma=err_y,**{'maxfev':1000000})\n",
    "    temp_list.append(gauss_params[0])\n",
    "    temp_list.append(gauss_params[1])\n",
    "    temp_list.append(gauss_params[2])\n",
    "    temp_list.append(gauss_params[3])\n",
    "    temp_err_list.append(np.sqrt(np.abs(gauss_cov[0][0])))\n",
    "    temp_err_list.append(np.sqrt(np.abs(gauss_cov[1][1])))\n",
    "    temp_err_list.append(np.sqrt(np.abs(gauss_cov[2][2])))\n",
    "    temp_err_list.append(np.sqrt(np.abs(gauss_cov[3][3])))\n",
    "    gauss_params_dict[rivolte] = temp_list\n",
    "    gauss_err_params_dict[rivolte] = temp_err_list"
   ]
  },
  {
   "cell_type": "code",
   "execution_count": 23,
   "metadata": {},
   "outputs": [],
   "source": [
    "## For loop che mi serve a trovare ampiezza, media e deviazione standard di ognuna delle rivolte,\n",
    "###salvo i parametri del fit per ognuna delle rivolte\n",
    "nobase_gauss_params_dict = {}\n",
    "nobase_gauss_err_params_dict = {}\n",
    "for rivolte in nobase_dict:\n",
    "\n",
    "    temp_list = []\n",
    "    temp_err_list = []\n",
    "    y = nobase_dict[rivolte]\n",
    "    x = tick_nobase_dict[rivolte]\n",
    "    \n",
    "    err_y = np.where(np.sqrt(y)==0,1,np.sqrt(y))\n",
    "    gauss_params,gauss_cov = curve_fit(gauss,x,y,p0=[100,((x[-1]-x[0])/2)+x[0],4.,0.],sigma=err_y,**{'maxfev':1000000})\n",
    "    temp_list.append(gauss_params[0])\n",
    "    temp_list.append(gauss_params[1])\n",
    "    temp_list.append(gauss_params[2])\n",
    "    temp_list.append(gauss_params[3])\n",
    "    temp_err_list.append(np.sqrt(np.abs(gauss_cov[0][0])))\n",
    "    temp_err_list.append(np.sqrt(np.abs(gauss_cov[1][1])))\n",
    "    temp_err_list.append(np.sqrt(np.abs(gauss_cov[2][2])))\n",
    "    temp_err_list.append(np.sqrt(np.abs(gauss_cov[3][3])))\n",
    "    nobase_gauss_params_dict[rivolte] = temp_list\n",
    "    nobase_gauss_err_params_dict[rivolte] = temp_err_list"
   ]
  },
  {
   "cell_type": "code",
   "execution_count": 24,
   "metadata": {
    "scrolled": false
   },
   "outputs": [
    {
     "data": {
      "text/html": [
       "<div>\n",
       "<style scoped>\n",
       "    .dataframe tbody tr th:only-of-type {\n",
       "        vertical-align: middle;\n",
       "    }\n",
       "\n",
       "    .dataframe tbody tr th {\n",
       "        vertical-align: top;\n",
       "    }\n",
       "\n",
       "    .dataframe thead th {\n",
       "        text-align: right;\n",
       "    }\n",
       "</style>\n",
       "<table border=\"1\" class=\"dataframe\">\n",
       "  <thead>\n",
       "    <tr style=\"text-align: right;\">\n",
       "      <th></th>\n",
       "      <th>0</th>\n",
       "      <th>1</th>\n",
       "      <th>2</th>\n",
       "      <th>3</th>\n",
       "    </tr>\n",
       "  </thead>\n",
       "  <tbody>\n",
       "    <tr>\n",
       "      <td>1_rivoltini</td>\n",
       "      <td>1.073903e+07</td>\n",
       "      <td>1.784882e+02</td>\n",
       "      <td>2413.110893</td>\n",
       "      <td>1.388505</td>\n",
       "    </tr>\n",
       "    <tr>\n",
       "      <td>2_rivoltini</td>\n",
       "      <td>8.740146e+00</td>\n",
       "      <td>3.613235e-01</td>\n",
       "      <td>0.510157</td>\n",
       "      <td>4.696137</td>\n",
       "    </tr>\n",
       "    <tr>\n",
       "      <td>1_rivolta</td>\n",
       "      <td>8.463461e+00</td>\n",
       "      <td>1.604614e-01</td>\n",
       "      <td>0.157374</td>\n",
       "      <td>1.974331</td>\n",
       "    </tr>\n",
       "    <tr>\n",
       "      <td>3_rivoltini</td>\n",
       "      <td>inf</td>\n",
       "      <td>5.034437e+01</td>\n",
       "      <td>6.134629</td>\n",
       "      <td>2.240108</td>\n",
       "    </tr>\n",
       "    <tr>\n",
       "      <td>4_rivoltini</td>\n",
       "      <td>6.131769e+00</td>\n",
       "      <td>2.772583e-01</td>\n",
       "      <td>0.402740</td>\n",
       "      <td>3.530470</td>\n",
       "    </tr>\n",
       "    <tr>\n",
       "      <td>2_rivolta</td>\n",
       "      <td>7.179649e+00</td>\n",
       "      <td>1.172950e-01</td>\n",
       "      <td>0.122079</td>\n",
       "      <td>1.591623</td>\n",
       "    </tr>\n",
       "    <tr>\n",
       "      <td>5_rivoltini</td>\n",
       "      <td>4.793194e+00</td>\n",
       "      <td>1.395188e-01</td>\n",
       "      <td>0.139587</td>\n",
       "      <td>1.174598</td>\n",
       "    </tr>\n",
       "    <tr>\n",
       "      <td>6_rivoltini</td>\n",
       "      <td>1.904644e+01</td>\n",
       "      <td>1.493459e-01</td>\n",
       "      <td>0.262597</td>\n",
       "      <td>1.489984</td>\n",
       "    </tr>\n",
       "    <tr>\n",
       "      <td>3_rivolta</td>\n",
       "      <td>3.142975e+08</td>\n",
       "      <td>2.597675e+04</td>\n",
       "      <td>43789.807552</td>\n",
       "      <td>2.611314</td>\n",
       "    </tr>\n",
       "    <tr>\n",
       "      <td>4_rivolta</td>\n",
       "      <td>1.993854e+01</td>\n",
       "      <td>1.463943e-01</td>\n",
       "      <td>0.125418</td>\n",
       "      <td>2.808120</td>\n",
       "    </tr>\n",
       "    <tr>\n",
       "      <td>7_rivoltini</td>\n",
       "      <td>5.469484e+00</td>\n",
       "      <td>2.951373e-01</td>\n",
       "      <td>0.388459</td>\n",
       "      <td>2.623864</td>\n",
       "    </tr>\n",
       "    <tr>\n",
       "      <td>8_rivoltini</td>\n",
       "      <td>7.580948e+00</td>\n",
       "      <td>2.591099e-01</td>\n",
       "      <td>0.249989</td>\n",
       "      <td>1.730339</td>\n",
       "    </tr>\n",
       "    <tr>\n",
       "      <td>9_rivoltini</td>\n",
       "      <td>2.464877e+10</td>\n",
       "      <td>1.378197e+06</td>\n",
       "      <td>159488.409166</td>\n",
       "      <td>4233.322570</td>\n",
       "    </tr>\n",
       "    <tr>\n",
       "      <td>5_rivolta</td>\n",
       "      <td>1.453294e+01</td>\n",
       "      <td>1.193463e-01</td>\n",
       "      <td>0.119950</td>\n",
       "      <td>2.505048</td>\n",
       "    </tr>\n",
       "    <tr>\n",
       "      <td>6_rivolta</td>\n",
       "      <td>6.911881e+00</td>\n",
       "      <td>1.132725e-01</td>\n",
       "      <td>0.120072</td>\n",
       "      <td>1.526513</td>\n",
       "    </tr>\n",
       "    <tr>\n",
       "      <td>7_rivolta</td>\n",
       "      <td>7.878649e+00</td>\n",
       "      <td>1.580760e-01</td>\n",
       "      <td>0.173576</td>\n",
       "      <td>1.990131</td>\n",
       "    </tr>\n",
       "    <tr>\n",
       "      <td>10_rivoltini</td>\n",
       "      <td>2.477787e+07</td>\n",
       "      <td>2.942456e+02</td>\n",
       "      <td>35.006734</td>\n",
       "      <td>3.421286</td>\n",
       "    </tr>\n",
       "    <tr>\n",
       "      <td>8_rivolta</td>\n",
       "      <td>8.471718e+00</td>\n",
       "      <td>1.314530e-01</td>\n",
       "      <td>0.140038</td>\n",
       "      <td>2.024291</td>\n",
       "    </tr>\n",
       "    <tr>\n",
       "      <td>9_rivolta</td>\n",
       "      <td>1.440333e+01</td>\n",
       "      <td>1.796728e-01</td>\n",
       "      <td>0.172769</td>\n",
       "      <td>2.391775</td>\n",
       "    </tr>\n",
       "    <tr>\n",
       "      <td>10_rivolta</td>\n",
       "      <td>8.895677e+00</td>\n",
       "      <td>1.052365e-01</td>\n",
       "      <td>0.101770</td>\n",
       "      <td>1.396766</td>\n",
       "    </tr>\n",
       "  </tbody>\n",
       "</table>\n",
       "</div>"
      ],
      "text/plain": [
       "                         0             1              2            3\n",
       "1_rivoltini   1.073903e+07  1.784882e+02    2413.110893     1.388505\n",
       "2_rivoltini   8.740146e+00  3.613235e-01       0.510157     4.696137\n",
       "1_rivolta     8.463461e+00  1.604614e-01       0.157374     1.974331\n",
       "3_rivoltini            inf  5.034437e+01       6.134629     2.240108\n",
       "4_rivoltini   6.131769e+00  2.772583e-01       0.402740     3.530470\n",
       "2_rivolta     7.179649e+00  1.172950e-01       0.122079     1.591623\n",
       "5_rivoltini   4.793194e+00  1.395188e-01       0.139587     1.174598\n",
       "6_rivoltini   1.904644e+01  1.493459e-01       0.262597     1.489984\n",
       "3_rivolta     3.142975e+08  2.597675e+04   43789.807552     2.611314\n",
       "4_rivolta     1.993854e+01  1.463943e-01       0.125418     2.808120\n",
       "7_rivoltini   5.469484e+00  2.951373e-01       0.388459     2.623864\n",
       "8_rivoltini   7.580948e+00  2.591099e-01       0.249989     1.730339\n",
       "9_rivoltini   2.464877e+10  1.378197e+06  159488.409166  4233.322570\n",
       "5_rivolta     1.453294e+01  1.193463e-01       0.119950     2.505048\n",
       "6_rivolta     6.911881e+00  1.132725e-01       0.120072     1.526513\n",
       "7_rivolta     7.878649e+00  1.580760e-01       0.173576     1.990131\n",
       "10_rivoltini  2.477787e+07  2.942456e+02      35.006734     3.421286\n",
       "8_rivolta     8.471718e+00  1.314530e-01       0.140038     2.024291\n",
       "9_rivolta     1.440333e+01  1.796728e-01       0.172769     2.391775\n",
       "10_rivolta    8.895677e+00  1.052365e-01       0.101770     1.396766"
      ]
     },
     "execution_count": 24,
     "metadata": {},
     "output_type": "execute_result"
    }
   ],
   "source": [
    "\n",
    "pd.DataFrame.from_dict(nobase_gauss_err_params_dict, orient='index').head(20)"
   ]
  },
  {
   "cell_type": "code",
   "execution_count": 25,
   "metadata": {},
   "outputs": [],
   "source": [
    "del nobase_gauss_params_dict['3_rivoltini']\n",
    "del nobase_gauss_err_params_dict['3_rivoltini']\n",
    "del nobase_gauss_params_dict['9_rivoltini']\n",
    "del nobase_gauss_err_params_dict['9_rivoltini']\n",
    "del nobase_gauss_params_dict['10_rivoltini']\n",
    "del nobase_gauss_err_params_dict['10_rivoltini']\n",
    "del nobase_gauss_params_dict['11_rivoltini']\n",
    "del nobase_gauss_err_params_dict['11_rivoltini']\n",
    "del nobase_gauss_params_dict['15_rivoltini']\n",
    "del nobase_gauss_err_params_dict['15_rivoltini']\n",
    "del nobase_gauss_params_dict['16_rivoltini']\n",
    "del nobase_gauss_err_params_dict['16_rivoltini']\n",
    "del nobase_gauss_params_dict['17_rivoltini']\n",
    "del nobase_gauss_err_params_dict['17_rivoltini']\n",
    "del nobase_gauss_params_dict['30_rivoltini']\n",
    "del nobase_gauss_err_params_dict['30_rivoltini']\n",
    "del nobase_gauss_params_dict['31_rivoltini']\n",
    "del nobase_gauss_err_params_dict['31_rivoltini']\n",
    "del nobase_gauss_params_dict['29_rivoltini']\n",
    "del nobase_gauss_err_params_dict['29_rivoltini']\n",
    "del nobase_gauss_params_dict['27_rivoltini']\n",
    "del nobase_gauss_err_params_dict['27_rivoltini']\n",
    "del nobase_gauss_params_dict['25_rivoltini']\n",
    "del nobase_gauss_err_params_dict['25_rivoltini']\n",
    "del nobase_gauss_params_dict['1_rivoltini']\n",
    "del nobase_gauss_err_params_dict['1_rivoltini']\n",
    "del nobase_gauss_params_dict['36_rivoltini']\n",
    "del nobase_gauss_err_params_dict['36_rivoltini']\n",
    "del nobase_gauss_params_dict['33_rivoltini']\n",
    "del nobase_gauss_err_params_dict['33_rivoltini']\n",
    "del nobase_gauss_params_dict['3_rivolta']\n",
    "del nobase_gauss_err_params_dict['3_rivolta']\n",
    "\n",
    "del gauss_params_dict['3_rivolta']\n",
    "del gauss_err_params_dict['3_rivolta']"
   ]
  },
  {
   "cell_type": "markdown",
   "metadata": {},
   "source": [
    "## Durata"
   ]
  },
  {
   "cell_type": "code",
   "execution_count": 26,
   "metadata": {},
   "outputs": [],
   "source": [
    "## calcolo la durata delle singole rivolte come 6 per la sigma della rivolta (hp:gaussiane)\n",
    "###e errori su singole durate propagando gli errori sulla sigma (6*err_assoluto sigma)\n",
    "durate_list = [gauss_params_dict[rivolte][2]*6 for rivolte in gauss_params_dict]\n",
    "err_durate_list = [gauss_err_params_dict[rivolte][2]*6 for rivolte in gauss_params_dict]\n",
    "durate_list = np.abs(durate_list)\n",
    "err_durate_list = np.abs(err_durate_list)\n",
    "\n",
    "## calcolo media pesata e errore su media\n",
    "media_pesata_durate = media_pesata(durate_list, err_durate_list)\n",
    "err_media_pesata_durate = np.sqrt(np.sum((durate_list - media_pesata_durate)**2)/(len(durate_list)*(len(durate_list)-1)))"
   ]
  },
  {
   "cell_type": "code",
   "execution_count": 27,
   "metadata": {},
   "outputs": [
    {
     "data": {
      "image/png": "[encoded data removed]",
      "text/plain": [
       "<Figure size 432x288 with 1 Axes>"
      ]
     },
     "metadata": {
      "needs_background": "light"
     },
     "output_type": "display_data"
    }
   ],
   "source": [
    "plt.hist(durate_list, bins=10)\n",
    "plt.show()"
   ]
  },
  {
   "cell_type": "code",
   "execution_count": 28,
   "metadata": {},
   "outputs": [
    {
     "data": {
      "image/png": "[encoded data removed]",
      "text/plain": [
       "<Figure size 432x288 with 1 Axes>"
      ]
     },
     "metadata": {
      "needs_background": "light"
     },
     "output_type": "display_data"
    }
   ],
   "source": [
    "plt.errorbar(range(len(durate_list)), durate_list, yerr=err_durate_list,solid_capstyle='projecting',capsize=5)\n",
    "plt.show()"
   ]
  },
  {
   "cell_type": "code",
   "execution_count": 29,
   "metadata": {},
   "outputs": [
    {
     "name": "stdout",
     "output_type": "stream",
     "text": [
      "10.600907662841697 0.32858966457817856\n"
     ]
    }
   ],
   "source": [
    "print(media_pesata_durate,err_media_pesata_durate)"
   ]
  },
  {
   "cell_type": "markdown",
   "metadata": {},
   "source": [
    "media pesata durate e errore caso norndm  \n",
    "10.311830447971328 0.12035386293573513\n",
    "  \n",
    "valori compatibili tra loro"
   ]
  },
  {
   "cell_type": "markdown",
   "metadata": {},
   "source": [
    "## Ampiezza"
   ]
  },
  {
   "cell_type": "code",
   "execution_count": 30,
   "metadata": {},
   "outputs": [],
   "source": [
    "## Calcolo ampiezze per ogni rivolta e errore da propagazione errori del fit\n",
    "ampiezze_list = [gauss_params_dict[rivolte][0] for rivolte in gauss_params_dict]\n",
    "err_ampiezze_list = [gauss_err_params_dict[rivolte][0] for rivolte in gauss_params_dict]\n",
    "ampiezze_list = np.abs(ampiezze_list)\n",
    "err_ampiezze_list = np.abs(err_ampiezze_list)\n",
    "\n",
    "## Calcolo media pesata e errore su media\n",
    "media_pesata_ampiezze = media_pesata(ampiezze_list, err_ampiezze_list)\n",
    "err_media_pesata_ampiezze = np.sqrt(np.sum((ampiezze_list - media_pesata_ampiezze)**2)/(len(ampiezze_list)*(len(ampiezze_list)-1)))"
   ]
  },
  {
   "cell_type": "code",
   "execution_count": 31,
   "metadata": {
    "scrolled": true
   },
   "outputs": [
    {
     "data": {
      "image/png": "[encoded data removed]",
      "text/plain": [
       "<Figure size 432x288 with 1 Axes>"
      ]
     },
     "metadata": {
      "needs_background": "light"
     },
     "output_type": "display_data"
    }
   ],
   "source": [
    "plt.hist(ampiezze_list, bins=20)\n",
    "plt.show()"
   ]
  },
  {
   "cell_type": "code",
   "execution_count": 32,
   "metadata": {},
   "outputs": [
    {
     "data": {
      "image/png": "[encoded data removed]",
      "text/plain": [
       "<Figure size 432x288 with 1 Axes>"
      ]
     },
     "metadata": {
      "needs_background": "light"
     },
     "output_type": "display_data"
    }
   ],
   "source": [
    "plt.errorbar(range(len(ampiezze_list)), ampiezze_list, yerr=err_ampiezze_list,solid_capstyle='projecting',capsize=5)\n",
    "plt.show()"
   ]
  },
  {
   "cell_type": "code",
   "execution_count": 33,
   "metadata": {},
   "outputs": [
    {
     "name": "stdout",
     "output_type": "stream",
     "text": [
      "114.43679593468644 6.5774052627152315\n"
     ]
    }
   ],
   "source": [
    "print(media_pesata_ampiezze,err_media_pesata_ampiezze)"
   ]
  },
  {
   "cell_type": "markdown",
   "metadata": {},
   "source": [
    "Media pesata e errore ampiezze caso nonrndm  \n",
    "193.59670978171002 14.655492080565837"
   ]
  },
  {
   "cell_type": "markdown",
   "metadata": {},
   "source": [
    "## Tempi attesa"
   ]
  },
  {
   "cell_type": "code",
   "execution_count": 34,
   "metadata": {},
   "outputs": [],
   "source": [
    "## calcolo liste dei tick di inizio e fine rivolte con relativi errori \n",
    "###trovati con propagazione degli errori dagli errori dei parametri del fit\n",
    "###(start = media-3sigma --> err_start = sqrt(err_media**2 + (3err_sigma)**2)\n",
    "start_tick_list = []\n",
    "end_tick_list = []\n",
    "err_start_tick_list = []\n",
    "err_end_tick_list = []\n",
    "\n",
    "for rivolte in nobase_gauss_params_dict:\n",
    "    media = nobase_gauss_params_dict[rivolte][1]\n",
    "    sigma = np.abs(nobase_gauss_params_dict[rivolte][2])\n",
    "    err_media = nobase_gauss_err_params_dict[rivolte][1]\n",
    "    err_sigma = nobase_gauss_err_params_dict[rivolte][2]\n",
    "    start_tick_list.append(media - 3*sigma)\n",
    "    end_tick_list.append(media + 3*sigma)\n",
    "    err_start_tick_list.append(np.sqrt(err_media**2 + (3*err_sigma)**2))\n",
    "    err_end_tick_list.append(np.sqrt(err_media**2 + (3*err_sigma)**2))"
   ]
  },
  {
   "cell_type": "code",
   "execution_count": 35,
   "metadata": {},
   "outputs": [],
   "source": [
    "## Calcolo tempi di attesa dalle liste dei tick di inizio e fine rivolte e relativi errori\n",
    "###calcolati con la propagazione dagli errori dei tick di inizio e fine rivolte\n",
    "###(tempo_attesa = start[i+1]-end[i] --> err_tempo_attesa = err_start[i+1] + err_end[i])\n",
    "tempi_attesa_list = []\n",
    "err_tempi_attesa_list = []\n",
    "for i in range(len(end_tick_list)-1):\n",
    "    tempi_attesa_list.append(start_tick_list[i+1] - end_tick_list[i])\n",
    "    err_tempi_attesa_list.append(err_start_tick_list[i+1] + err_end_tick_list[i])"
   ]
  },
  {
   "cell_type": "code",
   "execution_count": 36,
   "metadata": {},
   "outputs": [
    {
     "data": {
      "image/png": "[encoded data removed]",
      "text/plain": [
       "<Figure size 432x288 with 1 Axes>"
      ]
     },
     "metadata": {
      "needs_background": "light"
     },
     "output_type": "display_data"
    }
   ],
   "source": [
    "plt.hist(durate_list, bins=10)\n",
    "plt.show()"
   ]
  },
  {
   "cell_type": "code",
   "execution_count": 37,
   "metadata": {
    "scrolled": false
   },
   "outputs": [
    {
     "data": {
      "image/png": "[encoded data removed]",
      "text/plain": [
       "<Figure size 432x288 with 1 Axes>"
      ]
     },
     "metadata": {
      "needs_background": "light"
     },
     "output_type": "display_data"
    }
   ],
   "source": [
    "plt.errorbar(range(len(tempi_attesa_list)), tempi_attesa_list, yerr=err_tempi_attesa_list,solid_capstyle='projecting',capsize=5)\n",
    "plt.show()"
   ]
  },
  {
   "cell_type": "code",
   "execution_count": 38,
   "metadata": {},
   "outputs": [],
   "source": [
    "lista=[]\n",
    "err_lista=[]\n",
    "for tempo, errore in zip(tempi_attesa_list,err_tempi_attesa_list):\n",
    "    if tempo>0:\n",
    "        lista.append(tempo)\n",
    "        err_lista.append(errore)"
   ]
  },
  {
   "cell_type": "code",
   "execution_count": 39,
   "metadata": {},
   "outputs": [
    {
     "data": {
      "text/plain": [
       "41"
      ]
     },
     "execution_count": 39,
     "metadata": {},
     "output_type": "execute_result"
    }
   ],
   "source": [
    "np.argmax(err_tempi_attesa_list)"
   ]
  },
  {
   "cell_type": "code",
   "execution_count": 40,
   "metadata": {},
   "outputs": [
    {
     "name": "stdout",
     "output_type": "stream",
     "text": [
      "Media pesata e errore tempi attesa: 5.097270325665057 0.5617124474495371\n"
     ]
    }
   ],
   "source": [
    "media_pesata_tempi_attesa = media_pesata(lista, err_lista)\n",
    "err_media_pesata_tempi_attesa = np.sqrt(np.sum((lista-media_pesata_tempi_attesa)**2)/((len(lista)-1)*len(lista)))\n",
    "print('Media pesata e errore tempi attesa:',media_pesata_tempi_attesa,err_media_pesata_tempi_attesa)"
   ]
  },
  {
   "cell_type": "markdown",
   "metadata": {},
   "source": [
    "media pesata e errori tempi attesa caso norndm  \n",
    "17.850298917848043 1.0515878508062226"
   ]
  },
  {
   "cell_type": "markdown",
   "metadata": {},
   "source": [
    "Tempi di attesa diminuiscono\n",
    "Sembra ok, data la contemporanea presenza di più attivi e la nascita di una nuova classe di rivolte, sembra logico che gli spike diventino più frequenti"
   ]
  },
  {
   "cell_type": "code",
   "execution_count": null,
   "metadata": {},
   "outputs": [],
   "source": []
  },
  {
   "cell_type": "code",
   "execution_count": null,
   "metadata": {},
   "outputs": [],
   "source": []
  }
 ],
 "metadata": {
  "kernelspec": {
   "display_name": "Python 3",
   "language": "python",
   "name": "python3"
  },
  "language_info": {
   "codemirror_mode": {
    "name": "ipython",
    "version": 3
   },
   "file_extension": ".py",
   "mimetype": "text/x-python",
   "name": "python",
   "nbconvert_exporter": "python",
   "pygments_lexer": "ipython3",
   "version": "3.7.3"
  },
  "toc": {
   "base_numbering": 1,
   "nav_menu": {},
   "number_sections": true,
   "sideBar": true,
   "skip_h1_title": false,
   "title_cell": "Table of Contents",
   "title_sidebar": "Contents",
   "toc_cell": false,
   "toc_position": {
    "height": "calc(100% - 180px)",
    "left": "10px",
    "top": "150px",
    "width": "201.8px"
   },
   "toc_section_display": true,
   "toc_window_display": true
  }
 },
 "nbformat": 4,
 "nbformat_minor": 2
}
