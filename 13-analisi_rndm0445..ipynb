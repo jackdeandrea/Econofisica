{
 "cells": [
  {
   "cell_type": "code",
   "execution_count": 1,
   "metadata": {},
   "outputs": [
    {
     "name": "stdout",
     "output_type": "stream",
     "text": [
      "Populating the interactive namespace from numpy and matplotlib\n"
     ]
    }
   ],
   "source": [
    "%pylab inline\n",
    "import pandas as pd\n",
    "from scipy.optimize import curve_fit\n",
    "from scipy import asarray as ar\n",
    "from scipy import math\n",
    "#import pylandau\n",
    "import random"
   ]
  },
  {
   "cell_type": "markdown",
   "metadata": {},
   "source": [
    "# Importo il dataset"
   ]
  },
  {
   "cell_type": "code",
   "execution_count": 2,
   "metadata": {},
   "outputs": [
    {
     "data": {
      "text/html": [
       "<div>\n",
       "<style scoped>\n",
       "    .dataframe tbody tr th:only-of-type {\n",
       "        vertical-align: middle;\n",
       "    }\n",
       "\n",
       "    .dataframe tbody tr th {\n",
       "        vertical-align: top;\n",
       "    }\n",
       "\n",
       "    .dataframe thead th {\n",
       "        text-align: right;\n",
       "    }\n",
       "</style>\n",
       "<table border=\"1\" class=\"dataframe\">\n",
       "  <thead>\n",
       "    <tr style=\"text-align: right;\">\n",
       "      <th></th>\n",
       "      <th>x</th>\n",
       "      <th>y</th>\n",
       "      <th>color</th>\n",
       "      <th>pen down?</th>\n",
       "      <th>x.1</th>\n",
       "      <th>y.1</th>\n",
       "      <th>color.1</th>\n",
       "      <th>pen down?.1</th>\n",
       "      <th>x.2</th>\n",
       "      <th>y.2</th>\n",
       "      <th>color.2</th>\n",
       "      <th>pen down?.2</th>\n",
       "    </tr>\n",
       "  </thead>\n",
       "  <tbody>\n",
       "    <tr>\n",
       "      <td>0</td>\n",
       "      <td>0</td>\n",
       "      <td>1120</td>\n",
       "      <td>55</td>\n",
       "      <td>True</td>\n",
       "      <td>0</td>\n",
       "      <td>0</td>\n",
       "      <td>0</td>\n",
       "      <td>True</td>\n",
       "      <td>0</td>\n",
       "      <td>0</td>\n",
       "      <td>15</td>\n",
       "      <td>True</td>\n",
       "    </tr>\n",
       "    <tr>\n",
       "      <td>1</td>\n",
       "      <td>1</td>\n",
       "      <td>963</td>\n",
       "      <td>55</td>\n",
       "      <td>True</td>\n",
       "      <td>1</td>\n",
       "      <td>46</td>\n",
       "      <td>0</td>\n",
       "      <td>True</td>\n",
       "      <td>1</td>\n",
       "      <td>111</td>\n",
       "      <td>15</td>\n",
       "      <td>True</td>\n",
       "    </tr>\n",
       "    <tr>\n",
       "      <td>2</td>\n",
       "      <td>2</td>\n",
       "      <td>604</td>\n",
       "      <td>55</td>\n",
       "      <td>True</td>\n",
       "      <td>2</td>\n",
       "      <td>103</td>\n",
       "      <td>0</td>\n",
       "      <td>True</td>\n",
       "      <td>2</td>\n",
       "      <td>413</td>\n",
       "      <td>15</td>\n",
       "      <td>True</td>\n",
       "    </tr>\n",
       "    <tr>\n",
       "      <td>3</td>\n",
       "      <td>3</td>\n",
       "      <td>558</td>\n",
       "      <td>55</td>\n",
       "      <td>True</td>\n",
       "      <td>3</td>\n",
       "      <td>165</td>\n",
       "      <td>0</td>\n",
       "      <td>True</td>\n",
       "      <td>3</td>\n",
       "      <td>397</td>\n",
       "      <td>15</td>\n",
       "      <td>True</td>\n",
       "    </tr>\n",
       "    <tr>\n",
       "      <td>4</td>\n",
       "      <td>4</td>\n",
       "      <td>554</td>\n",
       "      <td>55</td>\n",
       "      <td>True</td>\n",
       "      <td>4</td>\n",
       "      <td>220</td>\n",
       "      <td>0</td>\n",
       "      <td>True</td>\n",
       "      <td>4</td>\n",
       "      <td>346</td>\n",
       "      <td>15</td>\n",
       "      <td>True</td>\n",
       "    </tr>\n",
       "  </tbody>\n",
       "</table>\n",
       "</div>"
      ],
      "text/plain": [
       "   x     y  color  pen down?  x.1  y.1  color.1  pen down?.1  x.2  y.2  \\\n",
       "0  0  1120     55       True    0    0        0         True    0    0   \n",
       "1  1   963     55       True    1   46        0         True    1  111   \n",
       "2  2   604     55       True    2  103        0         True    2  413   \n",
       "3  3   558     55       True    3  165        0         True    3  397   \n",
       "4  4   554     55       True    4  220        0         True    4  346   \n",
       "\n",
       "   color.2  pen down?.2  \n",
       "0       15         True  \n",
       "1       15         True  \n",
       "2       15         True  \n",
       "3       15         True  \n",
       "4       15         True  "
      ]
     },
     "execution_count": 2,
     "metadata": {},
     "output_type": "execute_result"
    }
   ],
   "source": [
    "file = pd.read_csv(r'/Users/giulioquaglia/Downloads/Econofisica-main-4/dati_rndm_0445.txt')\n",
    "file.head()"
   ]
  },
  {
   "cell_type": "code",
   "execution_count": 3,
   "metadata": {
    "scrolled": true
   },
   "outputs": [
    {
     "name": "stderr",
     "output_type": "stream",
     "text": [
      "/opt/anaconda3/lib/python3.7/site-packages/ipykernel_launcher.py:4: DeprecationWarning: scipy.asarray is deprecated and will be removed in SciPy 2.0.0, use numpy.asarray instead\n",
      "  after removing the cwd from sys.path.\n"
     ]
    },
    {
     "data": {
      "text/plain": [
       "720"
      ]
     },
     "execution_count": 3,
     "metadata": {},
     "output_type": "execute_result"
    }
   ],
   "source": [
    "df = file['y.2']\n",
    "y = df.to_numpy()\n",
    "y = y[210:]\n",
    "x = ar(range(len(y)))\n",
    "len(x)"
   ]
  },
  {
   "cell_type": "code",
   "execution_count": 4,
   "metadata": {},
   "outputs": [
    {
     "data": {
      "image/png": "[encoded data removed]",
      "text/plain": [
       "<Figure size 432x288 with 1 Axes>"
      ]
     },
     "metadata": {
      "needs_background": "light"
     },
     "output_type": "display_data"
    }
   ],
   "source": [
    "plt.plot(range(len(y)), y, color='r')\n",
    "#plt.errorbar(range(len(soglie)), soglie, yerr=err_soglie)\n",
    "plt.show()"
   ]
  },
  {
   "cell_type": "markdown",
   "metadata": {},
   "source": [
    "# Definizioni Utili"
   ]
  },
  {
   "cell_type": "markdown",
   "metadata": {},
   "source": [
    "## Fit Utils"
   ]
  },
  {
   "cell_type": "code",
   "execution_count": 5,
   "metadata": {},
   "outputs": [],
   "source": [
    "def chiquadronorm(oss, fit, sigma, ddof, aiuto=False, norm=True):\n",
    "    'funzione che calcola il chiquadrato di una distribuzione osservata rispetto a una\\\n",
    "    forma funzionale nota'\n",
    "    \n",
    "    #prende liste monodimensionali come argomenti\n",
    "    scarti = []\n",
    "    scartiquadri = []\n",
    "    scartiquadridivisi = []\n",
    "    \n",
    "    for i in range(len(oss)):\n",
    "        scarti.append(oss[i]-fit[i])\n",
    "        scartiquadri.append(scarti[i]*scarti[i])\n",
    "        scartiquadridivisi.append(scartiquadri[i]/(sigma[i]*sigma[i]))\n",
    "        \n",
    "        if (aiuto==True):\n",
    "            print('scarti= ', scarti[i])\n",
    "            print('scartiquadri= ', scartiquadri[i])\n",
    "            print('scartiquadridivisi= ', scartiquadridivisi[i])\n",
    "            \n",
    "    chiquadro=sum(scartiquadridivisi)\n",
    "    chiquadroreg=chiquadro/ddof\n",
    "    \n",
    "    if(norm==True):\n",
    "        return (chiquadroreg)\n",
    "    else:\n",
    "        return (chiquadro)\n",
    "\n",
    "def cost_chiquadronorm(oss, fit, sigma, ddof, aiuto=False, norm=True):\n",
    "    'funzione che calcola il chiquadrato di una distribuzione osservata rispetto a una\\\n",
    "    forma funzionale nota'\n",
    "    \n",
    "    #prende liste monodimensionali come argomenti\n",
    "    scarti = []\n",
    "    scartiquadri = []\n",
    "    scartiquadridivisi = []\n",
    "    \n",
    "    for i in range(len(oss)):\n",
    "        scarti.append(oss[i]-fit)\n",
    "        scartiquadri.append(scarti[i]*scarti[i])\n",
    "        scartiquadridivisi.append(scartiquadri[i]/(sigma[i]*sigma[i]))\n",
    "        \n",
    "        if (aiuto==True):\n",
    "            print('scarti= ', scarti[i])\n",
    "            print('scartiquadri= ', scartiquadri[i])\n",
    "            print('scartiquadridivisi= ', scartiquadridivisi[i])\n",
    "            \n",
    "    chiquadro=sum(scartiquadridivisi)\n",
    "    chiquadroreg=chiquadro/ddof\n",
    "    \n",
    "    if(norm==True):\n",
    "        return (chiquadroreg)\n",
    "    else:\n",
    "        return (chiquadro)\n",
    "\n",
    "    \n",
    "def media_pesata(x, sigma):\n",
    "    numeratore = 0\n",
    "    denominatore = 0\n",
    "    for i in range(len(x)):\n",
    "        numeratore += x[i]/(sigma[i]**2)\n",
    "        denominatore += 1/(sigma[i]**2)\n",
    "    return numeratore/denominatore\n",
    "\n",
    "def costante(x,q):\n",
    "    return q\n",
    "\n",
    "def retta(x,m,q):\n",
    "    return m*x +q\n",
    "\n",
    "def gauss(x,a,x0,sigma,baseline):\n",
    "    'Ritorna array gaussiano a partire da lista x secondo i parametri a,x0,sigma'\n",
    "    return (baseline + a*exp(-(x-x0)**2/(2*sigma*sigma)))\n",
    "\n",
    "\n",
    "def lore(x, a, x0, y0, baseline):\n",
    "    'Ritorna array lorentziano a partire da lista x secondo i parametri a,x0,yo'\n",
    "    return (baseline + a*(y0/(((x - x0)**2) + (y0**2))))\n",
    "\n",
    "def fattoriale(x):\n",
    "    temp_list = []\n",
    "\n",
    "    for ics in x:\n",
    "        f=1\n",
    "        for i in range(1,ics+1):\n",
    "            f*=i\n",
    "        temp_list.append(f)\n",
    "    return(temp_list)\n",
    "\n",
    "def poisson(x, a, media, baseline):\n",
    "    result = baseline + a*(media**x)*np.exp(-media)/fattoriale(x)\n",
    "    return(result)\n",
    "\n",
    "def landau(x, mpv, eta, A, baseline):\n",
    "    x=double(x)\n",
    "    'Ritorna array landauiano a partire da lista x secondo i parametri suoi'\n",
    "    return (baseline + double(pylandau.landau(x, mpv=mpv, eta=eta, A=A)))"
   ]
  },
  {
   "cell_type": "markdown",
   "metadata": {},
   "source": [
    "## Selecting Spikes"
   ]
  },
  {
   "cell_type": "code",
   "execution_count": 6,
   "metadata": {},
   "outputs": [],
   "source": [
    "def isola_spikes (y, datiesterni):\n",
    "    '''\n",
    "    Dati i dati sugli attivi, ritorna due dizionari: \n",
    "    {num_rivolta: [valori attivi]}\n",
    "    {num_rivolta: [tick corrispondenti]}\n",
    "    '''\n",
    "    rivolte_diz = {}\n",
    "    tick_rivolte_diz = {}\n",
    "    temp_rivolta_list = []\n",
    "    temp_tick_list = []\n",
    "    rivolte_counter = 0\n",
    "    cerarivolta = False\n",
    "    \n",
    "    for i in range(len(y)):\n",
    "        \n",
    "        ##aggiustato a 12 per non avere rivoltini\n",
    "        if y[i] > 12:\n",
    "            temp_rivolta_list.append(y[i])\n",
    "            temp_tick_list.append(i)\n",
    "            if cerarivolta == False:\n",
    "                rivolte_counter += 1\n",
    "                cerarivolta = True\n",
    "        else:\n",
    "            if cerarivolta == True:\n",
    "                lunghezza=len(temp_rivolta_list)\n",
    "                if rivolte_counter > 1:\n",
    "                    if datiesterni == 1:\n",
    "                        temp_rivolta_list.insert(0, y[i-lunghezza-1])\n",
    "                        temp_tick_list.insert(0, i-lunghezza-1)\n",
    "                    if datiesterni == 2:\n",
    "                        temp_rivolta_list.insert(0, y[i-lunghezza-1])\n",
    "                        temp_rivolta_list.insert(0, y[i-lunghezza-2])\n",
    "                        temp_tick_list.insert(0, i-lunghezza-1)\n",
    "                        temp_tick_list.insert(0, i-lunghezza-2)\n",
    "                    if datiesterni == 3:\n",
    "                        temp_rivolta_list.insert(0, y[i-lunghezza-1])\n",
    "                        temp_rivolta_list.insert(0, y[i-lunghezza-2])\n",
    "                        temp_rivolta_list.insert(0, y[i-lunghezza-3])\n",
    "                        temp_tick_list.insert(0, i-lunghezza-1)\n",
    "                        temp_tick_list.insert(0, i-lunghezza-2)\n",
    "                        temp_tick_list.insert(0, i-lunghezza-3)\n",
    "                else:\n",
    "                    if datiesterni == 1:\n",
    "                        temp_rivolta_list.insert(0, 0)\n",
    "                        temp_tick_list.insert(0, i-lunghezza-1)\n",
    "                    if datiesterni == 2:\n",
    "                        temp_rivolta_list.insert(0, 0)\n",
    "                        temp_rivolta_list.insert(0, 0)\n",
    "                        temp_tick_list.insert(0, i-lunghezza-1)\n",
    "                        temp_tick_list.insert(0, i-lunghezza-2)\n",
    "                    if datiesterni == 3:\n",
    "                        temp_rivolta_list.insert(0, 0)\n",
    "                        temp_rivolta_list.insert(0, 0)\n",
    "                        temp_rivolta_list.insert(0, 0)\n",
    "                        temp_tick_list.insert(0, i-lunghezza-1)\n",
    "                        temp_tick_list.insert(0, i-lunghezza-2)\n",
    "                        temp_tick_list.insert(0, i-lunghezza-3)\n",
    "                    \n",
    "                if datiesterni == 1:\n",
    "                        temp_rivolta_list.append(y[i])\n",
    "                        temp_tick_list.append(i)\n",
    "                if datiesterni == 2:\n",
    "                        temp_rivolta_list.append(y[i])\n",
    "                        temp_rivolta_list.append(y[i+1])\n",
    "                        temp_tick_list.append(i)\n",
    "                        temp_tick_list.append(i+1)\n",
    "                if datiesterni == 3:\n",
    "                        temp_rivolta_list.append(y[i])\n",
    "                        temp_rivolta_list.append(y[i+1])\n",
    "                        temp_rivolta_list.append(y[i+2])\n",
    "                        temp_tick_list.append(i)\n",
    "                        temp_tick_list.append(i+1)\n",
    "                        temp_tick_list.append(i+2)\n",
    "                \n",
    "                rivolte_diz[str(rivolte_counter)+'_spike'] = temp_rivolta_list\n",
    "                tick_rivolte_diz[str(rivolte_counter)+'_spike'] = temp_tick_list\n",
    "                temp_rivolta_list = []\n",
    "                temp_tick_list = []\n",
    "                cerarivolta = False\n",
    "                \n",
    "    return rivolte_diz, tick_rivolte_diz"
   ]
  },
  {
   "cell_type": "markdown",
   "metadata": {},
   "source": [
    "# Analisi - rndm 4.45%"
   ]
  },
  {
   "cell_type": "markdown",
   "metadata": {},
   "source": [
    "## Creo dizionario degli spikes"
   ]
  },
  {
   "cell_type": "code",
   "execution_count": 7,
   "metadata": {},
   "outputs": [],
   "source": [
    "spikes_dict, tick_spikes_dict = isola_spikes(y, 3)"
   ]
  },
  {
   "cell_type": "markdown",
   "metadata": {},
   "source": [
    "# Rivolte  \n",
    "**HP: sono funzioni gaussiane**  \n",
    "Usiamo il valore di soglia trovato nel caso non random, cambia il meccanismo di attivazione del singolo agente ma non la descrizione della rivolta.  \n",
    "Selezioniamo tutte le rivolte tali per cui max#attivi+errore_attivi >= soglia-5err_soglia, queste apparterranno alla stessa categoria di rivolte trovate nel caso non rndm.  \n",
    "Salvo in rivoltini_dict quelle che non vengono incluse prima per vedere se si viene a creare una nuova popolazione dovuta dalla randomizzazione (che differisce invece dalle rivolte, dovute alla clusterizzazione degli agenti)"
   ]
  },
  {
   "cell_type": "code",
   "execution_count": 8,
   "metadata": {},
   "outputs": [],
   "source": [
    "soglia = 128.1241472701187\n",
    "err_soglia = 12.6007119219633"
   ]
  },
  {
   "cell_type": "code",
   "execution_count": 9,
   "metadata": {},
   "outputs": [],
   "source": [
    "numero_sigma_soglia = 3\n",
    "numero_sigma_baseline = 3\n",
    "baseline = 2"
   ]
  },
  {
   "cell_type": "code",
   "execution_count": 10,
   "metadata": {},
   "outputs": [],
   "source": [
    "## Seleziono le rivolte secondo la regola:\n",
    "###if soglia-5*errore_soglia < y + errore_y --> rivolta\n",
    "###altrimenti salvo in rivoltini_dict\n",
    "rivolte_dict = {}\n",
    "tick_rivolte_dict = {}\n",
    "rivoltini_dict = {}\n",
    "tick_rivoltini_dict = {}\n",
    "nobase_dict = {}\n",
    "tick_nobase_dict = {}\n",
    "rivolte_counter = 0\n",
    "rivoltini_counter = 0\n",
    "for spike in spikes_dict:\n",
    "    y = spikes_dict[spike]\n",
    "    x = tick_spikes_dict[spike]\n",
    "    if np.max(y)+np.sqrt(np.max(y)) >= soglia-numero_sigma_soglia*err_soglia:\n",
    "        rivolte_counter += 1\n",
    "        rivolte_dict[str(rivolte_counter)+'_rivolta']=y\n",
    "        tick_rivolte_dict[str(rivolte_counter)+'_rivolta']=x\n",
    "        nobase_dict[str(rivolte_counter)+'_rivolta']=y\n",
    "        tick_nobase_dict[str(rivolte_counter)+'_rivolta']=x\n",
    "    elif np.max(y)-numero_sigma_baseline*np.sqrt(np.max(y))>=baseline+numero_sigma_baseline*np.sqrt(baseline):\n",
    "        rivoltini_counter += 1 \n",
    "        rivoltini_dict[str(rivoltini_counter)+'_rivoltini']=y\n",
    "        tick_rivoltini_dict[str(rivoltini_counter)+'_rivoltini']=x\n",
    "        nobase_dict[str(rivoltini_counter)+'_rivoltini']=y\n",
    "        tick_nobase_dict[str(rivoltini_counter)+'_rivoltini']=x"
   ]
  },
  {
   "cell_type": "code",
   "execution_count": 11,
   "metadata": {},
   "outputs": [
    {
     "name": "stdout",
     "output_type": "stream",
     "text": [
      "68 27 36\n"
     ]
    }
   ],
   "source": [
    "print(len(spikes_dict), len(rivolte_dict), len(rivoltini_dict))"
   ]
  },
  {
   "cell_type": "code",
   "execution_count": 12,
   "metadata": {},
   "outputs": [
    {
     "name": "stdout",
     "output_type": "stream",
     "text": [
      "90.3220115042288 \n",
      "\n",
      "51.70820393249937\n",
      "72.0\n",
      "84.71779788708135\n",
      "60.28010988928052\n",
      "42.0\n",
      "42.0\n",
      "73.06225774829855\n",
      "57.071067811865476\n",
      "36.56776436283002\n",
      "64.54983443527075\n",
      "64.54983443527075\n",
      "82.60232526704263\n",
      "46.324555320336756\n",
      "60.28010988928052\n",
      "26.69041575982343\n",
      "30.0\n",
      "24.47213595499958\n",
      "74.12403840463597\n",
      "70.93725393319377\n",
      "90.0\n",
      "86.83176086632784\n",
      "61.348469228349536\n",
      "68.81024967590665\n",
      "56.0\n",
      "60.28010988928052\n",
      "88.94427190999916\n",
      "53.855654600401046\n",
      "24.47213595499958\n",
      "45.2449979983984\n",
      "34.3851648071345\n",
      "35.47722557505166\n",
      "52.782329983125265\n",
      "51.70820393249937\n",
      "82.60232526704263\n",
      "44.164414002968975\n",
      "47.40312423743285\n"
     ]
    }
   ],
   "source": [
    "print(soglia-numero_sigma_soglia*err_soglia,'\\n')\n",
    "for risvoltino in rivoltini_dict:\n",
    "    print(max(rivoltini_dict[risvoltino])+np.sqrt(max(rivoltini_dict[risvoltino])))"
   ]
  },
  {
   "cell_type": "code",
   "execution_count": 13,
   "metadata": {
    "scrolled": false
   },
   "outputs": [],
   "source": [
    "##calcolo soglie delle rivolte come f(media-sigma) e errore come f(media-1.2*sigma)-f(media-0.8*sigma)\n",
    "soglie = []\n",
    "err_soglie = []\n",
    "for i, rivolta in enumerate(rivolte_dict.keys()):\n",
    "    \n",
    "    y = rivolte_dict[rivolta]\n",
    "    x = range(len(y))\n",
    "    ##computo errore come radice dei conteggi\n",
    "    sigma_gauss = np.where(np.sqrt(y)==0,1,np.sqrt(y))\n",
    "    \n",
    "    gauss_params,gauss_cov = curve_fit(gauss,x,y,p0=[200.,3.,2.5,0],sigma=sigma_gauss)\n",
    "    gauss_red_chisq = chiquadronorm(y, gauss(x,*gauss_params), sigma_gauss, len(y)-len(gauss_params), norm=True)\n",
    "    soglia = gauss(gauss_params[1] - gauss_params[2], *gauss_params)\n",
    "    errore = gauss(gauss_params[1] - 1.2*gauss_params[2], *gauss_params) - gauss(gauss_params[1] - 0.8*gauss_params[2], *gauss_params)\n",
    "    soglie.append(soglia)\n",
    "    err_soglie.append(np.abs(errore))"
   ]
  },
  {
   "cell_type": "code",
   "execution_count": 14,
   "metadata": {
    "scrolled": false
   },
   "outputs": [
    {
     "name": "stderr",
     "output_type": "stream",
     "text": [
      "/opt/anaconda3/lib/python3.7/site-packages/scipy/optimize/minpack.py:808: OptimizeWarning: Covariance of the parameters could not be estimated\n",
      "  category=OptimizeWarning)\n"
     ]
    },
    {
     "data": {
      "text/plain": [
       "[2.1912197341849513,\n",
       " 12.737980497814657,\n",
       " 4.230539413795065e+159,\n",
       " 11.129375258992486,\n",
       " 7.795772955051984,\n",
       " 9.0450177553125,\n",
       " 11.570661356273451,\n",
       " 9.778902348954254,\n",
       " 167277.12735827663,\n",
       " 48664.69270951956,\n",
       " 21.03863693376414,\n",
       " 10.373318471748274,\n",
       " 7.772087302553018,\n",
       " 15.0962018538339,\n",
       " 0.7923696996869127,\n",
       " 1.6676328714239492,\n",
       " 4388.981365382151,\n",
       " 16.439110338788232,\n",
       " 12.925405554987368,\n",
       " 16.872536760416878,\n",
       " 18.059126869030806,\n",
       " 12.696152303211104,\n",
       " 14.073493355313339,\n",
       " 11.403711146045847,\n",
       " 50.04441645792252,\n",
       " 18.41002419075854,\n",
       " 2.456376394618765e+139,\n",
       " 3.59989056754579,\n",
       " 17496.37073755203,\n",
       " 15323.588293237197,\n",
       " 6.000401724054416e+49,\n",
       " 9.151476429479345,\n",
       " 203.7191911456639,\n",
       " 4.0468819605711435,\n",
       " 7.083280542607987,\n",
       " 20986.039713154743]"
      ]
     },
     "execution_count": 14,
     "metadata": {},
     "output_type": "execute_result"
    }
   ],
   "source": [
    "##calcolo soglini delle rivoltine come f(media-sigma) e errore come f(media-1.2*sigma)-f(media-0.8*sigma)\n",
    "soglini = []\n",
    "err_soglini = []\n",
    "for i, rivolta in enumerate(rivoltini_dict.keys()):\n",
    "    \n",
    "    y = rivoltini_dict[rivolta]\n",
    "    x = range(len(y))\n",
    "    ##computo errore come radice dei conteggi\n",
    "    sigma_gauss = np.where(np.sqrt(y)==0,1,np.sqrt(y))\n",
    "    \n",
    "    gauss_params,gauss_cov = curve_fit(gauss,x,y,p0=[50.,3.,2.5,0.],sigma=sigma_gauss,**{'maxfev':1000000})\n",
    "    gauss_red_chisq = chiquadronorm(y, gauss(x,*gauss_params), sigma_gauss, len(y)-len(gauss_params), norm=True)\n",
    "    soglia = gauss(gauss_params[1] - gauss_params[2], *gauss_params)\n",
    "    errore = gauss(gauss_params[1] - 1.2*gauss_params[2], *gauss_params) - gauss(gauss_params[1] - 0.8*gauss_params[2], *gauss_params)\n",
    "    soglini.append(soglia)\n",
    "    err_soglini.append(np.abs(errore))\n",
    "err_soglini"
   ]
  },
  {
   "cell_type": "markdown",
   "metadata": {},
   "source": [
    "## Metodo grafico  \n",
    "Plotto le rivolte con relativi errori in funzione dell'ordine della rivolta,  \n",
    "se il chiquadro ridotto del fit di questi valori con una costante è minore di uno, allora posso dire che gli eventi considerati sono statisticamente indipendenti e appartenenti alla stessa distribuzione"
   ]
  },
  {
   "cell_type": "markdown",
   "metadata": {},
   "source": [
    "### Rivolte-Provo con costante"
   ]
  },
  {
   "cell_type": "code",
   "execution_count": 15,
   "metadata": {},
   "outputs": [
    {
     "data": {
      "image/png": "[encoded data removed]",
      "text/plain": [
       "<Figure size 432x288 with 1 Axes>"
      ]
     },
     "metadata": {
      "needs_background": "light"
     },
     "output_type": "display_data"
    },
    {
     "name": "stdout",
     "output_type": "stream",
     "text": [
      "ReducedChiSquared: 0.46259442525259803\n"
     ]
    }
   ],
   "source": [
    "popt, pcov = curve_fit(costante, range(len(soglie)), soglie, sigma=err_soglie)\n",
    "cost_red_chisq = cost_chiquadronorm(soglie, costante(range(len(soglie)),*popt), err_soglie, len(soglie)-len(popt), norm=True)\n",
    "plt.plot(range(len(soglie)), [costante(range(len(soglie)),*popt) for k in range(len(soglie))], color='r')\n",
    "plt.errorbar(range(len(soglie)), soglie, yerr=err_soglie,solid_capstyle='projecting',capsize=5)\n",
    "plt.show()\n",
    "print('ReducedChiSquared:', cost_red_chisq)"
   ]
  },
  {
   "cell_type": "code",
   "execution_count": 16,
   "metadata": {},
   "outputs": [
    {
     "data": {
      "text/plain": [
       "(array([71.55442725]), array([[3.54822942]]))"
      ]
     },
     "execution_count": 16,
     "metadata": {},
     "output_type": "execute_result"
    }
   ],
   "source": [
    "popt ,np.sqrt(pcov)"
   ]
  },
  {
   "cell_type": "code",
   "execution_count": 17,
   "metadata": {},
   "outputs": [
    {
     "name": "stdout",
     "output_type": "stream",
     "text": [
      "71.5544272559689 8.753463514092886\n"
     ]
    }
   ],
   "source": [
    "media_pesata_soglie = media_pesata(soglie, err_soglie)\n",
    "err_media_pesata_soglie = np.sqrt(np.sum((soglie-media_pesata_soglie)**2)/((len(soglie)-1)*len(soglie)))\n",
    "print(media_pesata_soglie, err_media_pesata_soglie)"
   ]
  },
  {
   "cell_type": "markdown",
   "metadata": {},
   "source": [
    "media pesata e errore soglie caso nonrndm  \n",
    "128.77802517036957 6.633983699986502"
   ]
  },
  {
   "cell_type": "markdown",
   "metadata": {},
   "source": [
    "Gli eventi selezionati come rivolte hanno valori di soglia che, al netto degli errori considerati, sono considerabili come appartenenti a alla stessa distribuzione statistica.  \n",
    "Rispetto al caso non random vedo però che il valore della costante (media pesata soglie) è calato e non è più compatibile (1sigma) con il valore trovato in precedenza. Se considero però gli intervalli media pesata +- 3sigma dei valori di soglia nel caso random e non random questi hanno intersezione non nulla."
   ]
  },
  {
   "cell_type": "markdown",
   "metadata": {},
   "source": [
    "### Rivoltini-Provo con costante  \n",
    "oss, sono proprio sicuro che fittino con una gaussiana? non dovrei provare altre forme funzionali?"
   ]
  },
  {
   "cell_type": "code",
   "execution_count": 18,
   "metadata": {},
   "outputs": [
    {
     "name": "stdout",
     "output_type": "stream",
     "text": [
      "36 36\n"
     ]
    }
   ],
   "source": [
    "print(len(soglini), len(err_soglini))"
   ]
  },
  {
   "cell_type": "code",
   "execution_count": 19,
   "metadata": {},
   "outputs": [
    {
     "data": {
      "text/plain": [
       "[2.3787096317976593,\n",
       " 32.66352807397751,\n",
       " 32.41289233596552,\n",
       " 27.064203163360993,\n",
       " 30.320100932757178,\n",
       " 34.33811042037964,\n",
       " 37.14770539940481,\n",
       " 64.07491917833885,\n",
       " 25.291688857281077,\n",
       " 24.02584307349754,\n",
       " 7.437910976955774,\n",
       " 9.488237539661815,\n",
       " 42.511400342883455,\n",
       " 35.547568872518646,\n",
       " 46.538309417427925,\n",
       " 47.651445416015136,\n",
       " 35.75941579394925,\n",
       " 38.8997097788857,\n",
       " 31.452988363209368,\n",
       " 51.22060768281757,\n",
       " 15.953346290644037,\n",
       " 19.065200260307822,\n",
       " 9.034993707557478,\n",
       " 25.765589097599076]"
      ]
     },
     "execution_count": 19,
     "metadata": {},
     "output_type": "execute_result"
    }
   ],
   "source": [
    "soglini1=[]\n",
    "err_soglini1=[]\n",
    "for i in range(len(soglini)):\n",
    "    if soglini[i]>0 and soglini[i]<100:\n",
    "        soglini1.append(soglini[i])\n",
    "        err_soglini1.append(err_soglini[i])\n",
    "soglini1"
   ]
  },
  {
   "cell_type": "code",
   "execution_count": 20,
   "metadata": {},
   "outputs": [
    {
     "data": {
      "image/png": "[encoded data removed]",
      "text/plain": [
       "<Figure size 432x288 with 1 Axes>"
      ]
     },
     "metadata": {
      "needs_background": "light"
     },
     "output_type": "display_data"
    },
    {
     "name": "stdout",
     "output_type": "stream",
     "text": [
      "ReducedChiSquared: 4.5449020984746165\n"
     ]
    }
   ],
   "source": [
    "popt, pcov = curve_fit(costante, range(len(soglini1)), soglini1, sigma=err_soglini1)\n",
    "cost_red_chisq = cost_chiquadronorm(soglini1, costante(range(len(soglini1)),*popt), err_soglini1, len(soglini1)-len(popt), norm=True)\n",
    "plt.plot(range(len(soglini1)), [costante(range(len(soglini1)),*popt) for k in range(len(soglini1))], color='r')\n",
    "plt.errorbar(range(len(soglini1)), soglini1, yerr=err_soglini1,solid_capstyle='projecting',capsize=5)\n",
    "plt.show()\n",
    "print('ReducedChiSquared:', cost_red_chisq)"
   ]
  },
  {
   "cell_type": "markdown",
   "metadata": {},
   "source": [
    "I rivoltini invece, hanno un chiquadro ridotto superiore a uno.  \n",
    "Non sembrerebbe si tratti della stessa popolazione statistica, ma probabilmente questo è dovuto ai piccoli errori sui valori di soglia più piccoli"
   ]
  },
  {
   "cell_type": "markdown",
   "metadata": {},
   "source": [
    "# Metriche  \n",
    "Tutte le metriche vengono ricavate dal calcolo dei parametri derivanti dalla procedura di fit:  \n",
    "- Durata = 6sigma della rivolta considerata  \n",
    "- Tempo attesa = (media[rivolta_i+1] - 3sigma[rivolta_i+1]) - (media[rivolta_i] + 3sigma[rivolta_i])  \n",
    "- Ampiezza = parametro del fit  \n",
    "  \n",
    "Gli errori vengono calcolati dalla propagazione degli errori sui parametri del fit"
   ]
  },
  {
   "cell_type": "code",
   "execution_count": 21,
   "metadata": {},
   "outputs": [],
   "source": [
    "## For loop che mi serve a trovare ampiezza, media e deviazione standard di ognuna delle rivolte,\n",
    "###salvo i parametri del fit per ognuna delle rivolte\n",
    "gauss_params_dict = {}\n",
    "gauss_err_params_dict = {}\n",
    "for rivolte in rivolte_dict:\n",
    "\n",
    "    temp_list = []\n",
    "    temp_err_list = []\n",
    "    y = rivolte_dict[rivolte]\n",
    "    x = tick_rivolte_dict[rivolte]\n",
    "    \n",
    "    err_y = np.where(np.sqrt(y)==0,1,np.sqrt(y))\n",
    "    gauss_params,gauss_cov = curve_fit(gauss,x,y,p0=[200,((x[-1]-x[0])/2)+x[0],4.,0.],sigma=err_y,**{'maxfev':1000000})\n",
    "    temp_list.append(gauss_params[0])\n",
    "    temp_list.append(gauss_params[1])\n",
    "    temp_list.append(gauss_params[2])\n",
    "    temp_list.append(gauss_params[3])\n",
    "    temp_err_list.append(np.sqrt(np.abs(gauss_cov[0][0])))\n",
    "    temp_err_list.append(np.sqrt(np.abs(gauss_cov[1][1])))\n",
    "    temp_err_list.append(np.sqrt(np.abs(gauss_cov[2][2])))\n",
    "    temp_err_list.append(np.sqrt(np.abs(gauss_cov[3][3])))\n",
    "    gauss_params_dict[rivolte] = temp_list\n",
    "    gauss_err_params_dict[rivolte] = temp_err_list"
   ]
  },
  {
   "cell_type": "code",
   "execution_count": 22,
   "metadata": {},
   "outputs": [],
   "source": [
    "## For loop che mi serve a trovare ampiezza, media e deviazione standard di ognuna delle rivolte,\n",
    "###salvo i parametri del fit per ognuna delle rivolte\n",
    "nobase_gauss_params_dict = {}\n",
    "nobase_gauss_err_params_dict = {}\n",
    "for rivolte in nobase_dict:\n",
    "\n",
    "    temp_list = []\n",
    "    temp_err_list = []\n",
    "    y = nobase_dict[rivolte]\n",
    "    x = tick_nobase_dict[rivolte]\n",
    "    \n",
    "    err_y = np.where(np.sqrt(y)==0,1,np.sqrt(y))\n",
    "    gauss_params,gauss_cov = curve_fit(gauss,x,y,p0=[100,((x[-1]-x[0])/2)+x[0],4.,0.],sigma=err_y,**{'maxfev':1000000})\n",
    "    temp_list.append(gauss_params[0])\n",
    "    temp_list.append(gauss_params[1])\n",
    "    temp_list.append(gauss_params[2])\n",
    "    temp_list.append(gauss_params[3])\n",
    "    temp_err_list.append(np.sqrt(np.abs(gauss_cov[0][0])))\n",
    "    temp_err_list.append(np.sqrt(np.abs(gauss_cov[1][1])))\n",
    "    temp_err_list.append(np.sqrt(np.abs(gauss_cov[2][2])))\n",
    "    temp_err_list.append(np.sqrt(np.abs(gauss_cov[3][3])))\n",
    "    nobase_gauss_params_dict[rivolte] = temp_list\n",
    "    nobase_gauss_err_params_dict[rivolte] = temp_err_list"
   ]
  },
  {
   "cell_type": "code",
   "execution_count": 23,
   "metadata": {
    "scrolled": false
   },
   "outputs": [
    {
     "data": {
      "text/html": [
       "<div>\n",
       "<style scoped>\n",
       "    .dataframe tbody tr th:only-of-type {\n",
       "        vertical-align: middle;\n",
       "    }\n",
       "\n",
       "    .dataframe tbody tr th {\n",
       "        vertical-align: top;\n",
       "    }\n",
       "\n",
       "    .dataframe thead th {\n",
       "        text-align: right;\n",
       "    }\n",
       "</style>\n",
       "<table border=\"1\" class=\"dataframe\">\n",
       "  <thead>\n",
       "    <tr style=\"text-align: right;\">\n",
       "      <th></th>\n",
       "      <th>0</th>\n",
       "      <th>1</th>\n",
       "      <th>2</th>\n",
       "      <th>3</th>\n",
       "    </tr>\n",
       "  </thead>\n",
       "  <tbody>\n",
       "    <tr>\n",
       "      <td>1_rivoltini</td>\n",
       "      <td>1.073903e+07</td>\n",
       "      <td>1.784882e+02</td>\n",
       "      <td>2413.110893</td>\n",
       "      <td>1.388505</td>\n",
       "    </tr>\n",
       "    <tr>\n",
       "      <td>2_rivoltini</td>\n",
       "      <td>8.740146e+00</td>\n",
       "      <td>3.613235e-01</td>\n",
       "      <td>0.510157</td>\n",
       "      <td>4.696137</td>\n",
       "    </tr>\n",
       "    <tr>\n",
       "      <td>1_rivolta</td>\n",
       "      <td>8.463461e+00</td>\n",
       "      <td>1.604614e-01</td>\n",
       "      <td>0.157374</td>\n",
       "      <td>1.974331</td>\n",
       "    </tr>\n",
       "    <tr>\n",
       "      <td>3_rivoltini</td>\n",
       "      <td>inf</td>\n",
       "      <td>5.034437e+01</td>\n",
       "      <td>6.134629</td>\n",
       "      <td>2.240108</td>\n",
       "    </tr>\n",
       "    <tr>\n",
       "      <td>4_rivoltini</td>\n",
       "      <td>6.131769e+00</td>\n",
       "      <td>2.772583e-01</td>\n",
       "      <td>0.402740</td>\n",
       "      <td>3.530470</td>\n",
       "    </tr>\n",
       "    <tr>\n",
       "      <td>2_rivolta</td>\n",
       "      <td>7.179649e+00</td>\n",
       "      <td>1.172950e-01</td>\n",
       "      <td>0.122079</td>\n",
       "      <td>1.591623</td>\n",
       "    </tr>\n",
       "    <tr>\n",
       "      <td>5_rivoltini</td>\n",
       "      <td>4.793194e+00</td>\n",
       "      <td>1.395188e-01</td>\n",
       "      <td>0.139587</td>\n",
       "      <td>1.174598</td>\n",
       "    </tr>\n",
       "    <tr>\n",
       "      <td>6_rivoltini</td>\n",
       "      <td>1.904644e+01</td>\n",
       "      <td>1.493459e-01</td>\n",
       "      <td>0.262597</td>\n",
       "      <td>1.489984</td>\n",
       "    </tr>\n",
       "    <tr>\n",
       "      <td>3_rivolta</td>\n",
       "      <td>3.142975e+08</td>\n",
       "      <td>2.597675e+04</td>\n",
       "      <td>43789.807552</td>\n",
       "      <td>2.611314</td>\n",
       "    </tr>\n",
       "    <tr>\n",
       "      <td>4_rivolta</td>\n",
       "      <td>1.993854e+01</td>\n",
       "      <td>1.463943e-01</td>\n",
       "      <td>0.125418</td>\n",
       "      <td>2.808120</td>\n",
       "    </tr>\n",
       "    <tr>\n",
       "      <td>7_rivoltini</td>\n",
       "      <td>5.469484e+00</td>\n",
       "      <td>2.951373e-01</td>\n",
       "      <td>0.388459</td>\n",
       "      <td>2.623864</td>\n",
       "    </tr>\n",
       "    <tr>\n",
       "      <td>8_rivoltini</td>\n",
       "      <td>7.580948e+00</td>\n",
       "      <td>2.591099e-01</td>\n",
       "      <td>0.249989</td>\n",
       "      <td>1.730339</td>\n",
       "    </tr>\n",
       "    <tr>\n",
       "      <td>9_rivoltini</td>\n",
       "      <td>2.464877e+10</td>\n",
       "      <td>1.378197e+06</td>\n",
       "      <td>159488.409166</td>\n",
       "      <td>4233.322570</td>\n",
       "    </tr>\n",
       "    <tr>\n",
       "      <td>5_rivolta</td>\n",
       "      <td>1.453294e+01</td>\n",
       "      <td>1.193463e-01</td>\n",
       "      <td>0.119950</td>\n",
       "      <td>2.505048</td>\n",
       "    </tr>\n",
       "    <tr>\n",
       "      <td>6_rivolta</td>\n",
       "      <td>6.911881e+00</td>\n",
       "      <td>1.132725e-01</td>\n",
       "      <td>0.120072</td>\n",
       "      <td>1.526513</td>\n",
       "    </tr>\n",
       "    <tr>\n",
       "      <td>7_rivolta</td>\n",
       "      <td>7.878649e+00</td>\n",
       "      <td>1.580760e-01</td>\n",
       "      <td>0.173576</td>\n",
       "      <td>1.990131</td>\n",
       "    </tr>\n",
       "    <tr>\n",
       "      <td>10_rivoltini</td>\n",
       "      <td>2.477787e+07</td>\n",
       "      <td>2.942456e+02</td>\n",
       "      <td>35.006734</td>\n",
       "      <td>3.421286</td>\n",
       "    </tr>\n",
       "    <tr>\n",
       "      <td>8_rivolta</td>\n",
       "      <td>8.471718e+00</td>\n",
       "      <td>1.314530e-01</td>\n",
       "      <td>0.140038</td>\n",
       "      <td>2.024291</td>\n",
       "    </tr>\n",
       "    <tr>\n",
       "      <td>9_rivolta</td>\n",
       "      <td>1.440333e+01</td>\n",
       "      <td>1.796728e-01</td>\n",
       "      <td>0.172769</td>\n",
       "      <td>2.391775</td>\n",
       "    </tr>\n",
       "    <tr>\n",
       "      <td>10_rivolta</td>\n",
       "      <td>8.895677e+00</td>\n",
       "      <td>1.052365e-01</td>\n",
       "      <td>0.101770</td>\n",
       "      <td>1.396766</td>\n",
       "    </tr>\n",
       "  </tbody>\n",
       "</table>\n",
       "</div>"
      ],
      "text/plain": [
       "                         0             1              2            3\n",
       "1_rivoltini   1.073903e+07  1.784882e+02    2413.110893     1.388505\n",
       "2_rivoltini   8.740146e+00  3.613235e-01       0.510157     4.696137\n",
       "1_rivolta     8.463461e+00  1.604614e-01       0.157374     1.974331\n",
       "3_rivoltini            inf  5.034437e+01       6.134629     2.240108\n",
       "4_rivoltini   6.131769e+00  2.772583e-01       0.402740     3.530470\n",
       "2_rivolta     7.179649e+00  1.172950e-01       0.122079     1.591623\n",
       "5_rivoltini   4.793194e+00  1.395188e-01       0.139587     1.174598\n",
       "6_rivoltini   1.904644e+01  1.493459e-01       0.262597     1.489984\n",
       "3_rivolta     3.142975e+08  2.597675e+04   43789.807552     2.611314\n",
       "4_rivolta     1.993854e+01  1.463943e-01       0.125418     2.808120\n",
       "7_rivoltini   5.469484e+00  2.951373e-01       0.388459     2.623864\n",
       "8_rivoltini   7.580948e+00  2.591099e-01       0.249989     1.730339\n",
       "9_rivoltini   2.464877e+10  1.378197e+06  159488.409166  4233.322570\n",
       "5_rivolta     1.453294e+01  1.193463e-01       0.119950     2.505048\n",
       "6_rivolta     6.911881e+00  1.132725e-01       0.120072     1.526513\n",
       "7_rivolta     7.878649e+00  1.580760e-01       0.173576     1.990131\n",
       "10_rivoltini  2.477787e+07  2.942456e+02      35.006734     3.421286\n",
       "8_rivolta     8.471718e+00  1.314530e-01       0.140038     2.024291\n",
       "9_rivolta     1.440333e+01  1.796728e-01       0.172769     2.391775\n",
       "10_rivolta    8.895677e+00  1.052365e-01       0.101770     1.396766"
      ]
     },
     "execution_count": 23,
     "metadata": {},
     "output_type": "execute_result"
    }
   ],
   "source": [
    "\n",
    "pd.DataFrame.from_dict(nobase_gauss_err_params_dict, orient='index').head(20)"
   ]
  },
  {
   "cell_type": "code",
   "execution_count": 24,
   "metadata": {},
   "outputs": [],
   "source": [
    "del nobase_gauss_params_dict['3_rivoltini']\n",
    "del nobase_gauss_err_params_dict['3_rivoltini']\n",
    "del nobase_gauss_params_dict['9_rivoltini']\n",
    "del nobase_gauss_err_params_dict['9_rivoltini']\n",
    "del nobase_gauss_params_dict['10_rivoltini']\n",
    "del nobase_gauss_err_params_dict['10_rivoltini']\n",
    "del nobase_gauss_params_dict['11_rivoltini']\n",
    "del nobase_gauss_err_params_dict['11_rivoltini']\n",
    "del nobase_gauss_params_dict['15_rivoltini']\n",
    "del nobase_gauss_err_params_dict['15_rivoltini']\n",
    "del nobase_gauss_params_dict['16_rivoltini']\n",
    "del nobase_gauss_err_params_dict['16_rivoltini']\n",
    "del nobase_gauss_params_dict['17_rivoltini']\n",
    "del nobase_gauss_err_params_dict['17_rivoltini']\n",
    "del nobase_gauss_params_dict['30_rivoltini']\n",
    "del nobase_gauss_err_params_dict['30_rivoltini']\n",
    "del nobase_gauss_params_dict['31_rivoltini']\n",
    "del nobase_gauss_err_params_dict['31_rivoltini']\n",
    "del nobase_gauss_params_dict['29_rivoltini']\n",
    "del nobase_gauss_err_params_dict['29_rivoltini']\n",
    "del nobase_gauss_params_dict['27_rivoltini']\n",
    "del nobase_gauss_err_params_dict['27_rivoltini']\n",
    "del nobase_gauss_params_dict['25_rivoltini']\n",
    "del nobase_gauss_err_params_dict['25_rivoltini']\n",
    "del nobase_gauss_params_dict['1_rivoltini']\n",
    "del nobase_gauss_err_params_dict['1_rivoltini']\n",
    "del nobase_gauss_params_dict['36_rivoltini']\n",
    "del nobase_gauss_err_params_dict['36_rivoltini']\n",
    "del nobase_gauss_params_dict['33_rivoltini']\n",
    "del nobase_gauss_err_params_dict['33_rivoltini']\n",
    "del nobase_gauss_params_dict['3_rivolta']\n",
    "del nobase_gauss_err_params_dict['3_rivolta']\n",
    "\n",
    "del gauss_params_dict['3_rivolta']\n",
    "del gauss_err_params_dict['3_rivolta']"
   ]
  },
  {
   "cell_type": "markdown",
   "metadata": {},
   "source": [
    "## Durata"
   ]
  },
  {
   "cell_type": "code",
   "execution_count": 26,
   "metadata": {},
   "outputs": [],
   "source": [
    "## calcolo la durata delle singole rivolte come 6 per la sigma della rivolta (hp:gaussiane)\n",
    "###e errori su singole durate propagando gli errori sulla sigma (6*err_assoluto sigma)\n",
    "durate_list = [gauss_params_dict[rivolte][2]*6 for rivolte in gauss_params_dict]\n",
    "err_durate_list = [gauss_err_params_dict[rivolte][2]*6 for rivolte in gauss_params_dict]\n",
    "durate_list = np.abs(durate_list)\n",
    "err_durate_list = np.abs(err_durate_list)\n",
    "\n",
    "## calcolo media pesata e errore su media\n",
    "media_pesata_durate = media_pesata(durate_list, err_durate_list)\n",
    "err_media_pesata_durate = np.sqrt(np.sum((durate_list - media_pesata_durate)**2)/(len(durate_list)*(len(durate_list)-1)))"
   ]
  },
  {
   "cell_type": "code",
   "execution_count": 27,
   "metadata": {},
   "outputs": [
    {
     "data": {
      "image/png": "[encoded data removed]",
      "text/plain": [
       "<Figure size 432x288 with 1 Axes>"
      ]
     },
     "metadata": {
      "needs_background": "light"
     },
     "output_type": "display_data"
    }
   ],
   "source": [
    "plt.hist(durate_list, bins=10)\n",
    "plt.show()"
   ]
  },
  {
   "cell_type": "code",
   "execution_count": 28,
   "metadata": {},
   "outputs": [
    {
     "data": {
      "image/png": "[encoded data removed]",
      "text/plain": [
       "<Figure size 432x288 with 1 Axes>"
      ]
     },
     "metadata": {
      "needs_background": "light"
     },
     "output_type": "display_data"
    }
   ],
   "source": [
    "plt.errorbar(range(len(durate_list)), durate_list, yerr=err_durate_list,solid_capstyle='projecting',capsize=5)\n",
    "plt.show()"
   ]
  },
  {
   "cell_type": "code",
   "execution_count": 29,
   "metadata": {},
   "outputs": [
    {
     "name": "stdout",
     "output_type": "stream",
     "text": [
      "10.600907662841697 0.32858966457817856\n"
     ]
    }
   ],
   "source": [
    "print(media_pesata_durate,err_media_pesata_durate)"
   ]
  },
  {
   "cell_type": "markdown",
   "metadata": {},
   "source": [
    "media pesata durate e errore caso norndm  \n",
    "10.311830447971328 0.12035386293573513\n",
    "  \n",
    "valori compatibili tra loro"
   ]
  },
  {
   "cell_type": "markdown",
   "metadata": {},
   "source": [
    "## Ampiezza"
   ]
  },
  {
   "cell_type": "code",
   "execution_count": 30,
   "metadata": {},
   "outputs": [],
   "source": [
    "## Calcolo ampiezze per ogni rivolta e errore da propagazione errori del fit\n",
    "ampiezze_list = [gauss_params_dict[rivolte][0] for rivolte in gauss_params_dict]\n",
    "err_ampiezze_list = [gauss_err_params_dict[rivolte][0] for rivolte in gauss_params_dict]\n",
    "ampiezze_list = np.abs(ampiezze_list)\n",
    "err_ampiezze_list = np.abs(err_ampiezze_list)\n",
    "\n",
    "## Calcolo media pesata e errore su media\n",
    "media_pesata_ampiezze = media_pesata(ampiezze_list, err_ampiezze_list)\n",
    "err_media_pesata_ampiezze = np.sqrt(np.sum((ampiezze_list - media_pesata_ampiezze)**2)/(len(ampiezze_list)*(len(ampiezze_list)-1)))"
   ]
  },
  {
   "cell_type": "code",
   "execution_count": 31,
   "metadata": {
    "scrolled": true
   },
   "outputs": [
    {
     "data": {
      "image/png": "[encoded data removed]",
      "text/plain": [
       "<Figure size 432x288 with 1 Axes>"
      ]
     },
     "metadata": {
      "needs_background": "light"
     },
     "output_type": "display_data"
    }
   ],
   "source": [
    "plt.hist(ampiezze_list, bins=20)\n",
    "plt.show()"
   ]
  },
  {
   "cell_type": "code",
   "execution_count": 32,
   "metadata": {},
   "outputs": [
    {
     "data": {
      "image/png": "[encoded data removed]",
      "text/plain": [
       "<Figure size 432x288 with 1 Axes>"
      ]
     },
     "metadata": {
      "needs_background": "light"
     },
     "output_type": "display_data"
    }
   ],
   "source": [
    "plt.errorbar(range(len(ampiezze_list)), ampiezze_list, yerr=err_ampiezze_list,solid_capstyle='projecting',capsize=5)\n",
    "plt.show()"
   ]
  },
  {
   "cell_type": "code",
   "execution_count": 33,
   "metadata": {},
   "outputs": [
    {
     "name": "stdout",
     "output_type": "stream",
     "text": [
      "114.43679593468644 6.5774052627152315\n"
     ]
    }
   ],
   "source": [
    "print(media_pesata_ampiezze,err_media_pesata_ampiezze)"
   ]
  },
  {
   "cell_type": "markdown",
   "metadata": {},
   "source": [
    "Media pesata e errore ampiezze caso nonrndm  \n",
    "193.59670978171002 14.655492080565837"
   ]
  },
  {
   "cell_type": "markdown",
   "metadata": {},
   "source": [
    "## Tempi attesa"
   ]
  },
  {
   "cell_type": "code",
   "execution_count": 34,
   "metadata": {},
   "outputs": [],
   "source": [
    "## calcolo liste dei tick di inizio e fine rivolte con relativi errori \n",
    "###trovati con propagazione degli errori dagli errori dei parametri del fit\n",
    "###(start = media-3sigma --> err_start = sqrt(err_media**2 + (3err_sigma)**2)\n",
    "start_tick_list = []\n",
    "end_tick_list = []\n",
    "err_start_tick_list = []\n",
    "err_end_tick_list = []\n",
    "\n",
    "for rivolte in nobase_gauss_params_dict:\n",
    "    media = nobase_gauss_params_dict[rivolte][1]\n",
    "    sigma = np.abs(nobase_gauss_params_dict[rivolte][2])\n",
    "    err_media = nobase_gauss_err_params_dict[rivolte][1]\n",
    "    err_sigma = nobase_gauss_err_params_dict[rivolte][2]\n",
    "    start_tick_list.append(media - 3*sigma)\n",
    "    end_tick_list.append(media + 3*sigma)\n",
    "    err_start_tick_list.append(np.sqrt(err_media**2 + (3*err_sigma)**2))\n",
    "    err_end_tick_list.append(np.sqrt(err_media**2 + (3*err_sigma)**2))"
   ]
  },
  {
   "cell_type": "code",
   "execution_count": 35,
   "metadata": {},
   "outputs": [],
   "source": [
    "## Calcolo tempi di attesa dalle liste dei tick di inizio e fine rivolte e relativi errori\n",
    "###calcolati con la propagazione dagli errori dei tick di inizio e fine rivolte\n",
    "###(tempo_attesa = start[i+1]-end[i] --> err_tempo_attesa = err_start[i+1] + err_end[i])\n",
    "tempi_attesa_list = []\n",
    "err_tempi_attesa_list = []\n",
    "for i in range(len(end_tick_list)-1):\n",
    "    tempi_attesa_list.append(start_tick_list[i+1] - end_tick_list[i])\n",
    "    err_tempi_attesa_list.append(err_start_tick_list[i+1] + err_end_tick_list[i])"
   ]
  },
  {
   "cell_type": "code",
   "execution_count": 36,
   "metadata": {},
   "outputs": [
    {
     "data": {
      "image/png": "[encoded data removed]",
      "text/plain": [
       "<Figure size 432x288 with 1 Axes>"
      ]
     },
     "metadata": {
      "needs_background": "light"
     },
     "output_type": "display_data"
    }
   ],
   "source": [
    "plt.hist(durate_list, bins=10)\n",
    "plt.show()"
   ]
  },
  {
   "cell_type": "code",
   "execution_count": 37,
   "metadata": {
    "scrolled": false
   },
   "outputs": [
    {
     "data": {
      "image/png": "[encoded data removed]",
      "text/plain": [
       "<Figure size 432x288 with 1 Axes>"
      ]
     },
     "metadata": {
      "needs_background": "light"
     },
     "output_type": "display_data"
    }
   ],
   "source": [
    "plt.errorbar(range(len(tempi_attesa_list)), tempi_attesa_list, yerr=err_tempi_attesa_list,solid_capstyle='projecting',capsize=5)\n",
    "plt.show()"
   ]
  },
  {
   "cell_type": "code",
   "execution_count": 38,
   "metadata": {},
   "outputs": [],
   "source": [
    "lista=[]\n",
    "err_lista=[]\n",
    "for tempo, errore in zip(tempi_attesa_list,err_tempi_attesa_list):\n",
    "    if tempo>0:\n",
    "        lista.append(tempo)\n",
    "        err_lista.append(errore)"
   ]
  },
  {
   "cell_type": "code",
   "execution_count": 39,
   "metadata": {},
   "outputs": [
    {
     "data": {
      "text/plain": [
       "41"
      ]
     },
     "execution_count": 39,
     "metadata": {},
     "output_type": "execute_result"
    }
   ],
   "source": [
    "np.argmax(err_tempi_attesa_list)"
   ]
  },
  {
   "cell_type": "code",
   "execution_count": 40,
   "metadata": {},
   "outputs": [
    {
     "name": "stdout",
     "output_type": "stream",
     "text": [
      "Media pesata e errore tempi attesa: 5.097270325665057 0.5617124474495371\n"
     ]
    }
   ],
   "source": [
    "media_pesata_tempi_attesa = media_pesata(lista, err_lista)\n",
    "err_media_pesata_tempi_attesa = np.sqrt(np.sum((lista-media_pesata_tempi_attesa)**2)/((len(lista)-1)*len(lista)))\n",
    "print('Media pesata e errore tempi attesa:',media_pesata_tempi_attesa,err_media_pesata_tempi_attesa)"
   ]
  },
  {
   "cell_type": "markdown",
   "metadata": {},
   "source": [
    "media pesata e errori tempi attesa caso norndm  \n",
    "17.850298917848043 1.0515878508062226"
   ]
  },
  {
   "cell_type": "markdown",
   "metadata": {},
   "source": [
    "Tempi di attesa diminuiscono\n",
    "Sembra ok, data la contemporanea presenza di più attivi e la nascita di una nuova classe di rivolte, sembra logico che gli spike diventino più frequenti"
   ]
  },
  {
   "cell_type": "code",
   "execution_count": null,
   "metadata": {},
   "outputs": [],
   "source": []
  },
  {
   "cell_type": "code",
   "execution_count": null,
   "metadata": {},
   "outputs": [],
   "source": []
  }
 ],
 "metadata": {
  "kernelspec": {
   "display_name": "Python 3",
   "language": "python",
   "name": "python3"
  },
  "language_info": {
   "codemirror_mode": {
    "name": "ipython",
    "version": 3
   },
   "file_extension": ".py",
   "mimetype": "text/x-python",
   "name": "python",
   "nbconvert_exporter": "python",
   "pygments_lexer": "ipython3",
   "version": "3.7.4"
  },
  "toc": {
   "base_numbering": 1,
   "nav_menu": {},
   "number_sections": true,
   "sideBar": true,
   "skip_h1_title": false,
   "title_cell": "Table of Contents",
   "title_sidebar": "Contents",
   "toc_cell": false,
   "toc_position": {
    "height": "calc(100% - 180px)",
    "left": "10px",
    "top": "150px",
    "width": "201.8px"
   },
   "toc_section_display": true,
   "toc_window_display": true
  }
 },
 "nbformat": 4,
 "nbformat_minor": 2
}
