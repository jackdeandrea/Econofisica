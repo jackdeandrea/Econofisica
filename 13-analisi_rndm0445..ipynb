{
 "cells": [
  {
   "cell_type": "code",
   "execution_count": 1,
   "metadata": {},
   "outputs": [
    {
     "name": "stdout",
     "output_type": "stream",
     "text": [
      "Populating the interactive namespace from numpy and matplotlib\n"
     ]
    }
   ],
   "source": [
    "%pylab inline\n",
    "import pandas as pd\n",
    "from scipy.optimize import curve_fit\n",
    "from scipy import asarray as ar\n",
    "from scipy import math\n",
    "#import pylandau\n",
    "import random"
   ]
  },
  {
   "cell_type": "markdown",
   "metadata": {},
   "source": [
    "# Importo il dataset"
   ]
  },
  {
   "cell_type": "code",
   "execution_count": 2,
   "metadata": {},
   "outputs": [
    {
     "data": {
      "text/html": [
       "<div>\n",
       "<style scoped>\n",
       "    .dataframe tbody tr th:only-of-type {\n",
       "        vertical-align: middle;\n",
       "    }\n",
       "\n",
       "    .dataframe tbody tr th {\n",
       "        vertical-align: top;\n",
       "    }\n",
       "\n",
       "    .dataframe thead th {\n",
       "        text-align: right;\n",
       "    }\n",
       "</style>\n",
       "<table border=\"1\" class=\"dataframe\">\n",
       "  <thead>\n",
       "    <tr style=\"text-align: right;\">\n",
       "      <th></th>\n",
       "      <th>x</th>\n",
       "      <th>y</th>\n",
       "      <th>color</th>\n",
       "      <th>pen down?</th>\n",
       "      <th>x.1</th>\n",
       "      <th>y.1</th>\n",
       "      <th>color.1</th>\n",
       "      <th>pen down?.1</th>\n",
       "      <th>x.2</th>\n",
       "      <th>y.2</th>\n",
       "      <th>color.2</th>\n",
       "      <th>pen down?.2</th>\n",
       "      <th>Unnamed: 12</th>\n",
       "    </tr>\n",
       "  </thead>\n",
       "  <tbody>\n",
       "    <tr>\n",
       "      <td>0</td>\n",
       "      <td>0</td>\n",
       "      <td>1120</td>\n",
       "      <td>55</td>\n",
       "      <td>True</td>\n",
       "      <td>0</td>\n",
       "      <td>0</td>\n",
       "      <td>0</td>\n",
       "      <td>True</td>\n",
       "      <td>0</td>\n",
       "      <td>0</td>\n",
       "      <td>15</td>\n",
       "      <td>True</td>\n",
       "      <td>NaN</td>\n",
       "    </tr>\n",
       "    <tr>\n",
       "      <td>1</td>\n",
       "      <td>1</td>\n",
       "      <td>1010</td>\n",
       "      <td>55</td>\n",
       "      <td>True</td>\n",
       "      <td>1</td>\n",
       "      <td>46</td>\n",
       "      <td>0</td>\n",
       "      <td>True</td>\n",
       "      <td>1</td>\n",
       "      <td>64</td>\n",
       "      <td>15</td>\n",
       "      <td>True</td>\n",
       "      <td>NaN</td>\n",
       "    </tr>\n",
       "    <tr>\n",
       "      <td>2</td>\n",
       "      <td>2</td>\n",
       "      <td>626</td>\n",
       "      <td>55</td>\n",
       "      <td>True</td>\n",
       "      <td>2</td>\n",
       "      <td>102</td>\n",
       "      <td>0</td>\n",
       "      <td>True</td>\n",
       "      <td>2</td>\n",
       "      <td>392</td>\n",
       "      <td>15</td>\n",
       "      <td>True</td>\n",
       "      <td>NaN</td>\n",
       "    </tr>\n",
       "    <tr>\n",
       "      <td>3</td>\n",
       "      <td>3</td>\n",
       "      <td>562</td>\n",
       "      <td>55</td>\n",
       "      <td>True</td>\n",
       "      <td>3</td>\n",
       "      <td>159</td>\n",
       "      <td>0</td>\n",
       "      <td>True</td>\n",
       "      <td>3</td>\n",
       "      <td>399</td>\n",
       "      <td>15</td>\n",
       "      <td>True</td>\n",
       "      <td>NaN</td>\n",
       "    </tr>\n",
       "    <tr>\n",
       "      <td>4</td>\n",
       "      <td>4</td>\n",
       "      <td>565</td>\n",
       "      <td>55</td>\n",
       "      <td>True</td>\n",
       "      <td>4</td>\n",
       "      <td>209</td>\n",
       "      <td>0</td>\n",
       "      <td>True</td>\n",
       "      <td>4</td>\n",
       "      <td>346</td>\n",
       "      <td>15</td>\n",
       "      <td>True</td>\n",
       "      <td>NaN</td>\n",
       "    </tr>\n",
       "  </tbody>\n",
       "</table>\n",
       "</div>"
      ],
      "text/plain": [
       "   x     y  color  pen down?  x.1  y.1  color.1  pen down?.1  x.2  y.2  \\\n",
       "0  0  1120     55       True    0    0        0         True    0    0   \n",
       "1  1  1010     55       True    1   46        0         True    1   64   \n",
       "2  2   626     55       True    2  102        0         True    2  392   \n",
       "3  3   562     55       True    3  159        0         True    3  399   \n",
       "4  4   565     55       True    4  209        0         True    4  346   \n",
       "\n",
       "   color.2  pen down?.2  Unnamed: 12  \n",
       "0       15         True          NaN  \n",
       "1       15         True          NaN  \n",
       "2       15         True          NaN  \n",
       "3       15         True          NaN  \n",
       "4       15         True          NaN  "
      ]
     },
     "execution_count": 2,
     "metadata": {},
     "output_type": "execute_result"
    }
   ],
   "source": [
    "file = pd.read_csv(r'/Users/giulioquaglia/Downloads/Econofisica-main-5/secondo4,5%.csv', header=18)\n",
    "file.head()"
   ]
  },
  {
   "cell_type": "code",
   "execution_count": 3,
   "metadata": {
    "scrolled": true
   },
   "outputs": [
    {
     "name": "stderr",
     "output_type": "stream",
     "text": [
      "/opt/anaconda3/lib/python3.7/site-packages/ipykernel_launcher.py:4: DeprecationWarning: scipy.asarray is deprecated and will be removed in SciPy 2.0.0, use numpy.asarray instead\n",
      "  after removing the cwd from sys.path.\n"
     ]
    },
    {
     "data": {
      "text/plain": [
       "990"
      ]
     },
     "execution_count": 3,
     "metadata": {},
     "output_type": "execute_result"
    }
   ],
   "source": [
    "df = file['y.2']\n",
    "y = df.to_numpy()\n",
    "y = y[210:]\n",
    "x = ar(range(len(y)))\n",
    "len(x)"
   ]
  },
  {
   "cell_type": "code",
   "execution_count": 4,
   "metadata": {},
   "outputs": [
    {
     "data": {
      "image/png": "[encoded data removed]",
      "text/plain": [
       "<Figure size 432x288 with 1 Axes>"
      ]
     },
     "metadata": {
      "needs_background": "light"
     },
     "output_type": "display_data"
    }
   ],
   "source": [
    "plt.plot(range(len(y)), y, color='r')\n",
    "#plt.errorbar(range(len(soglie)), soglie, yerr=err_soglie)\n",
    "plt.show()"
   ]
  },
  {
   "cell_type": "markdown",
   "metadata": {},
   "source": [
    "# Definizioni Utili"
   ]
  },
  {
   "cell_type": "markdown",
   "metadata": {},
   "source": [
    "## Fit Utils"
   ]
  },
  {
   "cell_type": "code",
   "execution_count": 5,
   "metadata": {},
   "outputs": [],
   "source": [
    "def chiquadronorm(oss, fit, sigma, ddof, aiuto=False, norm=True):\n",
    "    'funzione che calcola il chiquadrato di una distribuzione osservata rispetto a una\\\n",
    "    forma funzionale nota'\n",
    "    \n",
    "    #prende liste monodimensionali come argomenti\n",
    "    scarti = []\n",
    "    scartiquadri = []\n",
    "    scartiquadridivisi = []\n",
    "    \n",
    "    for i in range(len(oss)):\n",
    "        scarti.append(oss[i]-fit[i])\n",
    "        scartiquadri.append(scarti[i]*scarti[i])\n",
    "        scartiquadridivisi.append(scartiquadri[i]/(sigma[i]*sigma[i]))\n",
    "        \n",
    "        if (aiuto==True):\n",
    "            print('scarti= ', scarti[i])\n",
    "            print('scartiquadri= ', scartiquadri[i])\n",
    "            print('scartiquadridivisi= ', scartiquadridivisi[i])\n",
    "            \n",
    "    chiquadro=sum(scartiquadridivisi)\n",
    "    chiquadroreg=chiquadro/ddof\n",
    "    \n",
    "    if(norm==True):\n",
    "        return (chiquadroreg)\n",
    "    else:\n",
    "        return (chiquadro)\n",
    "\n",
    "def cost_chiquadronorm(oss, fit, sigma, ddof, aiuto=False, norm=True):\n",
    "    'funzione che calcola il chiquadrato di una distribuzione osservata rispetto a una\\\n",
    "    forma funzionale nota'\n",
    "    \n",
    "    #prende liste monodimensionali come argomenti\n",
    "    scarti = []\n",
    "    scartiquadri = []\n",
    "    scartiquadridivisi = []\n",
    "    \n",
    "    for i in range(len(oss)):\n",
    "        scarti.append(oss[i]-fit)\n",
    "        scartiquadri.append(scarti[i]*scarti[i])\n",
    "        scartiquadridivisi.append(scartiquadri[i]/(sigma[i]*sigma[i]))\n",
    "        \n",
    "        if (aiuto==True):\n",
    "            print('scarti= ', scarti[i])\n",
    "            print('scartiquadri= ', scartiquadri[i])\n",
    "            print('scartiquadridivisi= ', scartiquadridivisi[i])\n",
    "            \n",
    "    chiquadro=sum(scartiquadridivisi)\n",
    "    chiquadroreg=chiquadro/ddof\n",
    "    \n",
    "    if(norm==True):\n",
    "        return (chiquadroreg)\n",
    "    else:\n",
    "        return (chiquadro)\n",
    "\n",
    "    \n",
    "def media_pesata(x, sigma):\n",
    "    numeratore = 0\n",
    "    denominatore = 0\n",
    "    for i in range(len(x)):\n",
    "        numeratore += x[i]/(sigma[i]**2)\n",
    "        denominatore += 1/(sigma[i]**2)\n",
    "    return numeratore/denominatore\n",
    "\n",
    "def costante(x,q):\n",
    "    return q\n",
    "\n",
    "def retta(x,m,q):\n",
    "    return m*x +q\n",
    "\n",
    "def gauss(x,a,x0,sigma,baseline):\n",
    "    'Ritorna array gaussiano a partire da lista x secondo i parametri a,x0,sigma'\n",
    "    return (baseline + a*exp(-(x-x0)**2/(2*sigma*sigma)))\n",
    "\n",
    "\n",
    "def lore(x, a, x0, y0, baseline):\n",
    "    'Ritorna array lorentziano a partire da lista x secondo i parametri a,x0,yo'\n",
    "    return (baseline + a*(y0/(((x - x0)**2) + (y0**2))))\n",
    "\n",
    "def fattoriale(x):\n",
    "    temp_list = []\n",
    "\n",
    "    for ics in x:\n",
    "        f=1\n",
    "        for i in range(1,ics+1):\n",
    "            f*=i\n",
    "        temp_list.append(f)\n",
    "    return(temp_list)\n",
    "\n",
    "def poisson(x, a, media, baseline):\n",
    "    result = baseline + a*(media**x)*np.exp(-media)/fattoriale(x)\n",
    "    return(result)\n",
    "\n",
    "def landau(x, mpv, eta, A, baseline):\n",
    "    x=double(x)\n",
    "    'Ritorna array landauiano a partire da lista x secondo i parametri suoi'\n",
    "    return (baseline + double(pylandau.landau(x, mpv=mpv, eta=eta, A=A)))"
   ]
  },
  {
   "cell_type": "markdown",
   "metadata": {},
   "source": [
    "## Selecting Spikes"
   ]
  },
  {
   "cell_type": "code",
   "execution_count": 6,
   "metadata": {},
   "outputs": [],
   "source": [
    "def isola_spikes (y, datiesterni):\n",
    "    '''\n",
    "    Dati i dati sugli attivi, ritorna due dizionari: \n",
    "    {num_rivolta: [valori attivi]}\n",
    "    {num_rivolta: [tick corrispondenti]}\n",
    "    '''\n",
    "    rivolte_diz = {}\n",
    "    tick_rivolte_diz = {}\n",
    "    temp_rivolta_list = []\n",
    "    temp_tick_list = []\n",
    "    rivolte_counter = 0\n",
    "    cerarivolta = False\n",
    "    \n",
    "    for i in range(len(y)):\n",
    "        \n",
    "        ##aggiustato a 12 per non avere rivoltini\n",
    "        if y[i] > 12:\n",
    "            temp_rivolta_list.append(y[i])\n",
    "            temp_tick_list.append(i)\n",
    "            if cerarivolta == False:\n",
    "                rivolte_counter += 1\n",
    "                cerarivolta = True\n",
    "        else:\n",
    "            if cerarivolta == True:\n",
    "                lunghezza=len(temp_rivolta_list)\n",
    "                if rivolte_counter > 1:\n",
    "                    if datiesterni == 1:\n",
    "                        temp_rivolta_list.insert(0, y[i-lunghezza-1])\n",
    "                        temp_tick_list.insert(0, i-lunghezza-1)\n",
    "                    if datiesterni == 2:\n",
    "                        temp_rivolta_list.insert(0, y[i-lunghezza-1])\n",
    "                        temp_rivolta_list.insert(0, y[i-lunghezza-2])\n",
    "                        temp_tick_list.insert(0, i-lunghezza-1)\n",
    "                        temp_tick_list.insert(0, i-lunghezza-2)\n",
    "                    if datiesterni == 3:\n",
    "                        temp_rivolta_list.insert(0, y[i-lunghezza-1])\n",
    "                        temp_rivolta_list.insert(0, y[i-lunghezza-2])\n",
    "                        temp_rivolta_list.insert(0, y[i-lunghezza-3])\n",
    "                        temp_tick_list.insert(0, i-lunghezza-1)\n",
    "                        temp_tick_list.insert(0, i-lunghezza-2)\n",
    "                        temp_tick_list.insert(0, i-lunghezza-3)\n",
    "                else:\n",
    "                    if datiesterni == 1:\n",
    "                        temp_rivolta_list.insert(0, 0)\n",
    "                        temp_tick_list.insert(0, i-lunghezza-1)\n",
    "                    if datiesterni == 2:\n",
    "                        temp_rivolta_list.insert(0, 0)\n",
    "                        temp_rivolta_list.insert(0, 0)\n",
    "                        temp_tick_list.insert(0, i-lunghezza-1)\n",
    "                        temp_tick_list.insert(0, i-lunghezza-2)\n",
    "                    if datiesterni == 3:\n",
    "                        temp_rivolta_list.insert(0, 0)\n",
    "                        temp_rivolta_list.insert(0, 0)\n",
    "                        temp_rivolta_list.insert(0, 0)\n",
    "                        temp_tick_list.insert(0, i-lunghezza-1)\n",
    "                        temp_tick_list.insert(0, i-lunghezza-2)\n",
    "                        temp_tick_list.insert(0, i-lunghezza-3)\n",
    "                    \n",
    "                if datiesterni == 1:\n",
    "                        temp_rivolta_list.append(y[i])\n",
    "                        temp_tick_list.append(i)\n",
    "                if datiesterni == 2:\n",
    "                        temp_rivolta_list.append(y[i])\n",
    "                        temp_rivolta_list.append(y[i+1])\n",
    "                        temp_tick_list.append(i)\n",
    "                        temp_tick_list.append(i+1)\n",
    "                if datiesterni == 3:\n",
    "                        temp_rivolta_list.append(y[i])\n",
    "                        temp_rivolta_list.append(y[i+1])\n",
    "                        temp_rivolta_list.append(y[i+2])\n",
    "                        temp_tick_list.append(i)\n",
    "                        temp_tick_list.append(i+1)\n",
    "                        temp_tick_list.append(i+2)\n",
    "                \n",
    "                rivolte_diz[str(rivolte_counter)+'_spike'] = temp_rivolta_list\n",
    "                tick_rivolte_diz[str(rivolte_counter)+'_spike'] = temp_tick_list\n",
    "                temp_rivolta_list = []\n",
    "                temp_tick_list = []\n",
    "                cerarivolta = False\n",
    "                \n",
    "    return rivolte_diz, tick_rivolte_diz"
   ]
  },
  {
   "cell_type": "markdown",
   "metadata": {},
   "source": [
    "# Analisi - rndm 4.45%"
   ]
  },
  {
   "cell_type": "markdown",
   "metadata": {},
   "source": [
    "## Creo dizionario degli spikes"
   ]
  },
  {
   "cell_type": "code",
   "execution_count": 7,
   "metadata": {},
   "outputs": [],
   "source": [
    "spikes_dict, tick_spikes_dict = isola_spikes(y, 3)"
   ]
  },
  {
   "cell_type": "markdown",
   "metadata": {},
   "source": [
    "# Rivolte  \n",
    "**HP: sono funzioni gaussiane**  \n",
    "Usiamo il valore di soglia trovato nel caso non random, cambia il meccanismo di attivazione del singolo agente ma non la descrizione della rivolta.  \n",
    "Selezioniamo tutte le rivolte tali per cui max#attivi+errore_attivi >= soglia-5err_soglia, queste apparterranno alla stessa categoria di rivolte trovate nel caso non rndm.  \n",
    "Salvo in rivoltini_dict quelle che non vengono incluse prima per vedere se si viene a creare una nuova popolazione dovuta dalla randomizzazione (che differisce invece dalle rivolte, dovute alla clusterizzazione degli agenti)"
   ]
  },
  {
   "cell_type": "code",
   "execution_count": 8,
   "metadata": {},
   "outputs": [],
   "source": [
    "soglia = 128.1241472701187\n",
    "err_soglia = 12.6007119219633"
   ]
  },
  {
   "cell_type": "code",
   "execution_count": 9,
   "metadata": {},
   "outputs": [],
   "source": [
    "numero_sigma_soglia = 3\n",
    "numero_sigma_baseline = 3\n",
    "baseline = 2"
   ]
  },
  {
   "cell_type": "code",
   "execution_count": 10,
   "metadata": {},
   "outputs": [],
   "source": [
    "## Seleziono le rivolte secondo la regola:\n",
    "###if soglia-5*errore_soglia < y + errore_y --> rivolta\n",
    "###altrimenti salvo in rivoltini_dict\n",
    "rivolte_dict = {}\n",
    "tick_rivolte_dict = {}\n",
    "rivoltini_dict = {}\n",
    "tick_rivoltini_dict = {}\n",
    "nobase_dict = {}\n",
    "tick_nobase_dict = {}\n",
    "rivolte_counter = 0\n",
    "rivoltini_counter = 0\n",
    "for spike in spikes_dict:\n",
    "    y = spikes_dict[spike]\n",
    "    x = tick_spikes_dict[spike]\n",
    "    if np.max(y)+np.sqrt(np.max(y)) >= soglia-numero_sigma_soglia*err_soglia:\n",
    "        rivolte_counter += 1\n",
    "        rivolte_dict[str(rivolte_counter)+'_rivolta']=y\n",
    "        tick_rivolte_dict[str(rivolte_counter)+'_rivolta']=x\n",
    "        nobase_dict[str(rivolte_counter)+'_rivolta']=y\n",
    "        tick_nobase_dict[str(rivolte_counter)+'_rivolta']=x\n",
    "    elif np.max(y)-numero_sigma_baseline*np.sqrt(np.max(y))>=baseline+numero_sigma_baseline*np.sqrt(baseline):\n",
    "        rivoltini_counter += 1 \n",
    "        rivoltini_dict[str(rivoltini_counter)+'_rivoltini']=y\n",
    "        tick_rivoltini_dict[str(rivoltini_counter)+'_rivoltini']=x\n",
    "        nobase_dict[str(rivoltini_counter)+'_rivoltini']=y\n",
    "        tick_nobase_dict[str(rivoltini_counter)+'_rivoltini']=x"
   ]
  },
  {
   "cell_type": "code",
   "execution_count": 11,
   "metadata": {},
   "outputs": [
    {
     "name": "stdout",
     "output_type": "stream",
     "text": [
      "100 34 62\n"
     ]
    }
   ],
   "source": [
    "print(len(spikes_dict), len(rivolte_dict), len(rivoltini_dict))"
   ]
  },
  {
   "cell_type": "code",
   "execution_count": 12,
   "metadata": {},
   "outputs": [
    {
     "name": "stdout",
     "output_type": "stream",
     "text": [
      "90.3220115042288 \n",
      "\n",
      "50.633249580710796\n",
      "24.47213595499958\n",
      "74.12403840463597\n",
      "45.2449979983984\n",
      "65.61577310586391\n",
      "35.47722557505166\n",
      "82.60232526704263\n",
      "57.071067811865476\n",
      "24.47213595499958\n",
      "75.18535277187245\n",
      "83.66025403784438\n",
      "43.08276253029822\n",
      "48.48074069840786\n",
      "64.54983443527075\n",
      "34.3851648071345\n",
      "58.14142842854285\n",
      "76.24621125123532\n",
      "26.69041575982343\n",
      "88.94427190999916\n",
      "46.324555320336756\n",
      "46.324555320336756\n",
      "60.28010988928052\n",
      "53.855654600401046\n",
      "40.91607978309962\n",
      "67.74596669241484\n",
      "31.099019513592786\n",
      "60.28010988928052\n",
      "47.40312423743285\n",
      "59.211102550927976\n",
      "28.898979485566358\n",
      "47.40312423743285\n",
      "47.40312423743285\n",
      "64.54983443527075\n",
      "45.2449979983984\n",
      "28.898979485566358\n",
      "26.69041575982343\n",
      "35.47722557505166\n",
      "35.47722557505166\n",
      "40.91607978309962\n",
      "79.42614977317636\n",
      "77.30662386291807\n",
      "24.47213595499958\n",
      "67.74596669241484\n",
      "40.91607978309962\n",
      "68.81024967590665\n",
      "48.48074069840786\n",
      "34.3851648071345\n",
      "85.77496438739212\n",
      "81.54400374531753\n",
      "46.324555320336756\n",
      "47.40312423743285\n",
      "32.19615242270663\n",
      "32.19615242270663\n",
      "32.19615242270663\n",
      "54.92820323027551\n",
      "73.06225774829855\n",
      "33.29150262212918\n",
      "30.0\n",
      "40.91607978309962\n",
      "82.60232526704263\n",
      "68.81024967590665\n",
      "90.0\n"
     ]
    }
   ],
   "source": [
    "print(soglia-numero_sigma_soglia*err_soglia,'\\n')\n",
    "for risvoltino in rivoltini_dict:\n",
    "    print(max(rivoltini_dict[risvoltino])+np.sqrt(max(rivoltini_dict[risvoltino])))"
   ]
  },
  {
   "cell_type": "code",
   "execution_count": 13,
   "metadata": {
    "scrolled": false
   },
   "outputs": [
    {
     "name": "stderr",
     "output_type": "stream",
     "text": [
      "/opt/anaconda3/lib/python3.7/site-packages/scipy/optimize/minpack.py:808: OptimizeWarning: Covariance of the parameters could not be estimated\n",
      "  category=OptimizeWarning)\n"
     ]
    }
   ],
   "source": [
    "##calcolo soglie delle rivolte come f(media-sigma) e errore come f(media-1.2*sigma)-f(media-0.8*sigma)\n",
    "soglie = []\n",
    "err_soglie = []\n",
    "for i, rivolta in enumerate(rivolte_dict.keys()):\n",
    "    \n",
    "    y = rivolte_dict[rivolta]\n",
    "    x = range(len(y))\n",
    "    ##computo errore come radice dei conteggi\n",
    "    sigma_gauss = np.where(np.sqrt(y)==0,1,np.sqrt(y))\n",
    "    \n",
    "    gauss_params,gauss_cov = curve_fit(gauss,x,y,p0=[200.,3.,2.5,0],sigma=sigma_gauss)\n",
    "    gauss_red_chisq = chiquadronorm(y, gauss(x,*gauss_params), sigma_gauss, len(y)-len(gauss_params), norm=True)\n",
    "    soglia = gauss(gauss_params[1] - gauss_params[2], *gauss_params)\n",
    "    errore = gauss(gauss_params[1] - 1.2*gauss_params[2], *gauss_params) - gauss(gauss_params[1] - 0.8*gauss_params[2], *gauss_params)\n",
    "    soglie.append(soglia)\n",
    "    err_soglie.append(np.abs(errore))"
   ]
  },
  {
   "cell_type": "code",
   "execution_count": 14,
   "metadata": {
    "scrolled": false
   },
   "outputs": [
    {
     "data": {
      "text/plain": [
       "[37137.54725838039,\n",
       " 3.415538655714659,\n",
       " 12.719408157174392,\n",
       " 1.753271411851905e+46,\n",
       " 13.294944868203537,\n",
       " 5.162864710430483,\n",
       " 15.245385450475858,\n",
       " 9.536140334006856,\n",
       " 1.639333302298514,\n",
       " 43803.789462504195,\n",
       " 16.15728349684626,\n",
       " 6.391676789121455,\n",
       " 5.96474445691328,\n",
       " 11.94666224324234,\n",
       " 2.990542647500815,\n",
       " 7.8512048409494355,\n",
       " 12.478690356658348,\n",
       " 11.778812395026396,\n",
       " 14.044241769881133,\n",
       " 6.693152682365962,\n",
       " 29700.421278029833,\n",
       " 7.451062939392115e+38,\n",
       " 5.1350408874895095,\n",
       " 22.057312112642002,\n",
       " 8.290843708692549,\n",
       " 22.519306856718835,\n",
       " 8.870225018207456,\n",
       " 8.610155792086736,\n",
       " 7.866130145739099,\n",
       " 5.797766430735928,\n",
       " 9.876714535550562,\n",
       " 2.376468135812847e+159,\n",
       " 12.814185282055021,\n",
       " 31.633046742023183,\n",
       " 4.200765376314028,\n",
       " 5955.067044838554,\n",
       " 4.027800828183496,\n",
       " 7.827568665979424,\n",
       " 9.919758086329619,\n",
       " 12.739290894714038,\n",
       " 14.528275539768678,\n",
       " 556.4772494053566,\n",
       " 40075.10603937041,\n",
       " 12.002986453464814,\n",
       " 13.770029198784822,\n",
       " 1194.657616895754,\n",
       " 11356600.434007544,\n",
       " 14.779529680143817,\n",
       " 15.804287985745866,\n",
       " 7.145065111049573e+96,\n",
       " 20656.951808658705,\n",
       " 9213.066662853907,\n",
       " 4859.703471983112,\n",
       " 6.760061807800053,\n",
       " 21.636338048176675,\n",
       " 13.961499184858056,\n",
       " 5.460144586849555,\n",
       " 2.22562709305486,\n",
       " 7.4462442974849665,\n",
       " 11.182246121023887,\n",
       " 13.198704891854174,\n",
       " 15.7222872183507]"
      ]
     },
     "execution_count": 14,
     "metadata": {},
     "output_type": "execute_result"
    }
   ],
   "source": [
    "##calcolo soglini delle rivoltine come f(media-sigma) e errore come f(media-1.2*sigma)-f(media-0.8*sigma)\n",
    "soglini = []\n",
    "err_soglini = []\n",
    "for i, rivolta in enumerate(rivoltini_dict.keys()):\n",
    "    \n",
    "    y = rivoltini_dict[rivolta]\n",
    "    x = range(len(y))\n",
    "    ##computo errore come radice dei conteggi\n",
    "    sigma_gauss = np.where(np.sqrt(y)==0,1,np.sqrt(y))\n",
    "    \n",
    "    gauss_params,gauss_cov = curve_fit(gauss,x,y,p0=[50.,3.,2.5,0.],sigma=sigma_gauss,**{'maxfev':1000000})\n",
    "    gauss_red_chisq = chiquadronorm(y, gauss(x,*gauss_params), sigma_gauss, len(y)-len(gauss_params), norm=True)\n",
    "    soglia = gauss(gauss_params[1] - gauss_params[2], *gauss_params)\n",
    "    errore = gauss(gauss_params[1] - 1.2*gauss_params[2], *gauss_params) - gauss(gauss_params[1] - 0.8*gauss_params[2], *gauss_params)\n",
    "    soglini.append(soglia)\n",
    "    err_soglini.append(np.abs(errore))\n",
    "err_soglini"
   ]
  },
  {
   "cell_type": "markdown",
   "metadata": {},
   "source": [
    "## Metodo grafico  \n",
    "Plotto le rivolte con relativi errori in funzione dell'ordine della rivolta,  \n",
    "se il chiquadro ridotto del fit di questi valori con una costante è minore di uno, allora posso dire che gli eventi considerati sono statisticamente indipendenti e appartenenti alla stessa distribuzione"
   ]
  },
  {
   "cell_type": "markdown",
   "metadata": {},
   "source": [
    "### Rivolte-Provo con costante"
   ]
  },
  {
   "cell_type": "code",
   "execution_count": 15,
   "metadata": {},
   "outputs": [
    {
     "data": {
      "image/png": "[encoded data removed]",
      "text/plain": [
       "<Figure size 432x288 with 1 Axes>"
      ]
     },
     "metadata": {
      "needs_background": "light"
     },
     "output_type": "display_data"
    },
    {
     "name": "stdout",
     "output_type": "stream",
     "text": [
      "ReducedChiSquared: 0.8793052590576462\n"
     ]
    }
   ],
   "source": [
    "popt, pcov = curve_fit(costante, range(len(soglie)), soglie, sigma=err_soglie)\n",
    "cost_red_chisq = cost_chiquadronorm(soglie, costante(range(len(soglie)),*popt), err_soglie, len(soglie)-len(popt), norm=True)\n",
    "plt.plot(range(len(soglie)), [costante(range(len(soglie)),*popt) for k in range(len(soglie))], color='r')\n",
    "plt.errorbar(range(len(soglie)), soglie, yerr=err_soglie,solid_capstyle='projecting',capsize=5)\n",
    "plt.show()\n",
    "print('ReducedChiSquared:', cost_red_chisq)"
   ]
  },
  {
   "cell_type": "code",
   "execution_count": 16,
   "metadata": {},
   "outputs": [
    {
     "data": {
      "text/plain": [
       "[57.68683065935856,\n",
       " 64.1628397236379,\n",
       " 73.6884388609451,\n",
       " 49.42230489252191,\n",
       " 107.5926077204048,\n",
       " 61.44380920246569,\n",
       " 86.72299747051692,\n",
       " 88.90775700655881,\n",
       " 69.17763041737557,\n",
       " 105.40599802814219,\n",
       " 76.42550896565515,\n",
       " 83.69606421110535,\n",
       " 61.70243302910641,\n",
       " 67.02395403100911,\n",
       " 122.1392756773219,\n",
       " 92.62695172015273,\n",
       " 71.02790781508463,\n",
       " 54.163575550551435,\n",
       " 62.47300302513055,\n",
       " 101.26319779072548,\n",
       " 61.099389284014045,\n",
       " 75.6313248388561,\n",
       " 120.32337184244749,\n",
       " 49.93246385761767,\n",
       " 70.1853209568652,\n",
       " 55.267215735787005,\n",
       " 60.936346243579806,\n",
       " 52.81773275864083,\n",
       " 60.53559345347519,\n",
       " 71.66056270756529,\n",
       " 107.13009220868969,\n",
       " 81.74020467239657]"
      ]
     },
     "execution_count": 16,
     "metadata": {},
     "output_type": "execute_result"
    }
   ],
   "source": [
    "soglie1=[]\n",
    "err_soglie1=[]\n",
    "for i in range(len(soglie)):\n",
    "    if soglie[i]>20 and soglie[i]<400:\n",
    "        soglie1.append(soglie[i])\n",
    "        err_soglie1.append(err_soglie[i])\n",
    "soglie1"
   ]
  },
  {
   "cell_type": "code",
   "execution_count": 17,
   "metadata": {},
   "outputs": [
    {
     "data": {
      "image/png": "[encoded data removed]",
      "text/plain": [
       "<Figure size 432x288 with 1 Axes>"
      ]
     },
     "metadata": {
      "needs_background": "light"
     },
     "output_type": "display_data"
    },
    {
     "name": "stdout",
     "output_type": "stream",
     "text": [
      "ReducedChiSquared: 0.4055170324265647\n"
     ]
    }
   ],
   "source": [
    "popt, pcov = curve_fit(costante, range(len(soglie1)), soglie1, sigma=err_soglie1)\n",
    "cost_red_chisq = cost_chiquadronorm(soglie1, costante(range(len(soglie1)),*popt), err_soglie1, len(soglie1)-len(popt), norm=True)\n",
    "plt.plot(range(len(soglie1)), [costante(range(len(soglie1)),*popt) for k in range(len(soglie1))], color='r')\n",
    "plt.errorbar(range(len(soglie1)), soglie1, yerr=err_soglie1,solid_capstyle='projecting',capsize=5)\n",
    "plt.show()\n",
    "print('ReducedChiSquared:', cost_red_chisq)"
   ]
  },
  {
   "cell_type": "code",
   "execution_count": 18,
   "metadata": {},
   "outputs": [
    {
     "data": {
      "text/plain": [
       "(array([66.58264777]), array([[2.80392224]]))"
      ]
     },
     "execution_count": 18,
     "metadata": {},
     "output_type": "execute_result"
    }
   ],
   "source": [
    "popt ,np.sqrt(pcov)"
   ]
  },
  {
   "cell_type": "code",
   "execution_count": 19,
   "metadata": {},
   "outputs": [
    {
     "name": "stdout",
     "output_type": "stream",
     "text": [
      "66.58264777115596 3.9788066996708387\n"
     ]
    }
   ],
   "source": [
    "media_pesata_soglie1 = media_pesata(soglie1, err_soglie1)\n",
    "err_media_pesata_soglie1 = np.sqrt(np.sum((soglie1-media_pesata_soglie1)**2)/((len(soglie1)-1)*len(soglie1)))\n",
    "print(media_pesata_soglie1, err_media_pesata_soglie1)"
   ]
  },
  {
   "cell_type": "markdown",
   "metadata": {},
   "source": [
    "media pesata e errore soglie caso nonrndm  \n",
    "128.77802517036957 6.633983699986502"
   ]
  },
  {
   "cell_type": "markdown",
   "metadata": {},
   "source": [
    "Gli eventi selezionati come rivolte hanno valori di soglia che, al netto degli errori considerati, sono considerabili come appartenenti a alla stessa distribuzione statistica.  \n",
    "Rispetto al caso non random vedo però che il valore della costante (media pesata soglie) è calato e non è più compatibile (1sigma) con il valore trovato in precedenza. Se considero però gli intervalli media pesata +- 3sigma dei valori di soglia nel caso random e non random questi hanno intersezione non nulla."
   ]
  },
  {
   "cell_type": "markdown",
   "metadata": {},
   "source": [
    "### Rivoltini-Provo con costante  \n",
    "oss, sono proprio sicuro che fittino con una gaussiana? non dovrei provare altre forme funzionali?"
   ]
  },
  {
   "cell_type": "code",
   "execution_count": 20,
   "metadata": {
    "scrolled": true
   },
   "outputs": [
    {
     "data": {
      "text/plain": [
       "[38.473656969765074,\n",
       " 28.91559295157259,\n",
       " 25.40287391164823,\n",
       " 48.562609043539126,\n",
       " 32.69716816736135,\n",
       " 13.42738511841759,\n",
       " 45.35254669911613,\n",
       " 30.33106769373414,\n",
       " 29.307356312145146,\n",
       " 30.826069834222782,\n",
       " 13.512374223520446,\n",
       " 28.699118555803068,\n",
       " 38.903768387891375,\n",
       " 37.83701493878293,\n",
       " 46.870141989447305,\n",
       " 20.458653842232934,\n",
       " 10.672971069744172,\n",
       " 69.27770212579912,\n",
       " 37.38137231351201,\n",
       " 65.36698489548556,\n",
       " 28.118465494910566,\n",
       " 29.622711104079713,\n",
       " 26.506697459038524,\n",
       " 28.976910653566826,\n",
       " 38.64446324509337,\n",
       " 13.92105532424438,\n",
       " 26.02109034134694,\n",
       " 33.638189729039894,\n",
       " 41.19956051071633,\n",
       " 43.17143287694303,\n",
       " 25.157458975384365,\n",
       " 12.673059703685553,\n",
       " 45.166158388700374,\n",
       " 44.679907635260875,\n",
       " 22.08568693882208,\n",
       " 41.71061393135986,\n",
       " 19.68977845141869,\n",
       " 26.54358880708322,\n",
       " 31.649381341290407,\n",
       " 36.682407076354416,\n",
       " 47.682357142408435]"
      ]
     },
     "execution_count": 20,
     "metadata": {},
     "output_type": "execute_result"
    }
   ],
   "source": [
    "soglini1=[]\n",
    "err_soglini1=[]\n",
    "for i in range(len(soglini)):\n",
    "    if soglini[i]>10 and soglini[i]<80:\n",
    "        soglini1.append(soglini[i])\n",
    "        err_soglini1.append(err_soglini[i])\n",
    "soglini1"
   ]
  },
  {
   "cell_type": "code",
   "execution_count": 21,
   "metadata": {},
   "outputs": [
    {
     "data": {
      "image/png": "[encoded data removed]",
      "text/plain": [
       "<Figure size 432x288 with 1 Axes>"
      ]
     },
     "metadata": {
      "needs_background": "light"
     },
     "output_type": "display_data"
    },
    {
     "name": "stdout",
     "output_type": "stream",
     "text": [
      "ReducedChiSquared: 2.372480979176834\n"
     ]
    }
   ],
   "source": [
    "popt, pcov = curve_fit(costante, range(len(soglini1)), soglini1, sigma=err_soglini1)\n",
    "cost_red_chisq = cost_chiquadronorm(soglini1, costante(range(len(soglini1)),*popt), err_soglini1, len(soglini1)-len(popt), norm=True)\n",
    "plt.plot(range(len(soglini1)), [costante(range(len(soglini1)),*popt) for k in range(len(soglini1))], color='r')\n",
    "plt.errorbar(range(len(soglini1)), soglini1, yerr=err_soglini1,solid_capstyle='projecting',capsize=5)\n",
    "plt.show()\n",
    "print('ReducedChiSquared:', cost_red_chisq)"
   ]
  },
  {
   "cell_type": "code",
   "execution_count": 22,
   "metadata": {},
   "outputs": [
    {
     "name": "stdout",
     "output_type": "stream",
     "text": [
      "20.196495087657468 2.869288129553565\n"
     ]
    }
   ],
   "source": [
    "media_pesata_soglini1 = media_pesata(soglini1, err_soglini1)\n",
    "err_media_pesata_soglini1 = np.sqrt(np.sum((soglini1-media_pesata_soglini1)**2)/((len(soglini1)-1)*len(soglini1)))\n",
    "print(media_pesata_soglini1, err_media_pesata_soglini1)"
   ]
  },
  {
   "cell_type": "code",
   "execution_count": 43,
   "metadata": {},
   "outputs": [],
   "source": [
    "sogl= {'soglie 4.45%': soglie1, 'err_soglie': err_soglie1}\n",
    "df= pd.DataFrame(data=sogl)\n",
    "soglin={'soglini 4.45%': soglini1, 'err_soglini':err_soglini1}\n",
    "df1= pd.DataFrame(data=soglin)\n",
    "with pd.ExcelWriter('soglie_soglini_2.xlsx',engine='openpyxl',mode='a') as writer:  \n",
    "    df.to_excel(writer, sheet_name='soglie')\n",
    "    df1.to_excel(writer, sheet_name='soglini')\n",
    "    writer.save()\n",
    "\n",
    "writer.close()"
   ]
  },
  {
   "cell_type": "markdown",
   "metadata": {},
   "source": [
    "I rivoltini invece, hanno un chiquadro ridotto superiore a uno.  \n",
    "Non sembrerebbe si tratti della stessa popolazione statistica, ma probabilmente questo è dovuto ai piccoli errori sui valori di soglia più piccoli"
   ]
  },
  {
   "cell_type": "markdown",
   "metadata": {},
   "source": [
    "# Metriche  \n",
    "Tutte le metriche vengono ricavate dal calcolo dei parametri derivanti dalla procedura di fit:  \n",
    "- Durata = 6sigma della rivolta considerata  \n",
    "- Tempo attesa = (media[rivolta_i+1] - 3sigma[rivolta_i+1]) - (media[rivolta_i] + 3sigma[rivolta_i])  \n",
    "- Ampiezza = parametro del fit  \n",
    "  \n",
    "Gli errori vengono calcolati dalla propagazione degli errori sui parametri del fit"
   ]
  },
  {
   "cell_type": "code",
   "execution_count": 23,
   "metadata": {},
   "outputs": [],
   "source": [
    "## For loop che mi serve a trovare ampiezza, media e deviazione standard di ognuna delle rivolte,\n",
    "###salvo i parametri del fit per ognuna delle rivolte\n",
    "gauss_params_dict = {}\n",
    "gauss_err_params_dict = {}\n",
    "for rivolte in rivolte_dict:\n",
    "\n",
    "    temp_list = []\n",
    "    temp_err_list = []\n",
    "    y = rivolte_dict[rivolte]\n",
    "    x = tick_rivolte_dict[rivolte]\n",
    "    \n",
    "    err_y = np.where(np.sqrt(y)==0,1,np.sqrt(y))\n",
    "    gauss_params,gauss_cov = curve_fit(gauss,x,y,p0=[200,((x[-1]-x[0])/2)+x[0],4.,0.],sigma=err_y,**{'maxfev':1000000})\n",
    "    temp_list.append(gauss_params[0])\n",
    "    temp_list.append(gauss_params[1])\n",
    "    temp_list.append(gauss_params[2])\n",
    "    temp_list.append(gauss_params[3])\n",
    "    temp_err_list.append(np.sqrt(np.abs(gauss_cov[0][0])))\n",
    "    temp_err_list.append(np.sqrt(np.abs(gauss_cov[1][1])))\n",
    "    temp_err_list.append(np.sqrt(np.abs(gauss_cov[2][2])))\n",
    "    temp_err_list.append(np.sqrt(np.abs(gauss_cov[3][3])))\n",
    "    gauss_params_dict[rivolte] = temp_list\n",
    "    gauss_err_params_dict[rivolte] = temp_err_list"
   ]
  },
  {
   "cell_type": "code",
   "execution_count": 24,
   "metadata": {},
   "outputs": [],
   "source": [
    "## For loop che mi serve a trovare ampiezza, media e deviazione standard di ognuna delle rivolte,\n",
    "###salvo i parametri del fit per ognuna delle rivolte\n",
    "nobase_gauss_params_dict = {}\n",
    "nobase_gauss_err_params_dict = {}\n",
    "for rivolte in nobase_dict:\n",
    "\n",
    "    temp_list = []\n",
    "    temp_err_list = []\n",
    "    y = nobase_dict[rivolte]\n",
    "    x = tick_nobase_dict[rivolte]\n",
    "    \n",
    "    err_y = np.where(np.sqrt(y)==0,1,np.sqrt(y))\n",
    "    gauss_params,gauss_cov = curve_fit(gauss,x,y,p0=[100,((x[-1]-x[0])/2)+x[0],4.,0.],sigma=err_y,**{'maxfev':1000000})\n",
    "    temp_list.append(gauss_params[0])\n",
    "    temp_list.append(gauss_params[1])\n",
    "    temp_list.append(gauss_params[2])\n",
    "    temp_list.append(gauss_params[3])\n",
    "    temp_err_list.append(np.sqrt(np.abs(gauss_cov[0][0])))\n",
    "    temp_err_list.append(np.sqrt(np.abs(gauss_cov[1][1])))\n",
    "    temp_err_list.append(np.sqrt(np.abs(gauss_cov[2][2])))\n",
    "    temp_err_list.append(np.sqrt(np.abs(gauss_cov[3][3])))\n",
    "    nobase_gauss_params_dict[rivolte] = temp_list\n",
    "    nobase_gauss_err_params_dict[rivolte] = temp_err_list"
   ]
  },
  {
   "cell_type": "code",
   "execution_count": 25,
   "metadata": {
    "scrolled": false
   },
   "outputs": [
    {
     "data": {
      "text/html": [
       "<div>\n",
       "<style scoped>\n",
       "    .dataframe tbody tr th:only-of-type {\n",
       "        vertical-align: middle;\n",
       "    }\n",
       "\n",
       "    .dataframe tbody tr th {\n",
       "        vertical-align: top;\n",
       "    }\n",
       "\n",
       "    .dataframe thead th {\n",
       "        text-align: right;\n",
       "    }\n",
       "</style>\n",
       "<table border=\"1\" class=\"dataframe\">\n",
       "  <thead>\n",
       "    <tr style=\"text-align: right;\">\n",
       "      <th></th>\n",
       "      <th>0</th>\n",
       "      <th>1</th>\n",
       "      <th>2</th>\n",
       "      <th>3</th>\n",
       "    </tr>\n",
       "  </thead>\n",
       "  <tbody>\n",
       "    <tr>\n",
       "      <td>31_rivoltini</td>\n",
       "      <td>4.995988e+00</td>\n",
       "      <td>1.118367e-01</td>\n",
       "      <td>1.055447e-01</td>\n",
       "      <td>9.172448e-01</td>\n",
       "    </tr>\n",
       "    <tr>\n",
       "      <td>17_rivolta</td>\n",
       "      <td>8.003359e+00</td>\n",
       "      <td>1.099785e-01</td>\n",
       "      <td>1.033898e-01</td>\n",
       "      <td>1.376494e+00</td>\n",
       "    </tr>\n",
       "    <tr>\n",
       "      <td>32_rivoltini</td>\n",
       "      <td>inf</td>\n",
       "      <td>2.689627e+02</td>\n",
       "      <td>1.141998e+01</td>\n",
       "      <td>1.976337e+00</td>\n",
       "    </tr>\n",
       "    <tr>\n",
       "      <td>18_rivolta</td>\n",
       "      <td>9.312389e+00</td>\n",
       "      <td>2.160663e-01</td>\n",
       "      <td>2.272497e-01</td>\n",
       "      <td>2.543073e+00</td>\n",
       "    </tr>\n",
       "    <tr>\n",
       "      <td>33_rivoltini</td>\n",
       "      <td>2.579992e+01</td>\n",
       "      <td>1.338114e+00</td>\n",
       "      <td>6.925660e-01</td>\n",
       "      <td>1.612800e+00</td>\n",
       "    </tr>\n",
       "    <tr>\n",
       "      <td>19_rivolta</td>\n",
       "      <td>9.391300e+00</td>\n",
       "      <td>1.850107e-01</td>\n",
       "      <td>2.009695e-01</td>\n",
       "      <td>2.670630e+00</td>\n",
       "    </tr>\n",
       "    <tr>\n",
       "      <td>34_rivoltini</td>\n",
       "      <td>2.381554e+08</td>\n",
       "      <td>7.380397e-01</td>\n",
       "      <td>2.750862e+05</td>\n",
       "      <td>2.381554e+08</td>\n",
       "    </tr>\n",
       "    <tr>\n",
       "      <td>35_rivoltini</td>\n",
       "      <td>2.698455e+00</td>\n",
       "      <td>7.150216e-01</td>\n",
       "      <td>9.857296e-01</td>\n",
       "      <td>1.406946e+00</td>\n",
       "    </tr>\n",
       "    <tr>\n",
       "      <td>20_rivolta</td>\n",
       "      <td>1.179338e+01</td>\n",
       "      <td>1.185165e-01</td>\n",
       "      <td>1.088785e-01</td>\n",
       "      <td>1.476361e+00</td>\n",
       "    </tr>\n",
       "    <tr>\n",
       "      <td>36_rivoltini</td>\n",
       "      <td>3.614161e+00</td>\n",
       "      <td>7.629502e-01</td>\n",
       "      <td>9.479607e-01</td>\n",
       "      <td>2.504383e+00</td>\n",
       "    </tr>\n",
       "    <tr>\n",
       "      <td>21_rivolta</td>\n",
       "      <td>1.370028e+01</td>\n",
       "      <td>1.442126e-01</td>\n",
       "      <td>1.414274e-01</td>\n",
       "      <td>2.406115e+00</td>\n",
       "    </tr>\n",
       "    <tr>\n",
       "      <td>37_rivoltini</td>\n",
       "      <td>7.265720e+00</td>\n",
       "      <td>6.646700e-01</td>\n",
       "      <td>1.427659e+00</td>\n",
       "      <td>7.276855e+00</td>\n",
       "    </tr>\n",
       "    <tr>\n",
       "      <td>38_rivoltini</td>\n",
       "      <td>5.511133e+00</td>\n",
       "      <td>4.923499e-01</td>\n",
       "      <td>5.951818e-01</td>\n",
       "      <td>3.919147e+00</td>\n",
       "    </tr>\n",
       "    <tr>\n",
       "      <td>22_rivolta</td>\n",
       "      <td>5.529942e+00</td>\n",
       "      <td>9.601783e-02</td>\n",
       "      <td>9.997292e-02</td>\n",
       "      <td>1.215458e+00</td>\n",
       "    </tr>\n",
       "    <tr>\n",
       "      <td>23_rivolta</td>\n",
       "      <td>1.251473e+01</td>\n",
       "      <td>1.938451e-01</td>\n",
       "      <td>1.904085e-01</td>\n",
       "      <td>1.986277e+00</td>\n",
       "    </tr>\n",
       "    <tr>\n",
       "      <td>39_rivoltini</td>\n",
       "      <td>inf</td>\n",
       "      <td>inf</td>\n",
       "      <td>inf</td>\n",
       "      <td>inf</td>\n",
       "    </tr>\n",
       "    <tr>\n",
       "      <td>40_rivoltini</td>\n",
       "      <td>8.982506e+00</td>\n",
       "      <td>3.724241e-01</td>\n",
       "      <td>5.015385e-01</td>\n",
       "      <td>4.855269e+00</td>\n",
       "    </tr>\n",
       "    <tr>\n",
       "      <td>41_rivoltini</td>\n",
       "      <td>5.576738e+00</td>\n",
       "      <td>1.646203e-01</td>\n",
       "      <td>1.835744e-01</td>\n",
       "      <td>1.627539e+00</td>\n",
       "    </tr>\n",
       "    <tr>\n",
       "      <td>24_rivolta</td>\n",
       "      <td>2.213913e+01</td>\n",
       "      <td>1.865144e-01</td>\n",
       "      <td>1.554843e-01</td>\n",
       "      <td>3.009810e+00</td>\n",
       "    </tr>\n",
       "    <tr>\n",
       "      <td>25_rivolta</td>\n",
       "      <td>5.719572e+00</td>\n",
       "      <td>1.911496e-01</td>\n",
       "      <td>2.320004e-01</td>\n",
       "      <td>1.891139e+00</td>\n",
       "    </tr>\n",
       "    <tr>\n",
       "      <td>26_rivolta</td>\n",
       "      <td>1.865990e+01</td>\n",
       "      <td>2.709536e-01</td>\n",
       "      <td>2.235376e-01</td>\n",
       "      <td>2.320366e+00</td>\n",
       "    </tr>\n",
       "    <tr>\n",
       "      <td>42_rivoltini</td>\n",
       "      <td>inf</td>\n",
       "      <td>inf</td>\n",
       "      <td>inf</td>\n",
       "      <td>inf</td>\n",
       "    </tr>\n",
       "    <tr>\n",
       "      <td>27_rivolta</td>\n",
       "      <td>8.293344e+00</td>\n",
       "      <td>1.757210e-01</td>\n",
       "      <td>1.716686e-01</td>\n",
       "      <td>2.227135e+00</td>\n",
       "    </tr>\n",
       "    <tr>\n",
       "      <td>43_rivoltini</td>\n",
       "      <td>1.995015e+08</td>\n",
       "      <td>4.527432e-01</td>\n",
       "      <td>1.077790e+05</td>\n",
       "      <td>1.995015e+08</td>\n",
       "    </tr>\n",
       "    <tr>\n",
       "      <td>28_rivolta</td>\n",
       "      <td>1.088291e+01</td>\n",
       "      <td>1.886307e-01</td>\n",
       "      <td>1.773860e-01</td>\n",
       "      <td>1.701135e+00</td>\n",
       "    </tr>\n",
       "    <tr>\n",
       "      <td>44_rivoltini</td>\n",
       "      <td>2.643902e+02</td>\n",
       "      <td>5.682992e+01</td>\n",
       "      <td>2.518646e+01</td>\n",
       "      <td>2.454493e+01</td>\n",
       "    </tr>\n",
       "    <tr>\n",
       "      <td>45_rivoltini</td>\n",
       "      <td>7.159888e+01</td>\n",
       "      <td>6.470496e-01</td>\n",
       "      <td>7.138979e+00</td>\n",
       "      <td>7.393992e+01</td>\n",
       "    </tr>\n",
       "    <tr>\n",
       "      <td>29_rivolta</td>\n",
       "      <td>9.626367e+00</td>\n",
       "      <td>1.964657e-01</td>\n",
       "      <td>1.983256e-01</td>\n",
       "      <td>2.170995e+00</td>\n",
       "    </tr>\n",
       "    <tr>\n",
       "      <td>30_rivolta</td>\n",
       "      <td>7.333833e+00</td>\n",
       "      <td>1.729918e-01</td>\n",
       "      <td>1.994524e-01</td>\n",
       "      <td>2.719830e+00</td>\n",
       "    </tr>\n",
       "    <tr>\n",
       "      <td>46_rivoltini</td>\n",
       "      <td>4.349651e+00</td>\n",
       "      <td>3.924243e-01</td>\n",
       "      <td>3.540477e-01</td>\n",
       "      <td>3.774362e+00</td>\n",
       "    </tr>\n",
       "    <tr>\n",
       "      <td>47_rivoltini</td>\n",
       "      <td>1.684589e+08</td>\n",
       "      <td>3.965669e+01</td>\n",
       "      <td>7.475061e+05</td>\n",
       "      <td>1.684589e+08</td>\n",
       "    </tr>\n",
       "    <tr>\n",
       "      <td>48_rivoltini</td>\n",
       "      <td>8.014424e+00</td>\n",
       "      <td>2.451923e-01</td>\n",
       "      <td>2.826773e-01</td>\n",
       "      <td>3.110495e+00</td>\n",
       "    </tr>\n",
       "    <tr>\n",
       "      <td>49_rivoltini</td>\n",
       "      <td>7.902488e+00</td>\n",
       "      <td>2.189153e-01</td>\n",
       "      <td>2.199970e-01</td>\n",
       "      <td>1.817469e+00</td>\n",
       "    </tr>\n",
       "    <tr>\n",
       "      <td>50_rivoltini</td>\n",
       "      <td>7.149077e+102</td>\n",
       "      <td>1.449410e+06</td>\n",
       "      <td>3.448068e+04</td>\n",
       "      <td>2.394735e+01</td>\n",
       "    </tr>\n",
       "    <tr>\n",
       "      <td>51_rivoltini</td>\n",
       "      <td>4.146759e+08</td>\n",
       "      <td>3.419972e+00</td>\n",
       "      <td>8.960755e+05</td>\n",
       "      <td>4.146759e+08</td>\n",
       "    </tr>\n",
       "    <tr>\n",
       "      <td>31_rivolta</td>\n",
       "      <td>1.700252e+01</td>\n",
       "      <td>2.258814e-01</td>\n",
       "      <td>2.148875e-01</td>\n",
       "      <td>3.132911e+00</td>\n",
       "    </tr>\n",
       "    <tr>\n",
       "      <td>52_rivoltini</td>\n",
       "      <td>1.997326e+08</td>\n",
       "      <td>1.011695e+00</td>\n",
       "      <td>4.565159e+05</td>\n",
       "      <td>1.997326e+08</td>\n",
       "    </tr>\n",
       "    <tr>\n",
       "      <td>53_rivoltini</td>\n",
       "      <td>2.157766e+08</td>\n",
       "      <td>1.306219e+00</td>\n",
       "      <td>5.721006e+05</td>\n",
       "      <td>2.157766e+08</td>\n",
       "    </tr>\n",
       "    <tr>\n",
       "      <td>54_rivoltini</td>\n",
       "      <td>2.568268e+07</td>\n",
       "      <td>2.270854e+03</td>\n",
       "      <td>1.691432e+04</td>\n",
       "      <td>4.447249e+00</td>\n",
       "    </tr>\n",
       "    <tr>\n",
       "      <td>55_rivoltini</td>\n",
       "      <td>2.090828e+01</td>\n",
       "      <td>5.097042e-01</td>\n",
       "      <td>2.720796e+00</td>\n",
       "      <td>2.331417e+01</td>\n",
       "    </tr>\n",
       "    <tr>\n",
       "      <td>56_rivoltini</td>\n",
       "      <td>8.850658e+00</td>\n",
       "      <td>2.642755e-01</td>\n",
       "      <td>2.783366e-01</td>\n",
       "      <td>2.659356e+00</td>\n",
       "    </tr>\n",
       "    <tr>\n",
       "      <td>57_rivoltini</td>\n",
       "      <td>5.397524e+00</td>\n",
       "      <td>6.957826e-01</td>\n",
       "      <td>1.112818e+00</td>\n",
       "      <td>2.687653e+00</td>\n",
       "    </tr>\n",
       "    <tr>\n",
       "      <td>58_rivoltini</td>\n",
       "      <td>4.924760e+00</td>\n",
       "      <td>5.028826e-01</td>\n",
       "      <td>6.390237e-01</td>\n",
       "      <td>2.945287e+00</td>\n",
       "    </tr>\n",
       "    <tr>\n",
       "      <td>32_rivolta</td>\n",
       "      <td>2.716753e+08</td>\n",
       "      <td>4.541632e-01</td>\n",
       "      <td>8.046562e+04</td>\n",
       "      <td>2.716753e+08</td>\n",
       "    </tr>\n",
       "    <tr>\n",
       "      <td>33_rivolta</td>\n",
       "      <td>1.990488e+01</td>\n",
       "      <td>1.765260e-01</td>\n",
       "      <td>1.483340e-01</td>\n",
       "      <td>2.527137e+00</td>\n",
       "    </tr>\n",
       "    <tr>\n",
       "      <td>34_rivolta</td>\n",
       "      <td>9.720131e+00</td>\n",
       "      <td>1.155062e-01</td>\n",
       "      <td>1.074177e-01</td>\n",
       "      <td>1.303302e+00</td>\n",
       "    </tr>\n",
       "    <tr>\n",
       "      <td>59_rivoltini</td>\n",
       "      <td>7.598492e+00</td>\n",
       "      <td>2.417099e-01</td>\n",
       "      <td>2.318471e-01</td>\n",
       "      <td>1.992182e+00</td>\n",
       "    </tr>\n",
       "    <tr>\n",
       "      <td>60_rivoltini</td>\n",
       "      <td>5.524593e+00</td>\n",
       "      <td>3.717804e-01</td>\n",
       "      <td>5.547812e-01</td>\n",
       "      <td>3.262791e+00</td>\n",
       "    </tr>\n",
       "    <tr>\n",
       "      <td>61_rivoltini</td>\n",
       "      <td>4.516130e+00</td>\n",
       "      <td>2.147208e-01</td>\n",
       "      <td>3.041904e-01</td>\n",
       "      <td>2.227554e+00</td>\n",
       "    </tr>\n",
       "    <tr>\n",
       "      <td>62_rivoltini</td>\n",
       "      <td>9.697015e+00</td>\n",
       "      <td>2.228873e-01</td>\n",
       "      <td>2.099990e-01</td>\n",
       "      <td>2.101380e+00</td>\n",
       "    </tr>\n",
       "  </tbody>\n",
       "</table>\n",
       "</div>"
      ],
      "text/plain": [
       "                          0             1             2             3\n",
       "31_rivoltini   4.995988e+00  1.118367e-01  1.055447e-01  9.172448e-01\n",
       "17_rivolta     8.003359e+00  1.099785e-01  1.033898e-01  1.376494e+00\n",
       "32_rivoltini            inf  2.689627e+02  1.141998e+01  1.976337e+00\n",
       "18_rivolta     9.312389e+00  2.160663e-01  2.272497e-01  2.543073e+00\n",
       "33_rivoltini   2.579992e+01  1.338114e+00  6.925660e-01  1.612800e+00\n",
       "19_rivolta     9.391300e+00  1.850107e-01  2.009695e-01  2.670630e+00\n",
       "34_rivoltini   2.381554e+08  7.380397e-01  2.750862e+05  2.381554e+08\n",
       "35_rivoltini   2.698455e+00  7.150216e-01  9.857296e-01  1.406946e+00\n",
       "20_rivolta     1.179338e+01  1.185165e-01  1.088785e-01  1.476361e+00\n",
       "36_rivoltini   3.614161e+00  7.629502e-01  9.479607e-01  2.504383e+00\n",
       "21_rivolta     1.370028e+01  1.442126e-01  1.414274e-01  2.406115e+00\n",
       "37_rivoltini   7.265720e+00  6.646700e-01  1.427659e+00  7.276855e+00\n",
       "38_rivoltini   5.511133e+00  4.923499e-01  5.951818e-01  3.919147e+00\n",
       "22_rivolta     5.529942e+00  9.601783e-02  9.997292e-02  1.215458e+00\n",
       "23_rivolta     1.251473e+01  1.938451e-01  1.904085e-01  1.986277e+00\n",
       "39_rivoltini            inf           inf           inf           inf\n",
       "40_rivoltini   8.982506e+00  3.724241e-01  5.015385e-01  4.855269e+00\n",
       "41_rivoltini   5.576738e+00  1.646203e-01  1.835744e-01  1.627539e+00\n",
       "24_rivolta     2.213913e+01  1.865144e-01  1.554843e-01  3.009810e+00\n",
       "25_rivolta     5.719572e+00  1.911496e-01  2.320004e-01  1.891139e+00\n",
       "26_rivolta     1.865990e+01  2.709536e-01  2.235376e-01  2.320366e+00\n",
       "42_rivoltini            inf           inf           inf           inf\n",
       "27_rivolta     8.293344e+00  1.757210e-01  1.716686e-01  2.227135e+00\n",
       "43_rivoltini   1.995015e+08  4.527432e-01  1.077790e+05  1.995015e+08\n",
       "28_rivolta     1.088291e+01  1.886307e-01  1.773860e-01  1.701135e+00\n",
       "44_rivoltini   2.643902e+02  5.682992e+01  2.518646e+01  2.454493e+01\n",
       "45_rivoltini   7.159888e+01  6.470496e-01  7.138979e+00  7.393992e+01\n",
       "29_rivolta     9.626367e+00  1.964657e-01  1.983256e-01  2.170995e+00\n",
       "30_rivolta     7.333833e+00  1.729918e-01  1.994524e-01  2.719830e+00\n",
       "46_rivoltini   4.349651e+00  3.924243e-01  3.540477e-01  3.774362e+00\n",
       "47_rivoltini   1.684589e+08  3.965669e+01  7.475061e+05  1.684589e+08\n",
       "48_rivoltini   8.014424e+00  2.451923e-01  2.826773e-01  3.110495e+00\n",
       "49_rivoltini   7.902488e+00  2.189153e-01  2.199970e-01  1.817469e+00\n",
       "50_rivoltini  7.149077e+102  1.449410e+06  3.448068e+04  2.394735e+01\n",
       "51_rivoltini   4.146759e+08  3.419972e+00  8.960755e+05  4.146759e+08\n",
       "31_rivolta     1.700252e+01  2.258814e-01  2.148875e-01  3.132911e+00\n",
       "52_rivoltini   1.997326e+08  1.011695e+00  4.565159e+05  1.997326e+08\n",
       "53_rivoltini   2.157766e+08  1.306219e+00  5.721006e+05  2.157766e+08\n",
       "54_rivoltini   2.568268e+07  2.270854e+03  1.691432e+04  4.447249e+00\n",
       "55_rivoltini   2.090828e+01  5.097042e-01  2.720796e+00  2.331417e+01\n",
       "56_rivoltini   8.850658e+00  2.642755e-01  2.783366e-01  2.659356e+00\n",
       "57_rivoltini   5.397524e+00  6.957826e-01  1.112818e+00  2.687653e+00\n",
       "58_rivoltini   4.924760e+00  5.028826e-01  6.390237e-01  2.945287e+00\n",
       "32_rivolta     2.716753e+08  4.541632e-01  8.046562e+04  2.716753e+08\n",
       "33_rivolta     1.990488e+01  1.765260e-01  1.483340e-01  2.527137e+00\n",
       "34_rivolta     9.720131e+00  1.155062e-01  1.074177e-01  1.303302e+00\n",
       "59_rivoltini   7.598492e+00  2.417099e-01  2.318471e-01  1.992182e+00\n",
       "60_rivoltini   5.524593e+00  3.717804e-01  5.547812e-01  3.262791e+00\n",
       "61_rivoltini   4.516130e+00  2.147208e-01  3.041904e-01  2.227554e+00\n",
       "62_rivoltini   9.697015e+00  2.228873e-01  2.099990e-01  2.101380e+00"
      ]
     },
     "execution_count": 25,
     "metadata": {},
     "output_type": "execute_result"
    }
   ],
   "source": [
    "\n",
    "pd.DataFrame.from_dict(nobase_gauss_err_params_dict, orient='index').tail(50)"
   ]
  },
  {
   "cell_type": "code",
   "execution_count": 26,
   "metadata": {},
   "outputs": [],
   "source": [
    "del nobase_gauss_params_dict['1_rivoltini']\n",
    "del nobase_gauss_err_params_dict['1_rivoltini']\n",
    "del nobase_gauss_params_dict['4_rivoltini']\n",
    "del nobase_gauss_err_params_dict['4_rivoltini']\n",
    "del nobase_gauss_params_dict['6_rivoltini']\n",
    "del nobase_gauss_err_params_dict['6_rivoltini']\n",
    "del nobase_gauss_params_dict['9_rivoltini']\n",
    "del nobase_gauss_err_params_dict['9_rivoltini']\n",
    "del nobase_gauss_params_dict['10_rivoltini']\n",
    "del nobase_gauss_err_params_dict['10_rivoltini']\n",
    "del nobase_gauss_params_dict['12_rivoltini']\n",
    "del nobase_gauss_err_params_dict['12_rivoltini']\n",
    "del nobase_gauss_params_dict['18_rivoltini']\n",
    "del nobase_gauss_err_params_dict['18_rivoltini']\n",
    "del nobase_gauss_params_dict['20_rivoltini']\n",
    "del nobase_gauss_err_params_dict['20_rivoltini']\n",
    "del nobase_gauss_params_dict['22_rivoltini']\n",
    "del nobase_gauss_err_params_dict['22_rivoltini']\n",
    "del nobase_gauss_params_dict['24_rivoltini']\n",
    "del nobase_gauss_err_params_dict['24_rivoltini']\n",
    "del nobase_gauss_params_dict['26_rivoltini']\n",
    "del nobase_gauss_err_params_dict['26_rivoltini']\n",
    "del nobase_gauss_params_dict['32_rivoltini']\n",
    "del nobase_gauss_err_params_dict['32_rivoltini']\n",
    "del nobase_gauss_params_dict['34_rivoltini']\n",
    "del nobase_gauss_err_params_dict['34_rivoltini']\n",
    "del nobase_gauss_params_dict['36_rivoltini']\n",
    "del nobase_gauss_err_params_dict['36_rivoltini']\n",
    "del nobase_gauss_params_dict['42_rivoltini']\n",
    "del nobase_gauss_err_params_dict['42_rivoltini']\n",
    "del nobase_gauss_params_dict['43_rivoltini']\n",
    "del nobase_gauss_err_params_dict['43_rivoltini']\n",
    "del nobase_gauss_params_dict['47_rivoltini']\n",
    "del nobase_gauss_err_params_dict['47_rivoltini']\n",
    "del nobase_gauss_params_dict['50_rivoltini']\n",
    "del nobase_gauss_err_params_dict['50_rivoltini']\n",
    "del nobase_gauss_params_dict['51_rivoltini']\n",
    "del nobase_gauss_err_params_dict['51_rivoltini']\n",
    "del nobase_gauss_params_dict['52_rivoltini']\n",
    "del nobase_gauss_err_params_dict['52_rivoltini']\n",
    "del nobase_gauss_params_dict['53_rivoltini']\n",
    "del nobase_gauss_err_params_dict['53_rivoltini']\n",
    "del nobase_gauss_params_dict['54_rivoltini']\n",
    "del nobase_gauss_err_params_dict['54_rivoltini']\n",
    "del nobase_gauss_params_dict['32_rivolta']\n",
    "del nobase_gauss_err_params_dict['32_rivolta']\n",
    "\n",
    "\n",
    "\n",
    "del gauss_params_dict['32_rivolta']\n",
    "del gauss_err_params_dict['32_rivolta']"
   ]
  },
  {
   "cell_type": "markdown",
   "metadata": {},
   "source": [
    "## Durata"
   ]
  },
  {
   "cell_type": "code",
   "execution_count": 27,
   "metadata": {},
   "outputs": [],
   "source": [
    "## calcolo la durata delle singole rivolte come 6 per la sigma della rivolta (hp:gaussiane)\n",
    "###e errori su singole durate propagando gli errori sulla sigma (6*err_assoluto sigma)\n",
    "durate_list = [gauss_params_dict[rivolte][2]*6 for rivolte in gauss_params_dict]\n",
    "err_durate_list = [gauss_err_params_dict[rivolte][2]*6 for rivolte in gauss_params_dict]\n",
    "durate_list = np.abs(durate_list)\n",
    "err_durate_list = np.abs(err_durate_list)\n",
    "\n",
    "## calcolo media pesata e errore su media\n",
    "media_pesata_durate = media_pesata(durate_list, err_durate_list)\n",
    "err_media_pesata_durate = np.sqrt(np.sum((durate_list - media_pesata_durate)**2)/(len(durate_list)*(len(durate_list)-1)))"
   ]
  },
  {
   "cell_type": "code",
   "execution_count": 28,
   "metadata": {},
   "outputs": [
    {
     "data": {
      "image/png": "[encoded data removed]",
      "text/plain": [
       "<Figure size 432x288 with 1 Axes>"
      ]
     },
     "metadata": {
      "needs_background": "light"
     },
     "output_type": "display_data"
    }
   ],
   "source": [
    "plt.hist(durate_list, bins=10)\n",
    "plt.show()"
   ]
  },
  {
   "cell_type": "code",
   "execution_count": 29,
   "metadata": {},
   "outputs": [
    {
     "data": {
      "image/png": "[encoded data removed]",
      "text/plain": [
       "<Figure size 432x288 with 1 Axes>"
      ]
     },
     "metadata": {
      "needs_background": "light"
     },
     "output_type": "display_data"
    }
   ],
   "source": [
    "plt.errorbar(range(len(durate_list)), durate_list, yerr=err_durate_list,solid_capstyle='projecting',capsize=5)\n",
    "plt.show()"
   ]
  },
  {
   "cell_type": "code",
   "execution_count": 30,
   "metadata": {},
   "outputs": [
    {
     "name": "stdout",
     "output_type": "stream",
     "text": [
      "10.607577988047664 0.30708177593518604\n"
     ]
    }
   ],
   "source": [
    "print(media_pesata_durate,err_media_pesata_durate)"
   ]
  },
  {
   "cell_type": "markdown",
   "metadata": {},
   "source": [
    "media pesata durate e errore caso norndm  \n",
    "10.311830447971328 0.12035386293573513\n",
    "  \n",
    "valori compatibili tra loro"
   ]
  },
  {
   "cell_type": "markdown",
   "metadata": {},
   "source": [
    "## Ampiezza"
   ]
  },
  {
   "cell_type": "code",
   "execution_count": 31,
   "metadata": {},
   "outputs": [],
   "source": [
    "## Calcolo ampiezze per ogni rivolta e errore da propagazione errori del fit\n",
    "ampiezze_list = [gauss_params_dict[rivolte][0] for rivolte in gauss_params_dict]\n",
    "err_ampiezze_list = [gauss_err_params_dict[rivolte][0] for rivolte in gauss_params_dict]\n",
    "ampiezze_list = np.abs(ampiezze_list)\n",
    "err_ampiezze_list = np.abs(err_ampiezze_list)\n",
    "\n",
    "## Calcolo media pesata e errore su media\n",
    "media_pesata_ampiezze = media_pesata(ampiezze_list, err_ampiezze_list)\n",
    "err_media_pesata_ampiezze = np.sqrt(np.sum((ampiezze_list - media_pesata_ampiezze)**2)/(len(ampiezze_list)*(len(ampiezze_list)-1)))"
   ]
  },
  {
   "cell_type": "code",
   "execution_count": 32,
   "metadata": {
    "scrolled": true
   },
   "outputs": [
    {
     "data": {
      "image/png": "[encoded data removed]",
      "text/plain": [
       "<Figure size 432x288 with 1 Axes>"
      ]
     },
     "metadata": {
      "needs_background": "light"
     },
     "output_type": "display_data"
    }
   ],
   "source": [
    "plt.hist(ampiezze_list, bins=20)\n",
    "plt.show()"
   ]
  },
  {
   "cell_type": "code",
   "execution_count": 33,
   "metadata": {},
   "outputs": [
    {
     "data": {
      "image/png": "[encoded data removed]",
      "text/plain": [
       "<Figure size 432x288 with 1 Axes>"
      ]
     },
     "metadata": {
      "needs_background": "light"
     },
     "output_type": "display_data"
    }
   ],
   "source": [
    "plt.errorbar(range(len(ampiezze_list)), ampiezze_list, yerr=err_ampiezze_list,solid_capstyle='projecting',capsize=5)\n",
    "plt.show()"
   ]
  },
  {
   "cell_type": "code",
   "execution_count": 34,
   "metadata": {},
   "outputs": [
    {
     "name": "stdout",
     "output_type": "stream",
     "text": [
      "104.53319029796492 6.46928584342632\n"
     ]
    }
   ],
   "source": [
    "print(media_pesata_ampiezze,err_media_pesata_ampiezze)"
   ]
  },
  {
   "cell_type": "markdown",
   "metadata": {},
   "source": [
    "Media pesata e errore ampiezze caso nonrndm  \n",
    "193.59670978171002 14.655492080565837"
   ]
  },
  {
   "cell_type": "markdown",
   "metadata": {},
   "source": [
    "## Tempi attesa"
   ]
  },
  {
   "cell_type": "code",
   "execution_count": 35,
   "metadata": {},
   "outputs": [],
   "source": [
    "## calcolo liste dei tick di inizio e fine rivolte con relativi errori \n",
    "###trovati con propagazione degli errori dagli errori dei parametri del fit\n",
    "###(start = media-3sigma --> err_start = sqrt(err_media**2 + (3err_sigma)**2)\n",
    "start_tick_list = []\n",
    "end_tick_list = []\n",
    "err_start_tick_list = []\n",
    "err_end_tick_list = []\n",
    "\n",
    "for rivolte in nobase_gauss_params_dict:\n",
    "    media = nobase_gauss_params_dict[rivolte][1]\n",
    "    sigma = np.abs(nobase_gauss_params_dict[rivolte][2])\n",
    "    err_media = nobase_gauss_err_params_dict[rivolte][1]\n",
    "    err_sigma = nobase_gauss_err_params_dict[rivolte][2]\n",
    "    start_tick_list.append(media - 3*sigma)\n",
    "    end_tick_list.append(media + 3*sigma)\n",
    "    err_start_tick_list.append(np.sqrt(err_media**2 + (3*err_sigma)**2))\n",
    "    err_end_tick_list.append(np.sqrt(err_media**2 + (3*err_sigma)**2))"
   ]
  },
  {
   "cell_type": "code",
   "execution_count": 36,
   "metadata": {},
   "outputs": [],
   "source": [
    "## Calcolo tempi di attesa dalle liste dei tick di inizio e fine rivolte e relativi errori\n",
    "###calcolati con la propagazione dagli errori dei tick di inizio e fine rivolte\n",
    "###(tempo_attesa = start[i+1]-end[i] --> err_tempo_attesa = err_start[i+1] + err_end[i])\n",
    "tempi_attesa_list = []\n",
    "err_tempi_attesa_list = []\n",
    "for i in range(len(end_tick_list)-1):\n",
    "    tempi_attesa_list.append(start_tick_list[i+1] - end_tick_list[i])\n",
    "    err_tempi_attesa_list.append(err_start_tick_list[i+1] + err_end_tick_list[i])"
   ]
  },
  {
   "cell_type": "code",
   "execution_count": 37,
   "metadata": {},
   "outputs": [
    {
     "data": {
      "image/png": "[encoded data removed]",
      "text/plain": [
       "<Figure size 432x288 with 1 Axes>"
      ]
     },
     "metadata": {
      "needs_background": "light"
     },
     "output_type": "display_data"
    }
   ],
   "source": [
    "plt.hist(durate_list, bins=10)\n",
    "plt.show()"
   ]
  },
  {
   "cell_type": "code",
   "execution_count": 38,
   "metadata": {
    "scrolled": false
   },
   "outputs": [
    {
     "data": {
      "image/png": "[encoded data removed]",
      "text/plain": [
       "<Figure size 432x288 with 1 Axes>"
      ]
     },
     "metadata": {
      "needs_background": "light"
     },
     "output_type": "display_data"
    }
   ],
   "source": [
    "plt.errorbar(range(len(tempi_attesa_list)), tempi_attesa_list, yerr=err_tempi_attesa_list,solid_capstyle='projecting',capsize=5)\n",
    "plt.show()"
   ]
  },
  {
   "cell_type": "code",
   "execution_count": 39,
   "metadata": {},
   "outputs": [],
   "source": [
    "lista=[]\n",
    "err_lista=[]\n",
    "for tempo, errore in zip(tempi_attesa_list,err_tempi_attesa_list):\n",
    "    if tempo>0:\n",
    "        lista.append(tempo)\n",
    "        err_lista.append(errore)"
   ]
  },
  {
   "cell_type": "code",
   "execution_count": 40,
   "metadata": {},
   "outputs": [
    {
     "data": {
      "text/plain": [
       "24"
      ]
     },
     "execution_count": 40,
     "metadata": {},
     "output_type": "execute_result"
    }
   ],
   "source": [
    "np.argmax(err_tempi_attesa_list)"
   ]
  },
  {
   "cell_type": "code",
   "execution_count": 41,
   "metadata": {},
   "outputs": [
    {
     "name": "stdout",
     "output_type": "stream",
     "text": [
      "Media pesata e errore tempi attesa: 5.417534473412039 0.45456904377474344\n"
     ]
    }
   ],
   "source": [
    "media_pesata_tempi_attesa = media_pesata(lista, err_lista)\n",
    "err_media_pesata_tempi_attesa = np.sqrt(np.sum((lista-media_pesata_tempi_attesa)**2)/((len(lista)-1)*len(lista)))\n",
    "print('Media pesata e errore tempi attesa:',media_pesata_tempi_attesa,err_media_pesata_tempi_attesa)"
   ]
  },
  {
   "cell_type": "markdown",
   "metadata": {},
   "source": [
    "media pesata e errori tempi attesa caso norndm  \n",
    "17.850298917848043 1.0515878508062226"
   ]
  },
  {
   "cell_type": "markdown",
   "metadata": {},
   "source": [
    "Tempi di attesa diminuiscono\n",
    "Sembra ok, data la contemporanea presenza di più attivi e la nascita di una nuova classe di rivolte, sembra logico che gli spike diventino più frequenti"
   ]
  },
  {
   "cell_type": "code",
   "execution_count": null,
   "metadata": {},
   "outputs": [],
   "source": []
  },
  {
   "cell_type": "code",
   "execution_count": null,
   "metadata": {},
   "outputs": [],
   "source": []
  }
 ],
 "metadata": {
  "kernelspec": {
   "display_name": "Python 3",
   "language": "python",
   "name": "python3"
  },
  "language_info": {
   "codemirror_mode": {
    "name": "ipython",
    "version": 3
   },
   "file_extension": ".py",
   "mimetype": "text/x-python",
   "name": "python",
   "nbconvert_exporter": "python",
   "pygments_lexer": "ipython3",
   "version": "3.7.4"
  },
  "toc": {
   "base_numbering": 1,
   "nav_menu": {},
   "number_sections": true,
   "sideBar": true,
   "skip_h1_title": false,
   "title_cell": "Table of Contents",
   "title_sidebar": "Contents",
   "toc_cell": false,
   "toc_position": {
    "height": "calc(100% - 180px)",
    "left": "10px",
    "top": "150px",
    "width": "201.8px"
   },
   "toc_section_display": true,
   "toc_window_display": true
  }
 },
 "nbformat": 4,
 "nbformat_minor": 2
}
