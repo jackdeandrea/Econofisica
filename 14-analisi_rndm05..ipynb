{
 "cells": [
  {
   "cell_type": "code",
   "execution_count": 1,
   "metadata": {},
   "outputs": [
    {
     "name": "stdout",
     "output_type": "stream",
     "text": [
      "Populating the interactive namespace from numpy and matplotlib\n"
     ]
    }
   ],
   "source": [
    "%pylab inline\n",
    "import pandas as pd\n",
    "from scipy.optimize import curve_fit\n",
    "from scipy import asarray as ar\n",
    "from scipy import math\n",
    "#import pylandau\n",
    "import random"
   ]
  },
  {
   "cell_type": "markdown",
   "metadata": {},
   "source": [
    "# Importo il dataset"
   ]
  },
  {
   "cell_type": "code",
   "execution_count": 2,
   "metadata": {},
   "outputs": [
    {
     "data": {
      "text/html": [
       "<div>\n",
       "<style scoped>\n",
       "    .dataframe tbody tr th:only-of-type {\n",
       "        vertical-align: middle;\n",
       "    }\n",
       "\n",
       "    .dataframe tbody tr th {\n",
       "        vertical-align: top;\n",
       "    }\n",
       "\n",
       "    .dataframe thead th {\n",
       "        text-align: right;\n",
       "    }\n",
       "</style>\n",
       "<table border=\"1\" class=\"dataframe\">\n",
       "  <thead>\n",
       "    <tr style=\"text-align: right;\">\n",
       "      <th></th>\n",
       "      <th>x</th>\n",
       "      <th>y</th>\n",
       "      <th>color</th>\n",
       "      <th>pen down?</th>\n",
       "      <th>x.1</th>\n",
       "      <th>y.1</th>\n",
       "      <th>color.1</th>\n",
       "      <th>pen down?.1</th>\n",
       "      <th>x.2</th>\n",
       "      <th>y.2</th>\n",
       "      <th>color.2</th>\n",
       "      <th>pen down?.2</th>\n",
       "      <th>Unnamed: 12</th>\n",
       "    </tr>\n",
       "  </thead>\n",
       "  <tbody>\n",
       "    <tr>\n",
       "      <td>0</td>\n",
       "      <td>0</td>\n",
       "      <td>1120</td>\n",
       "      <td>55</td>\n",
       "      <td>True</td>\n",
       "      <td>0</td>\n",
       "      <td>0</td>\n",
       "      <td>0</td>\n",
       "      <td>True</td>\n",
       "      <td>0</td>\n",
       "      <td>0</td>\n",
       "      <td>15</td>\n",
       "      <td>True</td>\n",
       "      <td>NaN</td>\n",
       "    </tr>\n",
       "    <tr>\n",
       "      <td>1</td>\n",
       "      <td>1</td>\n",
       "      <td>868</td>\n",
       "      <td>55</td>\n",
       "      <td>True</td>\n",
       "      <td>1</td>\n",
       "      <td>53</td>\n",
       "      <td>0</td>\n",
       "      <td>True</td>\n",
       "      <td>1</td>\n",
       "      <td>199</td>\n",
       "      <td>15</td>\n",
       "      <td>True</td>\n",
       "      <td>NaN</td>\n",
       "    </tr>\n",
       "    <tr>\n",
       "      <td>2</td>\n",
       "      <td>2</td>\n",
       "      <td>566</td>\n",
       "      <td>55</td>\n",
       "      <td>True</td>\n",
       "      <td>2</td>\n",
       "      <td>110</td>\n",
       "      <td>0</td>\n",
       "      <td>True</td>\n",
       "      <td>2</td>\n",
       "      <td>444</td>\n",
       "      <td>15</td>\n",
       "      <td>True</td>\n",
       "      <td>NaN</td>\n",
       "    </tr>\n",
       "    <tr>\n",
       "      <td>3</td>\n",
       "      <td>3</td>\n",
       "      <td>553</td>\n",
       "      <td>55</td>\n",
       "      <td>True</td>\n",
       "      <td>3</td>\n",
       "      <td>166</td>\n",
       "      <td>0</td>\n",
       "      <td>True</td>\n",
       "      <td>3</td>\n",
       "      <td>401</td>\n",
       "      <td>15</td>\n",
       "      <td>True</td>\n",
       "      <td>NaN</td>\n",
       "    </tr>\n",
       "    <tr>\n",
       "      <td>4</td>\n",
       "      <td>4</td>\n",
       "      <td>553</td>\n",
       "      <td>55</td>\n",
       "      <td>True</td>\n",
       "      <td>4</td>\n",
       "      <td>219</td>\n",
       "      <td>0</td>\n",
       "      <td>True</td>\n",
       "      <td>4</td>\n",
       "      <td>348</td>\n",
       "      <td>15</td>\n",
       "      <td>True</td>\n",
       "      <td>NaN</td>\n",
       "    </tr>\n",
       "  </tbody>\n",
       "</table>\n",
       "</div>"
      ],
      "text/plain": [
       "   x     y  color  pen down?  x.1  y.1  color.1  pen down?.1  x.2  y.2  \\\n",
       "0  0  1120     55       True    0    0        0         True    0    0   \n",
       "1  1   868     55       True    1   53        0         True    1  199   \n",
       "2  2   566     55       True    2  110        0         True    2  444   \n",
       "3  3   553     55       True    3  166        0         True    3  401   \n",
       "4  4   553     55       True    4  219        0         True    4  348   \n",
       "\n",
       "   color.2  pen down?.2  Unnamed: 12  \n",
       "0       15         True          NaN  \n",
       "1       15         True          NaN  \n",
       "2       15         True          NaN  \n",
       "3       15         True          NaN  \n",
       "4       15         True          NaN  "
      ]
     },
     "execution_count": 2,
     "metadata": {},
     "output_type": "execute_result"
    }
   ],
   "source": [
    "file = pd.read_csv(r'/Users/giulioquaglia/Downloads/Econofisica-main-5/secondo5%.csv', header=18)\n",
    "file.head()"
   ]
  },
  {
   "cell_type": "code",
   "execution_count": 3,
   "metadata": {
    "scrolled": true
   },
   "outputs": [
    {
     "name": "stderr",
     "output_type": "stream",
     "text": [
      "/opt/anaconda3/lib/python3.7/site-packages/ipykernel_launcher.py:4: DeprecationWarning: scipy.asarray is deprecated and will be removed in SciPy 2.0.0, use numpy.asarray instead\n",
      "  after removing the cwd from sys.path.\n"
     ]
    },
    {
     "data": {
      "text/plain": [
       "990"
      ]
     },
     "execution_count": 3,
     "metadata": {},
     "output_type": "execute_result"
    }
   ],
   "source": [
    "df = file['y.2']\n",
    "y = df.to_numpy()\n",
    "y = y[210:]\n",
    "x = ar(range(len(y)))\n",
    "len(x)"
   ]
  },
  {
   "cell_type": "code",
   "execution_count": 4,
   "metadata": {},
   "outputs": [
    {
     "data": {
      "image/png": "[encoded data removed]",
      "text/plain": [
       "<Figure size 432x288 with 1 Axes>"
      ]
     },
     "metadata": {
      "needs_background": "light"
     },
     "output_type": "display_data"
    }
   ],
   "source": [
    "plt.plot(range(len(y)), y, color='r')\n",
    "#plt.errorbar(range(len(soglie)), soglie, yerr=err_soglie)\n",
    "plt.show()"
   ]
  },
  {
   "cell_type": "markdown",
   "metadata": {},
   "source": [
    "# Definizioni Utili"
   ]
  },
  {
   "cell_type": "markdown",
   "metadata": {},
   "source": [
    "## Fit Utils"
   ]
  },
  {
   "cell_type": "code",
   "execution_count": 5,
   "metadata": {},
   "outputs": [],
   "source": [
    "def chiquadronorm(oss, fit, sigma, ddof, aiuto=False, norm=True):\n",
    "    'funzione che calcola il chiquadrato di una distribuzione osservata rispetto a una\\\n",
    "    forma funzionale nota'\n",
    "    \n",
    "    #prende liste monodimensionali come argomenti\n",
    "    scarti = []\n",
    "    scartiquadri = []\n",
    "    scartiquadridivisi = []\n",
    "    \n",
    "    for i in range(len(oss)):\n",
    "        scarti.append(oss[i]-fit[i])\n",
    "        scartiquadri.append(scarti[i]*scarti[i])\n",
    "        scartiquadridivisi.append(scartiquadri[i]/(sigma[i]*sigma[i]))\n",
    "        \n",
    "        if (aiuto==True):\n",
    "            print('scarti= ', scarti[i])\n",
    "            print('scartiquadri= ', scartiquadri[i])\n",
    "            print('scartiquadridivisi= ', scartiquadridivisi[i])\n",
    "            \n",
    "    chiquadro=sum(scartiquadridivisi)\n",
    "    chiquadroreg=chiquadro/ddof\n",
    "    \n",
    "    if(norm==True):\n",
    "        return (chiquadroreg)\n",
    "    else:\n",
    "        return (chiquadro)\n",
    "\n",
    "def cost_chiquadronorm(oss, fit, sigma, ddof, aiuto=False, norm=True):\n",
    "    'funzione che calcola il chiquadrato di una distribuzione osservata rispetto a una\\\n",
    "    forma funzionale nota'\n",
    "    \n",
    "    #prende liste monodimensionali come argomenti\n",
    "    scarti = []\n",
    "    scartiquadri = []\n",
    "    scartiquadridivisi = []\n",
    "    \n",
    "    for i in range(len(oss)):\n",
    "        scarti.append(oss[i]-fit)\n",
    "        scartiquadri.append(scarti[i]*scarti[i])\n",
    "        scartiquadridivisi.append(scartiquadri[i]/(sigma[i]*sigma[i]))\n",
    "        \n",
    "        if (aiuto==True):\n",
    "            print('scarti= ', scarti[i])\n",
    "            print('scartiquadri= ', scartiquadri[i])\n",
    "            print('scartiquadridivisi= ', scartiquadridivisi[i])\n",
    "            \n",
    "    chiquadro=sum(scartiquadridivisi)\n",
    "    chiquadroreg=chiquadro/ddof\n",
    "    \n",
    "    if(norm==True):\n",
    "        return (chiquadroreg)\n",
    "    else:\n",
    "        return (chiquadro)\n",
    "\n",
    "    \n",
    "def media_pesata(x, sigma):\n",
    "    numeratore = 0\n",
    "    denominatore = 0\n",
    "    for i in range(len(x)):\n",
    "        numeratore += x[i]/(sigma[i]**2)\n",
    "        denominatore += 1/(sigma[i]**2)\n",
    "    return numeratore/denominatore\n",
    "\n",
    "def costante(x,q):\n",
    "    return q\n",
    "\n",
    "def retta(x,m,q):\n",
    "    return m*x +q\n",
    "\n",
    "def gauss(x,a,x0,sigma,baseline):\n",
    "    'Ritorna array gaussiano a partire da lista x secondo i parametri a,x0,sigma'\n",
    "    return (baseline + a*exp(-(x-x0)**2/(2*sigma*sigma)))\n",
    "\n",
    "\n",
    "def lore(x, a, x0, y0, baseline):\n",
    "    'Ritorna array lorentziano a partire da lista x secondo i parametri a,x0,yo'\n",
    "    return (baseline + a*(y0/(((x - x0)**2) + (y0**2))))\n",
    "\n",
    "def fattoriale(x):\n",
    "    temp_list = []\n",
    "\n",
    "    for ics in x:\n",
    "        f=1\n",
    "        for i in range(1,ics+1):\n",
    "            f*=i\n",
    "        temp_list.append(f)\n",
    "    return(temp_list)\n",
    "\n",
    "def poisson(x, a, media, baseline):\n",
    "    result = baseline + a*(media**x)*np.exp(-media)/fattoriale(x)\n",
    "    return(result)\n",
    "\n",
    "def landau(x, mpv, eta, A, baseline):\n",
    "    x=double(x)\n",
    "    'Ritorna array landauiano a partire da lista x secondo i parametri suoi'\n",
    "    return (baseline + double(pylandau.landau(x, mpv=mpv, eta=eta, A=A)))"
   ]
  },
  {
   "cell_type": "markdown",
   "metadata": {},
   "source": [
    "## Selecting Spikes"
   ]
  },
  {
   "cell_type": "code",
   "execution_count": 6,
   "metadata": {},
   "outputs": [],
   "source": [
    "def isola_spikes (y, datiesterni):\n",
    "    '''\n",
    "    Dati i dati sugli attivi, ritorna due dizionari: \n",
    "    {num_rivolta: [valori attivi]}\n",
    "    {num_rivolta: [tick corrispondenti]}\n",
    "    '''\n",
    "    rivolte_diz = {}\n",
    "    tick_rivolte_diz = {}\n",
    "    temp_rivolta_list = []\n",
    "    temp_tick_list = []\n",
    "    rivolte_counter = 0\n",
    "    cerarivolta = False\n",
    "    \n",
    "    for i in range(len(y)):\n",
    "        \n",
    "        ##aggiustato a 12 per non avere rivoltini\n",
    "        if y[i] > 12:\n",
    "            temp_rivolta_list.append(y[i])\n",
    "            temp_tick_list.append(i)\n",
    "            if cerarivolta == False:\n",
    "                rivolte_counter += 1\n",
    "                cerarivolta = True\n",
    "        else:\n",
    "            if cerarivolta == True:\n",
    "                lunghezza=len(temp_rivolta_list)\n",
    "                if rivolte_counter > 1:\n",
    "                    if datiesterni == 1:\n",
    "                        temp_rivolta_list.insert(0, y[i-lunghezza-1])\n",
    "                        temp_tick_list.insert(0, i-lunghezza-1)\n",
    "                    if datiesterni == 2:\n",
    "                        temp_rivolta_list.insert(0, y[i-lunghezza-1])\n",
    "                        temp_rivolta_list.insert(0, y[i-lunghezza-2])\n",
    "                        temp_tick_list.insert(0, i-lunghezza-1)\n",
    "                        temp_tick_list.insert(0, i-lunghezza-2)\n",
    "                    if datiesterni == 3:\n",
    "                        temp_rivolta_list.insert(0, y[i-lunghezza-1])\n",
    "                        temp_rivolta_list.insert(0, y[i-lunghezza-2])\n",
    "                        temp_rivolta_list.insert(0, y[i-lunghezza-3])\n",
    "                        temp_tick_list.insert(0, i-lunghezza-1)\n",
    "                        temp_tick_list.insert(0, i-lunghezza-2)\n",
    "                        temp_tick_list.insert(0, i-lunghezza-3)\n",
    "                else:\n",
    "                    if datiesterni == 1:\n",
    "                        temp_rivolta_list.insert(0, 0)\n",
    "                        temp_tick_list.insert(0, i-lunghezza-1)\n",
    "                    if datiesterni == 2:\n",
    "                        temp_rivolta_list.insert(0, 0)\n",
    "                        temp_rivolta_list.insert(0, 0)\n",
    "                        temp_tick_list.insert(0, i-lunghezza-1)\n",
    "                        temp_tick_list.insert(0, i-lunghezza-2)\n",
    "                    if datiesterni == 3:\n",
    "                        temp_rivolta_list.insert(0, 0)\n",
    "                        temp_rivolta_list.insert(0, 0)\n",
    "                        temp_rivolta_list.insert(0, 0)\n",
    "                        temp_tick_list.insert(0, i-lunghezza-1)\n",
    "                        temp_tick_list.insert(0, i-lunghezza-2)\n",
    "                        temp_tick_list.insert(0, i-lunghezza-3)\n",
    "                    \n",
    "                if datiesterni == 1:\n",
    "                        temp_rivolta_list.append(y[i])\n",
    "                        temp_tick_list.append(i)\n",
    "                if datiesterni == 2:\n",
    "                        temp_rivolta_list.append(y[i])\n",
    "                        temp_rivolta_list.append(y[i+1])\n",
    "                        temp_tick_list.append(i)\n",
    "                        temp_tick_list.append(i+1)\n",
    "                if datiesterni == 3:\n",
    "                        temp_rivolta_list.append(y[i])\n",
    "                        temp_rivolta_list.append(y[i+1])\n",
    "                        temp_rivolta_list.append(y[i+2])\n",
    "                        temp_tick_list.append(i)\n",
    "                        temp_tick_list.append(i+1)\n",
    "                        temp_tick_list.append(i+2)\n",
    "                \n",
    "                rivolte_diz[str(rivolte_counter)+'_spike'] = temp_rivolta_list\n",
    "                tick_rivolte_diz[str(rivolte_counter)+'_spike'] = temp_tick_list\n",
    "                temp_rivolta_list = []\n",
    "                temp_tick_list = []\n",
    "                cerarivolta = False\n",
    "                \n",
    "    return rivolte_diz, tick_rivolte_diz"
   ]
  },
  {
   "cell_type": "markdown",
   "metadata": {},
   "source": [
    "# Analisi - rndm 5%"
   ]
  },
  {
   "cell_type": "markdown",
   "metadata": {},
   "source": [
    "## Creo dizionario degli spikes"
   ]
  },
  {
   "cell_type": "code",
   "execution_count": 7,
   "metadata": {},
   "outputs": [],
   "source": [
    "spikes_dict, tick_spikes_dict = isola_spikes(y, 3)"
   ]
  },
  {
   "cell_type": "markdown",
   "metadata": {},
   "source": [
    "# Rivolte  \n",
    "**HP: sono funzioni gaussiane**  \n",
    "Usiamo il valore di soglia trovato nel caso non random, cambia il meccanismo di attivazione del singolo agente ma non la descrizione della rivolta.  \n",
    "Selezioniamo tutte le rivolte tali per cui max#attivi+errore_attivi >= soglia-5err_soglia, queste apparterranno alla stessa categoria di rivolte trovate nel caso non rndm.  \n",
    "Salvo in rivoltini_dict quelle che non vengono incluse prima per vedere se si viene a creare una nuova popolazione dovuta dalla randomizzazione (che differisce invece dalle rivolte, dovute alla clusterizzazione degli agenti)"
   ]
  },
  {
   "cell_type": "code",
   "execution_count": 8,
   "metadata": {},
   "outputs": [],
   "source": [
    "soglia = 128.1241472701187\n",
    "err_soglia = 12.6007119219633"
   ]
  },
  {
   "cell_type": "code",
   "execution_count": 9,
   "metadata": {},
   "outputs": [],
   "source": [
    "numero_sigma_soglia = 3\n",
    "numero_sigma_baseline = 3\n",
    "baseline = 2"
   ]
  },
  {
   "cell_type": "code",
   "execution_count": 10,
   "metadata": {},
   "outputs": [],
   "source": [
    "## Seleziono le rivolte secondo la regola:\n",
    "###if soglia-5*errore_soglia < y + errore_y --> rivolta\n",
    "###altrimenti salvo in rivoltini_dict\n",
    "rivolte_dict = {}\n",
    "tick_rivolte_dict = {}\n",
    "rivoltini_dict = {}\n",
    "tick_rivoltini_dict = {}\n",
    "nobase_dict = {}\n",
    "tick_nobase_dict = {}\n",
    "rivolte_counter = 0\n",
    "rivoltini_counter = 0\n",
    "for spike in spikes_dict:\n",
    "    y = spikes_dict[spike]\n",
    "    x = tick_spikes_dict[spike]\n",
    "    if np.max(y)+np.sqrt(np.max(y)) >= soglia-numero_sigma_soglia*err_soglia:\n",
    "        rivolte_counter += 1\n",
    "        rivolte_dict[str(rivolte_counter)+'_rivolta']=y\n",
    "        tick_rivolte_dict[str(rivolte_counter)+'_rivolta']=x\n",
    "        nobase_dict[str(rivolte_counter)+'_rivolta']=y\n",
    "        tick_nobase_dict[str(rivolte_counter)+'_rivolta']=x\n",
    "    elif np.max(y)-numero_sigma_baseline*np.sqrt(np.max(y))>=baseline+numero_sigma_baseline*np.sqrt(baseline):\n",
    "        rivoltini_counter += 1 \n",
    "        rivoltini_dict[str(rivoltini_counter)+'_rivoltini']=y\n",
    "        tick_rivoltini_dict[str(rivoltini_counter)+'_rivoltini']=x\n",
    "        nobase_dict[str(rivoltini_counter)+'_rivoltini']=y\n",
    "        tick_nobase_dict[str(rivoltini_counter)+'_rivoltini']=x"
   ]
  },
  {
   "cell_type": "code",
   "execution_count": 11,
   "metadata": {},
   "outputs": [
    {
     "name": "stdout",
     "output_type": "stream",
     "text": [
      "94 41 47\n"
     ]
    }
   ],
   "source": [
    "print(len(spikes_dict), len(rivolte_dict), len(rivoltini_dict))"
   ]
  },
  {
   "cell_type": "code",
   "execution_count": 12,
   "metadata": {},
   "outputs": [
    {
     "name": "stdout",
     "output_type": "stream",
     "text": [
      "90.3220115042288 \n",
      "\n",
      "38.74456264653803\n",
      "76.24621125123532\n",
      "25.58257569495584\n",
      "50.633249580710796\n",
      "76.24621125123532\n",
      "32.19615242270663\n",
      "32.19615242270663\n",
      "76.24621125123532\n",
      "63.48331477354788\n",
      "57.071067811865476\n",
      "24.47213595499958\n",
      "90.0\n",
      "46.324555320336756\n",
      "24.47213595499958\n",
      "36.56776436283002\n",
      "75.18535277187245\n",
      "33.29150262212918\n",
      "84.71779788708135\n",
      "40.91607978309962\n",
      "47.40312423743285\n",
      "36.56776436283002\n",
      "79.42614977317636\n",
      "30.0\n",
      "47.40312423743285\n",
      "52.782329983125265\n",
      "33.29150262212918\n",
      "68.81024967590665\n",
      "30.0\n",
      "26.69041575982343\n",
      "90.0\n",
      "52.782329983125265\n",
      "67.74596669241484\n",
      "78.36660026534075\n",
      "25.58257569495584\n",
      "70.93725393319377\n",
      "69.87400787401181\n",
      "59.211102550927976\n",
      "35.47722557505166\n",
      "58.14142842854285\n",
      "34.3851648071345\n",
      "81.54400374531753\n",
      "35.47722557505166\n",
      "54.92820323027551\n",
      "37.65685424949238\n",
      "27.79583152331272\n",
      "27.79583152331272\n",
      "30.0\n"
     ]
    }
   ],
   "source": [
    "print(soglia-numero_sigma_soglia*err_soglia,'\\n')\n",
    "for risvoltino in rivoltini_dict:\n",
    "    print(max(rivoltini_dict[risvoltino])+np.sqrt(max(rivoltini_dict[risvoltino])))"
   ]
  },
  {
   "cell_type": "code",
   "execution_count": 13,
   "metadata": {
    "scrolled": false
   },
   "outputs": [],
   "source": [
    "##calcolo soglie delle rivolte come f(media-sigma) e errore come f(media-1.2*sigma)-f(media-0.8*sigma)\n",
    "soglie = []\n",
    "err_soglie = []\n",
    "for i, rivolta in enumerate(rivolte_dict.keys()):\n",
    "    \n",
    "    y = rivolte_dict[rivolta]\n",
    "    x = range(len(y))\n",
    "    ##computo errore come radice dei conteggi\n",
    "    sigma_gauss = np.where(np.sqrt(y)==0,1,np.sqrt(y))\n",
    "    \n",
    "    gauss_params,gauss_cov = curve_fit(gauss,x,y,p0=[200.,3.,2.5,0],sigma=sigma_gauss)\n",
    "    gauss_red_chisq = chiquadronorm(y, gauss(x,*gauss_params), sigma_gauss, len(y)-len(gauss_params), norm=True)\n",
    "    soglia = gauss(gauss_params[1] - gauss_params[2], *gauss_params)\n",
    "    errore = gauss(gauss_params[1] - 1.2*gauss_params[2], *gauss_params) - gauss(gauss_params[1] - 0.8*gauss_params[2], *gauss_params)\n",
    "    soglie.append(soglia)\n",
    "    err_soglie.append(np.abs(errore))"
   ]
  },
  {
   "cell_type": "code",
   "execution_count": 14,
   "metadata": {
    "scrolled": false
   },
   "outputs": [
    {
     "name": "stderr",
     "output_type": "stream",
     "text": [
      "/opt/anaconda3/lib/python3.7/site-packages/scipy/optimize/minpack.py:808: OptimizeWarning: Covariance of the parameters could not be estimated\n",
      "  category=OptimizeWarning)\n"
     ]
    }
   ],
   "source": [
    "##calcolo soglini delle rivoltine come f(media-sigma) e errore come f(media-1.2*sigma)-f(media-0.8*sigma)\n",
    "soglini = []\n",
    "err_soglini = []\n",
    "for i, rivolta in enumerate(rivoltini_dict.keys()):\n",
    "    \n",
    "    y = rivoltini_dict[rivolta]\n",
    "    x = range(len(y))\n",
    "    ##computo errore come radice dei conteggi\n",
    "    sigma_gauss = np.where(np.sqrt(y)==0,1,np.sqrt(y))\n",
    "    \n",
    "    gauss_params,gauss_cov = curve_fit(gauss,x,y,p0=[50.,3.,2.5,0.],sigma=sigma_gauss,**{'maxfev':1000000})\n",
    "    gauss_red_chisq = chiquadronorm(y, gauss(x,*gauss_params), sigma_gauss, len(y)-len(gauss_params), norm=True)\n",
    "    soglia = gauss(gauss_params[1] - gauss_params[2], *gauss_params)\n",
    "    errore = gauss(gauss_params[1] - 1.2*gauss_params[2], *gauss_params) - gauss(gauss_params[1] - 0.8*gauss_params[2], *gauss_params)\n",
    "    soglini.append(soglia)\n",
    "    err_soglini.append(np.abs(errore))"
   ]
  },
  {
   "cell_type": "markdown",
   "metadata": {},
   "source": [
    "## Metodo grafico  \n",
    "Plotto le rivolte con relativi errori in funzione dell'ordine della rivolta,  \n",
    "se il chiquadro ridotto del fit di questi valori con una costante è minore di uno, allora posso dire che gli eventi considerati sono statisticamente indipendenti e appartenenti alla stessa distribuzione"
   ]
  },
  {
   "cell_type": "markdown",
   "metadata": {},
   "source": [
    "### Rivolte-Provo con costante"
   ]
  },
  {
   "cell_type": "code",
   "execution_count": 15,
   "metadata": {},
   "outputs": [
    {
     "data": {
      "image/png": "[encoded data removed]",
      "text/plain": [
       "<Figure size 432x288 with 1 Axes>"
      ]
     },
     "metadata": {
      "needs_background": "light"
     },
     "output_type": "display_data"
    },
    {
     "name": "stdout",
     "output_type": "stream",
     "text": [
      "ReducedChiSquared: 4.41182057030674\n"
     ]
    }
   ],
   "source": [
    "popt, pcov = curve_fit(costante, range(len(soglie)), soglie, sigma=err_soglie)\n",
    "cost_red_chisq = cost_chiquadronorm(soglie, costante(range(len(soglie)),*popt), err_soglie, len(soglie)-len(popt), norm=True)\n",
    "plt.plot(range(len(soglie)), [costante(range(len(soglie)),*popt) for k in range(len(soglie))], color='r')\n",
    "plt.errorbar(range(len(soglie)), soglie, yerr=err_soglie,solid_capstyle='projecting',capsize=5)\n",
    "plt.show()\n",
    "print('ReducedChiSquared:', cost_red_chisq)"
   ]
  },
  {
   "cell_type": "code",
   "execution_count": 16,
   "metadata": {},
   "outputs": [
    {
     "data": {
      "text/plain": [
       "[56.94482778897128,\n",
       " 85.30003400239124,\n",
       " 58.00525876051122,\n",
       " 79.72700477986037,\n",
       " 67.50930911197999,\n",
       " 73.83025100667122,\n",
       " 60.77150847379329,\n",
       " 83.40703319459847,\n",
       " 51.187573917326674,\n",
       " 96.6947387624944,\n",
       " 67.27536218107682,\n",
       " 83.3952311671076,\n",
       " 39.064071789361,\n",
       " 80.26250306832345,\n",
       " 56.87846211065771,\n",
       " 95.5986266914291,\n",
       " 76.05096156576737,\n",
       " 62.402986517527886,\n",
       " 65.28106502302033,\n",
       " 85.73381202209967,\n",
       " 95.46665798995801,\n",
       " 61.02100821816232,\n",
       " 67.98978859636928,\n",
       " 65.8225970270055,\n",
       " 92.92644677068625,\n",
       " 113.83578476123724,\n",
       " 85.97870202286056,\n",
       " 90.42835407133194,\n",
       " 84.45696197954634,\n",
       " 55.731248960078986,\n",
       " 62.65420898688531,\n",
       " 58.20328006649257,\n",
       " 82.94799078912072,\n",
       " 112.03988619902572,\n",
       " 96.118621983659,\n",
       " 103.88197642813576]"
      ]
     },
     "execution_count": 16,
     "metadata": {},
     "output_type": "execute_result"
    }
   ],
   "source": [
    "soglie1=[]\n",
    "err_soglie1=[]\n",
    "for i in range(len(soglie)):\n",
    "    if soglie[i]>20 and soglie[i]<400:\n",
    "        soglie1.append(soglie[i])\n",
    "        err_soglie1.append(err_soglie[i])\n",
    "soglie1"
   ]
  },
  {
   "cell_type": "code",
   "execution_count": 17,
   "metadata": {},
   "outputs": [
    {
     "data": {
      "image/png": "[encoded data removed]",
      "text/plain": [
       "<Figure size 432x288 with 1 Axes>"
      ]
     },
     "metadata": {
      "needs_background": "light"
     },
     "output_type": "display_data"
    },
    {
     "name": "stdout",
     "output_type": "stream",
     "text": [
      "ReducedChiSquared: 0.46626231164355403\n"
     ]
    }
   ],
   "source": [
    "popt, pcov = curve_fit(costante, range(len(soglie1)), soglie1, sigma=err_soglie1)\n",
    "cost_red_chisq = cost_chiquadronorm(soglie1, costante(range(len(soglie1)),*popt), err_soglie1, len(soglie1)-len(popt), norm=True)\n",
    "plt.plot(range(len(soglie1)), [costante(range(len(soglie1)),*popt) for k in range(len(soglie1))], color='r')\n",
    "plt.errorbar(range(len(soglie1)), soglie1, yerr=err_soglie1,solid_capstyle='projecting',capsize=5)\n",
    "plt.show()\n",
    "print('ReducedChiSquared:', cost_red_chisq)"
   ]
  },
  {
   "cell_type": "code",
   "execution_count": 18,
   "metadata": {},
   "outputs": [
    {
     "data": {
      "text/plain": [
       "(array([67.12124503]), array([[2.86892508]]))"
      ]
     },
     "execution_count": 18,
     "metadata": {},
     "output_type": "execute_result"
    }
   ],
   "source": [
    "popt ,np.sqrt(pcov)"
   ]
  },
  {
   "cell_type": "code",
   "execution_count": 19,
   "metadata": {},
   "outputs": [
    {
     "name": "stdout",
     "output_type": "stream",
     "text": [
      "67.12124503890291 3.372140943616756\n"
     ]
    }
   ],
   "source": [
    "media_pesata_soglie1 = media_pesata(soglie1, err_soglie1)\n",
    "err_media_pesata_soglie1 = np.sqrt(np.sum((soglie1-media_pesata_soglie1)**2)/((len(soglie1)-1)*len(soglie1)))\n",
    "print(media_pesata_soglie1, err_media_pesata_soglie1)"
   ]
  },
  {
   "cell_type": "markdown",
   "metadata": {},
   "source": [
    "media pesata e errore soglie caso nonrndm  \n",
    "128.77802517036957 6.633983699986502"
   ]
  },
  {
   "cell_type": "markdown",
   "metadata": {},
   "source": [
    "Gli eventi selezionati come rivolte hanno valori di soglia che, al netto degli errori considerati, sono considerabili come appartenenti a alla stessa distribuzione statistica.  \n",
    "Rispetto al caso non random vedo però che il valore della costante (media pesata soglie) è calato e non è più compatibile (1sigma) con il valore trovato in precedenza. Se considero però gli intervalli media pesata +- 3sigma dei valori di soglia nel caso random e non random questi hanno intersezione non nulla."
   ]
  },
  {
   "cell_type": "markdown",
   "metadata": {},
   "source": [
    "### Rivoltini-Provo con costante  \n",
    "oss, sono proprio sicuro che fittino con una gaussiana? non dovrei provare altre forme funzionali?"
   ]
  },
  {
   "cell_type": "code",
   "execution_count": 20,
   "metadata": {},
   "outputs": [
    {
     "data": {
      "text/plain": [
       "[18.83602888295008,\n",
       " 43.01308620016857,\n",
       " 20.323051044609468,\n",
       " 39.905361267507644,\n",
       " 50.07634970064552,\n",
       " 12.744672819985318,\n",
       " 21.02356804794327,\n",
       " 44.442859949263074,\n",
       " 28.09744612766442,\n",
       " 49.49634119527062,\n",
       " 66.7548097997281,\n",
       " 27.83421879272522,\n",
       " 22.62735522967244,\n",
       " 36.45157151366462,\n",
       " 51.63460768903964,\n",
       " 11.10462288467411,\n",
       " 45.31919820026493,\n",
       " 36.972416763732646,\n",
       " 35.821696465370366,\n",
       " 22.734168717840006,\n",
       " 49.670741811108115,\n",
       " 23.35395618926474,\n",
       " 46.57959410241446,\n",
       " 31.87298468448831,\n",
       " 16.59475575713713,\n",
       " 23.257118704739415,\n",
       " 17.18598144424959]"
      ]
     },
     "execution_count": 20,
     "metadata": {},
     "output_type": "execute_result"
    }
   ],
   "source": [
    "soglini1=[]\n",
    "err_soglini1=[]\n",
    "for i in range(len(soglini)):\n",
    "    if soglini[i]>10 and soglini[i]<80:\n",
    "        soglini1.append(soglini[i])\n",
    "        err_soglini1.append(err_soglini[i])\n",
    "soglini1"
   ]
  },
  {
   "cell_type": "code",
   "execution_count": 21,
   "metadata": {},
   "outputs": [
    {
     "data": {
      "image/png": "[encoded data removed]",
      "text/plain": [
       "<Figure size 432x288 with 1 Axes>"
      ]
     },
     "metadata": {
      "needs_background": "light"
     },
     "output_type": "display_data"
    },
    {
     "name": "stdout",
     "output_type": "stream",
     "text": [
      "ReducedChiSquared: 2.1829768663597147\n"
     ]
    }
   ],
   "source": [
    "popt, pcov = curve_fit(costante, range(len(soglini1)), soglini1, sigma=err_soglini1)\n",
    "cost_red_chisq = cost_chiquadronorm(soglini1, costante(range(len(soglini1)),*popt), err_soglini1, len(soglini1)-len(popt), norm=True)\n",
    "plt.plot(range(len(soglini1)), [costante(range(len(soglini1)),*popt) for k in range(len(soglini1))], color='r')\n",
    "plt.errorbar(range(len(soglini1)), soglini1, yerr=err_soglini1,solid_capstyle='projecting',capsize=5)\n",
    "plt.show()\n",
    "print('ReducedChiSquared:', cost_red_chisq)"
   ]
  },
  {
   "cell_type": "code",
   "execution_count": 22,
   "metadata": {},
   "outputs": [
    {
     "name": "stdout",
     "output_type": "stream",
     "text": [
      "20.71800424604752 3.6758804339848363\n"
     ]
    }
   ],
   "source": [
    "media_pesata_soglini1 = media_pesata(soglini1, err_soglini1)\n",
    "err_media_pesata_soglini1 = np.sqrt(np.sum((soglini1-media_pesata_soglini1)**2)/((len(soglini1)-1)*len(soglini1)))\n",
    "print(media_pesata_soglini1, err_media_pesata_soglini1)"
   ]
  },
  {
   "cell_type": "markdown",
   "metadata": {},
   "source": [
    "I rivoltini invece, hanno un chiquadro ridotto superiore a uno.  \n",
    "Non sembrerebbe si tratti della stessa popolazione statistica, ma probabilmente questo è dovuto ai piccoli errori sui valori di soglia più piccoli"
   ]
  },
  {
   "cell_type": "markdown",
   "metadata": {},
   "source": [
    "# Metriche  \n",
    "Tutte le metriche vengono ricavate dal calcolo dei parametri derivanti dalla procedura di fit:  \n",
    "- Durata = 6sigma della rivolta considerata  \n",
    "- Tempo attesa = (media[rivolta_i+1] - 3sigma[rivolta_i+1]) - (media[rivolta_i] + 3sigma[rivolta_i])  \n",
    "- Ampiezza = parametro del fit  \n",
    "  \n",
    "Gli errori vengono calcolati dalla propagazione degli errori sui parametri del fit"
   ]
  },
  {
   "cell_type": "code",
   "execution_count": 23,
   "metadata": {},
   "outputs": [],
   "source": [
    "## For loop che mi serve a trovare ampiezza, media e deviazione standard di ognuna delle rivolte,\n",
    "###salvo i parametri del fit per ognuna delle rivolte\n",
    "gauss_params_dict = {}\n",
    "gauss_err_params_dict = {}\n",
    "for rivolte in rivolte_dict:\n",
    "\n",
    "    temp_list = []\n",
    "    temp_err_list = []\n",
    "    y = rivolte_dict[rivolte]\n",
    "    x = tick_rivolte_dict[rivolte]\n",
    "    \n",
    "    err_y = np.where(np.sqrt(y)==0,1,np.sqrt(y))\n",
    "    gauss_params,gauss_cov = curve_fit(gauss,x,y,p0=[200,((x[-1]-x[0])/2)+x[0],4.,0.],sigma=err_y)\n",
    "    temp_list.append(gauss_params[0])\n",
    "    temp_list.append(gauss_params[1])\n",
    "    temp_list.append(gauss_params[2])\n",
    "    temp_list.append(gauss_params[3])\n",
    "    temp_err_list.append(np.sqrt(np.abs(gauss_cov[0][0])))\n",
    "    temp_err_list.append(np.sqrt(np.abs(gauss_cov[1][1])))\n",
    "    temp_err_list.append(np.sqrt(np.abs(gauss_cov[2][2])))\n",
    "    temp_err_list.append(np.sqrt(np.abs(gauss_cov[3][3])))\n",
    "    gauss_params_dict[rivolte] = temp_list\n",
    "    gauss_err_params_dict[rivolte] = temp_err_list"
   ]
  },
  {
   "cell_type": "code",
   "execution_count": 24,
   "metadata": {},
   "outputs": [],
   "source": [
    "## For loop che mi serve a trovare ampiezza, media e deviazione standard di ognuna delle rivolte,\n",
    "###salvo i parametri del fit per ognuna delle rivolte\n",
    "nobase_gauss_params_dict = {}\n",
    "nobase_gauss_err_params_dict = {}\n",
    "for rivolte in nobase_dict:\n",
    "\n",
    "    temp_list = []\n",
    "    temp_err_list = []\n",
    "    y = nobase_dict[rivolte]\n",
    "    x = tick_nobase_dict[rivolte]\n",
    "    \n",
    "    err_y = np.where(np.sqrt(y)==0,1,np.sqrt(y))\n",
    "    gauss_params,gauss_cov = curve_fit(gauss,x,y,p0=[100,((x[-1]-x[0])/2)+x[0],4.,0.],sigma=err_y,**{'maxfev':1000000})\n",
    "    temp_list.append(gauss_params[0])\n",
    "    temp_list.append(gauss_params[1])\n",
    "    temp_list.append(gauss_params[2])\n",
    "    temp_list.append(gauss_params[3])\n",
    "    temp_err_list.append(np.sqrt(np.abs(gauss_cov[0][0])))\n",
    "    temp_err_list.append(np.sqrt(np.abs(gauss_cov[1][1])))\n",
    "    temp_err_list.append(np.sqrt(np.abs(gauss_cov[2][2])))\n",
    "    temp_err_list.append(np.sqrt(np.abs(gauss_cov[3][3])))\n",
    "    nobase_gauss_params_dict[rivolte] = temp_list\n",
    "    nobase_gauss_err_params_dict[rivolte] = temp_err_list"
   ]
  },
  {
   "cell_type": "code",
   "execution_count": 25,
   "metadata": {
    "scrolled": false
   },
   "outputs": [
    {
     "data": {
      "text/html": [
       "<div>\n",
       "<style scoped>\n",
       "    .dataframe tbody tr th:only-of-type {\n",
       "        vertical-align: middle;\n",
       "    }\n",
       "\n",
       "    .dataframe tbody tr th {\n",
       "        vertical-align: top;\n",
       "    }\n",
       "\n",
       "    .dataframe thead th {\n",
       "        text-align: right;\n",
       "    }\n",
       "</style>\n",
       "<table border=\"1\" class=\"dataframe\">\n",
       "  <thead>\n",
       "    <tr style=\"text-align: right;\">\n",
       "      <th></th>\n",
       "      <th>0</th>\n",
       "      <th>1</th>\n",
       "      <th>2</th>\n",
       "      <th>3</th>\n",
       "    </tr>\n",
       "  </thead>\n",
       "  <tbody>\n",
       "    <tr>\n",
       "      <td>22_rivolta</td>\n",
       "      <td>8.613835e+00</td>\n",
       "      <td>1.521917e-01</td>\n",
       "      <td>1.725873e-01</td>\n",
       "      <td>2.162349e+00</td>\n",
       "    </tr>\n",
       "    <tr>\n",
       "      <td>18_rivoltini</td>\n",
       "      <td>5.564830e+00</td>\n",
       "      <td>1.990935e-01</td>\n",
       "      <td>2.494356e-01</td>\n",
       "      <td>2.196968e+00</td>\n",
       "    </tr>\n",
       "    <tr>\n",
       "      <td>19_rivoltini</td>\n",
       "      <td>8.801039e+00</td>\n",
       "      <td>8.171126e-01</td>\n",
       "      <td>9.688824e-01</td>\n",
       "      <td>4.416129e+00</td>\n",
       "    </tr>\n",
       "    <tr>\n",
       "      <td>20_rivoltini</td>\n",
       "      <td>7.076812e+00</td>\n",
       "      <td>4.737286e-01</td>\n",
       "      <td>6.644713e-01</td>\n",
       "      <td>4.050609e+00</td>\n",
       "    </tr>\n",
       "    <tr>\n",
       "      <td>21_rivoltini</td>\n",
       "      <td>inf</td>\n",
       "      <td>inf</td>\n",
       "      <td>inf</td>\n",
       "      <td>inf</td>\n",
       "    </tr>\n",
       "    <tr>\n",
       "      <td>22_rivoltini</td>\n",
       "      <td>1.038191e+01</td>\n",
       "      <td>2.901091e-01</td>\n",
       "      <td>2.668612e-01</td>\n",
       "      <td>2.307217e+00</td>\n",
       "    </tr>\n",
       "    <tr>\n",
       "      <td>23_rivolta</td>\n",
       "      <td>1.072488e+01</td>\n",
       "      <td>1.969126e-01</td>\n",
       "      <td>2.327312e-01</td>\n",
       "      <td>3.193609e+00</td>\n",
       "    </tr>\n",
       "    <tr>\n",
       "      <td>23_rivoltini</td>\n",
       "      <td>1.917346e+08</td>\n",
       "      <td>9.825222e-01</td>\n",
       "      <td>4.245084e+05</td>\n",
       "      <td>1.917346e+08</td>\n",
       "    </tr>\n",
       "    <tr>\n",
       "      <td>24_rivolta</td>\n",
       "      <td>9.014097e+00</td>\n",
       "      <td>9.262787e-02</td>\n",
       "      <td>8.438379e-02</td>\n",
       "      <td>1.545785e+00</td>\n",
       "    </tr>\n",
       "    <tr>\n",
       "      <td>25_rivolta</td>\n",
       "      <td>9.856251e+00</td>\n",
       "      <td>9.383080e-02</td>\n",
       "      <td>8.654436e-02</td>\n",
       "      <td>1.644787e+00</td>\n",
       "    </tr>\n",
       "    <tr>\n",
       "      <td>24_rivoltini</td>\n",
       "      <td>2.238248e+08</td>\n",
       "      <td>3.414713e+00</td>\n",
       "      <td>4.026732e+05</td>\n",
       "      <td>2.238248e+08</td>\n",
       "    </tr>\n",
       "    <tr>\n",
       "      <td>26_rivolta</td>\n",
       "      <td>8.236547e+00</td>\n",
       "      <td>1.894253e-01</td>\n",
       "      <td>1.944247e-01</td>\n",
       "      <td>2.172861e+00</td>\n",
       "    </tr>\n",
       "    <tr>\n",
       "      <td>27_rivolta</td>\n",
       "      <td>1.097615e+01</td>\n",
       "      <td>1.724427e-01</td>\n",
       "      <td>1.788022e-01</td>\n",
       "      <td>2.548505e+00</td>\n",
       "    </tr>\n",
       "    <tr>\n",
       "      <td>25_rivoltini</td>\n",
       "      <td>6.030851e+00</td>\n",
       "      <td>2.693727e-01</td>\n",
       "      <td>3.354220e-01</td>\n",
       "      <td>2.698228e+00</td>\n",
       "    </tr>\n",
       "    <tr>\n",
       "      <td>26_rivoltini</td>\n",
       "      <td>2.554265e+07</td>\n",
       "      <td>4.067182e+05</td>\n",
       "      <td>3.450087e+06</td>\n",
       "      <td>2.532779e+07</td>\n",
       "    </tr>\n",
       "    <tr>\n",
       "      <td>28_rivolta</td>\n",
       "      <td>1.223336e+01</td>\n",
       "      <td>1.762424e-01</td>\n",
       "      <td>1.684616e-01</td>\n",
       "      <td>2.272748e+00</td>\n",
       "    </tr>\n",
       "    <tr>\n",
       "      <td>27_rivoltini</td>\n",
       "      <td>8.262424e+00</td>\n",
       "      <td>3.123397e-01</td>\n",
       "      <td>3.875846e-01</td>\n",
       "      <td>3.804752e+00</td>\n",
       "    </tr>\n",
       "    <tr>\n",
       "      <td>28_rivoltini</td>\n",
       "      <td>2.525117e+08</td>\n",
       "      <td>1.241002e+06</td>\n",
       "      <td>2.045325e+05</td>\n",
       "      <td>1.890220e+04</td>\n",
       "    </tr>\n",
       "    <tr>\n",
       "      <td>29_rivolta</td>\n",
       "      <td>1.147838e+01</td>\n",
       "      <td>1.086490e-01</td>\n",
       "      <td>1.069352e-01</td>\n",
       "      <td>2.127415e+00</td>\n",
       "    </tr>\n",
       "    <tr>\n",
       "      <td>29_rivoltini</td>\n",
       "      <td>inf</td>\n",
       "      <td>inf</td>\n",
       "      <td>inf</td>\n",
       "      <td>inf</td>\n",
       "    </tr>\n",
       "    <tr>\n",
       "      <td>30_rivoltini</td>\n",
       "      <td>6.750515e+00</td>\n",
       "      <td>1.643897e-01</td>\n",
       "      <td>1.802645e-01</td>\n",
       "      <td>1.979926e+00</td>\n",
       "    </tr>\n",
       "    <tr>\n",
       "      <td>30_rivolta</td>\n",
       "      <td>1.792658e+01</td>\n",
       "      <td>1.544803e-01</td>\n",
       "      <td>1.311182e-01</td>\n",
       "      <td>2.207027e+00</td>\n",
       "    </tr>\n",
       "    <tr>\n",
       "      <td>31_rivoltini</td>\n",
       "      <td>1.617829e+08</td>\n",
       "      <td>4.969912e+00</td>\n",
       "      <td>6.999374e+05</td>\n",
       "      <td>1.617829e+08</td>\n",
       "    </tr>\n",
       "    <tr>\n",
       "      <td>32_rivoltini</td>\n",
       "      <td>1.604140e+01</td>\n",
       "      <td>3.284572e-01</td>\n",
       "      <td>3.250186e-01</td>\n",
       "      <td>3.323724e+00</td>\n",
       "    </tr>\n",
       "    <tr>\n",
       "      <td>33_rivoltini</td>\n",
       "      <td>7.682288e+00</td>\n",
       "      <td>3.181576e-01</td>\n",
       "      <td>5.656074e-01</td>\n",
       "      <td>5.389954e+00</td>\n",
       "    </tr>\n",
       "    <tr>\n",
       "      <td>34_rivoltini</td>\n",
       "      <td>inf</td>\n",
       "      <td>inf</td>\n",
       "      <td>inf</td>\n",
       "      <td>inf</td>\n",
       "    </tr>\n",
       "    <tr>\n",
       "      <td>31_rivolta</td>\n",
       "      <td>1.143808e+01</td>\n",
       "      <td>2.455620e-01</td>\n",
       "      <td>2.283678e-01</td>\n",
       "      <td>2.460731e+00</td>\n",
       "    </tr>\n",
       "    <tr>\n",
       "      <td>32_rivolta</td>\n",
       "      <td>8.339390e+00</td>\n",
       "      <td>9.330557e-02</td>\n",
       "      <td>9.070525e-02</td>\n",
       "      <td>1.549126e+00</td>\n",
       "    </tr>\n",
       "    <tr>\n",
       "      <td>35_rivoltini</td>\n",
       "      <td>6.384133e+05</td>\n",
       "      <td>1.726871e+02</td>\n",
       "      <td>4.114797e+02</td>\n",
       "      <td>1.774276e+00</td>\n",
       "    </tr>\n",
       "    <tr>\n",
       "      <td>36_rivoltini</td>\n",
       "      <td>7.145263e+00</td>\n",
       "      <td>3.204063e-01</td>\n",
       "      <td>3.867015e-01</td>\n",
       "      <td>3.259769e+00</td>\n",
       "    </tr>\n",
       "    <tr>\n",
       "      <td>37_rivoltini</td>\n",
       "      <td>1.202668e+112</td>\n",
       "      <td>1.726921e+05</td>\n",
       "      <td>3.913475e+03</td>\n",
       "      <td>2.210016e+00</td>\n",
       "    </tr>\n",
       "    <tr>\n",
       "      <td>33_rivolta</td>\n",
       "      <td>1.251235e+01</td>\n",
       "      <td>1.418760e-01</td>\n",
       "      <td>1.327116e-01</td>\n",
       "      <td>1.661975e+00</td>\n",
       "    </tr>\n",
       "    <tr>\n",
       "      <td>34_rivolta</td>\n",
       "      <td>8.900157e+00</td>\n",
       "      <td>1.127673e-01</td>\n",
       "      <td>1.055646e-01</td>\n",
       "      <td>1.753974e+00</td>\n",
       "    </tr>\n",
       "    <tr>\n",
       "      <td>38_rivoltini</td>\n",
       "      <td>6.479111e+00</td>\n",
       "      <td>2.705346e+00</td>\n",
       "      <td>2.908379e+00</td>\n",
       "      <td>3.600527e+00</td>\n",
       "    </tr>\n",
       "    <tr>\n",
       "      <td>39_rivoltini</td>\n",
       "      <td>7.724617e+00</td>\n",
       "      <td>6.298247e-01</td>\n",
       "      <td>1.019736e+00</td>\n",
       "      <td>5.598705e+00</td>\n",
       "    </tr>\n",
       "    <tr>\n",
       "      <td>35_rivolta</td>\n",
       "      <td>7.590202e+00</td>\n",
       "      <td>1.292174e-01</td>\n",
       "      <td>1.260751e-01</td>\n",
       "      <td>1.455608e+00</td>\n",
       "    </tr>\n",
       "    <tr>\n",
       "      <td>40_rivoltini</td>\n",
       "      <td>6.270513e+00</td>\n",
       "      <td>3.965224e-01</td>\n",
       "      <td>4.513361e-01</td>\n",
       "      <td>2.735405e+00</td>\n",
       "    </tr>\n",
       "    <tr>\n",
       "      <td>36_rivolta</td>\n",
       "      <td>1.210385e+01</td>\n",
       "      <td>2.299415e-01</td>\n",
       "      <td>2.230856e-01</td>\n",
       "      <td>2.548099e+00</td>\n",
       "    </tr>\n",
       "    <tr>\n",
       "      <td>37_rivolta</td>\n",
       "      <td>5.141477e+00</td>\n",
       "      <td>1.119983e-01</td>\n",
       "      <td>1.209049e-01</td>\n",
       "      <td>1.307026e+00</td>\n",
       "    </tr>\n",
       "    <tr>\n",
       "      <td>38_rivolta</td>\n",
       "      <td>1.007774e+01</td>\n",
       "      <td>1.087245e-01</td>\n",
       "      <td>1.057908e-01</td>\n",
       "      <td>1.863416e+00</td>\n",
       "    </tr>\n",
       "    <tr>\n",
       "      <td>41_rivoltini</td>\n",
       "      <td>7.106517e+00</td>\n",
       "      <td>2.131699e-01</td>\n",
       "      <td>2.622452e-01</td>\n",
       "      <td>2.770091e+00</td>\n",
       "    </tr>\n",
       "    <tr>\n",
       "      <td>42_rivoltini</td>\n",
       "      <td>1.574364e+08</td>\n",
       "      <td>1.198783e+00</td>\n",
       "      <td>2.424698e+05</td>\n",
       "      <td>1.574364e+08</td>\n",
       "    </tr>\n",
       "    <tr>\n",
       "      <td>43_rivoltini</td>\n",
       "      <td>5.994663e+00</td>\n",
       "      <td>4.380296e-01</td>\n",
       "      <td>4.855017e-01</td>\n",
       "      <td>2.260073e+00</td>\n",
       "    </tr>\n",
       "    <tr>\n",
       "      <td>39_rivolta</td>\n",
       "      <td>1.721667e+01</td>\n",
       "      <td>1.513363e-01</td>\n",
       "      <td>1.447761e-01</td>\n",
       "      <td>3.162832e+00</td>\n",
       "    </tr>\n",
       "    <tr>\n",
       "      <td>44_rivoltini</td>\n",
       "      <td>2.138322e+08</td>\n",
       "      <td>2.376996e+01</td>\n",
       "      <td>9.184986e+05</td>\n",
       "      <td>2.138322e+08</td>\n",
       "    </tr>\n",
       "    <tr>\n",
       "      <td>40_rivolta</td>\n",
       "      <td>7.483679e+00</td>\n",
       "      <td>8.257638e-02</td>\n",
       "      <td>7.761455e-02</td>\n",
       "      <td>1.117946e+00</td>\n",
       "    </tr>\n",
       "    <tr>\n",
       "      <td>45_rivoltini</td>\n",
       "      <td>5.087980e+00</td>\n",
       "      <td>3.905083e-01</td>\n",
       "      <td>5.085624e-01</td>\n",
       "      <td>2.557260e+00</td>\n",
       "    </tr>\n",
       "    <tr>\n",
       "      <td>46_rivoltini</td>\n",
       "      <td>2.323188e+02</td>\n",
       "      <td>5.421022e+01</td>\n",
       "      <td>2.641120e+01</td>\n",
       "      <td>3.052640e+01</td>\n",
       "    </tr>\n",
       "    <tr>\n",
       "      <td>41_rivolta</td>\n",
       "      <td>1.258060e+01</td>\n",
       "      <td>1.079802e-01</td>\n",
       "      <td>9.945669e-02</td>\n",
       "      <td>1.722040e+00</td>\n",
       "    </tr>\n",
       "    <tr>\n",
       "      <td>47_rivoltini</td>\n",
       "      <td>3.786901e+00</td>\n",
       "      <td>2.309161e-01</td>\n",
       "      <td>2.556049e-01</td>\n",
       "      <td>1.330345e+00</td>\n",
       "    </tr>\n",
       "  </tbody>\n",
       "</table>\n",
       "</div>"
      ],
      "text/plain": [
       "                          0             1             2             3\n",
       "22_rivolta     8.613835e+00  1.521917e-01  1.725873e-01  2.162349e+00\n",
       "18_rivoltini   5.564830e+00  1.990935e-01  2.494356e-01  2.196968e+00\n",
       "19_rivoltini   8.801039e+00  8.171126e-01  9.688824e-01  4.416129e+00\n",
       "20_rivoltini   7.076812e+00  4.737286e-01  6.644713e-01  4.050609e+00\n",
       "21_rivoltini            inf           inf           inf           inf\n",
       "22_rivoltini   1.038191e+01  2.901091e-01  2.668612e-01  2.307217e+00\n",
       "23_rivolta     1.072488e+01  1.969126e-01  2.327312e-01  3.193609e+00\n",
       "23_rivoltini   1.917346e+08  9.825222e-01  4.245084e+05  1.917346e+08\n",
       "24_rivolta     9.014097e+00  9.262787e-02  8.438379e-02  1.545785e+00\n",
       "25_rivolta     9.856251e+00  9.383080e-02  8.654436e-02  1.644787e+00\n",
       "24_rivoltini   2.238248e+08  3.414713e+00  4.026732e+05  2.238248e+08\n",
       "26_rivolta     8.236547e+00  1.894253e-01  1.944247e-01  2.172861e+00\n",
       "27_rivolta     1.097615e+01  1.724427e-01  1.788022e-01  2.548505e+00\n",
       "25_rivoltini   6.030851e+00  2.693727e-01  3.354220e-01  2.698228e+00\n",
       "26_rivoltini   2.554265e+07  4.067182e+05  3.450087e+06  2.532779e+07\n",
       "28_rivolta     1.223336e+01  1.762424e-01  1.684616e-01  2.272748e+00\n",
       "27_rivoltini   8.262424e+00  3.123397e-01  3.875846e-01  3.804752e+00\n",
       "28_rivoltini   2.525117e+08  1.241002e+06  2.045325e+05  1.890220e+04\n",
       "29_rivolta     1.147838e+01  1.086490e-01  1.069352e-01  2.127415e+00\n",
       "29_rivoltini            inf           inf           inf           inf\n",
       "30_rivoltini   6.750515e+00  1.643897e-01  1.802645e-01  1.979926e+00\n",
       "30_rivolta     1.792658e+01  1.544803e-01  1.311182e-01  2.207027e+00\n",
       "31_rivoltini   1.617829e+08  4.969912e+00  6.999374e+05  1.617829e+08\n",
       "32_rivoltini   1.604140e+01  3.284572e-01  3.250186e-01  3.323724e+00\n",
       "33_rivoltini   7.682288e+00  3.181576e-01  5.656074e-01  5.389954e+00\n",
       "34_rivoltini            inf           inf           inf           inf\n",
       "31_rivolta     1.143808e+01  2.455620e-01  2.283678e-01  2.460731e+00\n",
       "32_rivolta     8.339390e+00  9.330557e-02  9.070525e-02  1.549126e+00\n",
       "35_rivoltini   6.384133e+05  1.726871e+02  4.114797e+02  1.774276e+00\n",
       "36_rivoltini   7.145263e+00  3.204063e-01  3.867015e-01  3.259769e+00\n",
       "37_rivoltini  1.202668e+112  1.726921e+05  3.913475e+03  2.210016e+00\n",
       "33_rivolta     1.251235e+01  1.418760e-01  1.327116e-01  1.661975e+00\n",
       "34_rivolta     8.900157e+00  1.127673e-01  1.055646e-01  1.753974e+00\n",
       "38_rivoltini   6.479111e+00  2.705346e+00  2.908379e+00  3.600527e+00\n",
       "39_rivoltini   7.724617e+00  6.298247e-01  1.019736e+00  5.598705e+00\n",
       "35_rivolta     7.590202e+00  1.292174e-01  1.260751e-01  1.455608e+00\n",
       "40_rivoltini   6.270513e+00  3.965224e-01  4.513361e-01  2.735405e+00\n",
       "36_rivolta     1.210385e+01  2.299415e-01  2.230856e-01  2.548099e+00\n",
       "37_rivolta     5.141477e+00  1.119983e-01  1.209049e-01  1.307026e+00\n",
       "38_rivolta     1.007774e+01  1.087245e-01  1.057908e-01  1.863416e+00\n",
       "41_rivoltini   7.106517e+00  2.131699e-01  2.622452e-01  2.770091e+00\n",
       "42_rivoltini   1.574364e+08  1.198783e+00  2.424698e+05  1.574364e+08\n",
       "43_rivoltini   5.994663e+00  4.380296e-01  4.855017e-01  2.260073e+00\n",
       "39_rivolta     1.721667e+01  1.513363e-01  1.447761e-01  3.162832e+00\n",
       "44_rivoltini   2.138322e+08  2.376996e+01  9.184986e+05  2.138322e+08\n",
       "40_rivolta     7.483679e+00  8.257638e-02  7.761455e-02  1.117946e+00\n",
       "45_rivoltini   5.087980e+00  3.905083e-01  5.085624e-01  2.557260e+00\n",
       "46_rivoltini   2.323188e+02  5.421022e+01  2.641120e+01  3.052640e+01\n",
       "41_rivolta     1.258060e+01  1.079802e-01  9.945669e-02  1.722040e+00\n",
       "47_rivoltini   3.786901e+00  2.309161e-01  2.556049e-01  1.330345e+00"
      ]
     },
     "execution_count": 25,
     "metadata": {},
     "output_type": "execute_result"
    }
   ],
   "source": [
    "\n",
    "pd.DataFrame.from_dict(nobase_gauss_err_params_dict, orient='index').tail(50)"
   ]
  },
  {
   "cell_type": "code",
   "execution_count": 26,
   "metadata": {},
   "outputs": [],
   "source": [
    "del nobase_gauss_params_dict['1_rivoltini']\n",
    "del nobase_gauss_err_params_dict['1_rivoltini']\n",
    "del nobase_gauss_params_dict['2_rivoltini']\n",
    "del nobase_gauss_err_params_dict['2_rivoltini']\n",
    "del nobase_gauss_params_dict['3_rivoltini']\n",
    "del nobase_gauss_err_params_dict['3_rivoltini']\n",
    "del nobase_gauss_params_dict['4_rivoltini']\n",
    "del nobase_gauss_err_params_dict['4_rivoltini']\n",
    "del nobase_gauss_params_dict['6_rivoltini']\n",
    "del nobase_gauss_err_params_dict['6_rivoltini']\n",
    "del nobase_gauss_params_dict['7_rivoltini']\n",
    "del nobase_gauss_err_params_dict['7_rivoltini']\n",
    "del nobase_gauss_params_dict['10_rivoltini']\n",
    "del nobase_gauss_err_params_dict['10_rivoltini']\n",
    "del nobase_gauss_params_dict['11_rivoltini']\n",
    "del nobase_gauss_err_params_dict['11_rivoltini']\n",
    "del nobase_gauss_params_dict['13_rivoltini']\n",
    "del nobase_gauss_err_params_dict['13_rivoltini']\n",
    "del nobase_gauss_params_dict['16_rivoltini']\n",
    "del nobase_gauss_err_params_dict['16_rivoltini']\n",
    "del nobase_gauss_params_dict['17_rivoltini']\n",
    "del nobase_gauss_err_params_dict['17_rivoltini']\n",
    "del nobase_gauss_params_dict['21_rivoltini']\n",
    "del nobase_gauss_err_params_dict['21_rivoltini']\n",
    "del nobase_gauss_params_dict['23_rivoltini']\n",
    "del nobase_gauss_err_params_dict['23_rivoltini']\n",
    "del nobase_gauss_params_dict['24_rivoltini']\n",
    "del nobase_gauss_err_params_dict['24_rivoltini']\n",
    "del nobase_gauss_params_dict['26_rivoltini']\n",
    "del nobase_gauss_err_params_dict['26_rivoltini']\n",
    "del nobase_gauss_params_dict['28_rivoltini']\n",
    "del nobase_gauss_err_params_dict['28_rivoltini']\n",
    "del nobase_gauss_params_dict['29_rivoltini']\n",
    "del nobase_gauss_err_params_dict['29_rivoltini']\n",
    "del nobase_gauss_params_dict['31_rivoltini']\n",
    "del nobase_gauss_err_params_dict['31_rivoltini']\n",
    "del nobase_gauss_params_dict['34_rivoltini']\n",
    "del nobase_gauss_err_params_dict['34_rivoltini']\n",
    "del nobase_gauss_params_dict['37_rivoltini']\n",
    "del nobase_gauss_err_params_dict['37_rivoltini']\n",
    "del nobase_gauss_params_dict['35_rivoltini']\n",
    "del nobase_gauss_err_params_dict['35_rivoltini']\n",
    "del nobase_gauss_params_dict['44_rivoltini']\n",
    "del nobase_gauss_err_params_dict['44_rivoltini']\n",
    "del nobase_gauss_params_dict['38_rivoltini']\n",
    "del nobase_gauss_err_params_dict['38_rivoltini']\n",
    "del nobase_gauss_params_dict['42_rivoltini']\n",
    "del nobase_gauss_err_params_dict['42_rivoltini']\n",
    "del nobase_gauss_params_dict['46_rivoltini']\n",
    "del nobase_gauss_err_params_dict['46_rivoltini']\n",
    "\n",
    "\n"
   ]
  },
  {
   "cell_type": "code",
   "execution_count": 27,
   "metadata": {},
   "outputs": [
    {
     "data": {
      "text/html": [
       "<div>\n",
       "<style scoped>\n",
       "    .dataframe tbody tr th:only-of-type {\n",
       "        vertical-align: middle;\n",
       "    }\n",
       "\n",
       "    .dataframe tbody tr th {\n",
       "        vertical-align: top;\n",
       "    }\n",
       "\n",
       "    .dataframe thead th {\n",
       "        text-align: right;\n",
       "    }\n",
       "</style>\n",
       "<table border=\"1\" class=\"dataframe\">\n",
       "  <thead>\n",
       "    <tr style=\"text-align: right;\">\n",
       "      <th></th>\n",
       "      <th>0</th>\n",
       "      <th>1</th>\n",
       "      <th>2</th>\n",
       "      <th>3</th>\n",
       "    </tr>\n",
       "  </thead>\n",
       "  <tbody>\n",
       "    <tr>\n",
       "      <td>1_rivolta</td>\n",
       "      <td>5.611735</td>\n",
       "      <td>0.099080</td>\n",
       "      <td>0.093878</td>\n",
       "      <td>0.702410</td>\n",
       "    </tr>\n",
       "    <tr>\n",
       "      <td>2_rivolta</td>\n",
       "      <td>12.040838</td>\n",
       "      <td>0.225775</td>\n",
       "      <td>0.227431</td>\n",
       "      <td>2.470907</td>\n",
       "    </tr>\n",
       "    <tr>\n",
       "      <td>3_rivolta</td>\n",
       "      <td>7.879521</td>\n",
       "      <td>0.091457</td>\n",
       "      <td>0.086517</td>\n",
       "      <td>1.167329</td>\n",
       "    </tr>\n",
       "    <tr>\n",
       "      <td>4_rivolta</td>\n",
       "      <td>13.062554</td>\n",
       "      <td>0.167157</td>\n",
       "      <td>0.149812</td>\n",
       "      <td>1.961591</td>\n",
       "    </tr>\n",
       "    <tr>\n",
       "      <td>5_rivolta</td>\n",
       "      <td>8.829553</td>\n",
       "      <td>0.107116</td>\n",
       "      <td>0.101807</td>\n",
       "      <td>1.672256</td>\n",
       "    </tr>\n",
       "    <tr>\n",
       "      <td>6_rivolta</td>\n",
       "      <td>5.587143</td>\n",
       "      <td>0.094314</td>\n",
       "      <td>0.094341</td>\n",
       "      <td>1.204110</td>\n",
       "    </tr>\n",
       "    <tr>\n",
       "      <td>5_rivoltini</td>\n",
       "      <td>8.179224</td>\n",
       "      <td>0.315816</td>\n",
       "      <td>0.385738</td>\n",
       "      <td>3.269300</td>\n",
       "    </tr>\n",
       "    <tr>\n",
       "      <td>7_rivolta</td>\n",
       "      <td>11.601304</td>\n",
       "      <td>0.139654</td>\n",
       "      <td>0.128346</td>\n",
       "      <td>1.696414</td>\n",
       "    </tr>\n",
       "    <tr>\n",
       "      <td>8_rivolta</td>\n",
       "      <td>13.798753</td>\n",
       "      <td>0.176277</td>\n",
       "      <td>0.165927</td>\n",
       "      <td>2.678620</td>\n",
       "    </tr>\n",
       "    <tr>\n",
       "      <td>9_rivolta</td>\n",
       "      <td>11.807806</td>\n",
       "      <td>0.220557</td>\n",
       "      <td>0.205142</td>\n",
       "      <td>1.966580</td>\n",
       "    </tr>\n",
       "    <tr>\n",
       "      <td>10_rivolta</td>\n",
       "      <td>9.003606</td>\n",
       "      <td>0.177602</td>\n",
       "      <td>0.183056</td>\n",
       "      <td>2.016040</td>\n",
       "    </tr>\n",
       "    <tr>\n",
       "      <td>11_rivolta</td>\n",
       "      <td>6.875723</td>\n",
       "      <td>0.094198</td>\n",
       "      <td>0.090172</td>\n",
       "      <td>1.278674</td>\n",
       "    </tr>\n",
       "    <tr>\n",
       "      <td>8_rivoltini</td>\n",
       "      <td>6.927340</td>\n",
       "      <td>0.274223</td>\n",
       "      <td>0.466378</td>\n",
       "      <td>4.832440</td>\n",
       "    </tr>\n",
       "    <tr>\n",
       "      <td>12_rivolta</td>\n",
       "      <td>3.937574</td>\n",
       "      <td>0.114682</td>\n",
       "      <td>0.139476</td>\n",
       "      <td>1.462629</td>\n",
       "    </tr>\n",
       "    <tr>\n",
       "      <td>13_rivolta</td>\n",
       "      <td>12.703927</td>\n",
       "      <td>0.104868</td>\n",
       "      <td>0.096039</td>\n",
       "      <td>2.093734</td>\n",
       "    </tr>\n",
       "    <tr>\n",
       "      <td>14_rivolta</td>\n",
       "      <td>12.263041</td>\n",
       "      <td>0.187134</td>\n",
       "      <td>0.179112</td>\n",
       "      <td>2.294002</td>\n",
       "    </tr>\n",
       "    <tr>\n",
       "      <td>15_rivolta</td>\n",
       "      <td>9.306407</td>\n",
       "      <td>0.119096</td>\n",
       "      <td>0.112520</td>\n",
       "      <td>1.735225</td>\n",
       "    </tr>\n",
       "    <tr>\n",
       "      <td>16_rivolta</td>\n",
       "      <td>7.108118</td>\n",
       "      <td>0.308087</td>\n",
       "      <td>0.363663</td>\n",
       "      <td>2.222458</td>\n",
       "    </tr>\n",
       "    <tr>\n",
       "      <td>17_rivolta</td>\n",
       "      <td>9.394908</td>\n",
       "      <td>0.096799</td>\n",
       "      <td>0.085995</td>\n",
       "      <td>1.447736</td>\n",
       "    </tr>\n",
       "    <tr>\n",
       "      <td>9_rivoltini</td>\n",
       "      <td>401.221813</td>\n",
       "      <td>0.492127</td>\n",
       "      <td>31.337485</td>\n",
       "      <td>403.719694</td>\n",
       "    </tr>\n",
       "    <tr>\n",
       "      <td>18_rivolta</td>\n",
       "      <td>9.581126</td>\n",
       "      <td>0.141823</td>\n",
       "      <td>0.143865</td>\n",
       "      <td>2.261290</td>\n",
       "    </tr>\n",
       "    <tr>\n",
       "      <td>12_rivoltini</td>\n",
       "      <td>11.185144</td>\n",
       "      <td>0.299029</td>\n",
       "      <td>0.282805</td>\n",
       "      <td>2.442000</td>\n",
       "    </tr>\n",
       "    <tr>\n",
       "      <td>19_rivolta</td>\n",
       "      <td>9.577862</td>\n",
       "      <td>0.097032</td>\n",
       "      <td>0.090615</td>\n",
       "      <td>1.652206</td>\n",
       "    </tr>\n",
       "    <tr>\n",
       "      <td>14_rivoltini</td>\n",
       "      <td>3.683971</td>\n",
       "      <td>1.103953</td>\n",
       "      <td>1.393283</td>\n",
       "      <td>3.573365</td>\n",
       "    </tr>\n",
       "    <tr>\n",
       "      <td>20_rivolta</td>\n",
       "      <td>9.472860</td>\n",
       "      <td>0.163756</td>\n",
       "      <td>0.157507</td>\n",
       "      <td>1.868124</td>\n",
       "    </tr>\n",
       "    <tr>\n",
       "      <td>15_rivoltini</td>\n",
       "      <td>5.146300</td>\n",
       "      <td>0.410326</td>\n",
       "      <td>0.516256</td>\n",
       "      <td>2.599720</td>\n",
       "    </tr>\n",
       "    <tr>\n",
       "      <td>21_rivolta</td>\n",
       "      <td>11.730433</td>\n",
       "      <td>0.174464</td>\n",
       "      <td>0.171528</td>\n",
       "      <td>2.575393</td>\n",
       "    </tr>\n",
       "    <tr>\n",
       "      <td>22_rivolta</td>\n",
       "      <td>8.613835</td>\n",
       "      <td>0.152192</td>\n",
       "      <td>0.172587</td>\n",
       "      <td>2.162349</td>\n",
       "    </tr>\n",
       "    <tr>\n",
       "      <td>18_rivoltini</td>\n",
       "      <td>5.564830</td>\n",
       "      <td>0.199093</td>\n",
       "      <td>0.249436</td>\n",
       "      <td>2.196968</td>\n",
       "    </tr>\n",
       "    <tr>\n",
       "      <td>19_rivoltini</td>\n",
       "      <td>8.801039</td>\n",
       "      <td>0.817113</td>\n",
       "      <td>0.968882</td>\n",
       "      <td>4.416129</td>\n",
       "    </tr>\n",
       "    <tr>\n",
       "      <td>20_rivoltini</td>\n",
       "      <td>7.076812</td>\n",
       "      <td>0.473729</td>\n",
       "      <td>0.664471</td>\n",
       "      <td>4.050609</td>\n",
       "    </tr>\n",
       "    <tr>\n",
       "      <td>22_rivoltini</td>\n",
       "      <td>10.381909</td>\n",
       "      <td>0.290109</td>\n",
       "      <td>0.266861</td>\n",
       "      <td>2.307217</td>\n",
       "    </tr>\n",
       "    <tr>\n",
       "      <td>23_rivolta</td>\n",
       "      <td>10.724885</td>\n",
       "      <td>0.196913</td>\n",
       "      <td>0.232731</td>\n",
       "      <td>3.193609</td>\n",
       "    </tr>\n",
       "    <tr>\n",
       "      <td>24_rivolta</td>\n",
       "      <td>9.014097</td>\n",
       "      <td>0.092628</td>\n",
       "      <td>0.084384</td>\n",
       "      <td>1.545785</td>\n",
       "    </tr>\n",
       "    <tr>\n",
       "      <td>25_rivolta</td>\n",
       "      <td>9.856251</td>\n",
       "      <td>0.093831</td>\n",
       "      <td>0.086544</td>\n",
       "      <td>1.644787</td>\n",
       "    </tr>\n",
       "    <tr>\n",
       "      <td>26_rivolta</td>\n",
       "      <td>8.236547</td>\n",
       "      <td>0.189425</td>\n",
       "      <td>0.194425</td>\n",
       "      <td>2.172861</td>\n",
       "    </tr>\n",
       "    <tr>\n",
       "      <td>27_rivolta</td>\n",
       "      <td>10.976150</td>\n",
       "      <td>0.172443</td>\n",
       "      <td>0.178802</td>\n",
       "      <td>2.548505</td>\n",
       "    </tr>\n",
       "    <tr>\n",
       "      <td>25_rivoltini</td>\n",
       "      <td>6.030851</td>\n",
       "      <td>0.269373</td>\n",
       "      <td>0.335422</td>\n",
       "      <td>2.698228</td>\n",
       "    </tr>\n",
       "    <tr>\n",
       "      <td>28_rivolta</td>\n",
       "      <td>12.233358</td>\n",
       "      <td>0.176242</td>\n",
       "      <td>0.168462</td>\n",
       "      <td>2.272748</td>\n",
       "    </tr>\n",
       "    <tr>\n",
       "      <td>27_rivoltini</td>\n",
       "      <td>8.262424</td>\n",
       "      <td>0.312340</td>\n",
       "      <td>0.387585</td>\n",
       "      <td>3.804752</td>\n",
       "    </tr>\n",
       "    <tr>\n",
       "      <td>29_rivolta</td>\n",
       "      <td>11.478385</td>\n",
       "      <td>0.108649</td>\n",
       "      <td>0.106935</td>\n",
       "      <td>2.127415</td>\n",
       "    </tr>\n",
       "    <tr>\n",
       "      <td>30_rivoltini</td>\n",
       "      <td>6.750515</td>\n",
       "      <td>0.164390</td>\n",
       "      <td>0.180264</td>\n",
       "      <td>1.979926</td>\n",
       "    </tr>\n",
       "    <tr>\n",
       "      <td>30_rivolta</td>\n",
       "      <td>17.926575</td>\n",
       "      <td>0.154480</td>\n",
       "      <td>0.131118</td>\n",
       "      <td>2.207027</td>\n",
       "    </tr>\n",
       "    <tr>\n",
       "      <td>32_rivoltini</td>\n",
       "      <td>16.041405</td>\n",
       "      <td>0.328457</td>\n",
       "      <td>0.325019</td>\n",
       "      <td>3.323724</td>\n",
       "    </tr>\n",
       "    <tr>\n",
       "      <td>33_rivoltini</td>\n",
       "      <td>7.682288</td>\n",
       "      <td>0.318158</td>\n",
       "      <td>0.565607</td>\n",
       "      <td>5.389954</td>\n",
       "    </tr>\n",
       "    <tr>\n",
       "      <td>31_rivolta</td>\n",
       "      <td>11.438080</td>\n",
       "      <td>0.245562</td>\n",
       "      <td>0.228368</td>\n",
       "      <td>2.460731</td>\n",
       "    </tr>\n",
       "    <tr>\n",
       "      <td>32_rivolta</td>\n",
       "      <td>8.339390</td>\n",
       "      <td>0.093306</td>\n",
       "      <td>0.090705</td>\n",
       "      <td>1.549126</td>\n",
       "    </tr>\n",
       "    <tr>\n",
       "      <td>36_rivoltini</td>\n",
       "      <td>7.145263</td>\n",
       "      <td>0.320406</td>\n",
       "      <td>0.386702</td>\n",
       "      <td>3.259769</td>\n",
       "    </tr>\n",
       "    <tr>\n",
       "      <td>33_rivolta</td>\n",
       "      <td>12.512352</td>\n",
       "      <td>0.141876</td>\n",
       "      <td>0.132712</td>\n",
       "      <td>1.661975</td>\n",
       "    </tr>\n",
       "    <tr>\n",
       "      <td>34_rivolta</td>\n",
       "      <td>8.900157</td>\n",
       "      <td>0.112767</td>\n",
       "      <td>0.105565</td>\n",
       "      <td>1.753974</td>\n",
       "    </tr>\n",
       "  </tbody>\n",
       "</table>\n",
       "</div>"
      ],
      "text/plain": [
       "                       0         1          2           3\n",
       "1_rivolta       5.611735  0.099080   0.093878    0.702410\n",
       "2_rivolta      12.040838  0.225775   0.227431    2.470907\n",
       "3_rivolta       7.879521  0.091457   0.086517    1.167329\n",
       "4_rivolta      13.062554  0.167157   0.149812    1.961591\n",
       "5_rivolta       8.829553  0.107116   0.101807    1.672256\n",
       "6_rivolta       5.587143  0.094314   0.094341    1.204110\n",
       "5_rivoltini     8.179224  0.315816   0.385738    3.269300\n",
       "7_rivolta      11.601304  0.139654   0.128346    1.696414\n",
       "8_rivolta      13.798753  0.176277   0.165927    2.678620\n",
       "9_rivolta      11.807806  0.220557   0.205142    1.966580\n",
       "10_rivolta      9.003606  0.177602   0.183056    2.016040\n",
       "11_rivolta      6.875723  0.094198   0.090172    1.278674\n",
       "8_rivoltini     6.927340  0.274223   0.466378    4.832440\n",
       "12_rivolta      3.937574  0.114682   0.139476    1.462629\n",
       "13_rivolta     12.703927  0.104868   0.096039    2.093734\n",
       "14_rivolta     12.263041  0.187134   0.179112    2.294002\n",
       "15_rivolta      9.306407  0.119096   0.112520    1.735225\n",
       "16_rivolta      7.108118  0.308087   0.363663    2.222458\n",
       "17_rivolta      9.394908  0.096799   0.085995    1.447736\n",
       "9_rivoltini   401.221813  0.492127  31.337485  403.719694\n",
       "18_rivolta      9.581126  0.141823   0.143865    2.261290\n",
       "12_rivoltini   11.185144  0.299029   0.282805    2.442000\n",
       "19_rivolta      9.577862  0.097032   0.090615    1.652206\n",
       "14_rivoltini    3.683971  1.103953   1.393283    3.573365\n",
       "20_rivolta      9.472860  0.163756   0.157507    1.868124\n",
       "15_rivoltini    5.146300  0.410326   0.516256    2.599720\n",
       "21_rivolta     11.730433  0.174464   0.171528    2.575393\n",
       "22_rivolta      8.613835  0.152192   0.172587    2.162349\n",
       "18_rivoltini    5.564830  0.199093   0.249436    2.196968\n",
       "19_rivoltini    8.801039  0.817113   0.968882    4.416129\n",
       "20_rivoltini    7.076812  0.473729   0.664471    4.050609\n",
       "22_rivoltini   10.381909  0.290109   0.266861    2.307217\n",
       "23_rivolta     10.724885  0.196913   0.232731    3.193609\n",
       "24_rivolta      9.014097  0.092628   0.084384    1.545785\n",
       "25_rivolta      9.856251  0.093831   0.086544    1.644787\n",
       "26_rivolta      8.236547  0.189425   0.194425    2.172861\n",
       "27_rivolta     10.976150  0.172443   0.178802    2.548505\n",
       "25_rivoltini    6.030851  0.269373   0.335422    2.698228\n",
       "28_rivolta     12.233358  0.176242   0.168462    2.272748\n",
       "27_rivoltini    8.262424  0.312340   0.387585    3.804752\n",
       "29_rivolta     11.478385  0.108649   0.106935    2.127415\n",
       "30_rivoltini    6.750515  0.164390   0.180264    1.979926\n",
       "30_rivolta     17.926575  0.154480   0.131118    2.207027\n",
       "32_rivoltini   16.041405  0.328457   0.325019    3.323724\n",
       "33_rivoltini    7.682288  0.318158   0.565607    5.389954\n",
       "31_rivolta     11.438080  0.245562   0.228368    2.460731\n",
       "32_rivolta      8.339390  0.093306   0.090705    1.549126\n",
       "36_rivoltini    7.145263  0.320406   0.386702    3.259769\n",
       "33_rivolta     12.512352  0.141876   0.132712    1.661975\n",
       "34_rivolta      8.900157  0.112767   0.105565    1.753974"
      ]
     },
     "execution_count": 27,
     "metadata": {},
     "output_type": "execute_result"
    }
   ],
   "source": [
    "pd.DataFrame.from_dict(nobase_gauss_err_params_dict, orient='index').head(50)"
   ]
  },
  {
   "cell_type": "markdown",
   "metadata": {},
   "source": [
    "## Durata"
   ]
  },
  {
   "cell_type": "code",
   "execution_count": 28,
   "metadata": {},
   "outputs": [],
   "source": [
    "## calcolo la durata delle singole rivolte come 6 per la sigma della rivolta (hp:gaussiane)\n",
    "###e errori su singole durate propagando gli errori sulla sigma (6*err_assoluto sigma)\n",
    "durate_list = [gauss_params_dict[rivolte][2]*6 for rivolte in rivolte_dict]\n",
    "err_durate_list = [gauss_err_params_dict[rivolte][2]*6 for rivolte in rivolte_dict]\n",
    "durate_list = np.abs(durate_list)\n",
    "err_durate_list = np.abs(err_durate_list)\n",
    "\n",
    "## calcolo media pesata e errore su media\n",
    "media_pesata_durate = media_pesata(durate_list, err_durate_list)\n",
    "err_media_pesata_durate = np.sqrt(np.sum((durate_list - media_pesata_durate)**2)/(len(durate_list)*(len(durate_list)-1)))"
   ]
  },
  {
   "cell_type": "code",
   "execution_count": 29,
   "metadata": {},
   "outputs": [
    {
     "data": {
      "image/png": "[encoded data removed]",
      "text/plain": [
       "<Figure size 432x288 with 1 Axes>"
      ]
     },
     "metadata": {
      "needs_background": "light"
     },
     "output_type": "display_data"
    }
   ],
   "source": [
    "plt.hist(durate_list, bins=10)\n",
    "plt.show()"
   ]
  },
  {
   "cell_type": "code",
   "execution_count": 30,
   "metadata": {},
   "outputs": [
    {
     "data": {
      "image/png": "[encoded data removed]",
      "text/plain": [
       "<Figure size 432x288 with 1 Axes>"
      ]
     },
     "metadata": {
      "needs_background": "light"
     },
     "output_type": "display_data"
    }
   ],
   "source": [
    "plt.errorbar(range(len(durate_list)), durate_list, yerr=err_durate_list,solid_capstyle='projecting',capsize=5)\n",
    "plt.show()"
   ]
  },
  {
   "cell_type": "code",
   "execution_count": 31,
   "metadata": {},
   "outputs": [
    {
     "name": "stdout",
     "output_type": "stream",
     "text": [
      "10.570702223710057 0.2833480767370294\n"
     ]
    }
   ],
   "source": [
    "print(media_pesata_durate,err_media_pesata_durate)"
   ]
  },
  {
   "cell_type": "markdown",
   "metadata": {},
   "source": [
    "media pesata durate e errore caso norndm  \n",
    "10.311830447971328 0.12035386293573513\n",
    "  \n",
    "valori compatibili tra loro"
   ]
  },
  {
   "cell_type": "markdown",
   "metadata": {},
   "source": [
    "## Ampiezza"
   ]
  },
  {
   "cell_type": "code",
   "execution_count": 32,
   "metadata": {},
   "outputs": [],
   "source": [
    "## Calcolo ampiezze per ogni rivolta e errore da propagazione errori del fit\n",
    "ampiezze_list = [gauss_params_dict[rivolte][0] for rivolte in rivolte_dict]\n",
    "err_ampiezze_list = [gauss_err_params_dict[rivolte][0] for rivolte in rivolte_dict]\n",
    "ampiezze_list = np.abs(ampiezze_list)\n",
    "err_ampiezze_list = np.abs(err_ampiezze_list)\n",
    "\n",
    "## Calcolo media pesata e errore su media\n",
    "media_pesata_ampiezze = media_pesata(ampiezze_list, err_ampiezze_list)\n",
    "err_media_pesata_ampiezze = np.sqrt(np.sum((ampiezze_list - media_pesata_ampiezze)**2)/(len(ampiezze_list)*(len(ampiezze_list)-1)))"
   ]
  },
  {
   "cell_type": "code",
   "execution_count": 33,
   "metadata": {
    "scrolled": true
   },
   "outputs": [
    {
     "data": {
      "image/png": "[encoded data removed]",
      "text/plain": [
       "<Figure size 432x288 with 1 Axes>"
      ]
     },
     "metadata": {
      "needs_background": "light"
     },
     "output_type": "display_data"
    }
   ],
   "source": [
    "plt.hist(ampiezze_list, bins=20)\n",
    "plt.show()"
   ]
  },
  {
   "cell_type": "code",
   "execution_count": 34,
   "metadata": {},
   "outputs": [
    {
     "data": {
      "image/png": "[encoded data removed]",
      "text/plain": [
       "<Figure size 432x288 with 1 Axes>"
      ]
     },
     "metadata": {
      "needs_background": "light"
     },
     "output_type": "display_data"
    }
   ],
   "source": [
    "plt.errorbar(range(len(ampiezze_list)), ampiezze_list, yerr=err_ampiezze_list,solid_capstyle='projecting',capsize=5)\n",
    "plt.show()"
   ]
  },
  {
   "cell_type": "code",
   "execution_count": 35,
   "metadata": {},
   "outputs": [
    {
     "name": "stdout",
     "output_type": "stream",
     "text": [
      "105.50983962840773 4.919374696768781\n"
     ]
    }
   ],
   "source": [
    "print(media_pesata_ampiezze,err_media_pesata_ampiezze)"
   ]
  },
  {
   "cell_type": "markdown",
   "metadata": {},
   "source": [
    "Media pesata e errore ampiezze caso nonrndm  \n",
    "193.59670978171002 14.655492080565837"
   ]
  },
  {
   "cell_type": "markdown",
   "metadata": {},
   "source": [
    "## Tempi attesa"
   ]
  },
  {
   "cell_type": "code",
   "execution_count": 36,
   "metadata": {},
   "outputs": [],
   "source": [
    "## calcolo liste dei tick di inizio e fine rivolte con relativi errori \n",
    "###trovati con propagazione degli errori dagli errori dei parametri del fit\n",
    "###(start = media-3sigma --> err_start = sqrt(err_media**2 + (3err_sigma)**2)\n",
    "start_tick_list = []\n",
    "end_tick_list = []\n",
    "err_start_tick_list = []\n",
    "err_end_tick_list = []\n",
    "\n",
    "for rivolte in nobase_gauss_params_dict:\n",
    "    media = nobase_gauss_params_dict[rivolte][1]\n",
    "    sigma = np.abs(nobase_gauss_params_dict[rivolte][2])\n",
    "    err_media = nobase_gauss_err_params_dict[rivolte][1]\n",
    "    err_sigma = nobase_gauss_err_params_dict[rivolte][2]\n",
    "    start_tick_list.append(media - 3*sigma)\n",
    "    end_tick_list.append(media + 3*sigma)\n",
    "    err_start_tick_list.append(np.sqrt(err_media**2 + (3*err_sigma)**2))\n",
    "    err_end_tick_list.append(np.sqrt(err_media**2 + (3*err_sigma)**2))"
   ]
  },
  {
   "cell_type": "code",
   "execution_count": 37,
   "metadata": {},
   "outputs": [],
   "source": [
    "## Calcolo tempi di attesa dalle liste dei tick di inizio e fine rivolte e relativi errori\n",
    "###calcolati con la propagazione dagli errori dei tick di inizio e fine rivolte\n",
    "###(tempo_attesa = start[i+1]-end[i] --> err_tempo_attesa = err_start[i+1] + err_end[i])\n",
    "tempi_attesa_list = []\n",
    "err_tempi_attesa_list = []\n",
    "for i in range(len(end_tick_list)-1):\n",
    "    tempi_attesa_list.append(start_tick_list[i+1] - end_tick_list[i])\n",
    "    err_tempi_attesa_list.append(err_start_tick_list[i+1] + err_end_tick_list[i])"
   ]
  },
  {
   "cell_type": "code",
   "execution_count": 38,
   "metadata": {},
   "outputs": [
    {
     "data": {
      "image/png": "[encoded data removed]",
      "text/plain": [
       "<Figure size 432x288 with 1 Axes>"
      ]
     },
     "metadata": {
      "needs_background": "light"
     },
     "output_type": "display_data"
    }
   ],
   "source": [
    "plt.hist(durate_list, bins=10)\n",
    "plt.show()"
   ]
  },
  {
   "cell_type": "code",
   "execution_count": 39,
   "metadata": {
    "scrolled": true
   },
   "outputs": [
    {
     "data": {
      "image/png": "[encoded data removed]",
      "text/plain": [
       "<Figure size 432x288 with 1 Axes>"
      ]
     },
     "metadata": {
      "needs_background": "light"
     },
     "output_type": "display_data"
    }
   ],
   "source": [
    "plt.errorbar(range(len(tempi_attesa_list)), tempi_attesa_list, yerr=err_tempi_attesa_list,solid_capstyle='projecting',capsize=5)\n",
    "plt.show()"
   ]
  },
  {
   "cell_type": "code",
   "execution_count": 41,
   "metadata": {},
   "outputs": [],
   "source": [
    "lista=[]\n",
    "err_lista=[]\n",
    "for tempo, errore in zip(tempi_attesa_list,err_tempi_attesa_list):\n",
    "    if tempo>0:\n",
    "        lista.append(tempo)\n",
    "        err_lista.append(errore)"
   ]
  },
  {
   "cell_type": "code",
   "execution_count": 42,
   "metadata": {},
   "outputs": [
    {
     "name": "stdout",
     "output_type": "stream",
     "text": [
      "Media pesata e errore tempi attesa: 6.134602330590965 0.44011541238654617\n"
     ]
    }
   ],
   "source": [
    "media_pesata_tempi_attesa = media_pesata(lista, err_lista)\n",
    "err_media_pesata_tempi_attesa = np.sqrt(np.sum((lista-media_pesata_tempi_attesa)**2)/((len(lista)-1)*len(lista)))\n",
    "print('Media pesata e errore tempi attesa:',media_pesata_tempi_attesa,err_media_pesata_tempi_attesa)"
   ]
  },
  {
   "cell_type": "markdown",
   "metadata": {},
   "source": [
    "media pesata e errori tempi attesa caso norndm  \n",
    "17.850298917848043 1.0515878508062226"
   ]
  },
  {
   "cell_type": "markdown",
   "metadata": {},
   "source": [
    "Tempi di attesa diminuiscono\n",
    "Sembra ok, data la contemporanea presenza di più attivi e la nascita di una nuova classe di rivolte, sembra logico che gli spike diventino più frequenti"
   ]
  },
  {
   "cell_type": "code",
   "execution_count": null,
   "metadata": {},
   "outputs": [],
   "source": []
  },
  {
   "cell_type": "code",
   "execution_count": null,
   "metadata": {},
   "outputs": [],
   "source": []
  }
 ],
 "metadata": {
  "kernelspec": {
   "display_name": "Python 3",
   "language": "python",
   "name": "python3"
  },
  "language_info": {
   "codemirror_mode": {
    "name": "ipython",
    "version": 3
   },
   "file_extension": ".py",
   "mimetype": "text/x-python",
   "name": "python",
   "nbconvert_exporter": "python",
   "pygments_lexer": "ipython3",
   "version": "3.7.4"
  },
  "toc": {
   "base_numbering": 1,
   "nav_menu": {},
   "number_sections": true,
   "sideBar": true,
   "skip_h1_title": false,
   "title_cell": "Table of Contents",
   "title_sidebar": "Contents",
   "toc_cell": false,
   "toc_position": {
    "height": "calc(100% - 180px)",
    "left": "10px",
    "top": "150px",
    "width": "201.8px"
   },
   "toc_section_display": true,
   "toc_window_display": true
  }
 },
 "nbformat": 4,
 "nbformat_minor": 2
}
