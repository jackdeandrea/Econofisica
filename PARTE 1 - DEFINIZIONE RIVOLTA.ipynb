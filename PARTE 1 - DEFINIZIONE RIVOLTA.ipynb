{
 "cells": [
  {
   "cell_type": "code",
   "execution_count": 1,
   "metadata": {},
   "outputs": [
    {
     "name": "stdout",
     "output_type": "stream",
     "text": [
      "Populating the interactive namespace from numpy and matplotlib\n"
     ]
    }
   ],
   "source": [
    "%pylab inline"
   ]
  },
  {
   "cell_type": "markdown",
   "metadata": {},
   "source": [
    "## Ipotesi Epstein\n",
    "**Perchè viene fissata la soglia di 50 attivi per la rivolta?**\n",
    "\n",
    "Voglio determinare la soglia di attivi che segnala l'inizio della rivolta. Voglio media e deviazione standard degli attivi in ipotesi di Epstein per definire 'rivolta' un momento nella quale si trovano nel mondo contemporaneamente più di 3xsigma attivi.\n",
    "Non riesco a calcolare media e dev.st durante la stessa run su NetLogo, calcolo prima la media per poi usarla in seguito nel calcolo della deviazione standard\n",
    "\n",
    "### Calcolo media 10 volte su simulazioni da 1000 tick"
   ]
  },
  {
   "cell_type": "code",
   "execution_count": 2,
   "metadata": {},
   "outputs": [],
   "source": [
    "a = [46.74, 43.37, 43.91, 44.32, 41.34, 48.75, 47.32, 44.23, 50.98, 43.44]"
   ]
  },
  {
   "cell_type": "code",
   "execution_count": 3,
   "metadata": {},
   "outputs": [
    {
     "data": {
      "text/plain": [
       "45.44"
      ]
     },
     "execution_count": 3,
     "metadata": {},
     "output_type": "execute_result"
    }
   ],
   "source": [
    "mean(a)"
   ]
  },
  {
   "cell_type": "code",
   "execution_count": 4,
   "metadata": {},
   "outputs": [
    {
     "data": {
      "text/plain": [
       "2.7753630393157573"
      ]
     },
     "execution_count": 4,
     "metadata": {},
     "output_type": "execute_result"
    }
   ],
   "source": [
    "std(a)"
   ]
  },
  {
   "cell_type": "markdown",
   "metadata": {},
   "source": [
    "### Simulazioni da 3000 tick\n",
    "Siamo sicuri che 1000 fosse un tempo abbastanza 'lungo' per definire la media dei riottosi? ripeto esperimenti per un lasso di tempo più lungo"
   ]
  },
  {
   "cell_type": "code",
   "execution_count": 5,
   "metadata": {},
   "outputs": [],
   "source": [
    "b = [44.68, 51.22, 52.06, 51.83, 43.80, 46.79, 41.09, 46.80, 49.17, 42.14]"
   ]
  },
  {
   "cell_type": "code",
   "execution_count": 6,
   "metadata": {},
   "outputs": [
    {
     "data": {
      "text/plain": [
       "46.958000000000006"
      ]
     },
     "execution_count": 6,
     "metadata": {},
     "output_type": "execute_result"
    }
   ],
   "source": [
    "mean(b)"
   ]
  },
  {
   "cell_type": "code",
   "execution_count": 7,
   "metadata": {},
   "outputs": [
    {
     "data": {
      "text/plain": [
       "3.8168882613982817"
      ]
     },
     "execution_count": 7,
     "metadata": {},
     "output_type": "execute_result"
    }
   ],
   "source": [
    "std(b)"
   ]
  },
  {
   "cell_type": "markdown",
   "metadata": {},
   "source": [
    "Come faccio a confrontare i due campioni? uso t di student, z nok perchè non ho la varianza esatta della 'popolazione'.\n",
    "### t Student per vedere se posso rifiutare H0"
   ]
  },
  {
   "cell_type": "code",
   "execution_count": 8,
   "metadata": {},
   "outputs": [],
   "source": [
    "def t_student(dataA, dataB):\n",
    "    mediaA = mean(dataA)\n",
    "    mediaB = mean(dataB)\n",
    "    devstA = std(a)\n",
    "    devstB = std(b)\n",
    "    n = len(dataA)\n",
    "    #t= absolute(mediaA - mediaB)/sqrt((1/n)*((devstA*devstA) + (devstB*devstB)))\n",
    "    t= absolute(mediaA - mediaB)/sqrt((1/n)*((devstA*devstA) + (devstB*devstB)))\n",
    "\n",
    "    return t\n",
    "    "
   ]
  },
  {
   "cell_type": "code",
   "execution_count": 9,
   "metadata": {},
   "outputs": [
    {
     "data": {
      "text/plain": [
       "1.0171833004440325"
      ]
     },
     "execution_count": 9,
     "metadata": {},
     "output_type": "execute_result"
    }
   ],
   "source": [
    "t_student(a,b)"
   ]
  },
  {
   "cell_type": "markdown",
   "metadata": {},
   "source": [
    "* tcritico a 9gdl: 1.385 (alpha=0.1)\n",
    "-> p_value > 0.10"
   ]
  },
  {
   "cell_type": "markdown",
   "metadata": {},
   "source": [
    "### Non posso, allora considero i dati aggregati"
   ]
  },
  {
   "cell_type": "code",
   "execution_count": 10,
   "metadata": {},
   "outputs": [],
   "source": [
    "c=a+b"
   ]
  },
  {
   "cell_type": "markdown",
   "metadata": {},
   "source": [
    "### Calcolo deviazione standard\n",
    "Faccio 20 esperimenti a 1000 tick calcolando la media degli attivi e la loro deviazione standard per ogni simulazione "
   ]
  },
  {
   "cell_type": "code",
   "execution_count": 11,
   "metadata": {},
   "outputs": [],
   "source": [
    "medierun = [50.99, 47.43, 42.79, 54.80, 46.00, 39.87, 52.33, 45.07, 45.91, 43.95, 48.55, 41.55, 42.89, 42.60, 41.45, 49.30, 44.75, 51.76, 41.39, 53.66]\n",
    "stdrun = [62.36, 60.05, 57.37, 65.70, 59.95, 54.16, 65.36, 61.82, 59.38, 56.96, 62.30, 56.32, 56.53, 57.33, 58.77, 64.98, 58.26, 64.65, 55.67, 67.11]\n",
    "medie = medierun + c #per calcolare la media degli attivi uso tutti i dati a disposizione"
   ]
  },
  {
   "cell_type": "code",
   "execution_count": 15,
   "metadata": {},
   "outputs": [
    {
     "name": "stdout",
     "output_type": "stream",
     "text": [
      "46.2755\n",
      "3.947145139211376\n",
      "---\n",
      "devstd media: 60.2515\n",
      "errore devstd: 3.7266382639048836\n"
     ]
    }
   ],
   "source": [
    "devstmedia = mean(stdrun)\n",
    "attivimedi = mean(medie)\n",
    "erroreattivimedi = std(medie)\n",
    "erroredevstmedia = std(stdrun)\n",
    "\n",
    "print(attivimedi)\n",
    "print(erroreattivimedi)\n",
    "print('---')\n",
    "print('devstd media:', devstmedia)\n",
    "print('errore devstd:', erroredevstmedia)"
   ]
  },
  {
   "cell_type": "markdown",
   "metadata": {},
   "source": [
    "Ho quindi trovato la soglia per lo scoppio della rivolta, ogni momento nella quale si contano almeno media + 3xsigma attivi contemporaneamente, ergo la soglia che indica l'avvenuto scoppio di una rivolta è (nelle ipotesi di Epstein):"
   ]
  },
  {
   "cell_type": "code",
   "execution_count": 13,
   "metadata": {},
   "outputs": [
    {
     "name": "stdout",
     "output_type": "stream",
     "text": [
      "227.03\n"
     ]
    }
   ],
   "source": [
    "soglia = attivimedi + 3*devstmedia\n",
    "print(soglia)"
   ]
  },
  {
   "cell_type": "code",
   "execution_count": null,
   "metadata": {},
   "outputs": [],
   "source": []
  }
 ],
 "metadata": {
  "kernelspec": {
   "display_name": "Python 3",
   "language": "python",
   "name": "python3"
  },
  "language_info": {
   "codemirror_mode": {
    "name": "ipython",
    "version": 3
   },
   "file_extension": ".py",
   "mimetype": "text/x-python",
   "name": "python",
   "nbconvert_exporter": "python",
   "pygments_lexer": "ipython3",
   "version": "3.7.3"
  }
 },
 "nbformat": 4,
 "nbformat_minor": 2
}
