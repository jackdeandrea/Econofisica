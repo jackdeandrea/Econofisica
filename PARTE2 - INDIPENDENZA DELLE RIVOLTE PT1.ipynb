{
 "cells": [
  {
   "cell_type": "code",
   "execution_count": 1,
   "metadata": {},
   "outputs": [
    {
     "name": "stdout",
     "output_type": "stream",
     "text": [
      "Populating the interactive namespace from numpy and matplotlib\n"
     ]
    }
   ],
   "source": [
    "%pylab inline\n",
    "\n",
    "from sklearn.linear_model import LinearRegression"
   ]
  },
  {
   "cell_type": "markdown",
   "metadata": {},
   "source": [
    "## INDIPENDENZA DELLE RIVOLTE\n",
    "Le rivolte sono eventi indipendenti? simulo per 10 volte fino a che non ottengo 5 rivolte ricavandone alcune caratteristiche (tempo di attesa, partecipanti e durata)"
   ]
  },
  {
   "cell_type": "markdown",
   "metadata": {},
   "source": [
    "### Presa Dati"
   ]
  },
  {
   "cell_type": "code",
   "execution_count": 2,
   "metadata": {},
   "outputs": [],
   "source": [
    "medie_attesa = [1.33333333333333, 79.3333333333333, 69.6666666666667, 63.6666666666667, 35.6666666666667]\n",
    "dstd_attesa = [0.674948557710553, 41.798458238446, 66.4242258349902, 42.8698288102743, 19.8617443566493]\n",
    "Dstd_attesa = array(dstd_attesa)\n",
    "\n",
    "medie_partecipanti = [1160.7, 721.8, 642.2, 656.4, 623.2]\n",
    "dstd_partecipanti = [205.131962946349, 306.391470725497, 361.288988668813, 326.34685024781, 309.904214592545]\n",
    "Dstd_partecipanti = array(dstd_partecipanti)\n",
    "\n",
    "medie_durata = [3.8, 2.6, 2.4, 2.4, 2.3]\n",
    "dstd_durata = [0.632455532033676, 0.966091783079296, 1.17378779077727, 1.07496769977314, 0.948683298050514]\n",
    "Dstd_durata = array(dstd_durata)"
   ]
  },
  {
   "cell_type": "markdown",
   "metadata": {},
   "source": [
    "Plotto"
   ]
  },
  {
   "cell_type": "code",
   "execution_count": 3,
   "metadata": {},
   "outputs": [
    {
     "data": {
      "text/plain": [
       "<ErrorbarContainer object of 3 artists>"
      ]
     },
     "execution_count": 3,
     "metadata": {},
     "output_type": "execute_result"
    },
    {
     "data": {
      "image/png": "[encoded data removed]",
      "text/plain": [
       "<Figure size 921.6x691.2 with 3 Axes>"
      ]
     },
     "metadata": {
      "needs_background": "light"
     },
     "output_type": "display_data"
    }
   ],
   "source": [
    "fig = figure(figsize = (12.8, 9.6))\n",
    "\n",
    "im1 = fig.add_subplot(3, 1, 1)\n",
    "im2 = fig.add_subplot(3, 1, 2)\n",
    "im3 = fig.add_subplot(3, 1, 3)\n",
    "\n",
    "ordine = [1, 2, 3, 4, 5]\n",
    "\n",
    "im1.errorbar(ordine, medie_attesa, dstd_attesa, label='tempo di attesa', fmt='o')\n",
    "im2.errorbar(ordine, medie_partecipanti, dstd_partecipanti, label='partecipanti', fmt='o')\n",
    "im3.errorbar(ordine, medie_durata, dstd_durata, label='durata', fmt='o')"
   ]
  },
  {
   "cell_type": "markdown",
   "metadata": {},
   "source": [
    "### Analizzo dati sui tempi di attesa"
   ]
  },
  {
   "cell_type": "code",
   "execution_count": 4,
   "metadata": {},
   "outputs": [],
   "source": [
    "#trasformo in array e reshape per usare LinearRegression() di scikit\n",
    "\n",
    "Ordine = array(ordine) \n",
    "Medie_attesa = array(medie_attesa)\n",
    "Medie_partecipanti = array(medie_partecipanti)\n",
    "Medie_durata = array(medie_durata)\n",
    "\n",
    "Ordine = Ordine.reshape(-1,1)\n",
    "Medie_attesa = Medie_attesa.reshape(-1,1)\n",
    "Medie_partecipanti = Medie_partecipanti.reshape(-1,1)\n",
    "Medie_durata = Medie_durata.reshape(-1,1)"
   ]
  },
  {
   "cell_type": "markdown",
   "metadata": {},
   "source": [
    "_definendo funzione linreg_"
   ]
  },
  {
   "cell_type": "code",
   "execution_count": 5,
   "metadata": {},
   "outputs": [],
   "source": [
    "def LinReg(X,Y, erroriY, errormode=False):\n",
    "    \n",
    "    #funziona con arrays e metodo PseudoInversa, devo aggiungere a dati X una colonna di uno\n",
    "    #restituisce array (q, m) o\n",
    "    inversa = np.linalg.inv(X.T.dot(X))\n",
    "    c_errori = inversa.dot(X.T)\n",
    "    w = c_errori.dot(Y)\n",
    "    \n",
    "    #calcolo errori sui coefficienti con propag.errore (hp: variabili scorrelate -> ordini delle rivolte scorrelati)\n",
    "    if errormode == True:\n",
    "        err_q = sqrt(c_errori[0,:].dot(erroriY))\n",
    "        err_m = sqrt(c_errori[1,:].dot(erroriY))\n",
    "        return array([err_q, err_m]).reshape(1,2)\n",
    "    else:\n",
    "        return w.reshape(1,2)"
   ]
  },
  {
   "cell_type": "code",
   "execution_count": 6,
   "metadata": {},
   "outputs": [],
   "source": [
    "#modifico dati X per poter usare metodo con pseudoinversa\n",
    "OrdineLinR = insert(Ordine, 0, ones(len(Ordine)), axis=1)"
   ]
  },
  {
   "cell_type": "code",
   "execution_count": 7,
   "metadata": {},
   "outputs": [
    {
     "name": "stdout",
     "output_type": "stream",
     "text": [
      "Q ed m:  [[34.03333333  5.3       ]]\n",
      "Errori su q e m:  [[4.74261031 1.98607558]]\n"
     ]
    }
   ],
   "source": [
    "print('Q ed m: ', LinReg(OrdineLinR, Medie_attesa, Dstd_attesa))\n",
    "print('Errori su q e m: ', LinReg(OrdineLinR, Medie_attesa, Dstd_attesa, errormode=True))"
   ]
  },
  {
   "cell_type": "markdown",
   "metadata": {},
   "source": [
    "_usando scikit_"
   ]
  },
  {
   "cell_type": "code",
   "execution_count": 8,
   "metadata": {},
   "outputs": [],
   "source": [
    "model = LinearRegression()"
   ]
  },
  {
   "cell_type": "code",
   "execution_count": 9,
   "metadata": {},
   "outputs": [
    {
     "name": "stdout",
     "output_type": "stream",
     "text": [
      "m=  [[5.3]]\n",
      "q=  [34.03333333]\n"
     ]
    }
   ],
   "source": [
    "attesa = model.fit(Ordine, Medie_attesa)\n",
    "m_attesa = attesa.coef_\n",
    "q_attesa = attesa.intercept_\n",
    "fit_attesa = q_attesa + m_attesa*(Ordine)\n",
    "\n",
    "print('m= ', m_attesa)\n",
    "print('q= ', q_attesa)"
   ]
  },
  {
   "cell_type": "code",
   "execution_count": 10,
   "metadata": {},
   "outputs": [
    {
     "data": {
      "text/plain": [
       "[<matplotlib.lines.Line2D at 0x7f08cea833c8>]"
      ]
     },
     "execution_count": 10,
     "metadata": {},
     "output_type": "execute_result"
    },
    {
     "data": {
      "image/png": "[encoded data removed]",
      "text/plain": [
       "<Figure size 432x288 with 1 Axes>"
      ]
     },
     "metadata": {
      "needs_background": "light"
     },
     "output_type": "display_data"
    }
   ],
   "source": [
    "errorbar(Ordine, medie_attesa, dstd_attesa, fmt='o')\n",
    "plot(ordine, fit_attesa, 'y-')"
   ]
  },
  {
   "cell_type": "code",
   "execution_count": 11,
   "metadata": {},
   "outputs": [],
   "source": [
    "def chiquadronorm(oss, fit, dstdoss, ddof, aiuto=False, norm=True):\n",
    "    #prende liste monodimensionali come argomenti\n",
    "    scarti = []\n",
    "    scartierrore = []\n",
    "    scartierrorequadri = []\n",
    "    for i in range(len(oss)):\n",
    "        scarti.append(oss[i]-fit[i])\n",
    "        scartierrore.append(scarti[i] / dstdoss[i])\n",
    "        scartierrorequadri.append(scartierrore[i] * scartierrore[i])\n",
    "        if (aiuto==True):\n",
    "            print('scarti= ', scarti[i])\n",
    "            print('scartierrore= ', scartierrore[i])\n",
    "            print('scartierrorequadri= ', scartierrorequadri[i])\n",
    "            \n",
    "    chiquadro=sum(scartierrorequadri)\n",
    "    chiquadroreg=chiquadro/ddof\n",
    "    \n",
    "    if(norm==True):\n",
    "        return (chiquadroreg)\n",
    "    else:\n",
    "        return (chiquadro)\n",
    "    "
   ]
  },
  {
   "cell_type": "code",
   "execution_count": 12,
   "metadata": {},
   "outputs": [],
   "source": [
    "#trasformo array in lista 1d\n",
    "Fit_attesa=[]\n",
    "for i in range(len(medie_attesa)):\n",
    "    Fit_attesa.append(fit_attesa[i,0])   "
   ]
  },
  {
   "cell_type": "code",
   "execution_count": 13,
   "metadata": {},
   "outputs": [
    {
     "data": {
      "text/plain": [
       "3172.139716110429"
      ]
     },
     "execution_count": 13,
     "metadata": {},
     "output_type": "execute_result"
    }
   ],
   "source": [
    "chiquadronorm(medie_attesa, Fit_attesa, dstd_attesa, 3, norm=False)"
   ]
  },
  {
   "cell_type": "markdown",
   "metadata": {},
   "source": [
    "La retta non interpola bene i dati, rigetto ipotesi nulla. Principalmente dovuto al contributo della rivolta al primo ordine, con grande scarto e errore molto basso, per cui porta un contributo decisivo per il chiquadrato"
   ]
  },
  {
   "cell_type": "markdown",
   "metadata": {},
   "source": [
    "### Analizzo dati sui partecipanti\n"
   ]
  },
  {
   "cell_type": "markdown",
   "metadata": {},
   "source": [
    "_usando LinReg()_"
   ]
  },
  {
   "cell_type": "code",
   "execution_count": 15,
   "metadata": {},
   "outputs": [
    {
     "name": "stdout",
     "output_type": "stream",
     "text": [
      "Q ed m:  [[1102.98 -114.04]]\n",
      "Errori su q e m:  [[15.26311674  4.7906146 ]]\n"
     ]
    }
   ],
   "source": [
    "print('Q ed m: ', LinReg(OrdineLinR, Medie_partecipanti, Dstd_partecipanti))\n",
    "print('Errori su q e m: ', LinReg(OrdineLinR, Medie_partecipanti, Dstd_partecipanti, errormode=True))"
   ]
  },
  {
   "cell_type": "markdown",
   "metadata": {},
   "source": [
    "\n",
    "_usando scikit_"
   ]
  },
  {
   "cell_type": "code",
   "execution_count": 14,
   "metadata": {},
   "outputs": [
    {
     "name": "stdout",
     "output_type": "stream",
     "text": [
      "m=  [[-114.04]]\n",
      "q=  [1102.98]\n"
     ]
    }
   ],
   "source": [
    "partecipanti = model.fit(Ordine, Medie_partecipanti)\n",
    "m_partecipanti = partecipanti.coef_\n",
    "q_partecipanti = partecipanti.intercept_\n",
    "fit_partecipanti = q_partecipanti + m_partecipanti*(Ordine)\n",
    "\n",
    "print('m= ', m_partecipanti)\n",
    "print('q= ', q_partecipanti)"
   ]
  },
  {
   "cell_type": "code",
   "execution_count": 16,
   "metadata": {},
   "outputs": [
    {
     "data": {
      "text/plain": [
       "[<matplotlib.lines.Line2D at 0x7f08ced321d0>]"
      ]
     },
     "execution_count": 16,
     "metadata": {},
     "output_type": "execute_result"
    },
    {
     "data": {
      "image/png": "[encoded data removed]",
      "text/plain": [
       "<Figure size 432x288 with 1 Axes>"
      ]
     },
     "metadata": {
      "needs_background": "light"
     },
     "output_type": "display_data"
    }
   ],
   "source": [
    "errorbar(Ordine, medie_partecipanti, dstd_partecipanti, fmt='o')\n",
    "plot(Ordine, fit_partecipanti, 'y-')"
   ]
  },
  {
   "cell_type": "code",
   "execution_count": 17,
   "metadata": {},
   "outputs": [],
   "source": [
    "Fit_partecipanti=[]\n",
    "for i in range(len(medie_partecipanti)):\n",
    "    Fit_partecipanti.append(fit_partecipanti[i,0])"
   ]
  },
  {
   "cell_type": "code",
   "execution_count": 18,
   "metadata": {},
   "outputs": [
    {
     "data": {
      "text/plain": [
       "0.3815477225259647"
      ]
     },
     "execution_count": 18,
     "metadata": {},
     "output_type": "execute_result"
    }
   ],
   "source": [
    "chiquadronorm(medie_partecipanti, Fit_partecipanti, dstd_partecipanti, 3)"
   ]
  },
  {
   "cell_type": "markdown",
   "metadata": {},
   "source": [
    "Chiquadro ridotto molto basso, non posso rigettare ipotesi nulla. Ho molto errore sui dati. \n",
    "\n",
    "Ciononostante non posso escludere l'ipotesi che quella sia la retta giusta: guardo se il coefficiente angolare della retta fittata è paragonabile con lo zero"
   ]
  },
  {
   "cell_type": "code",
   "execution_count": 48,
   "metadata": {},
   "outputs": [
    {
     "name": "stdout",
     "output_type": "stream",
     "text": [
      "t=  23.80487879597106\n"
     ]
    }
   ],
   "source": [
    "mteo_partecipanti = 0\n",
    "m_partecipanti\n",
    "errori_coeff_partecipanti = LinReg(OrdineLinR, Medie_partecipanti, Dstd_partecipanti, errormode=True)\n",
    "errm_partecipanti = errori_coeff_partecipanti[0,1]\n",
    "\n",
    "t=((mteo_partecipanti-m_partecipanti)/errm_partecipanti)[0,0]\n",
    "print('t= ', t)"
   ]
  },
  {
   "cell_type": "markdown",
   "metadata": {},
   "source": [
    "Vedo come il valore teorico per la pendenza (0 nel caso di indipendenza degli eventi) sia 23 barre d'errore distante dal valore ottenuto con fit. Non sono quindi paragonabili"
   ]
  },
  {
   "cell_type": "markdown",
   "metadata": {},
   "source": [
    "### Analizzo dati su durata"
   ]
  },
  {
   "cell_type": "markdown",
   "metadata": {},
   "source": [
    "_usando LinReg()_"
   ]
  },
  {
   "cell_type": "code",
   "execution_count": 42,
   "metadata": {},
   "outputs": [
    {
     "name": "stdout",
     "output_type": "stream",
     "text": [
      "Q ed m:  [[ 3.66 -0.32]]\n",
      "Errori su q e m:  [[0.85836926 0.27227403]]\n"
     ]
    }
   ],
   "source": [
    "print('Q ed m: ', LinReg(OrdineLinR, Medie_durata, Dstd_durata))\n",
    "print('Errori su q e m: ', LinReg(OrdineLinR, Medie_durata, Dstd_durata, errormode=True))"
   ]
  },
  {
   "cell_type": "markdown",
   "metadata": {},
   "source": [
    "_usando scikit_"
   ]
  },
  {
   "cell_type": "code",
   "execution_count": 20,
   "metadata": {},
   "outputs": [
    {
     "name": "stdout",
     "output_type": "stream",
     "text": [
      "m=  [[-0.32]]\n",
      "q=  [3.66]\n"
     ]
    }
   ],
   "source": [
    "durata = model.fit(Ordine, Medie_durata)\n",
    "m_durata = durata.coef_\n",
    "q_durata = durata.intercept_\n",
    "fit_durata = q_durata + m_durata*(Ordine)\n",
    "\n",
    "print('m= ', m_durata)\n",
    "print('q= ', q_durata)"
   ]
  },
  {
   "cell_type": "code",
   "execution_count": 21,
   "metadata": {},
   "outputs": [
    {
     "data": {
      "text/plain": [
       "[<matplotlib.lines.Line2D at 0x7f08ced13828>]"
      ]
     },
     "execution_count": 21,
     "metadata": {},
     "output_type": "execute_result"
    },
    {
     "data": {
      "image/png": "[encoded data removed]",
      "text/plain": [
       "<Figure size 432x288 with 1 Axes>"
      ]
     },
     "metadata": {
      "needs_background": "light"
     },
     "output_type": "display_data"
    }
   ],
   "source": [
    "errorbar(Ordine, medie_durata, dstd_durata, fmt='o')\n",
    "plot(Ordine, fit_durata, 'y-')"
   ]
  },
  {
   "cell_type": "code",
   "execution_count": 22,
   "metadata": {},
   "outputs": [],
   "source": [
    "Fit_durata=[]\n",
    "for i in range(len(medie_durata)):\n",
    "    Fit_durata.append(fit_durata[i,0])"
   ]
  },
  {
   "cell_type": "code",
   "execution_count": 23,
   "metadata": {},
   "outputs": [
    {
     "data": {
      "text/plain": [
       "0.2825562448304382"
      ]
     },
     "execution_count": 23,
     "metadata": {},
     "output_type": "execute_result"
    }
   ],
   "source": [
    "chiquadronorm(medie_durata, Fit_durata, dstd_durata, 3)"
   ]
  },
  {
   "cell_type": "markdown",
   "metadata": {},
   "source": [
    "Chiquadro normalizzato è bassissimo, ho molto errore sui dati.\n",
    "Provo a confrontare la pendenza trovata con lo zero:"
   ]
  },
  {
   "cell_type": "code",
   "execution_count": 49,
   "metadata": {},
   "outputs": [
    {
     "name": "stdout",
     "output_type": "stream",
     "text": [
      "t=  1.1752865503968806\n"
     ]
    }
   ],
   "source": [
    "errori_coeff_durata = LinReg(OrdineLinR, Medie_durata, Dstd_durata, errormode=True)\n",
    "errm_durata = errori_coeff_durata[0,1]\n",
    "t = ((0 - m_durata)/errm_durata)[0,0]\n",
    "print('t= ',t)"
   ]
  },
  {
   "cell_type": "markdown",
   "metadata": {},
   "source": [
    "Le due quantità sono paragonabili"
   ]
  },
  {
   "cell_type": "markdown",
   "metadata": {},
   "source": [
    "**OSSERVAZIONI**\n",
    "\n",
    "La prima rivolta è la più lunga e partecipata: non ci sono carcerati\n",
    "\n",
    "Provo a rifare gli esperimenti e le analisi considerando 5 eventi escluso il primo (2 gdl sembrano pochini). Cambio notebook\n"
   ]
  },
  {
   "cell_type": "code",
   "execution_count": null,
   "metadata": {},
   "outputs": [],
   "source": []
  }
 ],
 "metadata": {
  "kernelspec": {
   "display_name": "Python 3",
   "language": "python",
   "name": "python3"
  },
  "language_info": {
   "codemirror_mode": {
    "name": "ipython",
    "version": 3
   },
   "file_extension": ".py",
   "mimetype": "text/x-python",
   "name": "python",
   "nbconvert_exporter": "python",
   "pygments_lexer": "ipython3",
   "version": "3.7.3"
  }
 },
 "nbformat": 4,
 "nbformat_minor": 2
}
