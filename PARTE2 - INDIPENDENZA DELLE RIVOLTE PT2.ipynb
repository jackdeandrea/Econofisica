{
 "cells": [
  {
   "cell_type": "code",
   "execution_count": 1,
   "metadata": {},
   "outputs": [
    {
     "name": "stdout",
     "output_type": "stream",
     "text": [
      "Populating the interactive namespace from numpy and matplotlib\n"
     ]
    }
   ],
   "source": [
    "%pylab inline"
   ]
  },
  {
   "cell_type": "code",
   "execution_count": 2,
   "metadata": {},
   "outputs": [],
   "source": [
    "def LinReg(X,Y, erroriY, errormode=False):\n",
    "    \n",
    "    #funziona con arrays e metodo PseudoInversa, devo aggiungere a dati X una colonna di uno\n",
    "    #restituisce array (q, m) o\n",
    "    inversa = np.linalg.inv(X.T.dot(X))\n",
    "    c_errori = inversa.dot(X.T)\n",
    "    w = c_errori.dot(Y)\n",
    "    \n",
    "    #calcolo errori sui coefficienti con propag.errore (hp: variabili scorrelate -> ordini delle rivolte scorrelati)\n",
    "    if errormode == True:\n",
    "        err_q = sqrt(absolute(c_errori[0,:].dot(erroriY)))\n",
    "        err_m = sqrt(absolute(c_errori[1,:].dot(erroriY)))\n",
    "        return array([err_q, err_m]).reshape(1,2)\n",
    "    else:\n",
    "        return w.reshape(1,2)"
   ]
  },
  {
   "cell_type": "code",
   "execution_count": 3,
   "metadata": {},
   "outputs": [],
   "source": [
    "def chiquadronorm(oss, fit, dstdoss, ddof, aiuto=False, norm=True):\n",
    "    #prende liste monodimensionali come argomenti\n",
    "    scarti = []\n",
    "    scartierrore = []\n",
    "    scartierrorequadri = []\n",
    "    for i in range(len(oss)):\n",
    "        scarti.append(oss[i]-fit[i])\n",
    "        scartierrore.append(scarti[i] / dstdoss[i])\n",
    "        scartierrorequadri.append(scartierrore[i] * scartierrore[i])\n",
    "        if (aiuto==True):\n",
    "            print('scarti= ', scarti[i])\n",
    "            print('scartierrore= ', scartierrore[i])\n",
    "            print('scartierrorequadri= ', scartierrorequadri[i])\n",
    "            \n",
    "    chiquadro=sum(scartierrorequadri)\n",
    "    chiquadroreg=chiquadro/ddof\n",
    "    \n",
    "    if(norm==True):\n",
    "        return (chiquadroreg)\n",
    "    else:\n",
    "        return (chiquadro)"
   ]
  },
  {
   "cell_type": "markdown",
   "metadata": {},
   "source": [
    "Procedo con presa dati ulteriore per verificare indipendenza degli eventi: aumento il campione di esperimenti a 20 data l'alta varianza sulle variabili\n",
    "\n",
    "### Presa Dati"
   ]
  },
  {
   "cell_type": "code",
   "execution_count": 4,
   "metadata": {},
   "outputs": [],
   "source": [
    "medie_attesa = [49.65, 49.2, 54.3, 41.3, 45.8]\n",
    "Medie_attesa = array(medie_attesa).reshape(-1,1)\n",
    "dstd_attesa = [32.7916468824479, 31.0391942380496, 33.6203259322314, 19.3855616374662, 28.1847289745426]\n",
    "Dstd_attesa = array(dstd_attesa)\n",
    "\n",
    "medie_partecipanti = [613.7, 671.1, 794.55, 749.55, 604.6]\n",
    "Medie_partecipanti = array(medie_partecipanti).reshape(-1,1)\n",
    "dstd_partecipanti = [322.282991043259, 363.353083319648, 383.816770292668, 370.42599587644, 329.595669363476]\n",
    "Dstd_partecipanti = array(dstd_partecipanti)\n",
    "\n",
    "medie_durata = [2.35, 2.65, 2.775, 2.475, 2.25]\n",
    "Medie_durata = array(medie_durata).reshape(-1,1)\n",
    "dstd_durata = [0.966545666958261, 1.19097483291276, 1.22581873821025, 1.1742858972248, 1.1180339887499]\n",
    "Dstd_durata = array(dstd_durata)\n",
    "\n",
    "ordine = [1, 2, 3, 4, 5]\n",
    "Ordine = array(ordine).reshape(-1, 1)"
   ]
  },
  {
   "cell_type": "code",
   "execution_count": 5,
   "metadata": {},
   "outputs": [
    {
     "data": {
      "text/plain": [
       "(5, 2)"
      ]
     },
     "execution_count": 5,
     "metadata": {},
     "output_type": "execute_result"
    }
   ],
   "source": [
    "#modifico dati X per poter usare metodo con pseudoinversa (LinReg())\n",
    "OrdineLinR = insert(Ordine, 0, ones(len(Ordine)), axis=1)\n",
    "OrdineLinR.shape"
   ]
  },
  {
   "cell_type": "markdown",
   "metadata": {},
   "source": [
    "### Tempi attesa\n",
    "Regressione lineare"
   ]
  },
  {
   "cell_type": "code",
   "execution_count": 6,
   "metadata": {},
   "outputs": [
    {
     "name": "stdout",
     "output_type": "stream",
     "text": [
      "m=  -1.5599999999999987   q=  52.730000000000054\n",
      "errore m=  1.4445576629679409   errore q=  5.93839473745774\n"
     ]
    }
   ],
   "source": [
    "q_attesa = LinReg(OrdineLinR, Medie_attesa, Dstd_attesa)[0,0]\n",
    "m_attesa = LinReg(OrdineLinR, Medie_attesa, Dstd_attesa)[0,1]\n",
    "print('m= ', m_attesa,'  q= ', q_attesa)\n",
    "\n",
    "errq_attesa = LinReg(OrdineLinR, Medie_attesa, Dstd_attesa, errormode=True)[0,0]\n",
    "errm_attesa = LinReg(OrdineLinR, Medie_attesa, Dstd_attesa, errormode=True)[0,1]\n",
    "print('errore m= ', errm_attesa, '  errore q= ', errq_attesa)"
   ]
  },
  {
   "cell_type": "markdown",
   "metadata": {},
   "source": [
    "Plot"
   ]
  },
  {
   "cell_type": "code",
   "execution_count": 7,
   "metadata": {},
   "outputs": [
    {
     "data": {
      "text/plain": [
       "[<matplotlib.lines.Line2D at 0x7fcd936b20b8>]"
      ]
     },
     "execution_count": 7,
     "metadata": {},
     "output_type": "execute_result"
    },
    {
     "data": {
      "image/png": "[encoded data removed]",
      "text/plain": [
       "<Figure size 432x288 with 1 Axes>"
      ]
     },
     "metadata": {
      "needs_background": "light"
     },
     "output_type": "display_data"
    }
   ],
   "source": [
    "fit_attesa = q_attesa + m_attesa*Ordine\n",
    "\n",
    "errorbar(Ordine, medie_attesa, dstd_attesa, fmt='o')\n",
    "plot(ordine, fit_attesa, 'y-')"
   ]
  },
  {
   "cell_type": "markdown",
   "metadata": {},
   "source": [
    "Chi quadro - bontà del Fit"
   ]
  },
  {
   "cell_type": "code",
   "execution_count": 9,
   "metadata": {},
   "outputs": [
    {
     "data": {
      "text/plain": [
       "0.036503739963622064"
      ]
     },
     "execution_count": 9,
     "metadata": {},
     "output_type": "execute_result"
    }
   ],
   "source": [
    "chiquadronorm_attesa = chiquadronorm(medie_attesa, fit_attesa, dstd_attesa, 3, norm=True)\n",
    "chiquadronorm_attesa"
   ]
  },
  {
   "cell_type": "markdown",
   "metadata": {},
   "source": [
    "### Partecipanti\n",
    "\n",
    "Regressione Lineare"
   ]
  },
  {
   "cell_type": "code",
   "execution_count": 10,
   "metadata": {},
   "outputs": [
    {
     "name": "stdout",
     "output_type": "stream",
     "text": [
      "m=  6.02500000000002   q=  668.6250000000009\n",
      "errore m=  1.4730332378200466   errore q=  18.6382783866947\n"
     ]
    }
   ],
   "source": [
    "q_partecipanti = LinReg(OrdineLinR, Medie_partecipanti, Dstd_partecipanti)[0,0]\n",
    "m_partecipanti = LinReg(OrdineLinR, Medie_partecipanti, Dstd_partecipanti)[0,1]\n",
    "print('m= ', m_partecipanti,'  q= ', q_partecipanti)\n",
    "\n",
    "errq_partecipanti = LinReg(OrdineLinR, Medie_partecipanti, Dstd_partecipanti, errormode=True)[0,0]\n",
    "errm_partecipanti = LinReg(OrdineLinR, Medie_partecipanti, Dstd_partecipanti, errormode=True)[0,1]\n",
    "print('errore m= ', errm_partecipanti, '  errore q= ', errq_partecipanti)"
   ]
  },
  {
   "cell_type": "markdown",
   "metadata": {},
   "source": [
    "Plot"
   ]
  },
  {
   "cell_type": "code",
   "execution_count": 11,
   "metadata": {},
   "outputs": [
    {
     "data": {
      "text/plain": [
       "[<matplotlib.lines.Line2D at 0x7fcd92aaf198>]"
      ]
     },
     "execution_count": 11,
     "metadata": {},
     "output_type": "execute_result"
    },
    {
     "data": {
      "image/png": "[encoded data removed]",
      "text/plain": [
       "<Figure size 432x288 with 1 Axes>"
      ]
     },
     "metadata": {
      "needs_background": "light"
     },
     "output_type": "display_data"
    }
   ],
   "source": [
    "fit_partecipanti = q_partecipanti + m_partecipanti*Ordine\n",
    "\n",
    "errorbar(Ordine, medie_partecipanti, dstd_partecipanti, fmt='o')\n",
    "plot(ordine, fit_partecipanti, 'y-')"
   ]
  },
  {
   "cell_type": "markdown",
   "metadata": {},
   "source": [
    "Chi quadro - bontà del Fit"
   ]
  },
  {
   "cell_type": "code",
   "execution_count": 12,
   "metadata": {},
   "outputs": [
    {
     "data": {
      "text/plain": [
       "0.07351616803594704"
      ]
     },
     "execution_count": 12,
     "metadata": {},
     "output_type": "execute_result"
    }
   ],
   "source": [
    "chiquadronorm_partecipanti = chiquadronorm(medie_partecipanti, fit_partecipanti, dstd_partecipanti, 3, norm=True)\n",
    "chiquadronorm_partecipanti"
   ]
  },
  {
   "cell_type": "markdown",
   "metadata": {},
   "source": [
    "### Durata\n",
    "\n",
    "Regressione Lineare"
   ]
  },
  {
   "cell_type": "code",
   "execution_count": 14,
   "metadata": {},
   "outputs": [
    {
     "name": "stdout",
     "output_type": "stream",
     "text": [
      "m=  -0.037499999999999895   q=  2.6125000000000034\n",
      "errore m=  0.16920038649344704   errore q=  1.0243268582062077\n"
     ]
    }
   ],
   "source": [
    "q_durata = LinReg(OrdineLinR, Medie_durata, Dstd_durata)[0,0]\n",
    "m_durata = LinReg(OrdineLinR, Medie_durata, Dstd_durata)[0,1]\n",
    "print('m= ', m_durata,'  q= ', q_durata)\n",
    "\n",
    "errq_durata = LinReg(OrdineLinR, Medie_durata, Dstd_durata, errormode=True)[0,0]\n",
    "errm_durata = LinReg(OrdineLinR, Medie_durata, Dstd_durata, errormode=True)[0,1]\n",
    "print('errore m= ', errm_durata, '  errore q= ', errq_durata)"
   ]
  },
  {
   "cell_type": "markdown",
   "metadata": {},
   "source": [
    "Plot"
   ]
  },
  {
   "cell_type": "code",
   "execution_count": 15,
   "metadata": {},
   "outputs": [
    {
     "data": {
      "text/plain": [
       "[<matplotlib.lines.Line2D at 0x7fcd928ecdd8>]"
      ]
     },
     "execution_count": 15,
     "metadata": {},
     "output_type": "execute_result"
    },
    {
     "data": {
      "image/png": "[encoded data removed]",
      "text/plain": [
       "<Figure size 432x288 with 1 Axes>"
      ]
     },
     "metadata": {
      "needs_background": "light"
     },
     "output_type": "display_data"
    }
   ],
   "source": [
    "fit_durata = q_durata + m_durata*Ordine\n",
    "\n",
    "errorbar(Ordine, medie_durata, dstd_durata, fmt='o')\n",
    "plot(ordine, fit_durata, 'y-')"
   ]
  },
  {
   "cell_type": "markdown",
   "metadata": {},
   "source": [
    "Chi quadro - bontà del Fit"
   ]
  },
  {
   "cell_type": "code",
   "execution_count": 16,
   "metadata": {},
   "outputs": [
    {
     "data": {
      "text/plain": [
       "0.04601819894904948"
      ]
     },
     "execution_count": 16,
     "metadata": {},
     "output_type": "execute_result"
    }
   ],
   "source": [
    "chiquadronorm_durata = chiquadronorm(medie_durata, fit_durata, dstd_durata, 3, norm=True)\n",
    "chiquadronorm_durata"
   ]
  },
  {
   "cell_type": "markdown",
   "metadata": {},
   "source": [
    "-----------------------"
   ]
  },
  {
   "cell_type": "code",
   "execution_count": null,
   "metadata": {},
   "outputs": [],
   "source": []
  }
 ],
 "metadata": {
  "kernelspec": {
   "display_name": "Python 3",
   "language": "python",
   "name": "python3"
  },
  "language_info": {
   "codemirror_mode": {
    "name": "ipython",
    "version": 3
   },
   "file_extension": ".py",
   "mimetype": "text/x-python",
   "name": "python",
   "nbconvert_exporter": "python",
   "pygments_lexer": "ipython3",
   "version": "3.7.3"
  }
 },
 "nbformat": 4,
 "nbformat_minor": 2
}
